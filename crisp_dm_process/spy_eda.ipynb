{
 "cells": [
  {
   "cell_type": "markdown",
   "metadata": {
    "ExecuteTime": {
     "end_time": "2021-04-26T17:29:48.898767Z",
     "start_time": "2021-04-26T17:29:48.895865Z"
    }
   },
   "source": [
    "## Setup"
   ]
  },
  {
   "cell_type": "code",
   "execution_count": 16,
   "metadata": {
    "ExecuteTime": {
     "end_time": "2021-04-28T05:21:31.823166Z",
     "start_time": "2021-04-28T05:21:31.768269Z"
    }
   },
   "outputs": [
    {
     "data": {
      "text/plain": [
       "['../',\n",
       " '../auth',\n",
       " '../code',\n",
       " '/Users/wax/Documents/Classes/FS Data Science Immersive/Flatiron_Materials/Feb 1/wax_capstone_project/code',\n",
       " '/Users/wax/opt/anaconda3/lib/python38.zip',\n",
       " '/Users/wax/opt/anaconda3/lib/python3.8',\n",
       " '/Users/wax/opt/anaconda3/lib/python3.8/lib-dynload',\n",
       " '',\n",
       " '/Users/wax/opt/anaconda3/lib/python3.8/site-packages',\n",
       " '/Users/wax/opt/anaconda3/lib/python3.8/site-packages/aeosa',\n",
       " '/Users/wax/opt/anaconda3/lib/python3.8/site-packages/IPython/extensions',\n",
       " '/Users/wax/.ipython']"
      ]
     },
     "execution_count": 16,
     "metadata": {},
     "output_type": "execute_result"
    }
   ],
   "source": [
    "import os\n",
    "os.getcwd()\n",
    "sys.path"
   ]
  },
  {
   "cell_type": "code",
   "execution_count": 18,
   "metadata": {
    "ExecuteTime": {
     "end_time": "2021-04-28T05:34:18.601208Z",
     "start_time": "2021-04-28T05:34:18.494825Z"
    }
   },
   "outputs": [
    {
     "name": "stdout",
     "output_type": "stream",
     "text": [
      "The autoreload extension is already loaded. To reload it, use:\n",
      "  %reload_ext autoreload\n",
      "Functions loaded.\n"
     ]
    }
   ],
   "source": [
    "%load_ext autoreload\n",
    "%autoreload 2\n",
    "\n",
    "from random import random\n",
    "import pandas as pd\n",
    "import matplotlib\n",
    "import numpy as np\n",
    "from sklearn import metrics\n",
    "import csv\n",
    "import time\n",
    "import itertools\n",
    "from dateutil.relativedelta import relativedelta\n",
    "\n",
    "from alpha_vantage.timeseries import TimeSeries\n",
    "import pandas_market_calendars as mcal\n",
    "\n",
    "\n",
    "import pmdarima as pya\n",
    "import prophet\n",
    "from statsmodels.tsa.stattools import adfuller\n",
    "from statsmodels.tsa.seasonal import seasonal_decompose\n",
    "from statsmodels.tsa.statespace.sarimax import SARIMAX\n",
    "from statsmodels.graphics.tsaplots import plot_acf, plot_pacf\n",
    "\n",
    "# from pathlib import Path\n",
    "# import os\n",
    "# current_path = os.getcwd()\n",
    "# # top = Path(__file__ + '..').resolve()\n",
    "import sys\n",
    "# sys.path.insert(0, top/ 'code')\n",
    "# sys.path.insert(0, top/ 'auth')\n",
    "sys.path.insert(0, '../code')\n",
    "sys.path.insert(0, '../auth')\n",
    "sys.path.insert(0, '../')\n",
    "\n",
    "# arrow = top / 'assets/arrow.png'\n",
    "# print('source image:', arrow)\n",
    "\n",
    "import matplotlib.pyplot as plt\n",
    "import seaborn as sns\n",
    "from matplotlib import ticker\n",
    "import matplotlib.dates as mdates\n",
    "from matplotlib.dates import DateFormatter\n",
    "plt.style.use('ggplot')\n",
    "sns.set_theme(style=\"darkgrid\")\n",
    "\n",
    "%matplotlib inline\n",
    "font = {'size'   : 12}\n",
    "matplotlib.rc('font', **font)\n",
    "\n",
    "pd.set_option('display.max_columns',None)\n",
    "pd.set_option('display.max_rows',50)\n",
    "\n",
    "from functions import *\n",
    "\n",
    "# only display whole years in figures\n",
    "years = mdates.YearLocator()\n",
    "years_fmt = mdates.DateFormatter('%Y')\n",
    "\n",
    "from keys import client_id, secret_key, av_key, consumer_key"
   ]
  },
  {
   "cell_type": "markdown",
   "metadata": {},
   "source": [
    "# Alpha Vantage"
   ]
  },
  {
   "cell_type": "markdown",
   "metadata": {},
   "source": [
    "## EDA"
   ]
  },
  {
   "cell_type": "code",
   "execution_count": 6,
   "metadata": {
    "ExecuteTime": {
     "end_time": "2021-04-27T15:57:12.685462Z",
     "start_time": "2021-04-27T15:57:12.641611Z"
    }
   },
   "outputs": [],
   "source": [
    "ts = TimeSeries(key=av_key, output_format='csv')\n",
    "AV_COLUMNS = ['time', 'open', 'high', 'low', 'close', 'volume']"
   ]
  },
  {
   "cell_type": "markdown",
   "metadata": {
    "ExecuteTime": {
     "end_time": "2021-04-26T23:00:14.927825Z",
     "start_time": "2021-04-26T22:56:36.933733Z"
    }
   },
   "source": [
    "### Gather Data"
   ]
  },
  {
   "cell_type": "code",
   "execution_count": 7,
   "metadata": {
    "ExecuteTime": {
     "end_time": "2021-04-27T16:01:14.654983Z",
     "start_time": "2021-04-27T15:57:12.687967Z"
    }
   },
   "outputs": [
    {
     "name": "stdout",
     "output_type": "stream",
     "text": [
      "Requesting all data slices for SPY...\n",
      "\n",
      "0 0\n",
      "Requesting slice: year1month1\n",
      "First record:\n",
      "                       open    high     low   close volume\n",
      "time                                                      \n",
      "2021-04-26 20:00:00  417.66  418.04  417.58  417.95  53372\n",
      "Last record:\n",
      "                       open    high     low   close volume\n",
      "time                                                      \n",
      "2021-03-29 05:00:00  394.03  394.03  393.19  393.68  87585\n",
      "Processed and appended year1month1 to DataFrame.\n",
      "\n",
      "0 1\n",
      "Requesting slice: year1month2\n",
      "First record:\n",
      "                      open    high     low   close volume\n",
      "time                                                     \n",
      "2021-03-26 20:00:00  395.5  395.72  395.41  395.63  64946\n",
      "Last record:\n",
      "                              open           high            low  \\\n",
      "time                                                               \n",
      "2021-02-26 05:00:00  382.843983138  382.843983138  381.687776367   \n",
      "\n",
      "                            close volume  \n",
      "time                                      \n",
      "2021-02-26 05:00:00  381.99676266  58638  \n",
      "Processed and appended year1month2 to DataFrame.\n",
      "\n",
      "0 2\n",
      "Requesting slice: year1month3\n",
      "First record:\n",
      "                              open           high            low  \\\n",
      "time                                                               \n",
      "2021-02-25 20:00:00  380.451831199  381.099705683  378.976670837   \n",
      "\n",
      "                             close  volume  \n",
      "time                                        \n",
      "2021-02-25 20:00:00  380.880425088  417949  \n",
      "Last record:\n",
      "                             open           high           low          close  \\\n",
      "time                                                                            \n",
      "2021-01-27 05:00:00  381.99676266  382.534996846  381.96686076  382.136304856   \n",
      "\n",
      "                    volume  \n",
      "time                        \n",
      "2021-01-27 05:00:00  17316  \n",
      "Processed and appended year1month3 to DataFrame.\n",
      "\n",
      "0 3\n",
      "Requesting slice: year1month4\n",
      "First record:\n",
      "                              open          high           low          close  \\\n",
      "time                                                                            \n",
      "2021-01-26 20:00:00  383.033361833  383.13303483  382.74431014  382.953623435   \n",
      "\n",
      "                    volume  \n",
      "time                        \n",
      "2021-01-26 20:00:00  97698  \n",
      "Last record:\n",
      "                             open           high            low  \\\n",
      "time                                                              \n",
      "2020-12-28 05:00:00  369.94629727  370.105774066  369.786820474   \n",
      "\n",
      "                             close volume  \n",
      "time                                       \n",
      "2020-12-28 05:00:00  370.075872167  17057  \n",
      "Processed and appended year1month4 to DataFrame.\n",
      "\n",
      "0 4\n",
      "Requesting slice: year1month5\n",
      "First record:\n",
      "                              open          high            low  \\\n",
      "time                                                              \n",
      "2020-12-24 17:00:00  367.723589427  368.02260842  367.723589427   \n",
      "\n",
      "                             close  volume  \n",
      "time                                        \n",
      "2020-12-24 17:00:00  367.773425926  355503  \n",
      "Last record:\n",
      "                              open           high            low  \\\n",
      "time                                                               \n",
      "2020-11-30 05:00:00  359.457272991  359.715318413  359.199227569   \n",
      "\n",
      "                             close volume  \n",
      "time                                       \n",
      "2020-11-30 05:00:00  359.526746759  24222  \n",
      "Processed and appended year1month5 to DataFrame.\n",
      "\n",
      "0 5\n",
      "Requesting slice: year1month6\n",
      "Error: Header row length is 1, expected 6.\n",
      "Sleeping for 10.0...\n",
      "Re-requesting slice: year1month6\n",
      "Error: Header row length is 1, expected 6.\n",
      "Sleeping for 11.681841642813994...\n",
      "Re-requesting slice: year1month6\n",
      "First record:\n",
      "                              open           high            low  \\\n",
      "time                                                               \n",
      "2020-11-27 17:00:00  361.015470348  361.084944115  360.707800806   \n",
      "\n",
      "                             close volume  \n",
      "time                                       \n",
      "2020-11-27 17:00:00  360.916222109  43948  \n",
      "Last record:\n",
      "                              open           high           low  \\\n",
      "time                                                              \n",
      "2020-10-29 05:00:00  326.685504384  327.618437833  325.94114259   \n",
      "\n",
      "                             close  volume  \n",
      "time                                        \n",
      "2020-10-29 05:00:00  326.477083082  104152  \n",
      "Processed and appended year1month6 to DataFrame.\n",
      "\n",
      "0 6\n",
      "Requesting slice: year1month7\n",
      "First record:\n",
      "                              open           high            low  \\\n",
      "time                                                               \n",
      "2020-10-28 20:00:00  325.702946815  325.802195055  324.859336782   \n",
      "\n",
      "                             close  volume  \n",
      "time                                        \n",
      "2020-10-28 20:00:00  325.752570935  217905  \n",
      "Last record:\n",
      "                              open           high            low  \\\n",
      "time                                                               \n",
      "2020-09-29 05:00:00  331.429570221  331.717390115  330.635584307   \n",
      "\n",
      "                             close volume  \n",
      "time                                       \n",
      "2020-09-29 05:00:00  331.568517756  50688  \n",
      "Processed and appended year1month7 to DataFrame.\n",
      "\n",
      "0 7\n",
      "Requesting slice: year1month8\n",
      "First record:\n",
      "                              open           high            low  \\\n",
      "time                                                               \n",
      "2020-09-28 20:00:00  332.531225677  332.938143458  332.491526381   \n",
      "\n",
      "                             close volume  \n",
      "time                                       \n",
      "2020-09-28 20:00:00  332.848820043  72741  \n",
      "Last record:\n",
      "                              open           high            low  \\\n",
      "time                                                               \n",
      "2020-08-31 05:00:00  347.657871753  347.786373994  347.390982482   \n",
      "\n",
      "                             close volume  \n",
      "time                                       \n",
      "2020-08-31 05:00:00  347.687526116  11732  \n",
      "Processed and appended year1month8 to DataFrame.\n",
      "\n",
      "0 8\n",
      "Requesting slice: year1month9\n",
      "First record:\n",
      "                              open           high            low  \\\n",
      "time                                                               \n",
      "2020-08-28 20:00:00  346.896743092  346.985706182  346.837434365   \n",
      "\n",
      "                             close volume  \n",
      "time                                       \n",
      "2020-08-28 20:00:00  346.936282243  35404  \n",
      "Last record:\n",
      "                              open           high            low  \\\n",
      "time                                                               \n",
      "2020-07-31 05:00:00  321.937653894  322.659243404  321.700418987   \n",
      "\n",
      "                             close volume  \n",
      "time                                       \n",
      "2020-07-31 05:00:00  322.194658377  35704  \n",
      "Processed and appended year1month9 to DataFrame.\n",
      "\n",
      "0 9\n",
      "Requesting slice: year1month10\n",
      "First record:\n",
      "                              open           high           low  \\\n",
      "time                                                              \n",
      "2020-07-30 20:00:00  322.787745645  323.291869823  322.71855213   \n",
      "\n",
      "                             close  volume  \n",
      "time                                        \n",
      "2020-07-30 20:00:00  323.074404491  104235  \n",
      "Last record:\n",
      "                              open           high            low  \\\n",
      "time                                                               \n",
      "2020-07-01 05:00:00  305.182938571  305.558560508  304.945703664   \n",
      "\n",
      "                             close volume  \n",
      "time                                       \n",
      "2020-07-01 05:00:00  305.192823359  27363  \n",
      "Processed and appended year1month10 to DataFrame.\n",
      "\n",
      "0 10\n",
      "Requesting slice: year1month11\n",
      "Error: Header row length is 1, expected 6.\n",
      "Sleeping for 10.0...\n",
      "Re-requesting slice: year1month11\n",
      "Error: Header row length is 1, expected 6.\n",
      "Sleeping for 11.591478687421642...\n",
      "Re-requesting slice: year1month11\n",
      "Error: Header row length is 1, expected 6.\n",
      "Sleeping for 12.082095019445463...\n",
      "Re-requesting slice: year1month11\n",
      "First record:\n",
      "                             open           high            low  \\\n",
      "time                                                              \n",
      "2020-06-30 20:00:00  304.82708621  305.202708147  304.550312152   \n",
      "\n",
      "                             close  volume  \n",
      "time                                        \n",
      "2020-06-30 20:00:00  304.728238332  380770  \n",
      "Last record:\n",
      "                             open           high            low  \\\n",
      "time                                                              \n",
      "2020-06-01 05:00:00  300.15733574  300.462413688  297.647823589   \n",
      "\n",
      "                             close   volume  \n",
      "time                                         \n",
      "2020-06-01 05:00:00  299.055118638  1266371  \n",
      "Processed and appended year1month11 to DataFrame.\n",
      "\n",
      "0 11\n",
      "Requesting slice: year1month12\n"
     ]
    },
    {
     "name": "stdout",
     "output_type": "stream",
     "text": [
      "First record:\n",
      "                              open           high            low  \\\n",
      "time                                                               \n",
      "2020-05-29 20:00:00  301.062728359  301.239870393  301.023363463   \n",
      "\n",
      "                             close  volume  \n",
      "time                                        \n",
      "2020-05-29 20:00:00  301.239870393  122070  \n",
      "Last record:\n",
      "                              open           high            low  \\\n",
      "time                                                               \n",
      "2020-05-04 05:00:00  276.105383984  276.656492535  275.268879934   \n",
      "\n",
      "                             close  volume  \n",
      "time                                        \n",
      "2020-05-04 05:00:00  275.357450951  114843  \n",
      "Processed and appended year1month12 to DataFrame.\n",
      "\n",
      "1 0\n",
      "Requesting slice: year2month1\n",
      "First record:\n",
      "                              open           high            low  \\\n",
      "time                                                               \n",
      "2020-05-01 20:00:00  278.359024308  278.447595325  278.280294515   \n",
      "\n",
      "                             close volume  \n",
      "time                                       \n",
      "2020-05-01 20:00:00  278.408230429  55274  \n",
      "Last record:\n",
      "                              open           high            low  \\\n",
      "time                                                               \n",
      "2020-04-02 05:00:00  245.568065532  246.650600185  245.568065532   \n",
      "\n",
      "                             close  volume  \n",
      "time                                        \n",
      "2020-04-02 05:00:00  245.705842669  632491  \n",
      "Processed and appended year2month1 to DataFrame.\n",
      "\n",
      "1 1\n",
      "Requesting slice: year2month2\n",
      "First record:\n",
      "                              open           high            low  \\\n",
      "time                                                               \n",
      "2020-04-01 20:00:00  242.576333398  243.658868052  242.163001985   \n",
      "\n",
      "                             close  volume  \n",
      "time                                        \n",
      "2020-04-01 20:00:00  243.570297035  390663  \n",
      "Last record:\n",
      "                              open          high            low  \\\n",
      "time                                                              \n",
      "2020-03-03 05:00:00  301.953476105  303.21524276  301.435075851   \n",
      "\n",
      "                             close  volume  \n",
      "time                                        \n",
      "2020-03-03 05:00:00  302.970714338  121674  \n",
      "Processed and appended year2month2 to DataFrame.\n",
      "\n",
      "1 2\n",
      "Requesting slice: year2month3\n",
      "First record:\n",
      "                              open           high            low  \\\n",
      "time                                                               \n",
      "2020-03-02 20:00:00  301.845883599  302.853340696  301.748072231   \n",
      "\n",
      "                             close  volume  \n",
      "time                                        \n",
      "2020-03-02 20:00:00  302.628374548  486380  \n",
      "Last record:\n",
      "                              open           high            low  \\\n",
      "time                                                               \n",
      "2020-02-03 05:00:00  316.419777525  316.439339799  315.754660219   \n",
      "\n",
      "                             close volume  \n",
      "time                                       \n",
      "2020-02-03 05:00:00  315.911158408  89419  \n",
      "Processed and appended year2month3 to DataFrame.\n",
      "\n",
      "1 3\n",
      "Requesting slice: year2month4\n",
      "Error: Header row length is 1, expected 6.\n",
      "Sleeping for 10.0...\n",
      "Re-requesting slice: year2month4\n",
      "Error: Header row length is 1, expected 6.\n",
      "Sleeping for 11.709468361506534...\n",
      "Re-requesting slice: year2month4\n",
      "First record:\n",
      "                              open           high            low  \\\n",
      "time                                                               \n",
      "2020-01-31 20:00:00  314.884139038  314.923263585  314.805889943   \n",
      "\n",
      "                             close volume  \n",
      "time                                       \n",
      "2020-01-31 20:00:00  314.805889943  50847  \n",
      "Last record:\n",
      "                              open           high            low  \\\n",
      "time                                                               \n",
      "2020-01-03 05:00:00  314.776546532  314.776546532  314.111429226   \n",
      "\n",
      "                             close volume  \n",
      "time                                       \n",
      "2020-01-03 05:00:00  314.355957647  47842  \n",
      "Processed and appended year2month4 to DataFrame.\n",
      "\n",
      "1 4\n",
      "Requesting slice: year2month5\n",
      "First record:\n",
      "                              open           high            low  \\\n",
      "time                                                               \n",
      "2020-01-02 20:00:00  317.935853739  318.072789655  317.906510329   \n",
      "\n",
      "                             close volume  \n",
      "time                                       \n",
      "2020-01-02 20:00:00  318.023883971  66999  \n",
      "Last record:\n",
      "                              open           high            low  \\\n",
      "time                                                               \n",
      "2019-12-04 05:00:00  300.901128961  302.692091235  300.901128961   \n",
      "\n",
      "                             close volume  \n",
      "time                                       \n",
      "2019-12-04 05:00:00  302.565555857  83247  \n",
      "Processed and appended year2month5 to DataFrame.\n",
      "\n",
      "1 5\n",
      "Requesting slice: year2month6\n",
      "First record:\n",
      "                              open           high            low  \\\n",
      "time                                                               \n",
      "2019-12-03 20:00:00  301.387803492  301.543539342  300.832994527   \n",
      "\n",
      "                             close volume  \n",
      "time                                       \n",
      "2019-12-03 20:00:00  301.008197358  83049  \n",
      "Last record:\n",
      "                             open           high           low          close  \\\n",
      "time                                                                            \n",
      "2019-11-04 05:00:00  298.82789546  299.158834141  298.82789546  299.119900178   \n",
      "\n",
      "                    volume  \n",
      "time                        \n",
      "2019-11-04 05:00:00  50825  \n",
      "Processed and appended year2month6 to DataFrame.\n",
      "\n",
      "1 6\n",
      "Requesting slice: year2month7\n",
      "First record:\n",
      "                              open           high            low  \\\n",
      "time                                                               \n",
      "2019-11-01 20:00:00  297.981081776  298.029749229  297.844812907   \n",
      "\n",
      "                             close volume  \n",
      "time                                       \n",
      "2019-11-01 20:00:00  297.912947341  27473  \n",
      "Last record:\n",
      "                              open           high            low  \\\n",
      "time                                                               \n",
      "2019-10-07 05:00:00  285.531947276  285.531947276  285.074473216   \n",
      "\n",
      "                            close volume  \n",
      "time                                      \n",
      "2019-10-07 05:00:00  285.12314067  51000  \n",
      "Processed and appended year2month7 to DataFrame.\n",
      "\n",
      "1 7\n",
      "Requesting slice: year2month8\n",
      "First record:\n",
      "                             open           high          low          close  \\\n",
      "time                                                                           \n",
      "2019-10-04 20:00:00  286.55396379  286.797301056  286.5442303  286.797301056   \n",
      "\n",
      "                    volume  \n",
      "time                        \n",
      "2019-10-04 20:00:00  18904  \n",
      "Last record:\n",
      "                              open           high            low  \\\n",
      "time                                                               \n",
      "2019-09-05 05:00:00  286.587272047  287.120142228  286.519452205   \n",
      "\n",
      "                             close volume  \n",
      "time                                       \n",
      "2019-09-05 05:00:00  287.120142228  39502  \n",
      "Processed and appended year2month8 to DataFrame.\n",
      "\n",
      "1 8\n",
      "Requesting slice: year2month9\n",
      "First record:\n",
      "                              open           high            low  \\\n",
      "time                                                               \n",
      "2019-09-04 20:00:00  284.882087466  284.882087466  284.717382138   \n",
      "\n",
      "                             close volume  \n",
      "time                                       \n",
      "2019-09-04 20:00:00  284.843333271  17230  \n",
      "Last record:\n",
      "                              open           high            low  \\\n",
      "time                                                               \n",
      "2019-08-06 05:00:00  274.844750961  276.307721822  274.350634974   \n",
      "\n",
      "                             close  volume  \n",
      "time                                        \n",
      "2019-08-06 05:00:00  276.191459237  132007  \n",
      "Processed and appended year2month9 to DataFrame.\n",
      "\n",
      "1 9\n",
      "Requesting slice: year2month10\n",
      "Error: Header row length is 1, expected 6.\n",
      "Sleeping for 10.0...\n",
      "Re-requesting slice: year2month10\n",
      "Error: Header row length is 1, expected 6.\n",
      "Sleeping for 11.59861236213413...\n"
     ]
    },
    {
     "name": "stdout",
     "output_type": "stream",
     "text": [
      "Re-requesting slice: year2month10\n",
      "First record:\n",
      "                              open           high            low  \\\n",
      "time                                                               \n",
      "2019-08-05 20:00:00  269.826082708  270.513969669  268.731276699   \n",
      "\n",
      "                             close  volume  \n",
      "time                                        \n",
      "2019-08-05 20:00:00  269.283523978  515412  \n",
      "Last record:\n",
      "                             open          high            low          close  \\\n",
      "time                                                                            \n",
      "2019-07-08 05:00:00  288.34089937  288.49591615  288.244013883  288.244013883   \n",
      "\n",
      "                    volume  \n",
      "time                        \n",
      "2019-07-08 05:00:00   8514  \n",
      "Processed and appended year2month10 to DataFrame.\n",
      "\n",
      "1 10\n",
      "Requesting slice: year2month11\n",
      "First record:\n",
      "                              open           high            low  \\\n",
      "time                                                               \n",
      "2019-07-05 20:00:00  288.815638259  288.864081003  288.767195515   \n",
      "\n",
      "                             close volume  \n",
      "time                                       \n",
      "2019-07-05 20:00:00  288.854392454  17970  \n",
      "Last record:\n",
      "                              open           high            low  \\\n",
      "time                                                               \n",
      "2019-06-07 05:00:00  275.151982554  275.528004956  275.151982554   \n",
      "\n",
      "                             close volume  \n",
      "time                                       \n",
      "2019-06-07 05:00:00  275.412305755  13142  \n",
      "Processed and appended year2month11 to DataFrame.\n",
      "\n",
      "Finished getting all data slices for SPY\n"
     ]
    }
   ],
   "source": [
    "# df_full = get_av_all_data_slices('SPY', ts, verbose=1)\n",
    "# df_full.to_csv('../data/SPY_2019_2021.csv')"
   ]
  },
  {
   "cell_type": "code",
   "execution_count": 151,
   "metadata": {
    "ExecuteTime": {
     "end_time": "2021-04-28T05:11:43.243572Z",
     "start_time": "2021-04-28T05:11:42.614867Z"
    }
   },
   "outputs": [
    {
     "name": "stdout",
     "output_type": "stream",
     "text": [
      "Requesting all data slices for SPY...\n",
      "\n",
      "0 0\n",
      "Requesting slice: year1month1\n",
      "First record:\n",
      "                       open    high     low   close volume\n",
      "time                                                      \n",
      "2021-04-27 20:00:00  417.79  417.93  417.63  417.64  23457\n",
      "Last record:\n",
      "                       open    high     low   close volume\n",
      "time                                                      \n",
      "2021-03-29 05:00:00  394.03  394.03  393.19  393.68  87585\n",
      "Processed and appended year1month1 to DataFrame.\n",
      "\n",
      "Finished getting all data slices for SPY\n"
     ]
    }
   ],
   "source": [
    "df_last = get_av_all_data_slices('SPY', ts, y=1, m=1, verbose=1)\n",
    "df_last.index = pd.to_datetime(df_last.index)\n",
    "df_last.to_csv('../data/SPY_Last_Month.csv')"
   ]
  },
  {
   "cell_type": "code",
   "execution_count": 19,
   "metadata": {
    "ExecuteTime": {
     "end_time": "2021-04-28T05:34:29.299476Z",
     "start_time": "2021-04-28T05:34:29.080655Z"
    }
   },
   "outputs": [],
   "source": [
    "# Get NYSE calendar\n",
    "NYSE = mcal.get_calendar('NYSE')\n",
    "early = NYSE.schedule(start_date='2012-07-01', end_date='2012-07-10')\n",
    "early;"
   ]
  },
  {
   "cell_type": "code",
   "execution_count": 86,
   "metadata": {
    "ExecuteTime": {
     "end_time": "2021-04-28T01:27:47.580278Z",
     "start_time": "2021-04-28T01:27:46.946202Z"
    }
   },
   "outputs": [],
   "source": [
    "# ticker = 'SPY'\n",
    "# date= 'year1month10'\n",
    "# apiKey = av_key\n",
    "\n",
    "# df_new = pd.read_csv('https://www.alphavantage.co/query?function=TIME_SERIES_INTRADAY_EXTENDED&symbol='+ticker+'&interval=60min&slice='+date+'&apikey='+apiKey+'&datatype=csv&outputsize=full') "
   ]
  },
  {
   "cell_type": "code",
   "execution_count": 87,
   "metadata": {
    "ExecuteTime": {
     "end_time": "2021-04-28T01:27:48.228974Z",
     "start_time": "2021-04-28T01:27:48.172916Z"
    }
   },
   "outputs": [
    {
     "data": {
      "text/html": [
       "<div>\n",
       "<style scoped>\n",
       "    .dataframe tbody tr th:only-of-type {\n",
       "        vertical-align: middle;\n",
       "    }\n",
       "\n",
       "    .dataframe tbody tr th {\n",
       "        vertical-align: top;\n",
       "    }\n",
       "\n",
       "    .dataframe thead th {\n",
       "        text-align: right;\n",
       "    }\n",
       "</style>\n",
       "<table border=\"1\" class=\"dataframe\">\n",
       "  <thead>\n",
       "    <tr style=\"text-align: right;\">\n",
       "      <th></th>\n",
       "      <th>open</th>\n",
       "      <th>high</th>\n",
       "      <th>low</th>\n",
       "      <th>close</th>\n",
       "      <th>volume</th>\n",
       "    </tr>\n",
       "    <tr>\n",
       "      <th>time</th>\n",
       "      <th></th>\n",
       "      <th></th>\n",
       "      <th></th>\n",
       "      <th></th>\n",
       "      <th></th>\n",
       "    </tr>\n",
       "  </thead>\n",
       "  <tbody>\n",
       "  </tbody>\n",
       "</table>\n",
       "</div>"
      ],
      "text/plain": [
       "Empty DataFrame\n",
       "Columns: [open, high, low, close, volume]\n",
       "Index: []"
      ]
     },
     "execution_count": 87,
     "metadata": {},
     "output_type": "execute_result"
    }
   ],
   "source": [
    "# df_new.set_index('time', inplace=True)\n",
    "# df_new.index = pd.to_datetime(df_new.index)\n",
    "# df_new[(df_new.index>'2020-07-03') & (df_new.index<'2020-07-04')]"
   ]
  },
  {
   "cell_type": "markdown",
   "metadata": {},
   "source": [
    "## Load Data from File"
   ]
  },
  {
   "cell_type": "code",
   "execution_count": 28,
   "metadata": {
    "ExecuteTime": {
     "end_time": "2021-04-28T05:35:12.071162Z",
     "start_time": "2021-04-28T05:35:12.009773Z"
    }
   },
   "outputs": [],
   "source": [
    "# df_full = pd.read_csv('../data/SPY_2019_2021_CBH.csv', index_col='time')\n",
    "df_full = pd.read_csv('../data/SPY_2019_2021_CBD.csv', index_col='time')\n",
    "df_full.index = pd.to_datetime(df_full.index)"
   ]
  },
  {
   "cell_type": "code",
   "execution_count": 99,
   "metadata": {
    "ExecuteTime": {
     "end_time": "2021-04-28T06:28:23.497574Z",
     "start_time": "2021-04-28T06:28:23.321834Z"
    }
   },
   "outputs": [],
   "source": [
    "# df_full = pd.read_csv('../data/SPY_2019_2021_CBH.csv', index_col='time')\n",
    "df_last = pd.read_csv('../data/SPY_Last_Month.csv', index_col='time')\n",
    "df_last.index = pd.to_datetime(df_last.index)"
   ]
  },
  {
   "cell_type": "markdown",
   "metadata": {
    "heading_collapsed": true
   },
   "source": [
    "## Data Exploration"
   ]
  },
  {
   "cell_type": "code",
   "execution_count": 17,
   "metadata": {
    "ExecuteTime": {
     "end_time": "2021-04-27T16:03:28.941040Z",
     "start_time": "2021-04-27T16:03:28.896560Z"
    },
    "hidden": true
   },
   "outputs": [
    {
     "data": {
      "text/plain": [
       "open      311\n",
       "high      311\n",
       "low       311\n",
       "close     311\n",
       "volume    311\n",
       "dtype: int64"
      ]
     },
     "execution_count": 17,
     "metadata": {},
     "output_type": "execute_result"
    }
   ],
   "source": [
    "df_full.isna().sum()"
   ]
  },
  {
   "cell_type": "markdown",
   "metadata": {},
   "source": [
    "## Set Up Frequency Variables"
   ]
  },
  {
   "cell_type": "code",
   "execution_count": 22,
   "metadata": {
    "ExecuteTime": {
     "end_time": "2021-04-28T05:34:38.859577Z",
     "start_time": "2021-04-28T05:34:38.802449Z"
    }
   },
   "outputs": [
    {
     "data": {
      "text/plain": [
       "<CustomBusinessHour: CBH=05:00-21:00>"
      ]
     },
     "execution_count": 22,
     "metadata": {},
     "output_type": "execute_result"
    }
   ],
   "source": [
    "cbh = pd.offsets.CustomBusinessHour(calendar=NYSE, start='05:00', end='21:00')\n",
    "cbh"
   ]
  },
  {
   "cell_type": "code",
   "execution_count": 20,
   "metadata": {
    "ExecuteTime": {
     "end_time": "2021-04-28T05:34:32.744125Z",
     "start_time": "2021-04-28T05:34:32.692085Z"
    }
   },
   "outputs": [
    {
     "data": {
      "text/plain": [
       "<CustomBusinessDay>"
      ]
     },
     "execution_count": 20,
     "metadata": {},
     "output_type": "execute_result"
    }
   ],
   "source": [
    "cbd = pd.offsets.CustomBusinessDay(calendar=NYSE)\n",
    "cbd"
   ]
  },
  {
   "cell_type": "markdown",
   "metadata": {},
   "source": [
    "### Using Custom Business Day"
   ]
  },
  {
   "cell_type": "code",
   "execution_count": 29,
   "metadata": {
    "ExecuteTime": {
     "end_time": "2021-04-28T05:35:19.032088Z",
     "start_time": "2021-04-28T05:35:18.959812Z"
    }
   },
   "outputs": [],
   "source": [
    "df_full = df_full.sort_index()\n",
    "df_full = df_full.asfreq(cbd)"
   ]
  },
  {
   "cell_type": "markdown",
   "metadata": {},
   "source": [
    "### Using Custom Business Hour"
   ]
  },
  {
   "cell_type": "code",
   "execution_count": 100,
   "metadata": {
    "ExecuteTime": {
     "end_time": "2021-04-28T06:28:34.895480Z",
     "start_time": "2021-04-28T06:28:34.814224Z"
    }
   },
   "outputs": [],
   "source": [
    "df_last = df_last.sort_index()\n",
    "df_last = df_last.asfreq(cbh)"
   ]
  },
  {
   "cell_type": "code",
   "execution_count": 20,
   "metadata": {
    "ExecuteTime": {
     "end_time": "2021-04-27T16:03:35.526896Z",
     "start_time": "2021-04-27T16:03:34.931332Z"
    }
   },
   "outputs": [
    {
     "name": "stdout",
     "output_type": "stream",
     "text": [
      "Nothing to append\n"
     ]
    }
   ],
   "source": [
    "# try:\n",
    "#     assert(type(df_new)=='pandas.core.frame.DataFrame')\n",
    "# except AssertionError:\n",
    "#     print('Nothing to append.')\n",
    "# else:\n",
    "#     df_full = df_full.append(df_new)\n",
    "#     df_full = df_full.sort_index()\n",
    "#     df_full = df_full.asfreq(cbh)\n",
    "#     df_full.to_csv('../data/SPY_2019_2021.csv')\n",
    "# finally:\n",
    "#     df_full = df_full.sort_index()\n",
    "#     df_full = df_full.asfreq(cbh)\n",
    "#     df_full.to_csv('../data/SPY_2019_2021.csv')\n",
    "#     df_full"
   ]
  },
  {
   "cell_type": "code",
   "execution_count": 102,
   "metadata": {
    "ExecuteTime": {
     "end_time": "2021-04-28T06:29:16.907897Z",
     "start_time": "2021-04-28T06:29:16.850343Z"
    }
   },
   "outputs": [
    {
     "data": {
      "text/plain": [
       "time\n",
       "2021-04-27 05:00:00        7812.0\n",
       "2021-04-27 06:00:00       36057.0\n",
       "2021-04-27 07:00:00       53215.0\n",
       "2021-04-27 08:00:00       76612.0\n",
       "2021-04-27 09:00:00      175471.0\n",
       "2021-04-27 10:00:00     8105156.0\n",
       "2021-04-27 11:00:00     7452516.0\n",
       "2021-04-27 12:00:00     5857072.0\n",
       "2021-04-27 13:00:00     4650285.0\n",
       "2021-04-27 14:00:00     2477993.0\n",
       "2021-04-27 15:00:00     6479249.0\n",
       "2021-04-27 16:00:00    12748451.0\n",
       "2021-04-27 17:00:00     2367583.0\n",
       "2021-04-27 18:00:00       55149.0\n",
       "2021-04-27 19:00:00       70724.0\n",
       "2021-04-27 20:00:00       23457.0\n",
       "Freq: CBH, Name: volume, dtype: float64"
      ]
     },
     "execution_count": 102,
     "metadata": {},
     "output_type": "execute_result"
    }
   ],
   "source": [
    "vol_last = df_last.volume\n",
    "vol_last[-16:]"
   ]
  },
  {
   "cell_type": "code",
   "execution_count": 112,
   "metadata": {
    "ExecuteTime": {
     "end_time": "2021-04-28T06:32:53.910073Z",
     "start_time": "2021-04-28T06:32:53.850474Z"
    }
   },
   "outputs": [
    {
     "data": {
      "text/plain": [
       "time\n",
       "2021-04-27 05:00:00    418.0100\n",
       "2021-04-27 06:00:00    417.5200\n",
       "2021-04-27 07:00:00    417.9900\n",
       "2021-04-27 08:00:00    417.9400\n",
       "2021-04-27 09:00:00    417.7800\n",
       "2021-04-27 10:00:00    416.8450\n",
       "2021-04-27 11:00:00    417.1600\n",
       "2021-04-27 12:00:00    417.5350\n",
       "2021-04-27 13:00:00    417.0900\n",
       "2021-04-27 14:00:00    417.3933\n",
       "2021-04-27 15:00:00    417.6100\n",
       "2021-04-27 16:00:00    417.4875\n",
       "2021-04-27 17:00:00    417.6500\n",
       "2021-04-27 18:00:00    417.5700\n",
       "2021-04-27 19:00:00    417.7000\n",
       "2021-04-27 20:00:00    417.6400\n",
       "Freq: CBH, Name: close, dtype: float64"
      ]
     },
     "execution_count": 112,
     "metadata": {},
     "output_type": "execute_result"
    }
   ],
   "source": [
    "df = df_full.close\n",
    "df_last = df_last.close\n",
    "df_last[-16:]"
   ]
  },
  {
   "cell_type": "code",
   "execution_count": 32,
   "metadata": {
    "ExecuteTime": {
     "end_time": "2021-04-28T05:35:41.281513Z",
     "start_time": "2021-04-28T05:35:41.225608Z"
    }
   },
   "outputs": [
    {
     "data": {
      "text/plain": [
       "(DatetimeIndex(['2019-05-07 05:00:00', '2019-05-08 05:00:00',\n",
       "                '2019-05-09 05:00:00', '2019-05-10 05:00:00',\n",
       "                '2019-05-13 05:00:00', '2019-05-14 05:00:00',\n",
       "                '2019-05-15 05:00:00', '2019-05-16 05:00:00',\n",
       "                '2019-05-17 05:00:00', '2019-05-20 05:00:00',\n",
       "                ...\n",
       "                '2021-04-12 05:00:00', '2021-04-13 05:00:00',\n",
       "                '2021-04-14 05:00:00', '2021-04-15 05:00:00',\n",
       "                '2021-04-16 05:00:00', '2021-04-19 05:00:00',\n",
       "                '2021-04-20 05:00:00', '2021-04-21 05:00:00',\n",
       "                '2021-04-22 05:00:00', '2021-04-23 05:00:00'],\n",
       "               dtype='datetime64[ns]', name='time', length=514, freq='C'),\n",
       " DatetimeIndex(['2019-05-07 05:00:00', '2019-05-08 05:00:00',\n",
       "                '2019-05-09 05:00:00', '2019-05-10 05:00:00',\n",
       "                '2019-05-13 05:00:00', '2019-05-14 05:00:00',\n",
       "                '2019-05-15 05:00:00', '2019-05-16 05:00:00',\n",
       "                '2019-05-17 05:00:00', '2019-05-20 05:00:00',\n",
       "                ...\n",
       "                '2021-04-12 05:00:00', '2021-04-13 05:00:00',\n",
       "                '2021-04-14 05:00:00', '2021-04-15 05:00:00',\n",
       "                '2021-04-16 05:00:00', '2021-04-19 05:00:00',\n",
       "                '2021-04-20 05:00:00', '2021-04-21 05:00:00',\n",
       "                '2021-04-22 05:00:00', '2021-04-23 05:00:00'],\n",
       "               dtype='datetime64[ns]', name='time', length=514, freq='C'),\n",
       " DatetimeIndex(['2021-03-29 05:00:00', '2021-03-29 06:00:00',\n",
       "                '2021-03-29 07:00:00', '2021-03-29 08:00:00',\n",
       "                '2021-03-29 09:00:00', '2021-03-29 10:00:00',\n",
       "                '2021-03-29 11:00:00', '2021-03-29 12:00:00',\n",
       "                '2021-03-29 13:00:00', '2021-03-29 14:00:00',\n",
       "                ...\n",
       "                '2021-04-27 11:00:00', '2021-04-27 12:00:00',\n",
       "                '2021-04-27 13:00:00', '2021-04-27 14:00:00',\n",
       "                '2021-04-27 15:00:00', '2021-04-27 16:00:00',\n",
       "                '2021-04-27 17:00:00', '2021-04-27 18:00:00',\n",
       "                '2021-04-27 19:00:00', '2021-04-27 20:00:00'],\n",
       "               dtype='datetime64[ns]', name='time', length=352, freq='CBH'))"
      ]
     },
     "execution_count": 32,
     "metadata": {},
     "output_type": "execute_result"
    }
   ],
   "source": [
    "df_full.index, df.index, df_last.index"
   ]
  },
  {
   "cell_type": "markdown",
   "metadata": {
    "ExecuteTime": {
     "end_time": "2021-04-26T19:42:10.301805Z",
     "start_time": "2021-04-26T19:42:10.259964Z"
    }
   },
   "source": [
    "## Test out read and write CSV at same time"
   ]
  },
  {
   "cell_type": "code",
   "execution_count": null,
   "metadata": {
    "ExecuteTime": {
     "end_time": "2021-04-27T16:01:15.865466Z",
     "start_time": "2021-04-27T15:57:12.628Z"
    }
   },
   "outputs": [],
   "source": [
    "with open('../data/GME_intra_Mar_29_Apr_12.csv', newline='') as csvfile:\n",
    "#     fieldnames = ['first_name', 'last_name']\n",
    "    reader = csv.reader(csvfile)\n",
    "    fieldnames = next(reader)\n",
    "    print(fieldnames)\n",
    "    \n",
    "    with open('../data/output.csv', mode='w', newline='') as csvfile:\n",
    "        writer = csv.writer(csvfile)\n",
    "        writer.writerow(fieldnames)\n",
    "        for row in reader:\n",
    "            writer.writerow(row)\n",
    "            "
   ]
  },
  {
   "cell_type": "markdown",
   "metadata": {},
   "source": [
    "## More EDA"
   ]
  },
  {
   "cell_type": "code",
   "execution_count": 73,
   "metadata": {
    "ExecuteTime": {
     "end_time": "2021-04-28T01:25:07.873231Z",
     "start_time": "2021-04-28T01:25:07.798097Z"
    }
   },
   "outputs": [
    {
     "data": {
      "text/html": [
       "<div>\n",
       "<style scoped>\n",
       "    .dataframe tbody tr th:only-of-type {\n",
       "        vertical-align: middle;\n",
       "    }\n",
       "\n",
       "    .dataframe tbody tr th {\n",
       "        vertical-align: top;\n",
       "    }\n",
       "\n",
       "    .dataframe thead th {\n",
       "        text-align: right;\n",
       "    }\n",
       "</style>\n",
       "<table border=\"1\" class=\"dataframe\">\n",
       "  <thead>\n",
       "    <tr style=\"text-align: right;\">\n",
       "      <th></th>\n",
       "      <th>open</th>\n",
       "      <th>high</th>\n",
       "      <th>low</th>\n",
       "      <th>close</th>\n",
       "      <th>volume</th>\n",
       "    </tr>\n",
       "    <tr>\n",
       "      <th>time</th>\n",
       "      <th></th>\n",
       "      <th></th>\n",
       "      <th></th>\n",
       "      <th></th>\n",
       "      <th></th>\n",
       "    </tr>\n",
       "  </thead>\n",
       "  <tbody>\n",
       "    <tr>\n",
       "      <th>2020-07-03 05:00:00</th>\n",
       "      <td>NaN</td>\n",
       "      <td>NaN</td>\n",
       "      <td>NaN</td>\n",
       "      <td>NaN</td>\n",
       "      <td>NaN</td>\n",
       "    </tr>\n",
       "    <tr>\n",
       "      <th>2020-07-03 06:00:00</th>\n",
       "      <td>NaN</td>\n",
       "      <td>NaN</td>\n",
       "      <td>NaN</td>\n",
       "      <td>NaN</td>\n",
       "      <td>NaN</td>\n",
       "    </tr>\n",
       "    <tr>\n",
       "      <th>2020-07-03 07:00:00</th>\n",
       "      <td>NaN</td>\n",
       "      <td>NaN</td>\n",
       "      <td>NaN</td>\n",
       "      <td>NaN</td>\n",
       "      <td>NaN</td>\n",
       "    </tr>\n",
       "    <tr>\n",
       "      <th>2020-07-03 08:00:00</th>\n",
       "      <td>NaN</td>\n",
       "      <td>NaN</td>\n",
       "      <td>NaN</td>\n",
       "      <td>NaN</td>\n",
       "      <td>NaN</td>\n",
       "    </tr>\n",
       "    <tr>\n",
       "      <th>2020-07-03 09:00:00</th>\n",
       "      <td>NaN</td>\n",
       "      <td>NaN</td>\n",
       "      <td>NaN</td>\n",
       "      <td>NaN</td>\n",
       "      <td>NaN</td>\n",
       "    </tr>\n",
       "    <tr>\n",
       "      <th>...</th>\n",
       "      <td>...</td>\n",
       "      <td>...</td>\n",
       "      <td>...</td>\n",
       "      <td>...</td>\n",
       "      <td>...</td>\n",
       "    </tr>\n",
       "    <tr>\n",
       "      <th>2021-04-23 16:00:00</th>\n",
       "      <td>417.371</td>\n",
       "      <td>418.25</td>\n",
       "      <td>416.64</td>\n",
       "      <td>416.72</td>\n",
       "      <td>20654032.0</td>\n",
       "    </tr>\n",
       "    <tr>\n",
       "      <th>2021-04-23 17:00:00</th>\n",
       "      <td>416.690</td>\n",
       "      <td>416.84</td>\n",
       "      <td>416.17</td>\n",
       "      <td>416.25</td>\n",
       "      <td>8698768.0</td>\n",
       "    </tr>\n",
       "    <tr>\n",
       "      <th>2021-04-23 18:00:00</th>\n",
       "      <td>416.270</td>\n",
       "      <td>416.74</td>\n",
       "      <td>416.14</td>\n",
       "      <td>416.36</td>\n",
       "      <td>185872.0</td>\n",
       "    </tr>\n",
       "    <tr>\n",
       "      <th>2021-04-23 19:00:00</th>\n",
       "      <td>416.350</td>\n",
       "      <td>416.44</td>\n",
       "      <td>416.15</td>\n",
       "      <td>416.33</td>\n",
       "      <td>32178.0</td>\n",
       "    </tr>\n",
       "    <tr>\n",
       "      <th>2021-04-23 20:00:00</th>\n",
       "      <td>416.300</td>\n",
       "      <td>416.30</td>\n",
       "      <td>416.14</td>\n",
       "      <td>416.25</td>\n",
       "      <td>50513.0</td>\n",
       "    </tr>\n",
       "  </tbody>\n",
       "</table>\n",
       "<p>3376 rows × 5 columns</p>\n",
       "</div>"
      ],
      "text/plain": [
       "                        open    high     low   close      volume\n",
       "time                                                            \n",
       "2020-07-03 05:00:00      NaN     NaN     NaN     NaN         NaN\n",
       "2020-07-03 06:00:00      NaN     NaN     NaN     NaN         NaN\n",
       "2020-07-03 07:00:00      NaN     NaN     NaN     NaN         NaN\n",
       "2020-07-03 08:00:00      NaN     NaN     NaN     NaN         NaN\n",
       "2020-07-03 09:00:00      NaN     NaN     NaN     NaN         NaN\n",
       "...                      ...     ...     ...     ...         ...\n",
       "2021-04-23 16:00:00  417.371  418.25  416.64  416.72  20654032.0\n",
       "2021-04-23 17:00:00  416.690  416.84  416.17  416.25   8698768.0\n",
       "2021-04-23 18:00:00  416.270  416.74  416.14  416.36    185872.0\n",
       "2021-04-23 19:00:00  416.350  416.44  416.15  416.33     32178.0\n",
       "2021-04-23 20:00:00  416.300  416.30  416.14  416.25     50513.0\n",
       "\n",
       "[3376 rows x 5 columns]"
      ]
     },
     "execution_count": 73,
     "metadata": {},
     "output_type": "execute_result"
    }
   ],
   "source": [
    "df_full[df_full.index>'2020-07-03']"
   ]
  },
  {
   "cell_type": "code",
   "execution_count": 76,
   "metadata": {
    "ExecuteTime": {
     "end_time": "2021-04-28T01:25:34.077761Z",
     "start_time": "2021-04-28T01:25:34.014898Z"
    }
   },
   "outputs": [
    {
     "data": {
      "text/html": [
       "<div>\n",
       "<style scoped>\n",
       "    .dataframe tbody tr th:only-of-type {\n",
       "        vertical-align: middle;\n",
       "    }\n",
       "\n",
       "    .dataframe tbody tr th {\n",
       "        vertical-align: top;\n",
       "    }\n",
       "\n",
       "    .dataframe thead th {\n",
       "        text-align: right;\n",
       "    }\n",
       "</style>\n",
       "<table border=\"1\" class=\"dataframe\">\n",
       "  <thead>\n",
       "    <tr style=\"text-align: right;\">\n",
       "      <th></th>\n",
       "      <th>open</th>\n",
       "      <th>high</th>\n",
       "      <th>low</th>\n",
       "      <th>close</th>\n",
       "      <th>volume</th>\n",
       "    </tr>\n",
       "    <tr>\n",
       "      <th>time</th>\n",
       "      <th></th>\n",
       "      <th></th>\n",
       "      <th></th>\n",
       "      <th></th>\n",
       "      <th></th>\n",
       "    </tr>\n",
       "  </thead>\n",
       "  <tbody>\n",
       "    <tr>\n",
       "      <th>2020-07-03 05:00:00</th>\n",
       "      <td>NaN</td>\n",
       "      <td>NaN</td>\n",
       "      <td>NaN</td>\n",
       "      <td>NaN</td>\n",
       "      <td>NaN</td>\n",
       "    </tr>\n",
       "    <tr>\n",
       "      <th>2020-07-03 06:00:00</th>\n",
       "      <td>NaN</td>\n",
       "      <td>NaN</td>\n",
       "      <td>NaN</td>\n",
       "      <td>NaN</td>\n",
       "      <td>NaN</td>\n",
       "    </tr>\n",
       "    <tr>\n",
       "      <th>2020-07-03 07:00:00</th>\n",
       "      <td>NaN</td>\n",
       "      <td>NaN</td>\n",
       "      <td>NaN</td>\n",
       "      <td>NaN</td>\n",
       "      <td>NaN</td>\n",
       "    </tr>\n",
       "    <tr>\n",
       "      <th>2020-07-03 08:00:00</th>\n",
       "      <td>NaN</td>\n",
       "      <td>NaN</td>\n",
       "      <td>NaN</td>\n",
       "      <td>NaN</td>\n",
       "      <td>NaN</td>\n",
       "    </tr>\n",
       "    <tr>\n",
       "      <th>2020-07-03 09:00:00</th>\n",
       "      <td>NaN</td>\n",
       "      <td>NaN</td>\n",
       "      <td>NaN</td>\n",
       "      <td>NaN</td>\n",
       "      <td>NaN</td>\n",
       "    </tr>\n",
       "    <tr>\n",
       "      <th>2020-07-03 10:00:00</th>\n",
       "      <td>NaN</td>\n",
       "      <td>NaN</td>\n",
       "      <td>NaN</td>\n",
       "      <td>NaN</td>\n",
       "      <td>NaN</td>\n",
       "    </tr>\n",
       "    <tr>\n",
       "      <th>2020-07-03 11:00:00</th>\n",
       "      <td>NaN</td>\n",
       "      <td>NaN</td>\n",
       "      <td>NaN</td>\n",
       "      <td>NaN</td>\n",
       "      <td>NaN</td>\n",
       "    </tr>\n",
       "    <tr>\n",
       "      <th>2020-07-03 12:00:00</th>\n",
       "      <td>NaN</td>\n",
       "      <td>NaN</td>\n",
       "      <td>NaN</td>\n",
       "      <td>NaN</td>\n",
       "      <td>NaN</td>\n",
       "    </tr>\n",
       "    <tr>\n",
       "      <th>2020-07-03 13:00:00</th>\n",
       "      <td>NaN</td>\n",
       "      <td>NaN</td>\n",
       "      <td>NaN</td>\n",
       "      <td>NaN</td>\n",
       "      <td>NaN</td>\n",
       "    </tr>\n",
       "    <tr>\n",
       "      <th>2020-07-03 14:00:00</th>\n",
       "      <td>NaN</td>\n",
       "      <td>NaN</td>\n",
       "      <td>NaN</td>\n",
       "      <td>NaN</td>\n",
       "      <td>NaN</td>\n",
       "    </tr>\n",
       "    <tr>\n",
       "      <th>2020-07-03 15:00:00</th>\n",
       "      <td>NaN</td>\n",
       "      <td>NaN</td>\n",
       "      <td>NaN</td>\n",
       "      <td>NaN</td>\n",
       "      <td>NaN</td>\n",
       "    </tr>\n",
       "    <tr>\n",
       "      <th>2020-07-03 16:00:00</th>\n",
       "      <td>NaN</td>\n",
       "      <td>NaN</td>\n",
       "      <td>NaN</td>\n",
       "      <td>NaN</td>\n",
       "      <td>NaN</td>\n",
       "    </tr>\n",
       "    <tr>\n",
       "      <th>2020-07-03 17:00:00</th>\n",
       "      <td>NaN</td>\n",
       "      <td>NaN</td>\n",
       "      <td>NaN</td>\n",
       "      <td>NaN</td>\n",
       "      <td>NaN</td>\n",
       "    </tr>\n",
       "    <tr>\n",
       "      <th>2020-07-03 18:00:00</th>\n",
       "      <td>NaN</td>\n",
       "      <td>NaN</td>\n",
       "      <td>NaN</td>\n",
       "      <td>NaN</td>\n",
       "      <td>NaN</td>\n",
       "    </tr>\n",
       "    <tr>\n",
       "      <th>2020-07-03 19:00:00</th>\n",
       "      <td>NaN</td>\n",
       "      <td>NaN</td>\n",
       "      <td>NaN</td>\n",
       "      <td>NaN</td>\n",
       "      <td>NaN</td>\n",
       "    </tr>\n",
       "    <tr>\n",
       "      <th>2020-07-03 20:00:00</th>\n",
       "      <td>NaN</td>\n",
       "      <td>NaN</td>\n",
       "      <td>NaN</td>\n",
       "      <td>NaN</td>\n",
       "      <td>NaN</td>\n",
       "    </tr>\n",
       "  </tbody>\n",
       "</table>\n",
       "</div>"
      ],
      "text/plain": [
       "                     open  high  low  close  volume\n",
       "time                                               \n",
       "2020-07-03 05:00:00   NaN   NaN  NaN    NaN     NaN\n",
       "2020-07-03 06:00:00   NaN   NaN  NaN    NaN     NaN\n",
       "2020-07-03 07:00:00   NaN   NaN  NaN    NaN     NaN\n",
       "2020-07-03 08:00:00   NaN   NaN  NaN    NaN     NaN\n",
       "2020-07-03 09:00:00   NaN   NaN  NaN    NaN     NaN\n",
       "2020-07-03 10:00:00   NaN   NaN  NaN    NaN     NaN\n",
       "2020-07-03 11:00:00   NaN   NaN  NaN    NaN     NaN\n",
       "2020-07-03 12:00:00   NaN   NaN  NaN    NaN     NaN\n",
       "2020-07-03 13:00:00   NaN   NaN  NaN    NaN     NaN\n",
       "2020-07-03 14:00:00   NaN   NaN  NaN    NaN     NaN\n",
       "2020-07-03 15:00:00   NaN   NaN  NaN    NaN     NaN\n",
       "2020-07-03 16:00:00   NaN   NaN  NaN    NaN     NaN\n",
       "2020-07-03 17:00:00   NaN   NaN  NaN    NaN     NaN\n",
       "2020-07-03 18:00:00   NaN   NaN  NaN    NaN     NaN\n",
       "2020-07-03 19:00:00   NaN   NaN  NaN    NaN     NaN\n",
       "2020-07-03 20:00:00   NaN   NaN  NaN    NaN     NaN"
      ]
     },
     "execution_count": 76,
     "metadata": {},
     "output_type": "execute_result"
    }
   ],
   "source": [
    "df_full[(df_full.index>'2020-07-03') & (df_full.index<'2020-07-04')]"
   ]
  },
  {
   "cell_type": "code",
   "execution_count": null,
   "metadata": {
    "ExecuteTime": {
     "end_time": "2021-04-27T16:01:15.846164Z",
     "start_time": "2021-04-27T15:57:12.598Z"
    }
   },
   "outputs": [],
   "source": [
    "start = pd.to_datetime('2019-06-07')"
   ]
  },
  {
   "cell_type": "code",
   "execution_count": null,
   "metadata": {
    "ExecuteTime": {
     "end_time": "2021-04-27T16:01:15.848624Z",
     "start_time": "2021-04-27T15:57:12.601Z"
    }
   },
   "outputs": [],
   "source": [
    "cbh.next_bday(pd.to_datetime(start))"
   ]
  },
  {
   "cell_type": "code",
   "execution_count": null,
   "metadata": {
    "ExecuteTime": {
     "end_time": "2021-04-27T16:01:15.849893Z",
     "start_time": "2021-04-27T15:57:12.604Z"
    }
   },
   "outputs": [],
   "source": [
    "start + pd.DateOffset(days = 2)"
   ]
  },
  {
   "cell_type": "code",
   "execution_count": null,
   "metadata": {
    "ExecuteTime": {
     "end_time": "2021-04-27T16:01:15.851272Z",
     "start_time": "2021-04-27T15:57:12.608Z"
    }
   },
   "outputs": [],
   "source": [
    "start + pd.offsets.BDay()"
   ]
  },
  {
   "cell_type": "code",
   "execution_count": null,
   "metadata": {
    "ExecuteTime": {
     "end_time": "2021-04-27T16:01:15.852645Z",
     "start_time": "2021-04-27T15:57:12.612Z"
    }
   },
   "outputs": [],
   "source": [
    "df_copy = df_full.copy()\n",
    "df_copy.index = df_copy.index.date\n",
    "df_copy.index.value_counts()"
   ]
  },
  {
   "cell_type": "code",
   "execution_count": null,
   "metadata": {
    "ExecuteTime": {
     "end_time": "2021-04-27T16:01:15.853961Z",
     "start_time": "2021-04-27T15:57:12.615Z"
    }
   },
   "outputs": [],
   "source": [
    "# df_copy_2 = df_full2.copy()\n",
    "# df_copy_2.index = df_copy_2.index.date\n",
    "# df_copy_2.index.value_counts()"
   ]
  },
  {
   "cell_type": "code",
   "execution_count": null,
   "metadata": {
    "ExecuteTime": {
     "end_time": "2021-04-27T16:01:15.855490Z",
     "start_time": "2021-04-27T15:57:12.617Z"
    }
   },
   "outputs": [],
   "source": [
    "df_full2[df_full2.index.date == pd.to_datetime('2020-07-06')]"
   ]
  },
  {
   "cell_type": "code",
   "execution_count": null,
   "metadata": {
    "ExecuteTime": {
     "end_time": "2021-04-27T16:01:15.857049Z",
     "start_time": "2021-04-27T15:57:12.619Z"
    }
   },
   "outputs": [],
   "source": [
    "df_full[df_full.index.date == pd.to_datetime('2021-03-01')]"
   ]
  },
  {
   "cell_type": "code",
   "execution_count": null,
   "metadata": {
    "ExecuteTime": {
     "end_time": "2021-04-27T16:01:15.858534Z",
     "start_time": "2021-04-27T15:57:12.621Z"
    },
    "scrolled": true
   },
   "outputs": [],
   "source": [
    "null_data = df_full[df_full.isnull().any(axis=1)]\n",
    "null_data"
   ]
  },
  {
   "cell_type": "code",
   "execution_count": null,
   "metadata": {
    "ExecuteTime": {
     "end_time": "2021-04-27T16:01:15.860585Z",
     "start_time": "2021-04-27T15:57:12.623Z"
    }
   },
   "outputs": [],
   "source": [
    "null_data2 = df_full2[df_full2.isnull().any(axis=1)]\n",
    "null_data2"
   ]
  },
  {
   "cell_type": "code",
   "execution_count": null,
   "metadata": {
    "ExecuteTime": {
     "end_time": "2021-04-27T16:01:15.866736Z",
     "start_time": "2021-04-27T15:57:12.630Z"
    }
   },
   "outputs": [],
   "source": [
    "y=1\n",
    "m=11\n",
    "data_slice = f'year{y+1}month{m+1}'\n",
    "print(data_slice)\n",
    "total_data_reader, total_meta_data = ts.get_intraday_extended(symbol='SPY', interval='60min', slice=data_slice)\n",
    "fieldnames = next(total_data_reader)\n",
    "print(fieldnames)\n",
    "df_test = pd.DataFrame(total_data_reader, columns=fieldnames)\n",
    "df_test.set_index('time', inplace=True)\n",
    "df_test"
   ]
  },
  {
   "cell_type": "code",
   "execution_count": null,
   "metadata": {
    "ExecuteTime": {
     "end_time": "2021-04-27T16:01:15.868181Z",
     "start_time": "2021-04-27T15:57:12.632Z"
    }
   },
   "outputs": [],
   "source": [
    "with open('../data/output.csv', mode='w', newline='') as csvfile:\n",
    "#     writer = csv.DictWriter(csvfile, fieldnames=df_test_dict.keys())\n",
    "#     writer = csv.DictWriter(sys.stderr, fieldnames=df_test_dict.keys())\n",
    "#     writer = csv.writer(sys.stderr)\n",
    "    writer = csv.writer(csvfile)\n",
    "    writer.writerow(df_test.reset_index().columns)\n",
    "#     writer.writeheader()\n",
    "    writer.writerows(df_test.reset_index().values)"
   ]
  },
  {
   "cell_type": "code",
   "execution_count": null,
   "metadata": {
    "ExecuteTime": {
     "end_time": "2021-04-27T16:01:15.869445Z",
     "start_time": "2021-04-27T15:57:12.634Z"
    }
   },
   "outputs": [],
   "source": [
    "df_test_close = df_test.close"
   ]
  },
  {
   "cell_type": "markdown",
   "metadata": {},
   "source": [
    "## Data Prep"
   ]
  },
  {
   "cell_type": "markdown",
   "metadata": {
    "ExecuteTime": {
     "end_time": "2021-04-27T00:01:47.794038Z",
     "start_time": "2021-04-27T00:01:47.752745Z"
    }
   },
   "source": [
    "## Check Stationarity"
   ]
  },
  {
   "cell_type": "code",
   "execution_count": 33,
   "metadata": {
    "ExecuteTime": {
     "end_time": "2021-04-28T05:35:46.244371Z",
     "start_time": "2021-04-28T05:35:46.148292Z"
    }
   },
   "outputs": [
    {
     "name": "stdout",
     "output_type": "stream",
     "text": [
      "Test Statistic                  -0.121822\n",
      "p-value                          0.947221\n",
      "#Lags Used                       0.000000\n",
      "Number of Observations Used    495.000000\n",
      "Critical Value (1%)             -3.443630\n",
      "Critical Value (5%)             -2.867397\n",
      "Critical Value (10%)            -2.569889\n",
      "dtype: float64\n",
      "Test Statistic                  -1.764787\n",
      "p-value                          0.398079\n",
      "#Lags Used                       1.000000\n",
      "Number of Observations Used    334.000000\n",
      "Critical Value (1%)             -3.450081\n",
      "Critical Value (5%)             -2.870233\n",
      "Critical Value (10%)            -2.571401\n",
      "dtype: float64\n"
     ]
    },
    {
     "data": {
      "text/plain": [
       "(None, None)"
      ]
     },
     "execution_count": 33,
     "metadata": {},
     "output_type": "execute_result"
    }
   ],
   "source": [
    "test_stationarity(df.dropna()), test_stationarity(df_last.dropna())"
   ]
  },
  {
   "cell_type": "code",
   "execution_count": 34,
   "metadata": {
    "ExecuteTime": {
     "end_time": "2021-04-28T05:35:48.193064Z",
     "start_time": "2021-04-28T05:35:48.100830Z"
    }
   },
   "outputs": [
    {
     "name": "stdout",
     "output_type": "stream",
     "text": [
      "Test Statistic                 -23.420587\n",
      "p-value                          0.000000\n",
      "#Lags Used                       0.000000\n",
      "Number of Observations Used    494.000000\n",
      "Critical Value (1%)             -3.443657\n",
      "Critical Value (5%)             -2.867408\n",
      "Critical Value (10%)            -2.569896\n",
      "dtype: float64\n",
      "Test Statistic                 -20.618151\n",
      "p-value                          0.000000\n",
      "#Lags Used                       0.000000\n",
      "Number of Observations Used    334.000000\n",
      "Critical Value (1%)             -3.450081\n",
      "Critical Value (5%)             -2.870233\n",
      "Critical Value (10%)            -2.571401\n",
      "dtype: float64\n"
     ]
    },
    {
     "data": {
      "text/plain": [
       "(None, None)"
      ]
     },
     "execution_count": 34,
     "metadata": {},
     "output_type": "execute_result"
    }
   ],
   "source": [
    "test_stationarity(df.dropna(),1), test_stationarity(df_last.dropna(),1)"
   ]
  },
  {
   "cell_type": "markdown",
   "metadata": {},
   "source": [
    "## Plot Seasonal Decomposition"
   ]
  },
  {
   "cell_type": "code",
   "execution_count": null,
   "metadata": {
    "ExecuteTime": {
     "end_time": "2021-04-27T16:01:15.874714Z",
     "start_time": "2021-04-27T15:57:12.643Z"
    }
   },
   "outputs": [],
   "source": [
    "# print(top)"
   ]
  },
  {
   "cell_type": "code",
   "execution_count": null,
   "metadata": {
    "ExecuteTime": {
     "end_time": "2021-04-27T16:01:15.876669Z",
     "start_time": "2021-04-27T15:57:12.646Z"
    }
   },
   "outputs": [],
   "source": [
    "plot_seasonal_decomposition(df.dropna(), 'SPY', round(365/4))"
   ]
  },
  {
   "cell_type": "code",
   "execution_count": 40,
   "metadata": {
    "ExecuteTime": {
     "end_time": "2021-04-28T05:39:00.411558Z",
     "start_time": "2021-04-28T05:38:59.552393Z"
    }
   },
   "outputs": [
    {
     "data": {
      "image/png": "[encoded data removed]",
      "text/plain": [
       "<Figure size 864x864 with 4 Axes>"
      ]
     },
     "metadata": {},
     "output_type": "display_data"
    }
   ],
   "source": [
    "plot_seasonal_decomposition(df_last.dropna(), 'SPY', 16*5)"
   ]
  },
  {
   "cell_type": "markdown",
   "metadata": {
    "ExecuteTime": {
     "end_time": "2021-04-28T16:19:55.069087Z",
     "start_time": "2021-04-28T16:19:54.927434Z"
    }
   },
   "source": [
    "# Quandl"
   ]
  },
  {
   "cell_type": "markdown",
   "metadata": {
    "ExecuteTime": {
     "end_time": "2021-04-27T18:06:06.964367Z",
     "start_time": "2021-04-27T18:06:06.904098Z"
    }
   },
   "source": [
    "# Modeling"
   ]
  },
  {
   "cell_type": "markdown",
   "metadata": {},
   "source": [
    "## SARIMA"
   ]
  },
  {
   "cell_type": "code",
   "execution_count": null,
   "metadata": {
    "ExecuteTime": {
     "end_time": "2021-04-27T16:01:15.878624Z",
     "start_time": "2021-04-27T15:57:12.648Z"
    }
   },
   "outputs": [],
   "source": [
    "round((80/100)*len(df))"
   ]
  },
  {
   "cell_type": "code",
   "execution_count": 116,
   "metadata": {
    "ExecuteTime": {
     "end_time": "2021-04-28T06:33:37.179164Z",
     "start_time": "2021-04-28T06:33:37.124226Z"
    }
   },
   "outputs": [
    {
     "name": "stdout",
     "output_type": "stream",
     "text": [
      "Using a 80/20 train-test split...\n",
      "Using a 80/20 train-test split...\n"
     ]
    }
   ],
   "source": [
    "# df_train, df_test = train_test_split_data(df, 80)\n",
    "df_train, df_test = train_test_split_data(df_last, 80)\n",
    "ex_train, ex_test = train_test_split_data(vol_last, 80)"
   ]
  },
  {
   "cell_type": "code",
   "execution_count": null,
   "metadata": {
    "ExecuteTime": {
     "end_time": "2021-04-27T16:01:15.881461Z",
     "start_time": "2021-04-27T15:57:12.653Z"
    }
   },
   "outputs": [],
   "source": [
    "param_list = []\n",
    "param_seasonal_list = []\n",
    "aic_list = []"
   ]
  },
  {
   "cell_type": "code",
   "execution_count": 1,
   "metadata": {
    "ExecuteTime": {
     "end_time": "2021-04-27T14:10:04.837831Z",
     "start_time": "2021-04-27T14:10:04.834614Z"
    }
   },
   "outputs": [],
   "source": [
    "param = (2,1,0)\n",
    "param_seasonal = (2,1,0,2190)"
   ]
  },
  {
   "cell_type": "code",
   "execution_count": 23,
   "metadata": {
    "ExecuteTime": {
     "end_time": "2021-04-27T16:04:50.589201Z",
     "start_time": "2021-04-27T16:04:50.551751Z"
    }
   },
   "outputs": [],
   "source": [
    "# mod = SARIMAX(df_train,\n",
    "#               order=param,\n",
    "#               seasonal_order=param_seasonal,\n",
    "#               enforce_stationarity=False,\n",
    "#               enforce_invertibility=False,\n",
    "#               verbose=True).fit()\n",
    "# param_list.append(param)\n",
    "# param_seasonal_list.append(param_seasonal)\n",
    "# aic = mod.aic"
   ]
  },
  {
   "cell_type": "code",
   "execution_count": 24,
   "metadata": {
    "ExecuteTime": {
     "end_time": "2021-04-27T16:04:50.635591Z",
     "start_time": "2021-04-27T16:04:50.591759Z"
    }
   },
   "outputs": [],
   "source": [
    "# param_list, param_seasonal_list, aic_list = gridsearch_SARIMAX(df_train)"
   ]
  },
  {
   "cell_type": "markdown",
   "metadata": {},
   "source": [
    "## Auto ARIMA"
   ]
  },
  {
   "cell_type": "code",
   "execution_count": 113,
   "metadata": {
    "ExecuteTime": {
     "end_time": "2021-04-28T06:33:09.667333Z",
     "start_time": "2021-04-28T06:33:08.700466Z"
    }
   },
   "outputs": [
    {
     "data": {
      "text/html": [
       "<table class=\"simpletable\">\n",
       "<caption>SARIMAX Results</caption>\n",
       "<tr>\n",
       "  <th>Dep. Variable:</th>           <td>y</td>        <th>  No. Observations:  </th>    <td>336</td>  \n",
       "</tr>\n",
       "<tr>\n",
       "  <th>Model:</th>           <td>SARIMAX(1, 1, 0)</td> <th>  Log Likelihood     </th> <td>-297.497</td>\n",
       "</tr>\n",
       "<tr>\n",
       "  <th>Date:</th>            <td>Wed, 28 Apr 2021</td> <th>  AIC                </th>  <td>600.993</td>\n",
       "</tr>\n",
       "<tr>\n",
       "  <th>Time:</th>                <td>02:33:09</td>     <th>  BIC                </th>  <td>612.436</td>\n",
       "</tr>\n",
       "<tr>\n",
       "  <th>Sample:</th>                  <td>0</td>        <th>  HQIC               </th>  <td>605.555</td>\n",
       "</tr>\n",
       "<tr>\n",
       "  <th></th>                      <td> - 336</td>      <th>                     </th>     <td> </td>   \n",
       "</tr>\n",
       "<tr>\n",
       "  <th>Covariance Type:</th>        <td>opg</td>       <th>                     </th>     <td> </td>   \n",
       "</tr>\n",
       "</table>\n",
       "<table class=\"simpletable\">\n",
       "<tr>\n",
       "      <td></td>         <th>coef</th>     <th>std err</th>      <th>z</th>      <th>P>|z|</th>  <th>[0.025</th>    <th>0.975]</th>  \n",
       "</tr>\n",
       "<tr>\n",
       "  <th>intercept</th> <td>    0.0800</td> <td>    0.035</td> <td>    2.287</td> <td> 0.022</td> <td>    0.011</td> <td>    0.148</td>\n",
       "</tr>\n",
       "<tr>\n",
       "  <th>ar.L1</th>     <td>   -0.1210</td> <td>    0.048</td> <td>   -2.524</td> <td> 0.012</td> <td>   -0.215</td> <td>   -0.027</td>\n",
       "</tr>\n",
       "<tr>\n",
       "  <th>sigma2</th>    <td>    0.3458</td> <td>    0.011</td> <td>   32.781</td> <td> 0.000</td> <td>    0.325</td> <td>    0.366</td>\n",
       "</tr>\n",
       "</table>\n",
       "<table class=\"simpletable\">\n",
       "<tr>\n",
       "  <th>Ljung-Box (Q):</th>          <td>35.61</td> <th>  Jarque-Bera (JB):  </th> <td>3161.44</td>\n",
       "</tr>\n",
       "<tr>\n",
       "  <th>Prob(Q):</th>                <td>0.67</td>  <th>  Prob(JB):          </th>  <td>0.00</td>  \n",
       "</tr>\n",
       "<tr>\n",
       "  <th>Heteroskedasticity (H):</th> <td>2.21</td>  <th>  Skew:              </th>  <td>-1.58</td> \n",
       "</tr>\n",
       "<tr>\n",
       "  <th>Prob(H) (two-sided):</th>    <td>0.00</td>  <th>  Kurtosis:          </th>  <td>17.71</td> \n",
       "</tr>\n",
       "</table><br/><br/>Warnings:<br/>[1] Covariance matrix calculated using the outer product of gradients (complex-step)."
      ],
      "text/plain": [
       "<class 'statsmodels.iolib.summary.Summary'>\n",
       "\"\"\"\n",
       "                               SARIMAX Results                                \n",
       "==============================================================================\n",
       "Dep. Variable:                      y   No. Observations:                  336\n",
       "Model:               SARIMAX(1, 1, 0)   Log Likelihood                -297.497\n",
       "Date:                Wed, 28 Apr 2021   AIC                            600.993\n",
       "Time:                        02:33:09   BIC                            612.436\n",
       "Sample:                             0   HQIC                           605.555\n",
       "                                - 336                                         \n",
       "Covariance Type:                  opg                                         \n",
       "==============================================================================\n",
       "                 coef    std err          z      P>|z|      [0.025      0.975]\n",
       "------------------------------------------------------------------------------\n",
       "intercept      0.0800      0.035      2.287      0.022       0.011       0.148\n",
       "ar.L1         -0.1210      0.048     -2.524      0.012      -0.215      -0.027\n",
       "sigma2         0.3458      0.011     32.781      0.000       0.325       0.366\n",
       "===================================================================================\n",
       "Ljung-Box (Q):                       35.61   Jarque-Bera (JB):              3161.44\n",
       "Prob(Q):                              0.67   Prob(JB):                         0.00\n",
       "Heteroskedasticity (H):               2.21   Skew:                            -1.58\n",
       "Prob(H) (two-sided):                  0.00   Kurtosis:                        17.71\n",
       "===================================================================================\n",
       "\n",
       "Warnings:\n",
       "[1] Covariance matrix calculated using the outer product of gradients (complex-step).\n",
       "\"\"\""
      ]
     },
     "execution_count": 113,
     "metadata": {},
     "output_type": "execute_result"
    }
   ],
   "source": [
    "# pya.auto_arima(df.dropna(), seasonal=True, m=2190).summary()\n",
    "# pya.auto_arima(df.dropna(), seasonal=True, m=round(365/4)).summary()\n",
    "pya.auto_arima(df_last.dropna(), exog=vol_last).summary()"
   ]
  },
  {
   "cell_type": "code",
   "execution_count": 56,
   "metadata": {
    "ExecuteTime": {
     "end_time": "2021-04-28T05:41:36.020014Z",
     "start_time": "2021-04-28T05:41:35.963782Z"
    }
   },
   "outputs": [
    {
     "data": {
      "text/plain": [
       "time\n",
       "2021-04-21 15:00:00    414.9600\n",
       "2021-04-21 16:00:00    416.0900\n",
       "2021-04-21 17:00:00    415.3000\n",
       "2021-04-21 18:00:00    415.2900\n",
       "2021-04-21 19:00:00    415.2000\n",
       "                         ...   \n",
       "2021-04-27 16:00:00    417.4875\n",
       "2021-04-27 17:00:00    417.6500\n",
       "2021-04-27 18:00:00    417.5700\n",
       "2021-04-27 19:00:00    417.7000\n",
       "2021-04-27 20:00:00    417.6400\n",
       "Freq: CBH, Name: close, Length: 70, dtype: float64"
      ]
     },
     "execution_count": 56,
     "metadata": {},
     "output_type": "execute_result"
    }
   ],
   "source": [
    "df_test"
   ]
  },
  {
   "cell_type": "code",
   "execution_count": 119,
   "metadata": {
    "ExecuteTime": {
     "end_time": "2021-04-28T06:34:06.266613Z",
     "start_time": "2021-04-28T06:34:06.209399Z"
    }
   },
   "outputs": [
    {
     "data": {
      "text/plain": [
       "DatetimeIndex(['2021-03-29 05:00:00', '2021-03-29 06:00:00',\n",
       "               '2021-03-29 07:00:00', '2021-03-29 08:00:00',\n",
       "               '2021-03-29 09:00:00', '2021-03-29 10:00:00',\n",
       "               '2021-03-29 11:00:00', '2021-03-29 12:00:00',\n",
       "               '2021-03-29 13:00:00', '2021-03-29 14:00:00',\n",
       "               ...\n",
       "               '2021-04-21 05:00:00', '2021-04-21 06:00:00',\n",
       "               '2021-04-21 07:00:00', '2021-04-21 08:00:00',\n",
       "               '2021-04-21 09:00:00', '2021-04-21 10:00:00',\n",
       "               '2021-04-21 11:00:00', '2021-04-21 12:00:00',\n",
       "               '2021-04-21 13:00:00', '2021-04-21 14:00:00'],\n",
       "              dtype='datetime64[ns]', name='time', length=282, freq='CBH')"
      ]
     },
     "execution_count": 119,
     "metadata": {},
     "output_type": "execute_result"
    }
   ],
   "source": [
    "df_train.isna().index"
   ]
  },
  {
   "cell_type": "code",
   "execution_count": 138,
   "metadata": {
    "ExecuteTime": {
     "end_time": "2021-04-28T06:37:48.476917Z",
     "start_time": "2021-04-28T06:37:48.420468Z"
    }
   },
   "outputs": [
    {
     "data": {
      "text/plain": [
       "time\n",
       "2021-04-21 15:00:00    414.9600\n",
       "2021-04-21 16:00:00    416.0900\n",
       "2021-04-21 17:00:00    415.3000\n",
       "2021-04-21 18:00:00    415.2900\n",
       "2021-04-21 19:00:00    415.2000\n",
       "                         ...   \n",
       "2021-04-27 16:00:00    417.4875\n",
       "2021-04-27 17:00:00    417.6500\n",
       "2021-04-27 18:00:00    417.5700\n",
       "2021-04-27 19:00:00    417.7000\n",
       "2021-04-27 20:00:00    417.6400\n",
       "Freq: CBH, Name: close, Length: 70, dtype: float64"
      ]
     },
     "execution_count": 138,
     "metadata": {},
     "output_type": "execute_result"
    }
   ],
   "source": [
    "df_test"
   ]
  },
  {
   "cell_type": "code",
   "execution_count": 132,
   "metadata": {
    "ExecuteTime": {
     "end_time": "2021-04-28T06:36:34.072746Z",
     "start_time": "2021-04-28T06:36:33.811793Z"
    }
   },
   "outputs": [
    {
     "data": {
      "text/html": [
       "<table class=\"simpletable\">\n",
       "<caption>SARIMAX Results</caption>\n",
       "<tr>\n",
       "  <th>Dep. Variable:</th>                <td>close</td>             <th>  No. Observations:  </th>    <td>282</td>  \n",
       "</tr>\n",
       "<tr>\n",
       "  <th>Model:</th>           <td>SARIMAX(1, 1, 0)x(1, 1, 0, 16)</td> <th>  Log Likelihood     </th> <td>-250.410</td>\n",
       "</tr>\n",
       "<tr>\n",
       "  <th>Date:</th>                   <td>Wed, 28 Apr 2021</td>        <th>  AIC                </th>  <td>506.820</td>\n",
       "</tr>\n",
       "<tr>\n",
       "  <th>Time:</th>                       <td>02:36:34</td>            <th>  BIC                </th>  <td>517.559</td>\n",
       "</tr>\n",
       "<tr>\n",
       "  <th>Sample:</th>                    <td>03-29-2021</td>           <th>  HQIC               </th>  <td>511.135</td>\n",
       "</tr>\n",
       "<tr>\n",
       "  <th></th>                          <td>- 04-21-2021</td>          <th>                     </th>     <td> </td>   \n",
       "</tr>\n",
       "<tr>\n",
       "  <th>Covariance Type:</th>               <td>opg</td>              <th>                     </th>     <td> </td>   \n",
       "</tr>\n",
       "</table>\n",
       "<table class=\"simpletable\">\n",
       "<tr>\n",
       "      <td></td>        <th>coef</th>     <th>std err</th>      <th>z</th>      <th>P>|z|</th>  <th>[0.025</th>    <th>0.975]</th>  \n",
       "</tr>\n",
       "<tr>\n",
       "  <th>ar.L1</th>    <td>   -0.0610</td> <td>    0.052</td> <td>   -1.178</td> <td> 0.239</td> <td>   -0.163</td> <td>    0.041</td>\n",
       "</tr>\n",
       "<tr>\n",
       "  <th>ar.S.L16</th> <td>   -0.4420</td> <td>    0.059</td> <td>   -7.541</td> <td> 0.000</td> <td>   -0.557</td> <td>   -0.327</td>\n",
       "</tr>\n",
       "<tr>\n",
       "  <th>sigma2</th>   <td>    0.4157</td> <td>    0.031</td> <td>   13.297</td> <td> 0.000</td> <td>    0.354</td> <td>    0.477</td>\n",
       "</tr>\n",
       "</table>\n",
       "<table class=\"simpletable\">\n",
       "<tr>\n",
       "  <th>Ljung-Box (Q):</th>          <td>73.71</td> <th>  Jarque-Bera (JB):  </th> <td>16.32</td>\n",
       "</tr>\n",
       "<tr>\n",
       "  <th>Prob(Q):</th>                <td>0.00</td>  <th>  Prob(JB):          </th> <td>0.00</td> \n",
       "</tr>\n",
       "<tr>\n",
       "  <th>Heteroskedasticity (H):</th> <td>2.00</td>  <th>  Skew:              </th> <td>0.09</td> \n",
       "</tr>\n",
       "<tr>\n",
       "  <th>Prob(H) (two-sided):</th>    <td>0.00</td>  <th>  Kurtosis:          </th> <td>4.20</td> \n",
       "</tr>\n",
       "</table><br/><br/>Warnings:<br/>[1] Covariance matrix calculated using the outer product of gradients (complex-step)."
      ],
      "text/plain": [
       "<class 'statsmodels.iolib.summary.Summary'>\n",
       "\"\"\"\n",
       "                                     SARIMAX Results                                      \n",
       "==========================================================================================\n",
       "Dep. Variable:                              close   No. Observations:                  282\n",
       "Model:             SARIMAX(1, 1, 0)x(1, 1, 0, 16)   Log Likelihood                -250.410\n",
       "Date:                            Wed, 28 Apr 2021   AIC                            506.820\n",
       "Time:                                    02:36:34   BIC                            517.559\n",
       "Sample:                                03-29-2021   HQIC                           511.135\n",
       "                                     - 04-21-2021                                         \n",
       "Covariance Type:                              opg                                         \n",
       "==============================================================================\n",
       "                 coef    std err          z      P>|z|      [0.025      0.975]\n",
       "------------------------------------------------------------------------------\n",
       "ar.L1         -0.0610      0.052     -1.178      0.239      -0.163       0.041\n",
       "ar.S.L16      -0.4420      0.059     -7.541      0.000      -0.557      -0.327\n",
       "sigma2         0.4157      0.031     13.297      0.000       0.354       0.477\n",
       "===================================================================================\n",
       "Ljung-Box (Q):                       73.71   Jarque-Bera (JB):                16.32\n",
       "Prob(Q):                              0.00   Prob(JB):                         0.00\n",
       "Heteroskedasticity (H):               2.00   Skew:                             0.09\n",
       "Prob(H) (two-sided):                  0.00   Kurtosis:                         4.20\n",
       "===================================================================================\n",
       "\n",
       "Warnings:\n",
       "[1] Covariance matrix calculated using the outer product of gradients (complex-step).\n",
       "\"\"\""
      ]
     },
     "execution_count": 132,
     "metadata": {},
     "output_type": "execute_result"
    }
   ],
   "source": [
    "# sari_mod = SARIMAX(df_train.dropna(),order=(1,1,0),seasonal_order=(1,1,0,16), exog=ex_train.dropna()).fit()\n",
    "sari_mod = SARIMAX(df_train, order=(1,1,0), seasonal_order=(1,1,0,16)).fit()\n",
    "# sari_mod = SARIMAX(df_train,order=(1,1,0)).fit()\n",
    "# results = sari_mod.fit()\n",
    "sari_mod.summary()"
   ]
  },
  {
   "cell_type": "code",
   "execution_count": 122,
   "metadata": {
    "ExecuteTime": {
     "end_time": "2021-04-28T06:34:56.174631Z",
     "start_time": "2021-04-28T06:34:56.119241Z"
    }
   },
   "outputs": [
    {
     "data": {
      "text/plain": [
       "Timestamp('2021-04-21 15:00:00', freq='CBH')"
      ]
     },
     "execution_count": 122,
     "metadata": {},
     "output_type": "execute_result"
    }
   ],
   "source": [
    "df_test.index[0]"
   ]
  },
  {
   "cell_type": "code",
   "execution_count": 133,
   "metadata": {
    "ExecuteTime": {
     "end_time": "2021-04-28T06:36:36.247119Z",
     "start_time": "2021-04-28T06:36:36.146102Z"
    }
   },
   "outputs": [],
   "source": [
    "y_hat_train = sari_mod.predict(typ='levels', dynamic=False)\n",
    "y_hat_test = sari_mod.predict(start=df_test.index[0], end=df_test.index[-1], typ='levels')"
   ]
  },
  {
   "cell_type": "code",
   "execution_count": 94,
   "metadata": {
    "ExecuteTime": {
     "end_time": "2021-04-28T05:48:40.799075Z",
     "start_time": "2021-04-28T05:48:40.453676Z"
    }
   },
   "outputs": [
    {
     "data": {
      "text/plain": [
       "<matplotlib.legend.Legend at 0x7fb1ced30a90>"
      ]
     },
     "execution_count": 94,
     "metadata": {},
     "output_type": "execute_result"
    },
    {
     "data": {
      "image/png": "[encoded data removed]",
      "text/plain": [
       "<Figure size 720x576 with 1 Axes>"
      ]
     },
     "metadata": {},
     "output_type": "display_data"
    }
   ],
   "source": [
    "fig, ax = plt.subplots(figsize = (10,8))\n",
    "ax.plot(df_train, label='train')\n",
    "ax.plot(df_test, label='test')\n",
    "ax.plot(y_hat_train[1:], label='train_pred')\n",
    "ax.plot(y_hat_test, label='test_pred')\n",
    "plt.setp(ax.xaxis.get_majorticklabels(), ha=\"right\", rotation=45, rotation_mode=\"anchor\")\n",
    "plt.legend()"
   ]
  },
  {
   "cell_type": "code",
   "execution_count": 89,
   "metadata": {
    "ExecuteTime": {
     "end_time": "2021-04-28T05:48:08.014876Z",
     "start_time": "2021-04-28T05:48:07.960046Z"
    }
   },
   "outputs": [
    {
     "data": {
      "text/plain": [
       "Timestamp('2021-03-30 05:00:00', freq='CBH')"
      ]
     },
     "execution_count": 89,
     "metadata": {},
     "output_type": "execute_result"
    }
   ],
   "source": [
    "y_hat_train.idxmax()"
   ]
  },
  {
   "cell_type": "code",
   "execution_count": 93,
   "metadata": {
    "ExecuteTime": {
     "end_time": "2021-04-28T05:48:33.510672Z",
     "start_time": "2021-04-28T05:48:33.454986Z"
    }
   },
   "outputs": [
    {
     "data": {
      "text/plain": [
       "417.68456777779824"
      ]
     },
     "execution_count": 93,
     "metadata": {},
     "output_type": "execute_result"
    }
   ],
   "source": [
    "y_hat_train.max()"
   ]
  },
  {
   "cell_type": "code",
   "execution_count": 92,
   "metadata": {
    "ExecuteTime": {
     "end_time": "2021-04-28T05:48:31.423612Z",
     "start_time": "2021-04-28T05:48:31.368239Z"
    }
   },
   "outputs": [],
   "source": [
    "y_hat_train.drop(y_hat_train.idxmax(), inplace=True)"
   ]
  },
  {
   "cell_type": "code",
   "execution_count": 103,
   "metadata": {
    "ExecuteTime": {
     "end_time": "2021-04-28T04:58:07.238624Z",
     "start_time": "2021-04-28T04:58:07.178092Z"
    }
   },
   "outputs": [
    {
     "data": {
      "text/plain": [
       "2020-12-02 05:00:00    362.950811\n",
       "2020-12-03 05:00:00    362.950811\n",
       "2020-12-04 05:00:00    362.950811\n",
       "2020-12-07 05:00:00    362.950811\n",
       "2020-12-08 05:00:00    362.950811\n",
       "                          ...    \n",
       "2021-04-19 05:00:00    362.950811\n",
       "2021-04-20 05:00:00    362.950811\n",
       "2021-04-21 05:00:00    362.950811\n",
       "2021-04-22 05:00:00    362.950811\n",
       "2021-04-23 05:00:00    362.950811\n",
       "Freq: C, Length: 103, dtype: float64"
      ]
     },
     "execution_count": 103,
     "metadata": {},
     "output_type": "execute_result"
    }
   ],
   "source": [
    "y_hat_test"
   ]
  },
  {
   "cell_type": "code",
   "execution_count": 141,
   "metadata": {
    "ExecuteTime": {
     "end_time": "2021-04-28T06:38:29.672956Z",
     "start_time": "2021-04-28T06:38:28.585126Z"
    }
   },
   "outputs": [
    {
     "name": "stderr",
     "output_type": "stream",
     "text": [
      "/Users/wax/opt/anaconda3/lib/python3.8/site-packages/statsmodels/tsa/base/tsa_model.py:216: ValueWarning:\n",
      "\n",
      "A date index has been provided, but it has no associated frequency information and so will be ignored when e.g. forecasting.\n",
      "\n",
      "/Users/wax/opt/anaconda3/lib/python3.8/site-packages/statsmodels/tsa/base/tsa_model.py:216: ValueWarning:\n",
      "\n",
      "A date index has been provided, but it has no associated frequency information and so will be ignored when e.g. forecasting.\n",
      "\n",
      "/Users/wax/opt/anaconda3/lib/python3.8/site-packages/statsmodels/base/model.py:567: ConvergenceWarning:\n",
      "\n",
      "Maximum Likelihood optimization failed to converge. Check mle_retvals\n",
      "\n"
     ]
    },
    {
     "data": {
      "text/html": [
       "<table class=\"simpletable\">\n",
       "<caption>SARIMAX Results</caption>\n",
       "<tr>\n",
       "  <th>Dep. Variable:</th>                <td>close</td>             <th>  No. Observations:  </th>    <td>336</td>  \n",
       "</tr>\n",
       "<tr>\n",
       "  <th>Model:</th>           <td>SARIMAX(1, 1, 0)x(1, 1, 0, 16)</td> <th>  Log Likelihood     </th> <td>-340.403</td>\n",
       "</tr>\n",
       "<tr>\n",
       "  <th>Date:</th>                   <td>Wed, 28 Apr 2021</td>        <th>  AIC                </th>  <td>688.806</td>\n",
       "</tr>\n",
       "<tr>\n",
       "  <th>Time:</th>                       <td>02:38:29</td>            <th>  BIC                </th>  <td>703.867</td>\n",
       "</tr>\n",
       "<tr>\n",
       "  <th>Sample:</th>                         <td>0</td>               <th>  HQIC               </th>  <td>694.821</td>\n",
       "</tr>\n",
       "<tr>\n",
       "  <th></th>                             <td> - 336</td>             <th>                     </th>     <td> </td>   \n",
       "</tr>\n",
       "<tr>\n",
       "  <th>Covariance Type:</th>               <td>opg</td>              <th>                     </th>     <td> </td>   \n",
       "</tr>\n",
       "</table>\n",
       "<table class=\"simpletable\">\n",
       "<tr>\n",
       "      <td></td>        <th>coef</th>     <th>std err</th>      <th>z</th>      <th>P>|z|</th>  <th>[0.025</th>    <th>0.975]</th>  \n",
       "</tr>\n",
       "<tr>\n",
       "  <th>volume</th>   <td>-6.718e-08</td> <td> 7.54e-09</td> <td>   -8.909</td> <td> 0.000</td> <td> -8.2e-08</td> <td>-5.24e-08</td>\n",
       "</tr>\n",
       "<tr>\n",
       "  <th>ar.L1</th>    <td>   -0.1214</td> <td>    0.064</td> <td>   -1.905</td> <td> 0.057</td> <td>   -0.246</td> <td>    0.004</td>\n",
       "</tr>\n",
       "<tr>\n",
       "  <th>ar.S.L16</th> <td>   -0.4244</td> <td>    0.049</td> <td>   -8.650</td> <td> 0.000</td> <td>   -0.521</td> <td>   -0.328</td>\n",
       "</tr>\n",
       "<tr>\n",
       "  <th>sigma2</th>   <td>    0.5925</td> <td>    0.044</td> <td>   13.473</td> <td> 0.000</td> <td>    0.506</td> <td>    0.679</td>\n",
       "</tr>\n",
       "</table>\n",
       "<table class=\"simpletable\">\n",
       "<tr>\n",
       "  <th>Ljung-Box (Q):</th>          <td>73.89</td> <th>  Jarque-Bera (JB):  </th> <td>109.56</td>\n",
       "</tr>\n",
       "<tr>\n",
       "  <th>Prob(Q):</th>                <td>0.00</td>  <th>  Prob(JB):          </th>  <td>0.00</td> \n",
       "</tr>\n",
       "<tr>\n",
       "  <th>Heteroskedasticity (H):</th> <td>1.90</td>  <th>  Skew:              </th>  <td>-0.47</td>\n",
       "</tr>\n",
       "<tr>\n",
       "  <th>Prob(H) (two-sided):</th>    <td>0.00</td>  <th>  Kurtosis:          </th>  <td>5.71</td> \n",
       "</tr>\n",
       "</table><br/><br/>Warnings:<br/>[1] Covariance matrix calculated using the outer product of gradients (complex-step)."
      ],
      "text/plain": [
       "<class 'statsmodels.iolib.summary.Summary'>\n",
       "\"\"\"\n",
       "                                     SARIMAX Results                                      \n",
       "==========================================================================================\n",
       "Dep. Variable:                              close   No. Observations:                  336\n",
       "Model:             SARIMAX(1, 1, 0)x(1, 1, 0, 16)   Log Likelihood                -340.403\n",
       "Date:                            Wed, 28 Apr 2021   AIC                            688.806\n",
       "Time:                                    02:38:29   BIC                            703.867\n",
       "Sample:                                         0   HQIC                           694.821\n",
       "                                            - 336                                         \n",
       "Covariance Type:                              opg                                         \n",
       "==============================================================================\n",
       "                 coef    std err          z      P>|z|      [0.025      0.975]\n",
       "------------------------------------------------------------------------------\n",
       "volume     -6.718e-08   7.54e-09     -8.909      0.000    -8.2e-08   -5.24e-08\n",
       "ar.L1         -0.1214      0.064     -1.905      0.057      -0.246       0.004\n",
       "ar.S.L16      -0.4244      0.049     -8.650      0.000      -0.521      -0.328\n",
       "sigma2         0.5925      0.044     13.473      0.000       0.506       0.679\n",
       "===================================================================================\n",
       "Ljung-Box (Q):                       73.89   Jarque-Bera (JB):               109.56\n",
       "Prob(Q):                              0.00   Prob(JB):                         0.00\n",
       "Heteroskedasticity (H):               1.90   Skew:                            -0.47\n",
       "Prob(H) (two-sided):                  0.00   Kurtosis:                         5.71\n",
       "===================================================================================\n",
       "\n",
       "Warnings:\n",
       "[1] Covariance matrix calculated using the outer product of gradients (complex-step).\n",
       "\"\"\""
      ]
     },
     "execution_count": 141,
     "metadata": {},
     "output_type": "execute_result"
    }
   ],
   "source": [
    "# sari_mod_last = SARIMAX(df_last,order=(1,1,0)).fit()\n",
    "sari_mod_last = SARIMAX(df_last,order=(1,1,0),seasonal_order=(1,1,0,16)).fit()\n",
    "sari_mod_last = SARIMAX(df_last.dropna(),order=(1,1,0),seasonal_order=(1,1,0,16), exog=vol_last.dropna()).fit()\n",
    "# results = sari_mod.fit()\n",
    "sari_mod_last.summary()"
   ]
  },
  {
   "cell_type": "code",
   "execution_count": 142,
   "metadata": {
    "ExecuteTime": {
     "end_time": "2021-04-28T06:38:36.562373Z",
     "start_time": "2021-04-28T06:38:36.491308Z"
    }
   },
   "outputs": [
    {
     "name": "stderr",
     "output_type": "stream",
     "text": [
      "/Users/wax/opt/anaconda3/lib/python3.8/site-packages/statsmodels/tsa/base/tsa_model.py:580: ValueWarning:\n",
      "\n",
      "No supported index is available. Prediction results will be given with an integer index beginning at `start`.\n",
      "\n"
     ]
    },
    {
     "ename": "ValueError",
     "evalue": "Out-of-sample operations in a model with a regression component require additional exogenous values via the `exog` argument.",
     "output_type": "error",
     "traceback": [
      "\u001b[0;31m---------------------------------------------------------------------------\u001b[0m",
      "\u001b[0;31mValueError\u001b[0m                                Traceback (most recent call last)",
      "\u001b[0;32m<ipython-input-142-24e225bd56d5>\u001b[0m in \u001b[0;36m<module>\u001b[0;34m\u001b[0m\n\u001b[0;32m----> 1\u001b[0;31m \u001b[0mforecast\u001b[0m \u001b[0;34m=\u001b[0m \u001b[0msari_mod_last\u001b[0m\u001b[0;34m.\u001b[0m\u001b[0mforecast\u001b[0m\u001b[0;34m(\u001b[0m\u001b[0msteps\u001b[0m\u001b[0;34m=\u001b[0m\u001b[0;36m16\u001b[0m\u001b[0;34m)\u001b[0m\u001b[0;34m\u001b[0m\u001b[0;34m\u001b[0m\u001b[0m\n\u001b[0m",
      "\u001b[0;32m~/opt/anaconda3/lib/python3.8/site-packages/statsmodels/base/wrapper.py\u001b[0m in \u001b[0;36mwrapper\u001b[0;34m(self, *args, **kwargs)\u001b[0m\n\u001b[1;32m    113\u001b[0m             \u001b[0mobj\u001b[0m \u001b[0;34m=\u001b[0m \u001b[0mdata\u001b[0m\u001b[0;34m.\u001b[0m\u001b[0mwrap_output\u001b[0m\u001b[0;34m(\u001b[0m\u001b[0mfunc\u001b[0m\u001b[0;34m(\u001b[0m\u001b[0mresults\u001b[0m\u001b[0;34m,\u001b[0m \u001b[0;34m*\u001b[0m\u001b[0margs\u001b[0m\u001b[0;34m,\u001b[0m \u001b[0;34m**\u001b[0m\u001b[0mkwargs\u001b[0m\u001b[0;34m)\u001b[0m\u001b[0;34m,\u001b[0m \u001b[0mhow\u001b[0m\u001b[0;34m[\u001b[0m\u001b[0;36m0\u001b[0m\u001b[0;34m]\u001b[0m\u001b[0;34m,\u001b[0m \u001b[0mhow\u001b[0m\u001b[0;34m[\u001b[0m\u001b[0;36m1\u001b[0m\u001b[0;34m:\u001b[0m\u001b[0;34m]\u001b[0m\u001b[0;34m)\u001b[0m\u001b[0;34m\u001b[0m\u001b[0;34m\u001b[0m\u001b[0m\n\u001b[1;32m    114\u001b[0m         \u001b[0;32melif\u001b[0m \u001b[0mhow\u001b[0m\u001b[0;34m:\u001b[0m\u001b[0;34m\u001b[0m\u001b[0;34m\u001b[0m\u001b[0m\n\u001b[0;32m--> 115\u001b[0;31m             \u001b[0mobj\u001b[0m \u001b[0;34m=\u001b[0m \u001b[0mdata\u001b[0m\u001b[0;34m.\u001b[0m\u001b[0mwrap_output\u001b[0m\u001b[0;34m(\u001b[0m\u001b[0mfunc\u001b[0m\u001b[0;34m(\u001b[0m\u001b[0mresults\u001b[0m\u001b[0;34m,\u001b[0m \u001b[0;34m*\u001b[0m\u001b[0margs\u001b[0m\u001b[0;34m,\u001b[0m \u001b[0;34m**\u001b[0m\u001b[0mkwargs\u001b[0m\u001b[0;34m)\u001b[0m\u001b[0;34m,\u001b[0m \u001b[0mhow\u001b[0m\u001b[0;34m)\u001b[0m\u001b[0;34m\u001b[0m\u001b[0;34m\u001b[0m\u001b[0m\n\u001b[0m\u001b[1;32m    116\u001b[0m         \u001b[0;32mreturn\u001b[0m \u001b[0mobj\u001b[0m\u001b[0;34m\u001b[0m\u001b[0;34m\u001b[0m\u001b[0m\n\u001b[1;32m    117\u001b[0m \u001b[0;34m\u001b[0m\u001b[0m\n",
      "\u001b[0;32m~/opt/anaconda3/lib/python3.8/site-packages/statsmodels/tsa/statespace/mlemodel.py\u001b[0m in \u001b[0;36mforecast\u001b[0;34m(self, steps, **kwargs)\u001b[0m\n\u001b[1;32m   3336\u001b[0m         \u001b[0;32melse\u001b[0m\u001b[0;34m:\u001b[0m\u001b[0;34m\u001b[0m\u001b[0;34m\u001b[0m\u001b[0m\n\u001b[1;32m   3337\u001b[0m             \u001b[0mend\u001b[0m \u001b[0;34m=\u001b[0m \u001b[0msteps\u001b[0m\u001b[0;34m\u001b[0m\u001b[0;34m\u001b[0m\u001b[0m\n\u001b[0;32m-> 3338\u001b[0;31m         \u001b[0;32mreturn\u001b[0m \u001b[0mself\u001b[0m\u001b[0;34m.\u001b[0m\u001b[0mpredict\u001b[0m\u001b[0;34m(\u001b[0m\u001b[0mstart\u001b[0m\u001b[0;34m=\u001b[0m\u001b[0mself\u001b[0m\u001b[0;34m.\u001b[0m\u001b[0mnobs\u001b[0m\u001b[0;34m,\u001b[0m \u001b[0mend\u001b[0m\u001b[0;34m=\u001b[0m\u001b[0mend\u001b[0m\u001b[0;34m,\u001b[0m \u001b[0;34m**\u001b[0m\u001b[0mkwargs\u001b[0m\u001b[0;34m)\u001b[0m\u001b[0;34m\u001b[0m\u001b[0;34m\u001b[0m\u001b[0m\n\u001b[0m\u001b[1;32m   3339\u001b[0m \u001b[0;34m\u001b[0m\u001b[0m\n\u001b[1;32m   3340\u001b[0m     def simulate(self, nsimulations, measurement_shocks=None,\n",
      "\u001b[0;32m~/opt/anaconda3/lib/python3.8/site-packages/statsmodels/tsa/statespace/mlemodel.py\u001b[0m in \u001b[0;36mpredict\u001b[0;34m(self, start, end, dynamic, **kwargs)\u001b[0m\n\u001b[1;32m   3309\u001b[0m         \"\"\"\n\u001b[1;32m   3310\u001b[0m         \u001b[0;31m# Perform the prediction\u001b[0m\u001b[0;34m\u001b[0m\u001b[0;34m\u001b[0m\u001b[0;34m\u001b[0m\u001b[0m\n\u001b[0;32m-> 3311\u001b[0;31m         \u001b[0mprediction_results\u001b[0m \u001b[0;34m=\u001b[0m \u001b[0mself\u001b[0m\u001b[0;34m.\u001b[0m\u001b[0mget_prediction\u001b[0m\u001b[0;34m(\u001b[0m\u001b[0mstart\u001b[0m\u001b[0;34m,\u001b[0m \u001b[0mend\u001b[0m\u001b[0;34m,\u001b[0m \u001b[0mdynamic\u001b[0m\u001b[0;34m,\u001b[0m \u001b[0;34m**\u001b[0m\u001b[0mkwargs\u001b[0m\u001b[0;34m)\u001b[0m\u001b[0;34m\u001b[0m\u001b[0;34m\u001b[0m\u001b[0m\n\u001b[0m\u001b[1;32m   3312\u001b[0m         \u001b[0;32mreturn\u001b[0m \u001b[0mprediction_results\u001b[0m\u001b[0;34m.\u001b[0m\u001b[0mpredicted_mean\u001b[0m\u001b[0;34m\u001b[0m\u001b[0;34m\u001b[0m\u001b[0m\n\u001b[1;32m   3313\u001b[0m \u001b[0;34m\u001b[0m\u001b[0m\n",
      "\u001b[0;32m~/opt/anaconda3/lib/python3.8/site-packages/statsmodels/tsa/statespace/mlemodel.py\u001b[0m in \u001b[0;36mget_prediction\u001b[0;34m(self, start, end, dynamic, index, exog, extend_model, extend_kwargs, **kwargs)\u001b[0m\n\u001b[1;32m   3230\u001b[0m                             not self.filter_results.time_invariant)\n\u001b[1;32m   3231\u001b[0m         \u001b[0;32mif\u001b[0m \u001b[0mout_of_sample\u001b[0m \u001b[0;32mand\u001b[0m \u001b[0mextend_model\u001b[0m\u001b[0;34m:\u001b[0m\u001b[0;34m\u001b[0m\u001b[0;34m\u001b[0m\u001b[0m\n\u001b[0;32m-> 3232\u001b[0;31m             kwargs = self.model._get_extension_time_varying_matrices(\n\u001b[0m\u001b[1;32m   3233\u001b[0m                 \u001b[0mself\u001b[0m\u001b[0;34m.\u001b[0m\u001b[0mparams\u001b[0m\u001b[0;34m,\u001b[0m \u001b[0mexog\u001b[0m\u001b[0;34m,\u001b[0m \u001b[0mout_of_sample\u001b[0m\u001b[0;34m,\u001b[0m \u001b[0mextend_kwargs\u001b[0m\u001b[0;34m,\u001b[0m\u001b[0;34m\u001b[0m\u001b[0;34m\u001b[0m\u001b[0m\n\u001b[1;32m   3234\u001b[0m                 transformed=True, includes_fixed=True, **kwargs)\n",
      "\u001b[0;32m~/opt/anaconda3/lib/python3.8/site-packages/statsmodels/tsa/statespace/sarimax.py\u001b[0m in \u001b[0;36m_get_extension_time_varying_matrices\u001b[0;34m(self, params, exog, out_of_sample, extend_kwargs, transformed, includes_fixed, **kwargs)\u001b[0m\n\u001b[1;32m   1713\u001b[0m \u001b[0;34m\u001b[0m\u001b[0m\n\u001b[1;32m   1714\u001b[0m         \u001b[0;31m# Get the appropriate exog for the extended sample\u001b[0m\u001b[0;34m\u001b[0m\u001b[0;34m\u001b[0m\u001b[0;34m\u001b[0m\u001b[0m\n\u001b[0;32m-> 1715\u001b[0;31m         \u001b[0mexog\u001b[0m \u001b[0;34m=\u001b[0m \u001b[0mself\u001b[0m\u001b[0;34m.\u001b[0m\u001b[0m_validate_out_of_sample_exog\u001b[0m\u001b[0;34m(\u001b[0m\u001b[0mexog\u001b[0m\u001b[0;34m,\u001b[0m \u001b[0mout_of_sample\u001b[0m\u001b[0;34m)\u001b[0m\u001b[0;34m\u001b[0m\u001b[0;34m\u001b[0m\u001b[0m\n\u001b[0m\u001b[1;32m   1716\u001b[0m \u001b[0;34m\u001b[0m\u001b[0m\n\u001b[1;32m   1717\u001b[0m         \u001b[0;31m# Get the tmp endog, exog\u001b[0m\u001b[0;34m\u001b[0m\u001b[0;34m\u001b[0m\u001b[0;34m\u001b[0m\u001b[0m\n",
      "\u001b[0;32m~/opt/anaconda3/lib/python3.8/site-packages/statsmodels/tsa/statespace/mlemodel.py\u001b[0m in \u001b[0;36m_validate_out_of_sample_exog\u001b[0;34m(self, exog, out_of_sample)\u001b[0m\n\u001b[1;32m   1711\u001b[0m         \u001b[0;32mif\u001b[0m \u001b[0mout_of_sample\u001b[0m \u001b[0;32mand\u001b[0m \u001b[0mself\u001b[0m\u001b[0;34m.\u001b[0m\u001b[0mk_exog\u001b[0m \u001b[0;34m>\u001b[0m \u001b[0;36m0\u001b[0m\u001b[0;34m:\u001b[0m\u001b[0;34m\u001b[0m\u001b[0;34m\u001b[0m\u001b[0m\n\u001b[1;32m   1712\u001b[0m             \u001b[0;32mif\u001b[0m \u001b[0mexog\u001b[0m \u001b[0;32mis\u001b[0m \u001b[0;32mNone\u001b[0m\u001b[0;34m:\u001b[0m\u001b[0;34m\u001b[0m\u001b[0;34m\u001b[0m\u001b[0m\n\u001b[0;32m-> 1713\u001b[0;31m                 raise ValueError('Out-of-sample operations in a model'\n\u001b[0m\u001b[1;32m   1714\u001b[0m                                  \u001b[0;34m' with a regression component require'\u001b[0m\u001b[0;34m\u001b[0m\u001b[0;34m\u001b[0m\u001b[0m\n\u001b[1;32m   1715\u001b[0m                                  \u001b[0;34m' additional exogenous values via the'\u001b[0m\u001b[0;34m\u001b[0m\u001b[0;34m\u001b[0m\u001b[0m\n",
      "\u001b[0;31mValueError\u001b[0m: Out-of-sample operations in a model with a regression component require additional exogenous values via the `exog` argument."
     ]
    }
   ],
   "source": [
    "forecast = sari_mod_last.forecast(steps=16)"
   ]
  },
  {
   "cell_type": "code",
   "execution_count": 97,
   "metadata": {
    "ExecuteTime": {
     "end_time": "2021-04-28T05:49:14.971163Z",
     "start_time": "2021-04-28T05:49:14.917047Z"
    }
   },
   "outputs": [
    {
     "data": {
      "text/plain": [
       "2021-04-28 05:00:00    417.717524\n",
       "2021-04-28 06:00:00    417.445972\n",
       "2021-04-28 07:00:00    417.675432\n",
       "2021-04-28 08:00:00    417.866657\n",
       "2021-04-28 09:00:00    417.836297\n",
       "2021-04-28 10:00:00    417.699115\n",
       "2021-04-28 11:00:00    417.900141\n",
       "2021-04-28 12:00:00    418.076289\n",
       "2021-04-28 13:00:00    417.792150\n",
       "2021-04-28 14:00:00    418.010796\n",
       "2021-04-28 15:00:00    418.301021\n",
       "2021-04-28 16:00:00    418.032097\n",
       "2021-04-28 17:00:00    418.162192\n",
       "2021-04-28 18:00:00    418.122418\n",
       "2021-04-28 19:00:00    418.154087\n",
       "2021-04-28 20:00:00    418.254993\n",
       "Freq: CBH, dtype: float64"
      ]
     },
     "execution_count": 97,
     "metadata": {},
     "output_type": "execute_result"
    }
   ],
   "source": [
    "forecast"
   ]
  },
  {
   "cell_type": "code",
   "execution_count": 98,
   "metadata": {
    "ExecuteTime": {
     "end_time": "2021-04-28T05:49:17.462095Z",
     "start_time": "2021-04-28T05:49:17.146500Z"
    }
   },
   "outputs": [
    {
     "data": {
      "text/plain": [
       "<matplotlib.legend.Legend at 0x7fb1ca8ec7f0>"
      ]
     },
     "execution_count": 98,
     "metadata": {},
     "output_type": "execute_result"
    },
    {
     "data": {
      "image/png": "[encoded data removed]",
      "text/plain": [
       "<Figure size 1080x720 with 1 Axes>"
      ]
     },
     "metadata": {},
     "output_type": "display_data"
    }
   ],
   "source": [
    "fig, ax = plt.subplots(figsize = (15,10))\n",
    "ax.plot(df_last.index, df_last, label='Historical')\n",
    "ax.plot(forecast, label='Forecast')\n",
    "ax.set_title('SPY Prices: 16 Hour Forecast\\nusing SARIMAX(1,1,0)')\n",
    "plt.legend()"
   ]
  },
  {
   "cell_type": "markdown",
   "metadata": {},
   "source": [
    "## Facebook Prophet"
   ]
  },
  {
   "cell_type": "code",
   "execution_count": 41,
   "metadata": {
    "ExecuteTime": {
     "end_time": "2021-04-27T18:33:22.205073Z",
     "start_time": "2021-04-27T18:33:22.140863Z"
    }
   },
   "outputs": [],
   "source": [
    "df_pro = pd.DataFrame(df.reset_index())\n",
    "df_pro.columns = ['ds','y']"
   ]
  },
  {
   "cell_type": "code",
   "execution_count": 42,
   "metadata": {
    "ExecuteTime": {
     "end_time": "2021-04-27T18:33:23.213937Z",
     "start_time": "2021-04-27T18:33:23.142011Z"
    }
   },
   "outputs": [
    {
     "data": {
      "text/html": [
       "<div>\n",
       "<style scoped>\n",
       "    .dataframe tbody tr th:only-of-type {\n",
       "        vertical-align: middle;\n",
       "    }\n",
       "\n",
       "    .dataframe tbody tr th {\n",
       "        vertical-align: top;\n",
       "    }\n",
       "\n",
       "    .dataframe thead th {\n",
       "        text-align: right;\n",
       "    }\n",
       "</style>\n",
       "<table border=\"1\" class=\"dataframe\">\n",
       "  <thead>\n",
       "    <tr style=\"text-align: right;\">\n",
       "      <th></th>\n",
       "      <th>ds</th>\n",
       "      <th>y</th>\n",
       "    </tr>\n",
       "  </thead>\n",
       "  <tbody>\n",
       "    <tr>\n",
       "      <th>0</th>\n",
       "      <td>2019-05-07 05:00:00</td>\n",
       "      <td>281.033359</td>\n",
       "    </tr>\n",
       "    <tr>\n",
       "      <th>1</th>\n",
       "      <td>2019-05-07 06:00:00</td>\n",
       "      <td>280.956226</td>\n",
       "    </tr>\n",
       "    <tr>\n",
       "      <th>2</th>\n",
       "      <td>2019-05-07 07:00:00</td>\n",
       "      <td>280.483787</td>\n",
       "    </tr>\n",
       "    <tr>\n",
       "      <th>3</th>\n",
       "      <td>2019-05-07 08:00:00</td>\n",
       "      <td>280.136690</td>\n",
       "    </tr>\n",
       "    <tr>\n",
       "      <th>4</th>\n",
       "      <td>2019-05-07 09:00:00</td>\n",
       "      <td>280.368088</td>\n",
       "    </tr>\n",
       "    <tr>\n",
       "      <th>...</th>\n",
       "      <td>...</td>\n",
       "      <td>...</td>\n",
       "    </tr>\n",
       "    <tr>\n",
       "      <th>8219</th>\n",
       "      <td>2021-04-23 16:00:00</td>\n",
       "      <td>416.720000</td>\n",
       "    </tr>\n",
       "    <tr>\n",
       "      <th>8220</th>\n",
       "      <td>2021-04-23 17:00:00</td>\n",
       "      <td>416.250000</td>\n",
       "    </tr>\n",
       "    <tr>\n",
       "      <th>8221</th>\n",
       "      <td>2021-04-23 18:00:00</td>\n",
       "      <td>416.360000</td>\n",
       "    </tr>\n",
       "    <tr>\n",
       "      <th>8222</th>\n",
       "      <td>2021-04-23 19:00:00</td>\n",
       "      <td>416.330000</td>\n",
       "    </tr>\n",
       "    <tr>\n",
       "      <th>8223</th>\n",
       "      <td>2021-04-23 20:00:00</td>\n",
       "      <td>416.250000</td>\n",
       "    </tr>\n",
       "  </tbody>\n",
       "</table>\n",
       "<p>8224 rows × 2 columns</p>\n",
       "</div>"
      ],
      "text/plain": [
       "                      ds           y\n",
       "0    2019-05-07 05:00:00  281.033359\n",
       "1    2019-05-07 06:00:00  280.956226\n",
       "2    2019-05-07 07:00:00  280.483787\n",
       "3    2019-05-07 08:00:00  280.136690\n",
       "4    2019-05-07 09:00:00  280.368088\n",
       "...                  ...         ...\n",
       "8219 2021-04-23 16:00:00  416.720000\n",
       "8220 2021-04-23 17:00:00  416.250000\n",
       "8221 2021-04-23 18:00:00  416.360000\n",
       "8222 2021-04-23 19:00:00  416.330000\n",
       "8223 2021-04-23 20:00:00  416.250000\n",
       "\n",
       "[8224 rows x 2 columns]"
      ]
     },
     "execution_count": 42,
     "metadata": {},
     "output_type": "execute_result"
    }
   ],
   "source": [
    "df_pro"
   ]
  },
  {
   "cell_type": "code",
   "execution_count": 44,
   "metadata": {
    "ExecuteTime": {
     "end_time": "2021-04-27T18:33:51.751602Z",
     "start_time": "2021-04-27T18:33:28.856019Z"
    }
   },
   "outputs": [
    {
     "name": "stderr",
     "output_type": "stream",
     "text": [
      "INFO:prophet:Disabling yearly seasonality. Run prophet with yearly_seasonality=True to override this.\n"
     ]
    },
    {
     "data": {
      "text/plain": [
       "<prophet.forecaster.Prophet at 0x7ff5bbbf0cd0>"
      ]
     },
     "execution_count": 44,
     "metadata": {},
     "output_type": "execute_result"
    }
   ],
   "source": [
    "promod = prophet.Prophet()\n",
    "promod.fit(df_pro)"
   ]
  },
  {
   "cell_type": "code",
   "execution_count": 68,
   "metadata": {
    "ExecuteTime": {
     "end_time": "2021-04-27T18:43:58.660185Z",
     "start_time": "2021-04-27T18:43:58.591747Z"
    }
   },
   "outputs": [
    {
     "data": {
      "text/html": [
       "<div>\n",
       "<style scoped>\n",
       "    .dataframe tbody tr th:only-of-type {\n",
       "        vertical-align: middle;\n",
       "    }\n",
       "\n",
       "    .dataframe tbody tr th {\n",
       "        vertical-align: top;\n",
       "    }\n",
       "\n",
       "    .dataframe thead th {\n",
       "        text-align: right;\n",
       "    }\n",
       "</style>\n",
       "<table border=\"1\" class=\"dataframe\">\n",
       "  <thead>\n",
       "    <tr style=\"text-align: right;\">\n",
       "      <th></th>\n",
       "      <th>ds</th>\n",
       "    </tr>\n",
       "  </thead>\n",
       "  <tbody>\n",
       "    <tr>\n",
       "      <th>8208</th>\n",
       "      <td>2021-04-23 05:00:00</td>\n",
       "    </tr>\n",
       "    <tr>\n",
       "      <th>8209</th>\n",
       "      <td>2021-04-23 06:00:00</td>\n",
       "    </tr>\n",
       "    <tr>\n",
       "      <th>8210</th>\n",
       "      <td>2021-04-23 07:00:00</td>\n",
       "    </tr>\n",
       "    <tr>\n",
       "      <th>8211</th>\n",
       "      <td>2021-04-23 08:00:00</td>\n",
       "    </tr>\n",
       "    <tr>\n",
       "      <th>8212</th>\n",
       "      <td>2021-04-23 09:00:00</td>\n",
       "    </tr>\n",
       "    <tr>\n",
       "      <th>8213</th>\n",
       "      <td>2021-04-23 10:00:00</td>\n",
       "    </tr>\n",
       "    <tr>\n",
       "      <th>8214</th>\n",
       "      <td>2021-04-23 11:00:00</td>\n",
       "    </tr>\n",
       "    <tr>\n",
       "      <th>8215</th>\n",
       "      <td>2021-04-23 12:00:00</td>\n",
       "    </tr>\n",
       "    <tr>\n",
       "      <th>8216</th>\n",
       "      <td>2021-04-23 13:00:00</td>\n",
       "    </tr>\n",
       "    <tr>\n",
       "      <th>8217</th>\n",
       "      <td>2021-04-23 14:00:00</td>\n",
       "    </tr>\n",
       "    <tr>\n",
       "      <th>8218</th>\n",
       "      <td>2021-04-23 15:00:00</td>\n",
       "    </tr>\n",
       "    <tr>\n",
       "      <th>8219</th>\n",
       "      <td>2021-04-23 16:00:00</td>\n",
       "    </tr>\n",
       "    <tr>\n",
       "      <th>8220</th>\n",
       "      <td>2021-04-23 17:00:00</td>\n",
       "    </tr>\n",
       "    <tr>\n",
       "      <th>8221</th>\n",
       "      <td>2021-04-23 18:00:00</td>\n",
       "    </tr>\n",
       "    <tr>\n",
       "      <th>8222</th>\n",
       "      <td>2021-04-23 19:00:00</td>\n",
       "    </tr>\n",
       "    <tr>\n",
       "      <th>8223</th>\n",
       "      <td>2021-04-23 20:00:00</td>\n",
       "    </tr>\n",
       "    <tr>\n",
       "      <th>8224</th>\n",
       "      <td>2021-04-26 05:00:00</td>\n",
       "    </tr>\n",
       "    <tr>\n",
       "      <th>8225</th>\n",
       "      <td>2021-04-26 06:00:00</td>\n",
       "    </tr>\n",
       "    <tr>\n",
       "      <th>8226</th>\n",
       "      <td>2021-04-26 07:00:00</td>\n",
       "    </tr>\n",
       "    <tr>\n",
       "      <th>8227</th>\n",
       "      <td>2021-04-26 08:00:00</td>\n",
       "    </tr>\n",
       "    <tr>\n",
       "      <th>8228</th>\n",
       "      <td>2021-04-26 09:00:00</td>\n",
       "    </tr>\n",
       "    <tr>\n",
       "      <th>8229</th>\n",
       "      <td>2021-04-26 10:00:00</td>\n",
       "    </tr>\n",
       "    <tr>\n",
       "      <th>8230</th>\n",
       "      <td>2021-04-26 11:00:00</td>\n",
       "    </tr>\n",
       "    <tr>\n",
       "      <th>8231</th>\n",
       "      <td>2021-04-26 12:00:00</td>\n",
       "    </tr>\n",
       "    <tr>\n",
       "      <th>8232</th>\n",
       "      <td>2021-04-26 13:00:00</td>\n",
       "    </tr>\n",
       "    <tr>\n",
       "      <th>8233</th>\n",
       "      <td>2021-04-26 14:00:00</td>\n",
       "    </tr>\n",
       "    <tr>\n",
       "      <th>8234</th>\n",
       "      <td>2021-04-26 15:00:00</td>\n",
       "    </tr>\n",
       "    <tr>\n",
       "      <th>8235</th>\n",
       "      <td>2021-04-26 16:00:00</td>\n",
       "    </tr>\n",
       "    <tr>\n",
       "      <th>8236</th>\n",
       "      <td>2021-04-26 17:00:00</td>\n",
       "    </tr>\n",
       "    <tr>\n",
       "      <th>8237</th>\n",
       "      <td>2021-04-26 18:00:00</td>\n",
       "    </tr>\n",
       "    <tr>\n",
       "      <th>8238</th>\n",
       "      <td>2021-04-26 19:00:00</td>\n",
       "    </tr>\n",
       "    <tr>\n",
       "      <th>8239</th>\n",
       "      <td>2021-04-26 20:00:00</td>\n",
       "    </tr>\n",
       "  </tbody>\n",
       "</table>\n",
       "</div>"
      ],
      "text/plain": [
       "                      ds\n",
       "8208 2021-04-23 05:00:00\n",
       "8209 2021-04-23 06:00:00\n",
       "8210 2021-04-23 07:00:00\n",
       "8211 2021-04-23 08:00:00\n",
       "8212 2021-04-23 09:00:00\n",
       "8213 2021-04-23 10:00:00\n",
       "8214 2021-04-23 11:00:00\n",
       "8215 2021-04-23 12:00:00\n",
       "8216 2021-04-23 13:00:00\n",
       "8217 2021-04-23 14:00:00\n",
       "8218 2021-04-23 15:00:00\n",
       "8219 2021-04-23 16:00:00\n",
       "8220 2021-04-23 17:00:00\n",
       "8221 2021-04-23 18:00:00\n",
       "8222 2021-04-23 19:00:00\n",
       "8223 2021-04-23 20:00:00\n",
       "8224 2021-04-26 05:00:00\n",
       "8225 2021-04-26 06:00:00\n",
       "8226 2021-04-26 07:00:00\n",
       "8227 2021-04-26 08:00:00\n",
       "8228 2021-04-26 09:00:00\n",
       "8229 2021-04-26 10:00:00\n",
       "8230 2021-04-26 11:00:00\n",
       "8231 2021-04-26 12:00:00\n",
       "8232 2021-04-26 13:00:00\n",
       "8233 2021-04-26 14:00:00\n",
       "8234 2021-04-26 15:00:00\n",
       "8235 2021-04-26 16:00:00\n",
       "8236 2021-04-26 17:00:00\n",
       "8237 2021-04-26 18:00:00\n",
       "8238 2021-04-26 19:00:00\n",
       "8239 2021-04-26 20:00:00"
      ]
     },
     "execution_count": 68,
     "metadata": {},
     "output_type": "execute_result"
    }
   ],
   "source": [
    "future = promod.make_future_dataframe(periods=16, freq=cbh)\n",
    "future.tail(32)"
   ]
  },
  {
   "cell_type": "code",
   "execution_count": 50,
   "metadata": {
    "ExecuteTime": {
     "end_time": "2021-04-27T18:36:39.519356Z",
     "start_time": "2021-04-27T18:36:34.446679Z"
    }
   },
   "outputs": [
    {
     "data": {
      "text/html": [
       "<div>\n",
       "<style scoped>\n",
       "    .dataframe tbody tr th:only-of-type {\n",
       "        vertical-align: middle;\n",
       "    }\n",
       "\n",
       "    .dataframe tbody tr th {\n",
       "        vertical-align: top;\n",
       "    }\n",
       "\n",
       "    .dataframe thead th {\n",
       "        text-align: right;\n",
       "    }\n",
       "</style>\n",
       "<table border=\"1\" class=\"dataframe\">\n",
       "  <thead>\n",
       "    <tr style=\"text-align: right;\">\n",
       "      <th></th>\n",
       "      <th>ds</th>\n",
       "      <th>yhat</th>\n",
       "      <th>yhat_lower</th>\n",
       "      <th>yhat_upper</th>\n",
       "    </tr>\n",
       "  </thead>\n",
       "  <tbody>\n",
       "    <tr>\n",
       "      <th>8235</th>\n",
       "      <td>2021-04-26 16:00:00</td>\n",
       "      <td>408.524646</td>\n",
       "      <td>401.382532</td>\n",
       "      <td>415.210783</td>\n",
       "    </tr>\n",
       "    <tr>\n",
       "      <th>8236</th>\n",
       "      <td>2021-04-26 17:00:00</td>\n",
       "      <td>408.583149</td>\n",
       "      <td>402.017356</td>\n",
       "      <td>415.542293</td>\n",
       "    </tr>\n",
       "    <tr>\n",
       "      <th>8237</th>\n",
       "      <td>2021-04-26 18:00:00</td>\n",
       "      <td>408.653672</td>\n",
       "      <td>401.983236</td>\n",
       "      <td>415.097077</td>\n",
       "    </tr>\n",
       "    <tr>\n",
       "      <th>8238</th>\n",
       "      <td>2021-04-26 19:00:00</td>\n",
       "      <td>408.728915</td>\n",
       "      <td>402.133891</td>\n",
       "      <td>415.699690</td>\n",
       "    </tr>\n",
       "    <tr>\n",
       "      <th>8239</th>\n",
       "      <td>2021-04-26 20:00:00</td>\n",
       "      <td>408.791958</td>\n",
       "      <td>401.862773</td>\n",
       "      <td>415.215570</td>\n",
       "    </tr>\n",
       "  </tbody>\n",
       "</table>\n",
       "</div>"
      ],
      "text/plain": [
       "                      ds        yhat  yhat_lower  yhat_upper\n",
       "8235 2021-04-26 16:00:00  408.524646  401.382532  415.210783\n",
       "8236 2021-04-26 17:00:00  408.583149  402.017356  415.542293\n",
       "8237 2021-04-26 18:00:00  408.653672  401.983236  415.097077\n",
       "8238 2021-04-26 19:00:00  408.728915  402.133891  415.699690\n",
       "8239 2021-04-26 20:00:00  408.791958  401.862773  415.215570"
      ]
     },
     "execution_count": 50,
     "metadata": {},
     "output_type": "execute_result"
    }
   ],
   "source": [
    "forecast = promod.predict(future)\n",
    "forecast[['ds', 'yhat', 'yhat_lower', 'yhat_upper']].tail()"
   ]
  },
  {
   "cell_type": "code",
   "execution_count": 67,
   "metadata": {
    "ExecuteTime": {
     "end_time": "2021-04-27T18:43:22.257896Z",
     "start_time": "2021-04-27T18:43:22.186980Z"
    }
   },
   "outputs": [
    {
     "data": {
      "text/html": [
       "<div>\n",
       "<style scoped>\n",
       "    .dataframe tbody tr th:only-of-type {\n",
       "        vertical-align: middle;\n",
       "    }\n",
       "\n",
       "    .dataframe tbody tr th {\n",
       "        vertical-align: top;\n",
       "    }\n",
       "\n",
       "    .dataframe thead th {\n",
       "        text-align: right;\n",
       "    }\n",
       "</style>\n",
       "<table border=\"1\" class=\"dataframe\">\n",
       "  <thead>\n",
       "    <tr style=\"text-align: right;\">\n",
       "      <th></th>\n",
       "      <th>ds</th>\n",
       "      <th>y</th>\n",
       "    </tr>\n",
       "  </thead>\n",
       "  <tbody>\n",
       "    <tr>\n",
       "      <th>8208</th>\n",
       "      <td>2021-04-23 05:00:00</td>\n",
       "      <td>413.4500</td>\n",
       "    </tr>\n",
       "    <tr>\n",
       "      <th>8209</th>\n",
       "      <td>2021-04-23 06:00:00</td>\n",
       "      <td>413.2200</td>\n",
       "    </tr>\n",
       "    <tr>\n",
       "      <th>8210</th>\n",
       "      <td>2021-04-23 07:00:00</td>\n",
       "      <td>413.3000</td>\n",
       "    </tr>\n",
       "    <tr>\n",
       "      <th>8211</th>\n",
       "      <td>2021-04-23 08:00:00</td>\n",
       "      <td>413.0800</td>\n",
       "    </tr>\n",
       "    <tr>\n",
       "      <th>8212</th>\n",
       "      <td>2021-04-23 09:00:00</td>\n",
       "      <td>412.7200</td>\n",
       "    </tr>\n",
       "    <tr>\n",
       "      <th>8213</th>\n",
       "      <td>2021-04-23 10:00:00</td>\n",
       "      <td>414.1800</td>\n",
       "    </tr>\n",
       "    <tr>\n",
       "      <th>8214</th>\n",
       "      <td>2021-04-23 11:00:00</td>\n",
       "      <td>415.9601</td>\n",
       "    </tr>\n",
       "    <tr>\n",
       "      <th>8215</th>\n",
       "      <td>2021-04-23 12:00:00</td>\n",
       "      <td>416.2505</td>\n",
       "    </tr>\n",
       "    <tr>\n",
       "      <th>8216</th>\n",
       "      <td>2021-04-23 13:00:00</td>\n",
       "      <td>417.1020</td>\n",
       "    </tr>\n",
       "    <tr>\n",
       "      <th>8217</th>\n",
       "      <td>2021-04-23 14:00:00</td>\n",
       "      <td>417.0200</td>\n",
       "    </tr>\n",
       "    <tr>\n",
       "      <th>8218</th>\n",
       "      <td>2021-04-23 15:00:00</td>\n",
       "      <td>417.3750</td>\n",
       "    </tr>\n",
       "    <tr>\n",
       "      <th>8219</th>\n",
       "      <td>2021-04-23 16:00:00</td>\n",
       "      <td>416.7200</td>\n",
       "    </tr>\n",
       "    <tr>\n",
       "      <th>8220</th>\n",
       "      <td>2021-04-23 17:00:00</td>\n",
       "      <td>416.2500</td>\n",
       "    </tr>\n",
       "    <tr>\n",
       "      <th>8221</th>\n",
       "      <td>2021-04-23 18:00:00</td>\n",
       "      <td>416.3600</td>\n",
       "    </tr>\n",
       "    <tr>\n",
       "      <th>8222</th>\n",
       "      <td>2021-04-23 19:00:00</td>\n",
       "      <td>416.3300</td>\n",
       "    </tr>\n",
       "    <tr>\n",
       "      <th>8223</th>\n",
       "      <td>2021-04-23 20:00:00</td>\n",
       "      <td>416.2500</td>\n",
       "    </tr>\n",
       "  </tbody>\n",
       "</table>\n",
       "</div>"
      ],
      "text/plain": [
       "                      ds         y\n",
       "8208 2021-04-23 05:00:00  413.4500\n",
       "8209 2021-04-23 06:00:00  413.2200\n",
       "8210 2021-04-23 07:00:00  413.3000\n",
       "8211 2021-04-23 08:00:00  413.0800\n",
       "8212 2021-04-23 09:00:00  412.7200\n",
       "8213 2021-04-23 10:00:00  414.1800\n",
       "8214 2021-04-23 11:00:00  415.9601\n",
       "8215 2021-04-23 12:00:00  416.2505\n",
       "8216 2021-04-23 13:00:00  417.1020\n",
       "8217 2021-04-23 14:00:00  417.0200\n",
       "8218 2021-04-23 15:00:00  417.3750\n",
       "8219 2021-04-23 16:00:00  416.7200\n",
       "8220 2021-04-23 17:00:00  416.2500\n",
       "8221 2021-04-23 18:00:00  416.3600\n",
       "8222 2021-04-23 19:00:00  416.3300\n",
       "8223 2021-04-23 20:00:00  416.2500"
      ]
     },
     "execution_count": 67,
     "metadata": {},
     "output_type": "execute_result"
    }
   ],
   "source": [
    "df_pro[-16:]"
   ]
  },
  {
   "cell_type": "code",
   "execution_count": 55,
   "metadata": {
    "ExecuteTime": {
     "end_time": "2021-04-27T18:38:49.646439Z",
     "start_time": "2021-04-27T18:38:49.558168Z"
    }
   },
   "outputs": [
    {
     "data": {
      "text/html": [
       "<div>\n",
       "<style scoped>\n",
       "    .dataframe tbody tr th:only-of-type {\n",
       "        vertical-align: middle;\n",
       "    }\n",
       "\n",
       "    .dataframe tbody tr th {\n",
       "        vertical-align: top;\n",
       "    }\n",
       "\n",
       "    .dataframe thead th {\n",
       "        text-align: right;\n",
       "    }\n",
       "</style>\n",
       "<table border=\"1\" class=\"dataframe\">\n",
       "  <thead>\n",
       "    <tr style=\"text-align: right;\">\n",
       "      <th></th>\n",
       "      <th>ds</th>\n",
       "      <th>trend</th>\n",
       "      <th>yhat_lower</th>\n",
       "      <th>yhat_upper</th>\n",
       "      <th>trend_lower</th>\n",
       "      <th>trend_upper</th>\n",
       "      <th>additive_terms</th>\n",
       "      <th>additive_terms_lower</th>\n",
       "      <th>additive_terms_upper</th>\n",
       "      <th>daily</th>\n",
       "      <th>daily_lower</th>\n",
       "      <th>daily_upper</th>\n",
       "      <th>weekly</th>\n",
       "      <th>weekly_lower</th>\n",
       "      <th>weekly_upper</th>\n",
       "      <th>multiplicative_terms</th>\n",
       "      <th>multiplicative_terms_lower</th>\n",
       "      <th>multiplicative_terms_upper</th>\n",
       "      <th>yhat</th>\n",
       "    </tr>\n",
       "  </thead>\n",
       "  <tbody>\n",
       "    <tr>\n",
       "      <th>8208</th>\n",
       "      <td>2021-04-23 05:00:00</td>\n",
       "      <td>407.328997</td>\n",
       "      <td>401.324610</td>\n",
       "      <td>413.972331</td>\n",
       "      <td>407.328997</td>\n",
       "      <td>407.328997</td>\n",
       "      <td>0.261961</td>\n",
       "      <td>0.261961</td>\n",
       "      <td>0.261961</td>\n",
       "      <td>0.110186</td>\n",
       "      <td>0.110186</td>\n",
       "      <td>0.110186</td>\n",
       "      <td>0.151775</td>\n",
       "      <td>0.151775</td>\n",
       "      <td>0.151775</td>\n",
       "      <td>0.0</td>\n",
       "      <td>0.0</td>\n",
       "      <td>0.0</td>\n",
       "      <td>407.590957</td>\n",
       "    </tr>\n",
       "    <tr>\n",
       "      <th>8209</th>\n",
       "      <td>2021-04-23 06:00:00</td>\n",
       "      <td>407.342424</td>\n",
       "      <td>401.317213</td>\n",
       "      <td>414.490884</td>\n",
       "      <td>407.342424</td>\n",
       "      <td>407.342424</td>\n",
       "      <td>0.266631</td>\n",
       "      <td>0.266631</td>\n",
       "      <td>0.266631</td>\n",
       "      <td>0.117386</td>\n",
       "      <td>0.117386</td>\n",
       "      <td>0.117386</td>\n",
       "      <td>0.149245</td>\n",
       "      <td>0.149245</td>\n",
       "      <td>0.149245</td>\n",
       "      <td>0.0</td>\n",
       "      <td>0.0</td>\n",
       "      <td>0.0</td>\n",
       "      <td>407.609056</td>\n",
       "    </tr>\n",
       "    <tr>\n",
       "      <th>8210</th>\n",
       "      <td>2021-04-23 07:00:00</td>\n",
       "      <td>407.355852</td>\n",
       "      <td>401.319105</td>\n",
       "      <td>414.545588</td>\n",
       "      <td>407.355852</td>\n",
       "      <td>407.355852</td>\n",
       "      <td>0.235127</td>\n",
       "      <td>0.235127</td>\n",
       "      <td>0.235127</td>\n",
       "      <td>0.087083</td>\n",
       "      <td>0.087083</td>\n",
       "      <td>0.087083</td>\n",
       "      <td>0.148044</td>\n",
       "      <td>0.148044</td>\n",
       "      <td>0.148044</td>\n",
       "      <td>0.0</td>\n",
       "      <td>0.0</td>\n",
       "      <td>0.0</td>\n",
       "      <td>407.590979</td>\n",
       "    </tr>\n",
       "    <tr>\n",
       "      <th>8211</th>\n",
       "      <td>2021-04-23 08:00:00</td>\n",
       "      <td>407.369280</td>\n",
       "      <td>401.097964</td>\n",
       "      <td>414.236356</td>\n",
       "      <td>407.369280</td>\n",
       "      <td>407.369280</td>\n",
       "      <td>0.204455</td>\n",
       "      <td>0.204455</td>\n",
       "      <td>0.204455</td>\n",
       "      <td>0.056388</td>\n",
       "      <td>0.056388</td>\n",
       "      <td>0.056388</td>\n",
       "      <td>0.148067</td>\n",
       "      <td>0.148067</td>\n",
       "      <td>0.148067</td>\n",
       "      <td>0.0</td>\n",
       "      <td>0.0</td>\n",
       "      <td>0.0</td>\n",
       "      <td>407.573734</td>\n",
       "    </tr>\n",
       "    <tr>\n",
       "      <th>8212</th>\n",
       "      <td>2021-04-23 09:00:00</td>\n",
       "      <td>407.382707</td>\n",
       "      <td>400.718841</td>\n",
       "      <td>414.097608</td>\n",
       "      <td>407.382707</td>\n",
       "      <td>407.382707</td>\n",
       "      <td>0.200718</td>\n",
       "      <td>0.200718</td>\n",
       "      <td>0.200718</td>\n",
       "      <td>0.051531</td>\n",
       "      <td>0.051531</td>\n",
       "      <td>0.051531</td>\n",
       "      <td>0.149186</td>\n",
       "      <td>0.149186</td>\n",
       "      <td>0.149186</td>\n",
       "      <td>0.0</td>\n",
       "      <td>0.0</td>\n",
       "      <td>0.0</td>\n",
       "      <td>407.583425</td>\n",
       "    </tr>\n",
       "    <tr>\n",
       "      <th>8213</th>\n",
       "      <td>2021-04-23 10:00:00</td>\n",
       "      <td>407.396135</td>\n",
       "      <td>401.391869</td>\n",
       "      <td>414.632759</td>\n",
       "      <td>407.396135</td>\n",
       "      <td>407.396135</td>\n",
       "      <td>0.225001</td>\n",
       "      <td>0.225001</td>\n",
       "      <td>0.225001</td>\n",
       "      <td>0.073751</td>\n",
       "      <td>0.073751</td>\n",
       "      <td>0.073751</td>\n",
       "      <td>0.151250</td>\n",
       "      <td>0.151250</td>\n",
       "      <td>0.151250</td>\n",
       "      <td>0.0</td>\n",
       "      <td>0.0</td>\n",
       "      <td>0.0</td>\n",
       "      <td>407.621136</td>\n",
       "    </tr>\n",
       "    <tr>\n",
       "      <th>8214</th>\n",
       "      <td>2021-04-23 11:00:00</td>\n",
       "      <td>407.409563</td>\n",
       "      <td>401.722477</td>\n",
       "      <td>414.259689</td>\n",
       "      <td>407.409563</td>\n",
       "      <td>407.409563</td>\n",
       "      <td>0.258693</td>\n",
       "      <td>0.258693</td>\n",
       "      <td>0.258693</td>\n",
       "      <td>0.104611</td>\n",
       "      <td>0.104611</td>\n",
       "      <td>0.104611</td>\n",
       "      <td>0.154081</td>\n",
       "      <td>0.154081</td>\n",
       "      <td>0.154081</td>\n",
       "      <td>0.0</td>\n",
       "      <td>0.0</td>\n",
       "      <td>0.0</td>\n",
       "      <td>407.668255</td>\n",
       "    </tr>\n",
       "    <tr>\n",
       "      <th>8215</th>\n",
       "      <td>2021-04-23 12:00:00</td>\n",
       "      <td>407.422991</td>\n",
       "      <td>400.844123</td>\n",
       "      <td>414.077044</td>\n",
       "      <td>407.422991</td>\n",
       "      <td>407.422991</td>\n",
       "      <td>0.280145</td>\n",
       "      <td>0.280145</td>\n",
       "      <td>0.280145</td>\n",
       "      <td>0.122662</td>\n",
       "      <td>0.122662</td>\n",
       "      <td>0.122662</td>\n",
       "      <td>0.157484</td>\n",
       "      <td>0.157484</td>\n",
       "      <td>0.157484</td>\n",
       "      <td>0.0</td>\n",
       "      <td>0.0</td>\n",
       "      <td>0.0</td>\n",
       "      <td>407.703136</td>\n",
       "    </tr>\n",
       "    <tr>\n",
       "      <th>8216</th>\n",
       "      <td>2021-04-23 13:00:00</td>\n",
       "      <td>407.436418</td>\n",
       "      <td>401.056927</td>\n",
       "      <td>414.086373</td>\n",
       "      <td>407.436418</td>\n",
       "      <td>407.436418</td>\n",
       "      <td>0.278486</td>\n",
       "      <td>0.278486</td>\n",
       "      <td>0.278486</td>\n",
       "      <td>0.117246</td>\n",
       "      <td>0.117246</td>\n",
       "      <td>0.117246</td>\n",
       "      <td>0.161241</td>\n",
       "      <td>0.161241</td>\n",
       "      <td>0.161241</td>\n",
       "      <td>0.0</td>\n",
       "      <td>0.0</td>\n",
       "      <td>0.0</td>\n",
       "      <td>407.714904</td>\n",
       "    </tr>\n",
       "    <tr>\n",
       "      <th>8217</th>\n",
       "      <td>2021-04-23 14:00:00</td>\n",
       "      <td>407.449846</td>\n",
       "      <td>400.604064</td>\n",
       "      <td>414.392686</td>\n",
       "      <td>407.449846</td>\n",
       "      <td>407.449846</td>\n",
       "      <td>0.256558</td>\n",
       "      <td>0.256558</td>\n",
       "      <td>0.256558</td>\n",
       "      <td>0.091440</td>\n",
       "      <td>0.091440</td>\n",
       "      <td>0.091440</td>\n",
       "      <td>0.165118</td>\n",
       "      <td>0.165118</td>\n",
       "      <td>0.165118</td>\n",
       "      <td>0.0</td>\n",
       "      <td>0.0</td>\n",
       "      <td>0.0</td>\n",
       "      <td>407.706404</td>\n",
       "    </tr>\n",
       "    <tr>\n",
       "      <th>8218</th>\n",
       "      <td>2021-04-23 15:00:00</td>\n",
       "      <td>407.463274</td>\n",
       "      <td>401.534320</td>\n",
       "      <td>414.137805</td>\n",
       "      <td>407.463274</td>\n",
       "      <td>407.463274</td>\n",
       "      <td>0.225363</td>\n",
       "      <td>0.225363</td>\n",
       "      <td>0.225363</td>\n",
       "      <td>0.056493</td>\n",
       "      <td>0.056493</td>\n",
       "      <td>0.056493</td>\n",
       "      <td>0.168869</td>\n",
       "      <td>0.168869</td>\n",
       "      <td>0.168869</td>\n",
       "      <td>0.0</td>\n",
       "      <td>0.0</td>\n",
       "      <td>0.0</td>\n",
       "      <td>407.688636</td>\n",
       "    </tr>\n",
       "    <tr>\n",
       "      <th>8219</th>\n",
       "      <td>2021-04-23 16:00:00</td>\n",
       "      <td>407.476701</td>\n",
       "      <td>401.004613</td>\n",
       "      <td>414.528577</td>\n",
       "      <td>407.476701</td>\n",
       "      <td>407.476701</td>\n",
       "      <td>0.197077</td>\n",
       "      <td>0.197077</td>\n",
       "      <td>0.197077</td>\n",
       "      <td>0.024843</td>\n",
       "      <td>0.024843</td>\n",
       "      <td>0.024843</td>\n",
       "      <td>0.172234</td>\n",
       "      <td>0.172234</td>\n",
       "      <td>0.172234</td>\n",
       "      <td>0.0</td>\n",
       "      <td>0.0</td>\n",
       "      <td>0.0</td>\n",
       "      <td>407.673779</td>\n",
       "    </tr>\n",
       "    <tr>\n",
       "      <th>8220</th>\n",
       "      <td>2021-04-23 17:00:00</td>\n",
       "      <td>407.490129</td>\n",
       "      <td>401.155465</td>\n",
       "      <td>414.520891</td>\n",
       "      <td>407.490129</td>\n",
       "      <td>407.490129</td>\n",
       "      <td>0.180526</td>\n",
       "      <td>0.180526</td>\n",
       "      <td>0.180526</td>\n",
       "      <td>0.005582</td>\n",
       "      <td>0.005582</td>\n",
       "      <td>0.005582</td>\n",
       "      <td>0.174944</td>\n",
       "      <td>0.174944</td>\n",
       "      <td>0.174944</td>\n",
       "      <td>0.0</td>\n",
       "      <td>0.0</td>\n",
       "      <td>0.0</td>\n",
       "      <td>407.670655</td>\n",
       "    </tr>\n",
       "    <tr>\n",
       "      <th>8221</th>\n",
       "      <td>2021-04-23 18:00:00</td>\n",
       "      <td>407.503557</td>\n",
       "      <td>401.092928</td>\n",
       "      <td>413.770467</td>\n",
       "      <td>407.503557</td>\n",
       "      <td>407.503557</td>\n",
       "      <td>0.177995</td>\n",
       "      <td>0.177995</td>\n",
       "      <td>0.177995</td>\n",
       "      <td>0.001268</td>\n",
       "      <td>0.001268</td>\n",
       "      <td>0.001268</td>\n",
       "      <td>0.176726</td>\n",
       "      <td>0.176726</td>\n",
       "      <td>0.176726</td>\n",
       "      <td>0.0</td>\n",
       "      <td>0.0</td>\n",
       "      <td>0.0</td>\n",
       "      <td>407.681551</td>\n",
       "    </tr>\n",
       "    <tr>\n",
       "      <th>8222</th>\n",
       "      <td>2021-04-23 19:00:00</td>\n",
       "      <td>407.516985</td>\n",
       "      <td>400.857319</td>\n",
       "      <td>414.397143</td>\n",
       "      <td>407.516985</td>\n",
       "      <td>407.516985</td>\n",
       "      <td>0.182162</td>\n",
       "      <td>0.182162</td>\n",
       "      <td>0.182162</td>\n",
       "      <td>0.004856</td>\n",
       "      <td>0.004856</td>\n",
       "      <td>0.004856</td>\n",
       "      <td>0.177306</td>\n",
       "      <td>0.177306</td>\n",
       "      <td>0.177306</td>\n",
       "      <td>0.0</td>\n",
       "      <td>0.0</td>\n",
       "      <td>0.0</td>\n",
       "      <td>407.699147</td>\n",
       "    </tr>\n",
       "    <tr>\n",
       "      <th>8223</th>\n",
       "      <td>2021-04-23 20:00:00</td>\n",
       "      <td>407.530412</td>\n",
       "      <td>400.721487</td>\n",
       "      <td>414.139900</td>\n",
       "      <td>407.530412</td>\n",
       "      <td>407.530412</td>\n",
       "      <td>0.176051</td>\n",
       "      <td>0.176051</td>\n",
       "      <td>0.176051</td>\n",
       "      <td>-0.000361</td>\n",
       "      <td>-0.000361</td>\n",
       "      <td>-0.000361</td>\n",
       "      <td>0.176411</td>\n",
       "      <td>0.176411</td>\n",
       "      <td>0.176411</td>\n",
       "      <td>0.0</td>\n",
       "      <td>0.0</td>\n",
       "      <td>0.0</td>\n",
       "      <td>407.706463</td>\n",
       "    </tr>\n",
       "    <tr>\n",
       "      <th>8224</th>\n",
       "      <td>2021-04-26 05:00:00</td>\n",
       "      <td>408.295792</td>\n",
       "      <td>400.712680</td>\n",
       "      <td>414.366490</td>\n",
       "      <td>408.295792</td>\n",
       "      <td>408.295792</td>\n",
       "      <td>-0.632522</td>\n",
       "      <td>-0.632522</td>\n",
       "      <td>-0.632522</td>\n",
       "      <td>0.110186</td>\n",
       "      <td>0.110186</td>\n",
       "      <td>0.110186</td>\n",
       "      <td>-0.742708</td>\n",
       "      <td>-0.742708</td>\n",
       "      <td>-0.742708</td>\n",
       "      <td>0.0</td>\n",
       "      <td>0.0</td>\n",
       "      <td>0.0</td>\n",
       "      <td>407.663270</td>\n",
       "    </tr>\n",
       "    <tr>\n",
       "      <th>8225</th>\n",
       "      <td>2021-04-26 06:00:00</td>\n",
       "      <td>408.309220</td>\n",
       "      <td>401.077513</td>\n",
       "      <td>414.352930</td>\n",
       "      <td>408.309220</td>\n",
       "      <td>408.309220</td>\n",
       "      <td>-0.553501</td>\n",
       "      <td>-0.553501</td>\n",
       "      <td>-0.553501</td>\n",
       "      <td>0.117386</td>\n",
       "      <td>0.117386</td>\n",
       "      <td>0.117386</td>\n",
       "      <td>-0.670887</td>\n",
       "      <td>-0.670887</td>\n",
       "      <td>-0.670887</td>\n",
       "      <td>0.0</td>\n",
       "      <td>0.0</td>\n",
       "      <td>0.0</td>\n",
       "      <td>407.755718</td>\n",
       "    </tr>\n",
       "    <tr>\n",
       "      <th>8226</th>\n",
       "      <td>2021-04-26 07:00:00</td>\n",
       "      <td>408.322647</td>\n",
       "      <td>400.917173</td>\n",
       "      <td>414.712430</td>\n",
       "      <td>408.322647</td>\n",
       "      <td>408.322647</td>\n",
       "      <td>-0.510450</td>\n",
       "      <td>-0.510450</td>\n",
       "      <td>-0.510450</td>\n",
       "      <td>0.087083</td>\n",
       "      <td>0.087083</td>\n",
       "      <td>0.087083</td>\n",
       "      <td>-0.597534</td>\n",
       "      <td>-0.597534</td>\n",
       "      <td>-0.597534</td>\n",
       "      <td>0.0</td>\n",
       "      <td>0.0</td>\n",
       "      <td>0.0</td>\n",
       "      <td>407.812197</td>\n",
       "    </tr>\n",
       "    <tr>\n",
       "      <th>8227</th>\n",
       "      <td>2021-04-26 08:00:00</td>\n",
       "      <td>408.336075</td>\n",
       "      <td>401.369083</td>\n",
       "      <td>414.549502</td>\n",
       "      <td>408.336075</td>\n",
       "      <td>408.336075</td>\n",
       "      <td>-0.466729</td>\n",
       "      <td>-0.466729</td>\n",
       "      <td>-0.466729</td>\n",
       "      <td>0.056388</td>\n",
       "      <td>0.056388</td>\n",
       "      <td>0.056388</td>\n",
       "      <td>-0.523117</td>\n",
       "      <td>-0.523117</td>\n",
       "      <td>-0.523117</td>\n",
       "      <td>0.0</td>\n",
       "      <td>0.0</td>\n",
       "      <td>0.0</td>\n",
       "      <td>407.869346</td>\n",
       "    </tr>\n",
       "    <tr>\n",
       "      <th>8228</th>\n",
       "      <td>2021-04-26 09:00:00</td>\n",
       "      <td>408.349503</td>\n",
       "      <td>401.446538</td>\n",
       "      <td>414.086493</td>\n",
       "      <td>408.349503</td>\n",
       "      <td>408.349503</td>\n",
       "      <td>-0.396575</td>\n",
       "      <td>-0.396575</td>\n",
       "      <td>-0.396575</td>\n",
       "      <td>0.051531</td>\n",
       "      <td>0.051531</td>\n",
       "      <td>0.051531</td>\n",
       "      <td>-0.448106</td>\n",
       "      <td>-0.448106</td>\n",
       "      <td>-0.448106</td>\n",
       "      <td>0.0</td>\n",
       "      <td>0.0</td>\n",
       "      <td>0.0</td>\n",
       "      <td>407.952928</td>\n",
       "    </tr>\n",
       "    <tr>\n",
       "      <th>8229</th>\n",
       "      <td>2021-04-26 10:00:00</td>\n",
       "      <td>408.362930</td>\n",
       "      <td>401.271154</td>\n",
       "      <td>414.494016</td>\n",
       "      <td>408.362930</td>\n",
       "      <td>408.362930</td>\n",
       "      <td>-0.299214</td>\n",
       "      <td>-0.299214</td>\n",
       "      <td>-0.299214</td>\n",
       "      <td>0.073751</td>\n",
       "      <td>0.073751</td>\n",
       "      <td>0.073751</td>\n",
       "      <td>-0.372965</td>\n",
       "      <td>-0.372965</td>\n",
       "      <td>-0.372965</td>\n",
       "      <td>0.0</td>\n",
       "      <td>0.0</td>\n",
       "      <td>0.0</td>\n",
       "      <td>408.063716</td>\n",
       "    </tr>\n",
       "    <tr>\n",
       "      <th>8230</th>\n",
       "      <td>2021-04-26 11:00:00</td>\n",
       "      <td>408.376358</td>\n",
       "      <td>400.975708</td>\n",
       "      <td>414.437477</td>\n",
       "      <td>408.376358</td>\n",
       "      <td>408.376358</td>\n",
       "      <td>-0.193538</td>\n",
       "      <td>-0.193538</td>\n",
       "      <td>-0.193538</td>\n",
       "      <td>0.104611</td>\n",
       "      <td>0.104611</td>\n",
       "      <td>0.104611</td>\n",
       "      <td>-0.298149</td>\n",
       "      <td>-0.298149</td>\n",
       "      <td>-0.298149</td>\n",
       "      <td>0.0</td>\n",
       "      <td>0.0</td>\n",
       "      <td>0.0</td>\n",
       "      <td>408.182821</td>\n",
       "    </tr>\n",
       "    <tr>\n",
       "      <th>8231</th>\n",
       "      <td>2021-04-26 12:00:00</td>\n",
       "      <td>408.389786</td>\n",
       "      <td>401.732472</td>\n",
       "      <td>414.560851</td>\n",
       "      <td>408.389786</td>\n",
       "      <td>408.389786</td>\n",
       "      <td>-0.101437</td>\n",
       "      <td>-0.101437</td>\n",
       "      <td>-0.101437</td>\n",
       "      <td>0.122662</td>\n",
       "      <td>0.122662</td>\n",
       "      <td>0.122662</td>\n",
       "      <td>-0.224099</td>\n",
       "      <td>-0.224099</td>\n",
       "      <td>-0.224099</td>\n",
       "      <td>0.0</td>\n",
       "      <td>0.0</td>\n",
       "      <td>0.0</td>\n",
       "      <td>408.288349</td>\n",
       "    </tr>\n",
       "    <tr>\n",
       "      <th>8232</th>\n",
       "      <td>2021-04-26 13:00:00</td>\n",
       "      <td>408.403214</td>\n",
       "      <td>401.721304</td>\n",
       "      <td>414.873942</td>\n",
       "      <td>408.403214</td>\n",
       "      <td>408.403214</td>\n",
       "      <td>-0.033992</td>\n",
       "      <td>-0.033992</td>\n",
       "      <td>-0.033992</td>\n",
       "      <td>0.117246</td>\n",
       "      <td>0.117246</td>\n",
       "      <td>0.117246</td>\n",
       "      <td>-0.151238</td>\n",
       "      <td>-0.151238</td>\n",
       "      <td>-0.151238</td>\n",
       "      <td>0.0</td>\n",
       "      <td>0.0</td>\n",
       "      <td>0.0</td>\n",
       "      <td>408.369221</td>\n",
       "    </tr>\n",
       "    <tr>\n",
       "      <th>8233</th>\n",
       "      <td>2021-04-26 14:00:00</td>\n",
       "      <td>408.416641</td>\n",
       "      <td>401.585004</td>\n",
       "      <td>414.936682</td>\n",
       "      <td>408.416641</td>\n",
       "      <td>408.416641</td>\n",
       "      <td>0.011470</td>\n",
       "      <td>0.011470</td>\n",
       "      <td>0.011470</td>\n",
       "      <td>0.091440</td>\n",
       "      <td>0.091440</td>\n",
       "      <td>0.091440</td>\n",
       "      <td>-0.079969</td>\n",
       "      <td>-0.079969</td>\n",
       "      <td>-0.079969</td>\n",
       "      <td>0.0</td>\n",
       "      <td>0.0</td>\n",
       "      <td>0.0</td>\n",
       "      <td>408.428112</td>\n",
       "    </tr>\n",
       "    <tr>\n",
       "      <th>8234</th>\n",
       "      <td>2021-04-26 15:00:00</td>\n",
       "      <td>408.430069</td>\n",
       "      <td>401.564661</td>\n",
       "      <td>414.567362</td>\n",
       "      <td>408.430069</td>\n",
       "      <td>408.430069</td>\n",
       "      <td>0.045822</td>\n",
       "      <td>0.045822</td>\n",
       "      <td>0.045822</td>\n",
       "      <td>0.056493</td>\n",
       "      <td>0.056493</td>\n",
       "      <td>0.056493</td>\n",
       "      <td>-0.010671</td>\n",
       "      <td>-0.010671</td>\n",
       "      <td>-0.010671</td>\n",
       "      <td>0.0</td>\n",
       "      <td>0.0</td>\n",
       "      <td>0.0</td>\n",
       "      <td>408.475891</td>\n",
       "    </tr>\n",
       "    <tr>\n",
       "      <th>8235</th>\n",
       "      <td>2021-04-26 16:00:00</td>\n",
       "      <td>408.443497</td>\n",
       "      <td>401.382532</td>\n",
       "      <td>415.210783</td>\n",
       "      <td>408.443497</td>\n",
       "      <td>408.443497</td>\n",
       "      <td>0.081150</td>\n",
       "      <td>0.081150</td>\n",
       "      <td>0.081150</td>\n",
       "      <td>0.024843</td>\n",
       "      <td>0.024843</td>\n",
       "      <td>0.024843</td>\n",
       "      <td>0.056306</td>\n",
       "      <td>0.056306</td>\n",
       "      <td>0.056306</td>\n",
       "      <td>0.0</td>\n",
       "      <td>0.0</td>\n",
       "      <td>0.0</td>\n",
       "      <td>408.524646</td>\n",
       "    </tr>\n",
       "    <tr>\n",
       "      <th>8236</th>\n",
       "      <td>2021-04-26 17:00:00</td>\n",
       "      <td>408.456924</td>\n",
       "      <td>402.017356</td>\n",
       "      <td>415.542293</td>\n",
       "      <td>408.456924</td>\n",
       "      <td>408.456924</td>\n",
       "      <td>0.126225</td>\n",
       "      <td>0.126225</td>\n",
       "      <td>0.126225</td>\n",
       "      <td>0.005582</td>\n",
       "      <td>0.005582</td>\n",
       "      <td>0.005582</td>\n",
       "      <td>0.120643</td>\n",
       "      <td>0.120643</td>\n",
       "      <td>0.120643</td>\n",
       "      <td>0.0</td>\n",
       "      <td>0.0</td>\n",
       "      <td>0.0</td>\n",
       "      <td>408.583149</td>\n",
       "    </tr>\n",
       "    <tr>\n",
       "      <th>8237</th>\n",
       "      <td>2021-04-26 18:00:00</td>\n",
       "      <td>408.470352</td>\n",
       "      <td>401.983236</td>\n",
       "      <td>415.097077</td>\n",
       "      <td>408.470352</td>\n",
       "      <td>408.470352</td>\n",
       "      <td>0.183320</td>\n",
       "      <td>0.183320</td>\n",
       "      <td>0.183320</td>\n",
       "      <td>0.001268</td>\n",
       "      <td>0.001268</td>\n",
       "      <td>0.001268</td>\n",
       "      <td>0.182051</td>\n",
       "      <td>0.182051</td>\n",
       "      <td>0.182051</td>\n",
       "      <td>0.0</td>\n",
       "      <td>0.0</td>\n",
       "      <td>0.0</td>\n",
       "      <td>408.653672</td>\n",
       "    </tr>\n",
       "    <tr>\n",
       "      <th>8238</th>\n",
       "      <td>2021-04-26 19:00:00</td>\n",
       "      <td>408.483780</td>\n",
       "      <td>402.133891</td>\n",
       "      <td>415.699690</td>\n",
       "      <td>408.483780</td>\n",
       "      <td>408.483780</td>\n",
       "      <td>0.245135</td>\n",
       "      <td>0.245135</td>\n",
       "      <td>0.245135</td>\n",
       "      <td>0.004856</td>\n",
       "      <td>0.004856</td>\n",
       "      <td>0.004856</td>\n",
       "      <td>0.240279</td>\n",
       "      <td>0.240279</td>\n",
       "      <td>0.240279</td>\n",
       "      <td>0.0</td>\n",
       "      <td>0.0</td>\n",
       "      <td>0.0</td>\n",
       "      <td>408.728915</td>\n",
       "    </tr>\n",
       "    <tr>\n",
       "      <th>8239</th>\n",
       "      <td>2021-04-26 20:00:00</td>\n",
       "      <td>408.497208</td>\n",
       "      <td>401.862773</td>\n",
       "      <td>415.215570</td>\n",
       "      <td>408.497208</td>\n",
       "      <td>408.497208</td>\n",
       "      <td>0.294750</td>\n",
       "      <td>0.294750</td>\n",
       "      <td>0.294750</td>\n",
       "      <td>-0.000361</td>\n",
       "      <td>-0.000361</td>\n",
       "      <td>-0.000361</td>\n",
       "      <td>0.295111</td>\n",
       "      <td>0.295111</td>\n",
       "      <td>0.295111</td>\n",
       "      <td>0.0</td>\n",
       "      <td>0.0</td>\n",
       "      <td>0.0</td>\n",
       "      <td>408.791958</td>\n",
       "    </tr>\n",
       "  </tbody>\n",
       "</table>\n",
       "</div>"
      ],
      "text/plain": [
       "                      ds       trend  yhat_lower  yhat_upper  trend_lower  \\\n",
       "8208 2021-04-23 05:00:00  407.328997  401.324610  413.972331   407.328997   \n",
       "8209 2021-04-23 06:00:00  407.342424  401.317213  414.490884   407.342424   \n",
       "8210 2021-04-23 07:00:00  407.355852  401.319105  414.545588   407.355852   \n",
       "8211 2021-04-23 08:00:00  407.369280  401.097964  414.236356   407.369280   \n",
       "8212 2021-04-23 09:00:00  407.382707  400.718841  414.097608   407.382707   \n",
       "8213 2021-04-23 10:00:00  407.396135  401.391869  414.632759   407.396135   \n",
       "8214 2021-04-23 11:00:00  407.409563  401.722477  414.259689   407.409563   \n",
       "8215 2021-04-23 12:00:00  407.422991  400.844123  414.077044   407.422991   \n",
       "8216 2021-04-23 13:00:00  407.436418  401.056927  414.086373   407.436418   \n",
       "8217 2021-04-23 14:00:00  407.449846  400.604064  414.392686   407.449846   \n",
       "8218 2021-04-23 15:00:00  407.463274  401.534320  414.137805   407.463274   \n",
       "8219 2021-04-23 16:00:00  407.476701  401.004613  414.528577   407.476701   \n",
       "8220 2021-04-23 17:00:00  407.490129  401.155465  414.520891   407.490129   \n",
       "8221 2021-04-23 18:00:00  407.503557  401.092928  413.770467   407.503557   \n",
       "8222 2021-04-23 19:00:00  407.516985  400.857319  414.397143   407.516985   \n",
       "8223 2021-04-23 20:00:00  407.530412  400.721487  414.139900   407.530412   \n",
       "8224 2021-04-26 05:00:00  408.295792  400.712680  414.366490   408.295792   \n",
       "8225 2021-04-26 06:00:00  408.309220  401.077513  414.352930   408.309220   \n",
       "8226 2021-04-26 07:00:00  408.322647  400.917173  414.712430   408.322647   \n",
       "8227 2021-04-26 08:00:00  408.336075  401.369083  414.549502   408.336075   \n",
       "8228 2021-04-26 09:00:00  408.349503  401.446538  414.086493   408.349503   \n",
       "8229 2021-04-26 10:00:00  408.362930  401.271154  414.494016   408.362930   \n",
       "8230 2021-04-26 11:00:00  408.376358  400.975708  414.437477   408.376358   \n",
       "8231 2021-04-26 12:00:00  408.389786  401.732472  414.560851   408.389786   \n",
       "8232 2021-04-26 13:00:00  408.403214  401.721304  414.873942   408.403214   \n",
       "8233 2021-04-26 14:00:00  408.416641  401.585004  414.936682   408.416641   \n",
       "8234 2021-04-26 15:00:00  408.430069  401.564661  414.567362   408.430069   \n",
       "8235 2021-04-26 16:00:00  408.443497  401.382532  415.210783   408.443497   \n",
       "8236 2021-04-26 17:00:00  408.456924  402.017356  415.542293   408.456924   \n",
       "8237 2021-04-26 18:00:00  408.470352  401.983236  415.097077   408.470352   \n",
       "8238 2021-04-26 19:00:00  408.483780  402.133891  415.699690   408.483780   \n",
       "8239 2021-04-26 20:00:00  408.497208  401.862773  415.215570   408.497208   \n",
       "\n",
       "      trend_upper  additive_terms  additive_terms_lower  additive_terms_upper  \\\n",
       "8208   407.328997        0.261961              0.261961              0.261961   \n",
       "8209   407.342424        0.266631              0.266631              0.266631   \n",
       "8210   407.355852        0.235127              0.235127              0.235127   \n",
       "8211   407.369280        0.204455              0.204455              0.204455   \n",
       "8212   407.382707        0.200718              0.200718              0.200718   \n",
       "8213   407.396135        0.225001              0.225001              0.225001   \n",
       "8214   407.409563        0.258693              0.258693              0.258693   \n",
       "8215   407.422991        0.280145              0.280145              0.280145   \n",
       "8216   407.436418        0.278486              0.278486              0.278486   \n",
       "8217   407.449846        0.256558              0.256558              0.256558   \n",
       "8218   407.463274        0.225363              0.225363              0.225363   \n",
       "8219   407.476701        0.197077              0.197077              0.197077   \n",
       "8220   407.490129        0.180526              0.180526              0.180526   \n",
       "8221   407.503557        0.177995              0.177995              0.177995   \n",
       "8222   407.516985        0.182162              0.182162              0.182162   \n",
       "8223   407.530412        0.176051              0.176051              0.176051   \n",
       "8224   408.295792       -0.632522             -0.632522             -0.632522   \n",
       "8225   408.309220       -0.553501             -0.553501             -0.553501   \n",
       "8226   408.322647       -0.510450             -0.510450             -0.510450   \n",
       "8227   408.336075       -0.466729             -0.466729             -0.466729   \n",
       "8228   408.349503       -0.396575             -0.396575             -0.396575   \n",
       "8229   408.362930       -0.299214             -0.299214             -0.299214   \n",
       "8230   408.376358       -0.193538             -0.193538             -0.193538   \n",
       "8231   408.389786       -0.101437             -0.101437             -0.101437   \n",
       "8232   408.403214       -0.033992             -0.033992             -0.033992   \n",
       "8233   408.416641        0.011470              0.011470              0.011470   \n",
       "8234   408.430069        0.045822              0.045822              0.045822   \n",
       "8235   408.443497        0.081150              0.081150              0.081150   \n",
       "8236   408.456924        0.126225              0.126225              0.126225   \n",
       "8237   408.470352        0.183320              0.183320              0.183320   \n",
       "8238   408.483780        0.245135              0.245135              0.245135   \n",
       "8239   408.497208        0.294750              0.294750              0.294750   \n",
       "\n",
       "         daily  daily_lower  daily_upper    weekly  weekly_lower  \\\n",
       "8208  0.110186     0.110186     0.110186  0.151775      0.151775   \n",
       "8209  0.117386     0.117386     0.117386  0.149245      0.149245   \n",
       "8210  0.087083     0.087083     0.087083  0.148044      0.148044   \n",
       "8211  0.056388     0.056388     0.056388  0.148067      0.148067   \n",
       "8212  0.051531     0.051531     0.051531  0.149186      0.149186   \n",
       "8213  0.073751     0.073751     0.073751  0.151250      0.151250   \n",
       "8214  0.104611     0.104611     0.104611  0.154081      0.154081   \n",
       "8215  0.122662     0.122662     0.122662  0.157484      0.157484   \n",
       "8216  0.117246     0.117246     0.117246  0.161241      0.161241   \n",
       "8217  0.091440     0.091440     0.091440  0.165118      0.165118   \n",
       "8218  0.056493     0.056493     0.056493  0.168869      0.168869   \n",
       "8219  0.024843     0.024843     0.024843  0.172234      0.172234   \n",
       "8220  0.005582     0.005582     0.005582  0.174944      0.174944   \n",
       "8221  0.001268     0.001268     0.001268  0.176726      0.176726   \n",
       "8222  0.004856     0.004856     0.004856  0.177306      0.177306   \n",
       "8223 -0.000361    -0.000361    -0.000361  0.176411      0.176411   \n",
       "8224  0.110186     0.110186     0.110186 -0.742708     -0.742708   \n",
       "8225  0.117386     0.117386     0.117386 -0.670887     -0.670887   \n",
       "8226  0.087083     0.087083     0.087083 -0.597534     -0.597534   \n",
       "8227  0.056388     0.056388     0.056388 -0.523117     -0.523117   \n",
       "8228  0.051531     0.051531     0.051531 -0.448106     -0.448106   \n",
       "8229  0.073751     0.073751     0.073751 -0.372965     -0.372965   \n",
       "8230  0.104611     0.104611     0.104611 -0.298149     -0.298149   \n",
       "8231  0.122662     0.122662     0.122662 -0.224099     -0.224099   \n",
       "8232  0.117246     0.117246     0.117246 -0.151238     -0.151238   \n",
       "8233  0.091440     0.091440     0.091440 -0.079969     -0.079969   \n",
       "8234  0.056493     0.056493     0.056493 -0.010671     -0.010671   \n",
       "8235  0.024843     0.024843     0.024843  0.056306      0.056306   \n",
       "8236  0.005582     0.005582     0.005582  0.120643      0.120643   \n",
       "8237  0.001268     0.001268     0.001268  0.182051      0.182051   \n",
       "8238  0.004856     0.004856     0.004856  0.240279      0.240279   \n",
       "8239 -0.000361    -0.000361    -0.000361  0.295111      0.295111   \n",
       "\n",
       "      weekly_upper  multiplicative_terms  multiplicative_terms_lower  \\\n",
       "8208      0.151775                   0.0                         0.0   \n",
       "8209      0.149245                   0.0                         0.0   \n",
       "8210      0.148044                   0.0                         0.0   \n",
       "8211      0.148067                   0.0                         0.0   \n",
       "8212      0.149186                   0.0                         0.0   \n",
       "8213      0.151250                   0.0                         0.0   \n",
       "8214      0.154081                   0.0                         0.0   \n",
       "8215      0.157484                   0.0                         0.0   \n",
       "8216      0.161241                   0.0                         0.0   \n",
       "8217      0.165118                   0.0                         0.0   \n",
       "8218      0.168869                   0.0                         0.0   \n",
       "8219      0.172234                   0.0                         0.0   \n",
       "8220      0.174944                   0.0                         0.0   \n",
       "8221      0.176726                   0.0                         0.0   \n",
       "8222      0.177306                   0.0                         0.0   \n",
       "8223      0.176411                   0.0                         0.0   \n",
       "8224     -0.742708                   0.0                         0.0   \n",
       "8225     -0.670887                   0.0                         0.0   \n",
       "8226     -0.597534                   0.0                         0.0   \n",
       "8227     -0.523117                   0.0                         0.0   \n",
       "8228     -0.448106                   0.0                         0.0   \n",
       "8229     -0.372965                   0.0                         0.0   \n",
       "8230     -0.298149                   0.0                         0.0   \n",
       "8231     -0.224099                   0.0                         0.0   \n",
       "8232     -0.151238                   0.0                         0.0   \n",
       "8233     -0.079969                   0.0                         0.0   \n",
       "8234     -0.010671                   0.0                         0.0   \n",
       "8235      0.056306                   0.0                         0.0   \n",
       "8236      0.120643                   0.0                         0.0   \n",
       "8237      0.182051                   0.0                         0.0   \n",
       "8238      0.240279                   0.0                         0.0   \n",
       "8239      0.295111                   0.0                         0.0   \n",
       "\n",
       "      multiplicative_terms_upper        yhat  \n",
       "8208                         0.0  407.590957  \n",
       "8209                         0.0  407.609056  \n",
       "8210                         0.0  407.590979  \n",
       "8211                         0.0  407.573734  \n",
       "8212                         0.0  407.583425  \n",
       "8213                         0.0  407.621136  \n",
       "8214                         0.0  407.668255  \n",
       "8215                         0.0  407.703136  \n",
       "8216                         0.0  407.714904  \n",
       "8217                         0.0  407.706404  \n",
       "8218                         0.0  407.688636  \n",
       "8219                         0.0  407.673779  \n",
       "8220                         0.0  407.670655  \n",
       "8221                         0.0  407.681551  \n",
       "8222                         0.0  407.699147  \n",
       "8223                         0.0  407.706463  \n",
       "8224                         0.0  407.663270  \n",
       "8225                         0.0  407.755718  \n",
       "8226                         0.0  407.812197  \n",
       "8227                         0.0  407.869346  \n",
       "8228                         0.0  407.952928  \n",
       "8229                         0.0  408.063716  \n",
       "8230                         0.0  408.182821  \n",
       "8231                         0.0  408.288349  \n",
       "8232                         0.0  408.369221  \n",
       "8233                         0.0  408.428112  \n",
       "8234                         0.0  408.475891  \n",
       "8235                         0.0  408.524646  \n",
       "8236                         0.0  408.583149  \n",
       "8237                         0.0  408.653672  \n",
       "8238                         0.0  408.728915  \n",
       "8239                         0.0  408.791958  "
      ]
     },
     "execution_count": 55,
     "metadata": {},
     "output_type": "execute_result"
    }
   ],
   "source": [
    "forecast[-32:]"
   ]
  },
  {
   "cell_type": "code",
   "execution_count": 66,
   "metadata": {
    "ExecuteTime": {
     "end_time": "2021-04-27T18:42:46.766050Z",
     "start_time": "2021-04-27T18:42:46.243725Z"
    }
   },
   "outputs": [
    {
     "data": {
      "image/png": "[encoded data removed]",
      "text/plain": [
       "<Figure size 1440x1080 with 1 Axes>"
      ]
     },
     "metadata": {
      "needs_background": "light"
     },
     "output_type": "display_data"
    }
   ],
   "source": [
    "fig, ax = plt.subplots(figsize = (20,15))\n",
    "promod.plot(forecast, ax=ax);\n",
    "# start = pd.to_datetime('2021-04-23')\n",
    "# end = pd.to_datetime('2021-04-26')\n",
    "# ax.set_xlim(start,end)"
   ]
  },
  {
   "cell_type": "code",
   "execution_count": 57,
   "metadata": {
    "ExecuteTime": {
     "end_time": "2021-04-27T18:40:15.211665Z",
     "start_time": "2021-04-27T18:40:14.897752Z"
    }
   },
   "outputs": [
    {
     "data": {
      "text/plain": [
       "<matplotlib.axes._subplots.AxesSubplot at 0x7ff514febaf0>"
      ]
     },
     "execution_count": 57,
     "metadata": {},
     "output_type": "execute_result"
    },
    {
     "data": {
      "image/png": "[encoded data removed]",
      "text/plain": [
       "<Figure size 432x288 with 1 Axes>"
      ]
     },
     "metadata": {
      "needs_background": "light"
     },
     "output_type": "display_data"
    }
   ],
   "source": [
    "forecast.yhat.plot()"
   ]
  },
  {
   "cell_type": "code",
   "execution_count": 51,
   "metadata": {
    "ExecuteTime": {
     "end_time": "2021-04-27T18:37:31.952287Z",
     "start_time": "2021-04-27T18:37:31.122027Z"
    }
   },
   "outputs": [
    {
     "data": {
      "image/png": "[encoded data removed]",
      "text/plain": [
       "<Figure size 648x648 with 3 Axes>"
      ]
     },
     "metadata": {},
     "output_type": "display_data"
    }
   ],
   "source": [
    "fig2 = promod.plot_components(forecast)\n"
   ]
  },
  {
   "cell_type": "code",
   "execution_count": null,
   "metadata": {},
   "outputs": [],
   "source": []
  }
 ],
 "metadata": {
  "kernelspec": {
   "display_name": "Python 3",
   "language": "python",
   "name": "python3"
  },
  "language_info": {
   "codemirror_mode": {
    "name": "ipython",
    "version": 3
   },
   "file_extension": ".py",
   "mimetype": "text/x-python",
   "name": "python",
   "nbconvert_exporter": "python",
   "pygments_lexer": "ipython3",
   "version": "3.8.3"
  },
  "toc": {
   "base_numbering": 1,
   "nav_menu": {},
   "number_sections": true,
   "sideBar": true,
   "skip_h1_title": false,
   "title_cell": "Table of Contents",
   "title_sidebar": "Contents",
   "toc_cell": false,
   "toc_position": {
    "height": "calc(100% - 180px)",
    "left": "10px",
    "top": "150px",
    "width": "426.667px"
   },
   "toc_section_display": true,
   "toc_window_display": true
  }
 },
 "nbformat": 4,
 "nbformat_minor": 4
}
