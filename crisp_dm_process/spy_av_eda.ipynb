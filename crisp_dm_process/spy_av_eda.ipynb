{
 "cells": [
  {
   "cell_type": "markdown",
   "metadata": {
    "ExecuteTime": {
     "end_time": "2021-04-26T17:29:48.898767Z",
     "start_time": "2021-04-26T17:29:48.895865Z"
    }
   },
   "source": [
    "# Initial Setup"
   ]
  },
  {
   "cell_type": "code",
   "execution_count": 50,
   "metadata": {
    "ExecuteTime": {
     "end_time": "2021-04-30T18:09:59.975324Z",
     "start_time": "2021-04-30T18:09:59.893775Z"
    }
   },
   "outputs": [
    {
     "name": "stdout",
     "output_type": "stream",
     "text": [
      "The autoreload extension is already loaded. To reload it, use:\n",
      "  %reload_ext autoreload\n"
     ]
    }
   ],
   "source": [
    "%load_ext autoreload\n",
    "%autoreload 2\n",
    "\n",
    "from random import random\n",
    "import pandas as pd\n",
    "import matplotlib\n",
    "import numpy as np\n",
    "from sklearn import metrics\n",
    "import csv\n",
    "import time\n",
    "import datetime\n",
    "import itertools\n",
    "from dateutil.relativedelta import relativedelta\n",
    "\n",
    "import yfinance as yf\n",
    "from alpha_vantage.timeseries import TimeSeries\n",
    "import pandas_market_calendars as mcal\n",
    "\n",
    "import pmdarima as pm\n",
    "import prophet\n",
    "from statsmodels.tsa.stattools import adfuller, pacf, acf\n",
    "from statsmodels.tsa.seasonal import seasonal_decompose\n",
    "from statsmodels.tsa.statespace.sarimax import SARIMAX\n",
    "from statsmodels.graphics.tsaplots import plot_acf, plot_pacf\n",
    "\n",
    "# from pathlib import Path\n",
    "# import os\n",
    "# current_path = os.getcwd()\n",
    "# # top = Path(__file__ + '..').resolve()\n",
    "import sys, os\n",
    "code_path = '/code'\n",
    "auth_path = '/auth'\n",
    "if '..' + code_path not in sys.path:\n",
    "    sys.path.insert(0, '..' + code_path)\n",
    "if '..' + auth_path not in sys.path:\n",
    "    sys.path.insert(0, '..' + auth_path)\n",
    "current_path = os.getcwd()\n",
    "sys.path\n",
    "# sys.path.insert(0, top/ 'code')\n",
    "# sys.path.insert(0, top/ 'auth')\n",
    "# sys.path.insert(0, '../code')\n",
    "# sys.path.insert(0, '../auth')\n",
    "# sys.path.insert(0, '../')\n",
    "\n",
    "# arrow = top / 'assets/arrow.png'\n",
    "# print('source image:', arrow)\n",
    "\n",
    "import matplotlib.pyplot as plt\n",
    "import seaborn as sns\n",
    "from matplotlib import ticker\n",
    "import matplotlib.dates as mdates\n",
    "from matplotlib.dates import DateFormatter\n",
    "# plt.style.use('ggplot')\n",
    "sns.set_theme(style=\"darkgrid\")\n",
    "\n",
    "%matplotlib inline\n",
    "font = {'size'   : 12}\n",
    "matplotlib.rc('font', **font)\n",
    "\n",
    "pd.set_option('display.max_columns',None)\n",
    "pd.set_option('display.max_rows',50)\n",
    "\n",
    "from functions import *\n",
    "\n",
    "# only display whole years in figures\n",
    "years = mdates.YearLocator()\n",
    "years_fmt = mdates.DateFormatter('%Y')\n",
    "\n",
    "from keys import client_id, secret_key, av_key, consumer_key"
   ]
  },
  {
   "cell_type": "markdown",
   "metadata": {
    "ExecuteTime": {
     "end_time": "2021-04-28T18:31:32.080656Z",
     "start_time": "2021-04-28T18:31:31.853078Z"
    }
   },
   "source": [
    "## Get NYSE calendar"
   ]
  },
  {
   "cell_type": "code",
   "execution_count": 3,
   "metadata": {
    "ExecuteTime": {
     "end_time": "2021-04-30T17:51:37.085975Z",
     "start_time": "2021-04-30T17:51:36.094016Z"
    }
   },
   "outputs": [],
   "source": [
    "NYSE = mcal.get_calendar('NYSE')\n",
    "early = NYSE.schedule(start_date='2012-07-01', end_date='2012-07-10')\n",
    "early;"
   ]
  },
  {
   "cell_type": "markdown",
   "metadata": {},
   "source": [
    "## Set up Frequency Variables"
   ]
  },
  {
   "cell_type": "markdown",
   "metadata": {},
   "source": [
    "### Custom Business Hour"
   ]
  },
  {
   "cell_type": "code",
   "execution_count": 4,
   "metadata": {
    "ExecuteTime": {
     "end_time": "2021-04-30T17:51:37.231151Z",
     "start_time": "2021-04-30T17:51:37.093981Z"
    }
   },
   "outputs": [
    {
     "data": {
      "text/plain": [
       "<CustomBusinessHour: CBH=05:00-21:00>"
      ]
     },
     "execution_count": 4,
     "metadata": {},
     "output_type": "execute_result"
    }
   ],
   "source": [
    "cbh = pd.offsets.CustomBusinessHour(calendar=NYSE, start='05:00', end='21:00')\n",
    "cbh"
   ]
  },
  {
   "cell_type": "markdown",
   "metadata": {},
   "source": [
    "### Custom Business Day"
   ]
  },
  {
   "cell_type": "code",
   "execution_count": 5,
   "metadata": {
    "ExecuteTime": {
     "end_time": "2021-04-30T17:51:37.336766Z",
     "start_time": "2021-04-30T17:51:37.239223Z"
    },
    "scrolled": false
   },
   "outputs": [
    {
     "data": {
      "text/plain": [
       "<CustomBusinessDay>"
      ]
     },
     "execution_count": 5,
     "metadata": {},
     "output_type": "execute_result"
    }
   ],
   "source": [
    "cbd = pd.offsets.CustomBusinessDay(calendar=NYSE)\n",
    "cbd"
   ]
  },
  {
   "cell_type": "markdown",
   "metadata": {},
   "source": [
    "# Alpha Vantage"
   ]
  },
  {
   "cell_type": "markdown",
   "metadata": {},
   "source": [
    "## Setup"
   ]
  },
  {
   "cell_type": "markdown",
   "metadata": {
    "ExecuteTime": {
     "end_time": "2021-04-28T18:31:15.152102Z",
     "start_time": "2021-04-28T18:31:15.069636Z"
    }
   },
   "source": [
    "### Initialize Alpha Vantage parameters"
   ]
  },
  {
   "cell_type": "code",
   "execution_count": 6,
   "metadata": {
    "ExecuteTime": {
     "end_time": "2021-04-30T17:51:37.451059Z",
     "start_time": "2021-04-30T17:51:37.340596Z"
    }
   },
   "outputs": [],
   "source": [
    "ts = TimeSeries(key=av_key, output_format='csv')\n",
    "AV_COLUMNS = ['time', 'open', 'high', 'low', 'close', 'volume']"
   ]
  },
  {
   "cell_type": "markdown",
   "metadata": {
    "ExecuteTime": {
     "end_time": "2021-04-26T23:00:14.927825Z",
     "start_time": "2021-04-26T22:56:36.933733Z"
    }
   },
   "source": [
    "## Gather Data"
   ]
  },
  {
   "cell_type": "markdown",
   "metadata": {
    "ExecuteTime": {
     "end_time": "2021-04-27T16:01:14.654983Z",
     "start_time": "2021-04-27T15:57:12.687967Z"
    }
   },
   "source": [
    "### Last Two Years, 60min"
   ]
  },
  {
   "cell_type": "code",
   "execution_count": 7,
   "metadata": {
    "ExecuteTime": {
     "end_time": "2021-04-30T17:51:37.620282Z",
     "start_time": "2021-04-30T17:51:37.454560Z"
    }
   },
   "outputs": [],
   "source": [
    "# df_full = get_av_all_data_slices('SPY', ts, interval='60min', verbose=0)\n",
    "# df_full.to_csv('../data/SPY_2019_2021.csv')"
   ]
  },
  {
   "cell_type": "markdown",
   "metadata": {
    "ExecuteTime": {
     "end_time": "2021-04-28T05:11:43.243572Z",
     "start_time": "2021-04-28T05:11:42.614867Z"
    }
   },
   "source": [
    "### Last Month, 60min"
   ]
  },
  {
   "cell_type": "code",
   "execution_count": 8,
   "metadata": {
    "ExecuteTime": {
     "end_time": "2021-04-30T17:51:37.724937Z",
     "start_time": "2021-04-30T17:51:37.624549Z"
    },
    "scrolled": true
   },
   "outputs": [],
   "source": [
    "# df_last_month = get_av_all_data_slices('SPY', ts, y=1, m=1, interval='60min', verbose=0)\n",
    "# df_last_month.index = pd.to_datetime(df_last_month.index)\n",
    "# df_last_month.to_csv('../data/SPY_Last_Month_CBH.csv')"
   ]
  },
  {
   "cell_type": "markdown",
   "metadata": {
    "ExecuteTime": {
     "end_time": "2021-04-28T05:11:43.243572Z",
     "start_time": "2021-04-28T05:11:42.614867Z"
    }
   },
   "source": [
    "### Last 5 days, 1min"
   ]
  },
  {
   "cell_type": "code",
   "execution_count": 9,
   "metadata": {
    "ExecuteTime": {
     "end_time": "2021-04-30T17:51:37.894633Z",
     "start_time": "2021-04-30T17:51:37.740199Z"
    }
   },
   "outputs": [],
   "source": [
    "# df_last_month_1min = get_av_all_data_slices('SPY', ts, y=1, m=1, interval='1min', verbose=1)\n",
    "# df_last_month_1min.index = pd.to_datetime(df_last_month_1min.index)\n",
    "# df_last_month_1min.to_csv('../data/SPY_Last_Month_1min.csv')"
   ]
  },
  {
   "cell_type": "code",
   "execution_count": 10,
   "metadata": {
    "ExecuteTime": {
     "end_time": "2021-04-30T17:51:38.056515Z",
     "start_time": "2021-04-30T17:51:37.905040Z"
    }
   },
   "outputs": [],
   "source": [
    "# df_last_5d_1min = df_last_month_1min[df_last_month_1min.index.date > (df_last_month_1min[:1].index.date - 5*cbd)]\n",
    "# df_last_5d_1min.to_csv('../data/SPY_Last_5d_1min.csv')"
   ]
  },
  {
   "cell_type": "code",
   "execution_count": 11,
   "metadata": {
    "ExecuteTime": {
     "end_time": "2021-04-30T17:51:38.191420Z",
     "start_time": "2021-04-30T17:51:38.060378Z"
    }
   },
   "outputs": [],
   "source": [
    "# df_last_1min[:1].index.date - 5*cbd"
   ]
  },
  {
   "cell_type": "code",
   "execution_count": 12,
   "metadata": {
    "ExecuteTime": {
     "end_time": "2021-04-30T17:51:38.332969Z",
     "start_time": "2021-04-30T17:51:38.203719Z"
    }
   },
   "outputs": [],
   "source": [
    "# (pd.date_range(df_last_month_1min[:1].index[0], periods = 5, freq=-cbd)).date"
   ]
  },
  {
   "cell_type": "code",
   "execution_count": 13,
   "metadata": {
    "ExecuteTime": {
     "end_time": "2021-04-30T17:51:38.438674Z",
     "start_time": "2021-04-30T17:51:38.337378Z"
    }
   },
   "outputs": [],
   "source": [
    "# ticker = 'SPY'\n",
    "# date= 'year1month10'\n",
    "# apiKey = av_key\n",
    "\n",
    "# df_new = pd.read_csv('https://www.alphavantage.co/query?function=TIME_SERIES_INTRADAY_EXTENDED&symbol='+ticker+'&interval=60min&slice='+date+'&apikey='+apiKey+'&datatype=csv&outputsize=full') "
   ]
  },
  {
   "cell_type": "markdown",
   "metadata": {},
   "source": [
    "## Load Data from File"
   ]
  },
  {
   "cell_type": "code",
   "execution_count": 14,
   "metadata": {
    "ExecuteTime": {
     "end_time": "2021-04-30T17:51:38.550717Z",
     "start_time": "2021-04-30T17:51:38.442238Z"
    }
   },
   "outputs": [],
   "source": [
    "# df_full = pd.read_csv('../data/SPY_2019_2021_CBH.csv', index_col='time')\n",
    "df_full = pd.read_csv('../data/SPY_2019_2021_CBD.csv', index_col='time')\n",
    "df_full.index = pd.to_datetime(df_full.index)"
   ]
  },
  {
   "cell_type": "code",
   "execution_count": 15,
   "metadata": {
    "ExecuteTime": {
     "end_time": "2021-04-30T17:51:38.666803Z",
     "start_time": "2021-04-30T17:51:38.558084Z"
    }
   },
   "outputs": [],
   "source": [
    "df_last_month = pd.read_csv('../data/SPY_Last_Month_CBH.csv', index_col='time')\n",
    "df_last_month.index = pd.to_datetime(df_last_month.index)"
   ]
  },
  {
   "cell_type": "code",
   "execution_count": 16,
   "metadata": {
    "ExecuteTime": {
     "end_time": "2021-04-30T17:51:38.769062Z",
     "start_time": "2021-04-30T17:51:38.671289Z"
    }
   },
   "outputs": [],
   "source": [
    "df_last_5d_1min = pd.read_csv('../data/SPY_Last_5d_1min.csv', index_col='time')\n",
    "df_last_5d_1min.index = pd.to_datetime(df_last_5d_1min.index)"
   ]
  },
  {
   "cell_type": "markdown",
   "metadata": {},
   "source": [
    "## Append Latest Data"
   ]
  },
  {
   "cell_type": "markdown",
   "metadata": {},
   "source": [
    "## Data Preparation"
   ]
  },
  {
   "cell_type": "markdown",
   "metadata": {},
   "source": [
    "### Set Frequencies"
   ]
  },
  {
   "cell_type": "code",
   "execution_count": 17,
   "metadata": {
    "ExecuteTime": {
     "end_time": "2021-04-30T17:51:38.859968Z",
     "start_time": "2021-04-30T17:51:38.771546Z"
    }
   },
   "outputs": [],
   "source": [
    "df_full = df_full.sort_index()\n",
    "df_full = df_full.asfreq(cbd)"
   ]
  },
  {
   "cell_type": "code",
   "execution_count": 18,
   "metadata": {
    "ExecuteTime": {
     "end_time": "2021-04-30T17:51:38.942859Z",
     "start_time": "2021-04-30T17:51:38.862582Z"
    }
   },
   "outputs": [],
   "source": [
    "df_last_month = df_last_month.sort_index()\n",
    "df_last_month = df_last_month.asfreq(cbh)"
   ]
  },
  {
   "cell_type": "code",
   "execution_count": 19,
   "metadata": {
    "ExecuteTime": {
     "end_time": "2021-04-30T17:51:39.012203Z",
     "start_time": "2021-04-30T17:51:38.944934Z"
    }
   },
   "outputs": [],
   "source": [
    "df_last_5d_1min = df_last_5d_1min.sort_index()\n",
    "df_last_5d_1min = df_last_5d_1min.asfreq('T')"
   ]
  },
  {
   "cell_type": "code",
   "execution_count": 20,
   "metadata": {
    "ExecuteTime": {
     "end_time": "2021-04-30T17:51:39.100445Z",
     "start_time": "2021-04-30T17:51:39.014453Z"
    }
   },
   "outputs": [
    {
     "data": {
      "text/html": [
       "<div>\n",
       "<style scoped>\n",
       "    .dataframe tbody tr th:only-of-type {\n",
       "        vertical-align: middle;\n",
       "    }\n",
       "\n",
       "    .dataframe tbody tr th {\n",
       "        vertical-align: top;\n",
       "    }\n",
       "\n",
       "    .dataframe thead th {\n",
       "        text-align: right;\n",
       "    }\n",
       "</style>\n",
       "<table border=\"1\" class=\"dataframe\">\n",
       "  <thead>\n",
       "    <tr style=\"text-align: right;\">\n",
       "      <th></th>\n",
       "      <th>open</th>\n",
       "      <th>high</th>\n",
       "      <th>low</th>\n",
       "      <th>close</th>\n",
       "      <th>volume</th>\n",
       "    </tr>\n",
       "    <tr>\n",
       "      <th>time</th>\n",
       "      <th></th>\n",
       "      <th></th>\n",
       "      <th></th>\n",
       "      <th></th>\n",
       "      <th></th>\n",
       "    </tr>\n",
       "  </thead>\n",
       "  <tbody>\n",
       "    <tr>\n",
       "      <th>2021-04-22 04:01:00</th>\n",
       "      <td>415.61</td>\n",
       "      <td>415.61</td>\n",
       "      <td>415.52</td>\n",
       "      <td>415.60</td>\n",
       "      <td>9244.0</td>\n",
       "    </tr>\n",
       "    <tr>\n",
       "      <th>2021-04-22 04:02:00</th>\n",
       "      <td>415.63</td>\n",
       "      <td>415.63</td>\n",
       "      <td>415.60</td>\n",
       "      <td>415.61</td>\n",
       "      <td>2860.0</td>\n",
       "    </tr>\n",
       "    <tr>\n",
       "      <th>2021-04-22 04:03:00</th>\n",
       "      <td>415.60</td>\n",
       "      <td>415.64</td>\n",
       "      <td>415.60</td>\n",
       "      <td>415.61</td>\n",
       "      <td>2990.0</td>\n",
       "    </tr>\n",
       "    <tr>\n",
       "      <th>2021-04-22 04:04:00</th>\n",
       "      <td>415.63</td>\n",
       "      <td>415.63</td>\n",
       "      <td>415.63</td>\n",
       "      <td>415.63</td>\n",
       "      <td>510.0</td>\n",
       "    </tr>\n",
       "    <tr>\n",
       "      <th>2021-04-22 04:05:00</th>\n",
       "      <td>415.63</td>\n",
       "      <td>415.66</td>\n",
       "      <td>415.61</td>\n",
       "      <td>415.65</td>\n",
       "      <td>1011.0</td>\n",
       "    </tr>\n",
       "    <tr>\n",
       "      <th>...</th>\n",
       "      <td>...</td>\n",
       "      <td>...</td>\n",
       "      <td>...</td>\n",
       "      <td>...</td>\n",
       "      <td>...</td>\n",
       "    </tr>\n",
       "    <tr>\n",
       "      <th>2021-04-28 19:56:00</th>\n",
       "      <td>418.40</td>\n",
       "      <td>418.44</td>\n",
       "      <td>418.40</td>\n",
       "      <td>418.44</td>\n",
       "      <td>6269.0</td>\n",
       "    </tr>\n",
       "    <tr>\n",
       "      <th>2021-04-28 19:57:00</th>\n",
       "      <td>418.44</td>\n",
       "      <td>418.48</td>\n",
       "      <td>418.44</td>\n",
       "      <td>418.48</td>\n",
       "      <td>1574.0</td>\n",
       "    </tr>\n",
       "    <tr>\n",
       "      <th>2021-04-28 19:58:00</th>\n",
       "      <td>418.46</td>\n",
       "      <td>418.50</td>\n",
       "      <td>418.46</td>\n",
       "      <td>418.50</td>\n",
       "      <td>2127.0</td>\n",
       "    </tr>\n",
       "    <tr>\n",
       "      <th>2021-04-28 19:59:00</th>\n",
       "      <td>418.48</td>\n",
       "      <td>418.49</td>\n",
       "      <td>418.44</td>\n",
       "      <td>418.49</td>\n",
       "      <td>4522.0</td>\n",
       "    </tr>\n",
       "    <tr>\n",
       "      <th>2021-04-28 20:00:00</th>\n",
       "      <td>418.49</td>\n",
       "      <td>418.49</td>\n",
       "      <td>418.46</td>\n",
       "      <td>418.47</td>\n",
       "      <td>2319.0</td>\n",
       "    </tr>\n",
       "  </tbody>\n",
       "</table>\n",
       "<p>9600 rows × 5 columns</p>\n",
       "</div>"
      ],
      "text/plain": [
       "                       open    high     low   close  volume\n",
       "time                                                       \n",
       "2021-04-22 04:01:00  415.61  415.61  415.52  415.60  9244.0\n",
       "2021-04-22 04:02:00  415.63  415.63  415.60  415.61  2860.0\n",
       "2021-04-22 04:03:00  415.60  415.64  415.60  415.61  2990.0\n",
       "2021-04-22 04:04:00  415.63  415.63  415.63  415.63   510.0\n",
       "2021-04-22 04:05:00  415.63  415.66  415.61  415.65  1011.0\n",
       "...                     ...     ...     ...     ...     ...\n",
       "2021-04-28 19:56:00  418.40  418.44  418.40  418.44  6269.0\n",
       "2021-04-28 19:57:00  418.44  418.48  418.44  418.48  1574.0\n",
       "2021-04-28 19:58:00  418.46  418.50  418.46  418.50  2127.0\n",
       "2021-04-28 19:59:00  418.48  418.49  418.44  418.49  4522.0\n",
       "2021-04-28 20:00:00  418.49  418.49  418.46  418.47  2319.0\n",
       "\n",
       "[9600 rows x 5 columns]"
      ]
     },
     "execution_count": 20,
     "metadata": {},
     "output_type": "execute_result"
    }
   ],
   "source": [
    "df_last_5d_1min"
   ]
  },
  {
   "cell_type": "markdown",
   "metadata": {},
   "source": [
    "### EDA"
   ]
  },
  {
   "cell_type": "code",
   "execution_count": 21,
   "metadata": {
    "ExecuteTime": {
     "end_time": "2021-04-30T17:51:39.188344Z",
     "start_time": "2021-04-30T17:51:39.102142Z"
    }
   },
   "outputs": [
    {
     "data": {
      "text/plain": [
       "(open      18\n",
       " high      18\n",
       " low       18\n",
       " close     18\n",
       " volume    18\n",
       " dtype: int64,\n",
       " open      16\n",
       " high      16\n",
       " low       16\n",
       " close     16\n",
       " volume    16\n",
       " dtype: int64,\n",
       " open      5673\n",
       " high      5673\n",
       " low       5673\n",
       " close     5673\n",
       " volume    5673\n",
       " dtype: int64)"
      ]
     },
     "execution_count": 21,
     "metadata": {},
     "output_type": "execute_result"
    }
   ],
   "source": [
    "df_full.isna().sum(), df_last_month.isna().sum(), df_last_5d_1min.isna().sum()"
   ]
  },
  {
   "cell_type": "code",
   "execution_count": 22,
   "metadata": {
    "ExecuteTime": {
     "end_time": "2021-04-30T17:51:39.311844Z",
     "start_time": "2021-04-30T17:51:39.192228Z"
    }
   },
   "outputs": [
    {
     "data": {
      "text/plain": [
       "(2019-05-07    1\n",
       " 2020-10-27    1\n",
       " 2020-09-09    1\n",
       " 2020-09-08    1\n",
       " 2020-09-07    1\n",
       "              ..\n",
       " 2019-12-25    1\n",
       " 2019-12-24    1\n",
       " 2019-12-23    1\n",
       " 2019-12-20    1\n",
       " 2021-04-23    1\n",
       " Length: 514, dtype: int64,\n",
       " 2021-03-30    16\n",
       " 2021-03-31    16\n",
       " 2021-04-27    16\n",
       " 2021-04-26    16\n",
       " 2021-04-23    16\n",
       " 2021-04-22    16\n",
       " 2021-04-21    16\n",
       " 2021-04-20    16\n",
       " 2021-04-19    16\n",
       " 2021-04-16    16\n",
       " 2021-04-15    16\n",
       " 2021-04-14    16\n",
       " 2021-04-13    16\n",
       " 2021-04-12    16\n",
       " 2021-04-09    16\n",
       " 2021-04-08    16\n",
       " 2021-04-07    16\n",
       " 2021-04-06    16\n",
       " 2021-04-05    16\n",
       " 2021-04-02    16\n",
       " 2021-04-01    16\n",
       " 2021-04-28    16\n",
       " dtype: int64,\n",
       " 2021-04-23    1440\n",
       " 2021-04-24    1440\n",
       " 2021-04-25    1440\n",
       " 2021-04-26    1440\n",
       " 2021-04-27    1440\n",
       " 2021-04-28    1201\n",
       " 2021-04-22    1199\n",
       " dtype: int64)"
      ]
     },
     "execution_count": 22,
     "metadata": {},
     "output_type": "execute_result"
    }
   ],
   "source": [
    "pd.DataFrame(df_full.index.date).value_counts(), pd.DataFrame(df_last_month.index.date).value_counts(), pd.DataFrame(df_last_5d_1min.index.date).value_counts()"
   ]
  },
  {
   "cell_type": "code",
   "execution_count": 23,
   "metadata": {
    "ExecuteTime": {
     "end_time": "2021-04-30T17:51:39.395467Z",
     "start_time": "2021-04-30T17:51:39.314401Z"
    }
   },
   "outputs": [],
   "source": [
    "# try:\n",
    "#     assert(type(df_new)=='pandas.core.frame.DataFrame')\n",
    "# except AssertionError:\n",
    "#     print('Nothing to append.')\n",
    "# else:\n",
    "#     df_full = df_full.append(df_new)\n",
    "#     df_full = df_full.sort_index()\n",
    "#     df_full = df_full.asfreq(cbh)\n",
    "#     df_full.to_csv('../data/SPY_2019_2021.csv')\n",
    "# finally:\n",
    "#     df_full = df_full.sort_index()\n",
    "#     df_full = df_full.asfreq(cbh)\n",
    "#     df_full.to_csv('../data/SPY_2019_2021.csv')\n",
    "#     df_full"
   ]
  },
  {
   "cell_type": "markdown",
   "metadata": {},
   "source": [
    "### Create Time Series for `Close`, `Volume`"
   ]
  },
  {
   "cell_type": "code",
   "execution_count": 25,
   "metadata": {
    "ExecuteTime": {
     "end_time": "2021-04-30T17:52:57.984797Z",
     "start_time": "2021-04-30T17:52:57.923142Z"
    }
   },
   "outputs": [
    {
     "name": "stdout",
     "output_type": "stream",
     "text": [
      "time\n",
      "2021-04-28 05:00:00    417.8700\n",
      "2021-04-28 06:00:00    417.7900\n",
      "2021-04-28 07:00:00    417.9000\n",
      "2021-04-28 08:00:00    417.4600\n",
      "2021-04-28 09:00:00    417.6800\n",
      "2021-04-28 10:00:00    418.3800\n",
      "2021-04-28 11:00:00    418.0319\n",
      "2021-04-28 12:00:00    417.2919\n",
      "2021-04-28 13:00:00    417.8090\n",
      "2021-04-28 14:00:00    417.3100\n",
      "2021-04-28 15:00:00    418.3300\n",
      "2021-04-28 16:00:00    417.3500\n",
      "2021-04-28 17:00:00    418.0800\n",
      "2021-04-28 18:00:00    418.0000\n",
      "2021-04-28 19:00:00    418.2200\n",
      "2021-04-28 20:00:00    418.4700\n",
      "Freq: CBH, Name: close, dtype: float64\n",
      "\n",
      "time\n",
      "2021-04-28 19:01:00    418.30\n",
      "2021-04-28 19:02:00    418.27\n",
      "2021-04-28 19:03:00    418.29\n",
      "2021-04-28 19:04:00    418.30\n",
      "2021-04-28 19:05:00       NaN\n",
      "                        ...  \n",
      "2021-04-28 19:56:00    418.44\n",
      "2021-04-28 19:57:00    418.48\n",
      "2021-04-28 19:58:00    418.50\n",
      "2021-04-28 19:59:00    418.49\n",
      "2021-04-28 20:00:00    418.47\n",
      "Freq: T, Name: close, Length: 60, dtype: float64\n"
     ]
    }
   ],
   "source": [
    "df_full_close = df_full.close\n",
    "df_last_month_close = df_last_month.close\n",
    "df_last_5d_1min_close = df_last_5d_1min.close\n",
    "print(df_last_month_close[-16:])\n",
    "print()\n",
    "print(df_last_5d_1min_close[-60:])"
   ]
  },
  {
   "cell_type": "code",
   "execution_count": 26,
   "metadata": {
    "ExecuteTime": {
     "end_time": "2021-04-30T17:52:59.970390Z",
     "start_time": "2021-04-30T17:52:59.913098Z"
    }
   },
   "outputs": [
    {
     "name": "stdout",
     "output_type": "stream",
     "text": [
      "time\n",
      "2021-04-28 05:00:00       19891.0\n",
      "2021-04-28 06:00:00        9111.0\n",
      "2021-04-28 07:00:00       27097.0\n",
      "2021-04-28 08:00:00      156203.0\n",
      "2021-04-28 09:00:00       80054.0\n",
      "2021-04-28 10:00:00     5654960.0\n",
      "2021-04-28 11:00:00     4954183.0\n",
      "2021-04-28 12:00:00     4875257.0\n",
      "2021-04-28 13:00:00     2933922.0\n",
      "2021-04-28 14:00:00     2843849.0\n",
      "2021-04-28 15:00:00     9781781.0\n",
      "2021-04-28 16:00:00    15078124.0\n",
      "2021-04-28 17:00:00     3608693.0\n",
      "2021-04-28 18:00:00      186049.0\n",
      "2021-04-28 19:00:00      128157.0\n",
      "2021-04-28 20:00:00       42013.0\n",
      "Freq: CBH, Name: volume, dtype: float64\n",
      "\n",
      "time\n",
      "2021-04-28 19:01:00    6142.0\n",
      "2021-04-28 19:02:00     605.0\n",
      "2021-04-28 19:03:00     605.0\n",
      "2021-04-28 19:04:00     100.0\n",
      "2021-04-28 19:05:00       NaN\n",
      "                        ...  \n",
      "2021-04-28 19:56:00    6269.0\n",
      "2021-04-28 19:57:00    1574.0\n",
      "2021-04-28 19:58:00    2127.0\n",
      "2021-04-28 19:59:00    4522.0\n",
      "2021-04-28 20:00:00    2319.0\n",
      "Freq: T, Name: volume, Length: 60, dtype: float64\n"
     ]
    }
   ],
   "source": [
    "vol_full = df_full.volume\n",
    "vol_last_month = df_last_month.volume\n",
    "vol_last_5d_1min = df_last_5d_1min.volume\n",
    "print(vol_last_month[-16:])\n",
    "print()\n",
    "print(vol_last_5d_1min[-60:])"
   ]
  },
  {
   "cell_type": "code",
   "execution_count": 27,
   "metadata": {
    "ExecuteTime": {
     "end_time": "2021-04-30T17:53:02.721067Z",
     "start_time": "2021-04-30T17:53:02.658497Z"
    }
   },
   "outputs": [
    {
     "data": {
      "text/plain": [
       "(DatetimeIndex(['2019-05-07 05:00:00', '2019-05-08 05:00:00',\n",
       "                '2019-05-09 05:00:00', '2019-05-10 05:00:00',\n",
       "                '2019-05-13 05:00:00', '2019-05-14 05:00:00',\n",
       "                '2019-05-15 05:00:00', '2019-05-16 05:00:00',\n",
       "                '2019-05-17 05:00:00', '2019-05-20 05:00:00',\n",
       "                ...\n",
       "                '2021-04-12 05:00:00', '2021-04-13 05:00:00',\n",
       "                '2021-04-14 05:00:00', '2021-04-15 05:00:00',\n",
       "                '2021-04-16 05:00:00', '2021-04-19 05:00:00',\n",
       "                '2021-04-20 05:00:00', '2021-04-21 05:00:00',\n",
       "                '2021-04-22 05:00:00', '2021-04-23 05:00:00'],\n",
       "               dtype='datetime64[ns]', name='time', length=514, freq='C'),\n",
       " DatetimeIndex(['2021-03-30 05:00:00', '2021-03-30 06:00:00',\n",
       "                '2021-03-30 07:00:00', '2021-03-30 08:00:00',\n",
       "                '2021-03-30 09:00:00', '2021-03-30 10:00:00',\n",
       "                '2021-03-30 11:00:00', '2021-03-30 12:00:00',\n",
       "                '2021-03-30 13:00:00', '2021-03-30 14:00:00',\n",
       "                ...\n",
       "                '2021-04-28 11:00:00', '2021-04-28 12:00:00',\n",
       "                '2021-04-28 13:00:00', '2021-04-28 14:00:00',\n",
       "                '2021-04-28 15:00:00', '2021-04-28 16:00:00',\n",
       "                '2021-04-28 17:00:00', '2021-04-28 18:00:00',\n",
       "                '2021-04-28 19:00:00', '2021-04-28 20:00:00'],\n",
       "               dtype='datetime64[ns]', name='time', length=352, freq='CBH'),\n",
       " DatetimeIndex(['2021-04-22 04:01:00', '2021-04-22 04:02:00',\n",
       "                '2021-04-22 04:03:00', '2021-04-22 04:04:00',\n",
       "                '2021-04-22 04:05:00', '2021-04-22 04:06:00',\n",
       "                '2021-04-22 04:07:00', '2021-04-22 04:08:00',\n",
       "                '2021-04-22 04:09:00', '2021-04-22 04:10:00',\n",
       "                ...\n",
       "                '2021-04-28 19:51:00', '2021-04-28 19:52:00',\n",
       "                '2021-04-28 19:53:00', '2021-04-28 19:54:00',\n",
       "                '2021-04-28 19:55:00', '2021-04-28 19:56:00',\n",
       "                '2021-04-28 19:57:00', '2021-04-28 19:58:00',\n",
       "                '2021-04-28 19:59:00', '2021-04-28 20:00:00'],\n",
       "               dtype='datetime64[ns]', name='time', length=9600, freq='T'))"
      ]
     },
     "execution_count": 27,
     "metadata": {},
     "output_type": "execute_result"
    }
   ],
   "source": [
    "df_full.index, df_last_month.index, df_last_5d_1min.index"
   ]
  },
  {
   "cell_type": "code",
   "execution_count": 28,
   "metadata": {
    "ExecuteTime": {
     "end_time": "2021-04-30T17:53:03.217768Z",
     "start_time": "2021-04-30T17:53:03.146308Z"
    }
   },
   "outputs": [
    {
     "data": {
      "text/plain": [
       "(time\n",
       " 2019-05-07 05:00:00    34989.0\n",
       " 2019-05-08 05:00:00    23984.0\n",
       " 2019-05-09 05:00:00    48671.0\n",
       " 2019-05-10 05:00:00    30085.0\n",
       " 2019-05-13 05:00:00    79225.0\n",
       "                         ...   \n",
       " 2021-04-19 05:00:00    25802.0\n",
       " 2021-04-20 05:00:00    41214.0\n",
       " 2021-04-21 05:00:00     7799.0\n",
       " 2021-04-22 05:00:00    42369.0\n",
       " 2021-04-23 05:00:00    18304.0\n",
       " Freq: C, Name: volume, Length: 514, dtype: float64,\n",
       " time\n",
       " 2021-03-30 05:00:00       11096.0\n",
       " 2021-03-30 06:00:00       18872.0\n",
       " 2021-03-30 07:00:00      143570.0\n",
       " 2021-03-30 08:00:00      213908.0\n",
       " 2021-03-30 09:00:00      324577.0\n",
       "                           ...    \n",
       " 2021-04-28 16:00:00    15078124.0\n",
       " 2021-04-28 17:00:00     3608693.0\n",
       " 2021-04-28 18:00:00      186049.0\n",
       " 2021-04-28 19:00:00      128157.0\n",
       " 2021-04-28 20:00:00       42013.0\n",
       " Freq: CBH, Name: volume, Length: 352, dtype: float64,\n",
       " time\n",
       " 2021-04-22 04:01:00    9244.0\n",
       " 2021-04-22 04:02:00    2860.0\n",
       " 2021-04-22 04:03:00    2990.0\n",
       " 2021-04-22 04:04:00     510.0\n",
       " 2021-04-22 04:05:00    1011.0\n",
       "                         ...  \n",
       " 2021-04-28 19:56:00    6269.0\n",
       " 2021-04-28 19:57:00    1574.0\n",
       " 2021-04-28 19:58:00    2127.0\n",
       " 2021-04-28 19:59:00    4522.0\n",
       " 2021-04-28 20:00:00    2319.0\n",
       " Freq: T, Name: volume, Length: 9600, dtype: float64)"
      ]
     },
     "execution_count": 28,
     "metadata": {},
     "output_type": "execute_result"
    }
   ],
   "source": [
    "vol_full, vol_last_month, vol_last_5d_1min"
   ]
  },
  {
   "cell_type": "markdown",
   "metadata": {},
   "source": [
    "## Plot PACF"
   ]
  },
  {
   "cell_type": "code",
   "execution_count": 24,
   "metadata": {
    "ExecuteTime": {
     "end_time": "2021-04-30T17:51:40.189184Z",
     "start_time": "2021-04-30T17:51:39.405564Z"
    }
   },
   "outputs": [
    {
     "ename": "NameError",
     "evalue": "name 'vol_last_5d_1min' is not defined",
     "output_type": "error",
     "traceback": [
      "\u001b[0;31m---------------------------------------------------------------------------\u001b[0m",
      "\u001b[0;31mNameError\u001b[0m                                 Traceback (most recent call last)",
      "\u001b[0;32m<ipython-input-24-b1bed8cb2c58>\u001b[0m in \u001b[0;36m<module>\u001b[0;34m\u001b[0m\n\u001b[0;32m----> 1\u001b[0;31m \u001b[0mplot_pacf_with_diff\u001b[0m\u001b[0;34m(\u001b[0m\u001b[0mvol_last_5d_1min\u001b[0m\u001b[0;34m,\u001b[0m \u001b[0;34m'SPY \\'Volume\\''\u001b[0m\u001b[0;34m,\u001b[0m \u001b[0;34m'5 Days'\u001b[0m\u001b[0;34m,\u001b[0m \u001b[0;34m'1 Min'\u001b[0m\u001b[0;34m)\u001b[0m\u001b[0;34m\u001b[0m\u001b[0;34m\u001b[0m\u001b[0m\n\u001b[0m",
      "\u001b[0;31mNameError\u001b[0m: name 'vol_last_5d_1min' is not defined"
     ]
    }
   ],
   "source": [
    "plot_pacf_with_diff(vol_last_5d_1min, 'SPY \\'Volume\\'', '5 Days', '1 Min')"
   ]
  },
  {
   "cell_type": "code",
   "execution_count": null,
   "metadata": {
    "ExecuteTime": {
     "end_time": "2021-04-30T17:51:40.191807Z",
     "start_time": "2021-04-30T17:51:36.816Z"
    }
   },
   "outputs": [],
   "source": [
    "plot_pacf_with_diff(df_last_5d_1min_close, 'SPY \\'Close\\'', '5 Days', '1 Min')"
   ]
  },
  {
   "cell_type": "markdown",
   "metadata": {
    "ExecuteTime": {
     "end_time": "2021-04-30T15:16:39.141691Z",
     "start_time": "2021-04-30T15:16:38.901975Z"
    }
   },
   "source": [
    "## Plot ACF"
   ]
  },
  {
   "cell_type": "code",
   "execution_count": null,
   "metadata": {
    "ExecuteTime": {
     "end_time": "2021-04-30T17:51:40.193466Z",
     "start_time": "2021-04-30T17:51:36.840Z"
    }
   },
   "outputs": [],
   "source": [
    "plot_acf_with_diff(vol_last_5d_1min, 'SPY \\'Volume\\'', '5 Days', '1 Min')"
   ]
  },
  {
   "cell_type": "markdown",
   "metadata": {},
   "source": [
    "## Plot Seasonal Decomposition"
   ]
  },
  {
   "cell_type": "markdown",
   "metadata": {
    "ExecuteTime": {
     "end_time": "2021-04-28T18:43:26.524782Z",
     "start_time": "2021-04-28T18:43:26.470114Z"
    }
   },
   "source": [
    "### 2019-2021, Freq = Custom Business Day, Quarterly Seasonality"
   ]
  },
  {
   "cell_type": "code",
   "execution_count": null,
   "metadata": {
    "ExecuteTime": {
     "end_time": "2021-04-30T17:51:40.042878Z",
     "start_time": "2021-04-30T17:51:36.101Z"
    }
   },
   "outputs": [],
   "source": [
    "plot_seasonal_decomposition(df_full_close.dropna(), 'SPY', round(365/4), 'days')"
   ]
  },
  {
   "cell_type": "markdown",
   "metadata": {},
   "source": [
    "### Last Month, Freq = Custom Business Hour, 5 Day Seasonality"
   ]
  },
  {
   "cell_type": "code",
   "execution_count": null,
   "metadata": {
    "ExecuteTime": {
     "end_time": "2021-04-30T17:51:40.203200Z",
     "start_time": "2021-04-30T17:51:36.997Z"
    },
    "scrolled": true
   },
   "outputs": [],
   "source": [
    "plot_seasonal_decomposition(df_last_month_close.dropna(), 'SPY', 16*5, 'hours')"
   ]
  },
  {
   "cell_type": "markdown",
   "metadata": {
    "ExecuteTime": {
     "end_time": "2021-04-28T18:42:43.955617Z",
     "start_time": "2021-04-28T18:42:43.904177Z"
    }
   },
   "source": [
    "### Last 5 Days, Freq = Minute, 1 Day Seasonality"
   ]
  },
  {
   "cell_type": "code",
   "execution_count": null,
   "metadata": {
    "ExecuteTime": {
     "end_time": "2021-04-30T17:51:40.204755Z",
     "start_time": "2021-04-30T17:51:37.017Z"
    }
   },
   "outputs": [],
   "source": [
    "plot_seasonal_decomposition(df_last_5d_1min_close.dropna(), 'SPY', int(24*60), 'minutes')"
   ]
  },
  {
   "cell_type": "markdown",
   "metadata": {
    "ExecuteTime": {
     "end_time": "2021-04-26T19:42:10.301805Z",
     "start_time": "2021-04-26T19:42:10.259964Z"
    }
   },
   "source": [
    "### Test out read and write CSV at same time"
   ]
  },
  {
   "cell_type": "code",
   "execution_count": null,
   "metadata": {
    "ExecuteTime": {
     "end_time": "2021-04-30T17:51:40.065530Z",
     "start_time": "2021-04-30T17:51:36.187Z"
    }
   },
   "outputs": [],
   "source": [
    "# with open('../data/GME_intra_Mar_29_Apr_12.csv', newline='') as csvfile:\n",
    "# #     fieldnames = ['first_name', 'last_name']\n",
    "#     reader = csv.reader(csvfile)\n",
    "#     fieldnames = next(reader)\n",
    "#     print(fieldnames)\n",
    "    \n",
    "#     with open('../data/output.csv', mode='w', newline='') as csvfile:\n",
    "#         writer = csv.writer(csvfile)\n",
    "#         writer.writerow(fieldnames)\n",
    "#         for row in reader:\n",
    "#             writer.writerow(row)\n",
    "            "
   ]
  },
  {
   "cell_type": "markdown",
   "metadata": {},
   "source": [
    "### Scratch"
   ]
  },
  {
   "cell_type": "code",
   "execution_count": null,
   "metadata": {
    "ExecuteTime": {
     "end_time": "2021-04-30T17:51:40.067608Z",
     "start_time": "2021-04-30T17:51:36.198Z"
    }
   },
   "outputs": [],
   "source": [
    "# df_full[df_full.index>'2020-07-03']"
   ]
  },
  {
   "cell_type": "code",
   "execution_count": null,
   "metadata": {
    "ExecuteTime": {
     "end_time": "2021-04-30T17:51:40.069531Z",
     "start_time": "2021-04-30T17:51:36.208Z"
    }
   },
   "outputs": [],
   "source": [
    "# df_full[(df_full.index>'2020-07-03') & (df_full.index<'2020-07-04')]"
   ]
  },
  {
   "cell_type": "code",
   "execution_count": null,
   "metadata": {
    "ExecuteTime": {
     "end_time": "2021-04-30T17:51:40.071074Z",
     "start_time": "2021-04-30T17:51:36.217Z"
    }
   },
   "outputs": [],
   "source": [
    "# start = pd.to_datetime('2019-06-07')"
   ]
  },
  {
   "cell_type": "code",
   "execution_count": null,
   "metadata": {
    "ExecuteTime": {
     "end_time": "2021-04-30T17:51:40.072372Z",
     "start_time": "2021-04-30T17:51:36.227Z"
    }
   },
   "outputs": [],
   "source": [
    "# cbh.next_bday(pd.to_datetime(start))"
   ]
  },
  {
   "cell_type": "code",
   "execution_count": null,
   "metadata": {
    "ExecuteTime": {
     "end_time": "2021-04-30T17:51:40.074455Z",
     "start_time": "2021-04-30T17:51:36.238Z"
    }
   },
   "outputs": [],
   "source": [
    "# start + pd.DateOffset(days = 2)"
   ]
  },
  {
   "cell_type": "code",
   "execution_count": null,
   "metadata": {
    "ExecuteTime": {
     "end_time": "2021-04-30T17:51:40.076213Z",
     "start_time": "2021-04-30T17:51:36.248Z"
    }
   },
   "outputs": [],
   "source": [
    "# start + pd.offsets.BDay()"
   ]
  },
  {
   "cell_type": "code",
   "execution_count": null,
   "metadata": {
    "ExecuteTime": {
     "end_time": "2021-04-30T17:51:40.079018Z",
     "start_time": "2021-04-30T17:51:36.278Z"
    }
   },
   "outputs": [],
   "source": [
    "# df_copy = df_full.copy()\n",
    "# df_copy.index = df_copy.index.date\n",
    "# df_copy.index.value_counts()"
   ]
  },
  {
   "cell_type": "code",
   "execution_count": null,
   "metadata": {
    "ExecuteTime": {
     "end_time": "2021-04-30T17:51:40.081315Z",
     "start_time": "2021-04-30T17:51:36.296Z"
    }
   },
   "outputs": [],
   "source": [
    "# df_copy_2 = df_full2.copy()\n",
    "# df_copy_2.index = df_copy_2.index.date\n",
    "# df_copy_2.index.value_counts()"
   ]
  },
  {
   "cell_type": "code",
   "execution_count": null,
   "metadata": {
    "ExecuteTime": {
     "end_time": "2021-04-30T17:51:40.083200Z",
     "start_time": "2021-04-30T17:51:36.344Z"
    }
   },
   "outputs": [],
   "source": [
    "# df_full2[df_full2.index.date == pd.to_datetime('2020-07-06')]"
   ]
  },
  {
   "cell_type": "code",
   "execution_count": null,
   "metadata": {
    "ExecuteTime": {
     "end_time": "2021-04-30T17:51:40.085370Z",
     "start_time": "2021-04-30T17:51:36.355Z"
    }
   },
   "outputs": [],
   "source": [
    "# df_full[df_full.index.date == pd.to_datetime('2021-03-01')]"
   ]
  },
  {
   "cell_type": "code",
   "execution_count": null,
   "metadata": {
    "ExecuteTime": {
     "end_time": "2021-04-30T17:51:40.087615Z",
     "start_time": "2021-04-30T17:51:36.367Z"
    },
    "scrolled": true
   },
   "outputs": [],
   "source": [
    "# null_data = df_full[df_full.isnull().any(axis=1)]\n",
    "# null_data"
   ]
  },
  {
   "cell_type": "code",
   "execution_count": null,
   "metadata": {
    "ExecuteTime": {
     "end_time": "2021-04-30T17:51:40.089482Z",
     "start_time": "2021-04-30T17:51:36.382Z"
    }
   },
   "outputs": [],
   "source": [
    "# null_data2 = df_full2[df_full2.isnull().any(axis=1)]\n",
    "# null_data2"
   ]
  },
  {
   "cell_type": "code",
   "execution_count": null,
   "metadata": {
    "ExecuteTime": {
     "end_time": "2021-04-30T17:51:40.093373Z",
     "start_time": "2021-04-30T17:51:36.392Z"
    }
   },
   "outputs": [],
   "source": [
    "# y=1\n",
    "# m=11\n",
    "# data_slice = f'year{y+1}month{m+1}'\n",
    "# print(data_slice)\n",
    "# total_data_reader, total_meta_data = ts.get_intraday_extended(symbol='SPY', interval='60min', slice=data_slice)\n",
    "# fieldnames = next(total_data_reader)\n",
    "# print(fieldnames)\n",
    "# df_test = pd.DataFrame(total_data_reader, columns=fieldnames)\n",
    "# df_test.set_index('time', inplace=True)\n",
    "# df_test"
   ]
  },
  {
   "cell_type": "code",
   "execution_count": null,
   "metadata": {
    "ExecuteTime": {
     "end_time": "2021-04-30T17:51:40.097851Z",
     "start_time": "2021-04-30T17:51:36.401Z"
    }
   },
   "outputs": [],
   "source": [
    "# with open('../data/output.csv', mode='w', newline='') as csvfile:\n",
    "# #     writer = csv.DictWriter(csvfile, fieldnames=df_test_dict.keys())\n",
    "# #     writer = csv.DictWriter(sys.stderr, fieldnames=df_test_dict.keys())\n",
    "# #     writer = csv.writer(sys.stderr)\n",
    "#     writer = csv.writer(csvfile)\n",
    "#     writer.writerow(df_test.reset_index().columns)\n",
    "# #     writer.writeheader()\n",
    "#     writer.writerows(df_test.reset_index().values)"
   ]
  },
  {
   "cell_type": "code",
   "execution_count": null,
   "metadata": {
    "ExecuteTime": {
     "end_time": "2021-04-30T17:51:40.100463Z",
     "start_time": "2021-04-30T17:51:36.418Z"
    }
   },
   "outputs": [],
   "source": [
    "# df_test_close = df_test.close"
   ]
  },
  {
   "cell_type": "markdown",
   "metadata": {
    "ExecuteTime": {
     "end_time": "2021-04-27T00:01:47.794038Z",
     "start_time": "2021-04-27T00:01:47.752745Z"
    }
   },
   "source": [
    "## Check Stationarity"
   ]
  },
  {
   "cell_type": "code",
   "execution_count": null,
   "metadata": {
    "ExecuteTime": {
     "end_time": "2021-04-30T17:51:40.102486Z",
     "start_time": "2021-04-30T17:51:36.428Z"
    }
   },
   "outputs": [],
   "source": [
    "test_stationarity(df_full_close.dropna())\n",
    "print()\n",
    "test_stationarity(df_last_month_close.dropna())\n",
    "print()\n",
    "test_stationarity(df_last_5d_1min_close.dropna())"
   ]
  },
  {
   "cell_type": "code",
   "execution_count": null,
   "metadata": {
    "ExecuteTime": {
     "end_time": "2021-04-30T17:51:40.105101Z",
     "start_time": "2021-04-30T17:51:36.438Z"
    }
   },
   "outputs": [],
   "source": [
    "test_stationarity(df_full_close.dropna(), 1)\n",
    "print()\n",
    "test_stationarity(df_last_month_close.dropna(), 1)\n",
    "print()\n",
    "test_stationarity(df_last_5d_1min_close.dropna(), 1)"
   ]
  },
  {
   "cell_type": "markdown",
   "metadata": {},
   "source": [
    "## Plot PACF"
   ]
  },
  {
   "cell_type": "code",
   "execution_count": null,
   "metadata": {
    "ExecuteTime": {
     "end_time": "2021-04-30T17:51:40.107302Z",
     "start_time": "2021-04-30T17:51:36.457Z"
    }
   },
   "outputs": [],
   "source": [
    "plot_pacf_with_diff(vol_last_5d_1min, 'SPY \\'Volume\\'', '5 Days', '1 Min')"
   ]
  },
  {
   "cell_type": "code",
   "execution_count": null,
   "metadata": {
    "ExecuteTime": {
     "end_time": "2021-04-30T17:51:40.109104Z",
     "start_time": "2021-04-30T17:51:36.470Z"
    }
   },
   "outputs": [],
   "source": [
    "plot_pacf_with_diff(df_last_5d_1min_close, 'SPY \\'Close\\'', '5 Days', '1 Min')"
   ]
  },
  {
   "cell_type": "markdown",
   "metadata": {
    "ExecuteTime": {
     "end_time": "2021-04-30T15:16:39.141691Z",
     "start_time": "2021-04-30T15:16:38.901975Z"
    }
   },
   "source": [
    "## Plot ACF"
   ]
  },
  {
   "cell_type": "code",
   "execution_count": null,
   "metadata": {
    "ExecuteTime": {
     "end_time": "2021-04-30T17:51:40.112052Z",
     "start_time": "2021-04-30T17:51:36.483Z"
    }
   },
   "outputs": [],
   "source": [
    "plot_acf_with_diff(vol_last_5d_1min, 'SPY \\'Volume\\'', '5 Days', '1 Min')"
   ]
  },
  {
   "cell_type": "markdown",
   "metadata": {},
   "source": [
    "## Plot Seasonal Decomposition"
   ]
  },
  {
   "cell_type": "markdown",
   "metadata": {
    "ExecuteTime": {
     "end_time": "2021-04-28T18:43:26.524782Z",
     "start_time": "2021-04-28T18:43:26.470114Z"
    }
   },
   "source": [
    "### 2019-2021, Freq = Custom Business Day, Quarterly Seasonality"
   ]
  },
  {
   "cell_type": "code",
   "execution_count": null,
   "metadata": {
    "ExecuteTime": {
     "end_time": "2021-04-30T17:51:40.117636Z",
     "start_time": "2021-04-30T17:51:36.504Z"
    }
   },
   "outputs": [],
   "source": [
    "plot_seasonal_decomposition(df_full_close.dropna(), 'SPY', round(365/4), 'days')"
   ]
  },
  {
   "cell_type": "markdown",
   "metadata": {},
   "source": [
    "### Last Month, Freq = Custom Business Hour, 5 Day Seasonality"
   ]
  },
  {
   "cell_type": "code",
   "execution_count": null,
   "metadata": {
    "ExecuteTime": {
     "end_time": "2021-04-30T17:51:40.122178Z",
     "start_time": "2021-04-30T17:51:36.523Z"
    },
    "scrolled": true
   },
   "outputs": [],
   "source": [
    "plot_seasonal_decomposition(df_last_month_close.dropna(), 'SPY', 16*5, 'hours')"
   ]
  },
  {
   "cell_type": "markdown",
   "metadata": {
    "ExecuteTime": {
     "end_time": "2021-04-28T18:42:43.955617Z",
     "start_time": "2021-04-28T18:42:43.904177Z"
    }
   },
   "source": [
    "### Last 5 Days, Freq = Minute, 1 Day Seasonality"
   ]
  },
  {
   "cell_type": "code",
   "execution_count": null,
   "metadata": {
    "ExecuteTime": {
     "end_time": "2021-04-30T17:51:40.126325Z",
     "start_time": "2021-04-30T17:51:36.535Z"
    }
   },
   "outputs": [],
   "source": [
    "plot_seasonal_decomposition(df_last_5d_1min_close.dropna(), 'SPY', int(24*60), 'minutes')"
   ]
  },
  {
   "cell_type": "code",
   "execution_count": null,
   "metadata": {
    "ExecuteTime": {
     "end_time": "2021-04-30T17:51:40.128751Z",
     "start_time": "2021-04-30T17:51:36.552Z"
    }
   },
   "outputs": [],
   "source": [
    "decomp = seasonal_decompose(df_last_5d_1min_close.dropna(), period=int(6.5*60))\n",
    "dc_obs = decomp.observed\n",
    "dc_trend = decomp.trend\n",
    "dc_seas = decomp.seasonal\n",
    "dc_resid = decomp.resid\n",
    "dc_df = pd.DataFrame({\"observed\": dc_obs, \"trend\": dc_trend,\n",
    "                            \"seasonal\": dc_seas, \"residual\": dc_resid})"
   ]
  },
  {
   "cell_type": "code",
   "execution_count": null,
   "metadata": {
    "ExecuteTime": {
     "end_time": "2021-04-30T17:51:40.131553Z",
     "start_time": "2021-04-30T17:51:36.575Z"
    }
   },
   "outputs": [],
   "source": [
    "dc_df.iloc[:,0].index[0]"
   ]
  },
  {
   "cell_type": "code",
   "execution_count": null,
   "metadata": {
    "ExecuteTime": {
     "end_time": "2021-04-30T17:51:40.135241Z",
     "start_time": "2021-04-30T17:51:36.586Z"
    }
   },
   "outputs": [],
   "source": [
    "dc_df.iloc[:,0].dropna()"
   ]
  },
  {
   "cell_type": "code",
   "execution_count": null,
   "metadata": {
    "ExecuteTime": {
     "end_time": "2021-04-30T17:51:40.137744Z",
     "start_time": "2021-04-30T17:51:36.594Z"
    }
   },
   "outputs": [],
   "source": [
    "pd.date_range(dc_df.iloc[:,0][.size)"
   ]
  },
  {
   "cell_type": "code",
   "execution_count": null,
   "metadata": {
    "ExecuteTime": {
     "end_time": "2021-04-30T17:51:40.139921Z",
     "start_time": "2021-04-30T17:51:36.602Z"
    }
   },
   "outputs": [],
   "source": [
    "range(dc_df.iloc[:,0].size)"
   ]
  },
  {
   "cell_type": "code",
   "execution_count": null,
   "metadata": {
    "ExecuteTime": {
     "end_time": "2021-04-30T17:51:40.142135Z",
     "start_time": "2021-04-30T17:51:36.609Z"
    }
   },
   "outputs": [],
   "source": [
    "fig, ax = plt.subplots()\n",
    "ax.plot(range(dc_df.iloc[:,0].dropna().size), dc_df.iloc[:,0].dropna())\n",
    "# ax.set_xticklabels(dc_df.dropna().index.date.tolist());\n",
    "ax.set_xticklabels(dc_df.iloc[:,0].dropna().index.date.tolist());\n",
    "fig.autofmt_xdate()"
   ]
  },
  {
   "cell_type": "code",
   "execution_count": null,
   "metadata": {
    "ExecuteTime": {
     "end_time": "2021-04-30T17:51:40.145296Z",
     "start_time": "2021-04-30T17:51:36.625Z"
    }
   },
   "outputs": [],
   "source": [
    "fig, ax = plt.subplots()\n",
    "ax.plot(dc_df.iloc[:,0].dropna().index, dc_df.iloc[:,0].dropna())\n",
    "# ax.set_xticklabels(dc_df.dropna().index.date.tolist());\n",
    "# fig.autofmt_xdate()"
   ]
  },
  {
   "cell_type": "code",
   "execution_count": null,
   "metadata": {
    "ExecuteTime": {
     "end_time": "2021-04-30T17:51:40.151247Z",
     "start_time": "2021-04-30T17:51:36.636Z"
    }
   },
   "outputs": [],
   "source": [
    "dc_df.dropna().index.date.tolist()"
   ]
  },
  {
   "cell_type": "code",
   "execution_count": null,
   "metadata": {
    "ExecuteTime": {
     "end_time": "2021-04-30T17:51:40.153953Z",
     "start_time": "2021-04-30T17:51:36.644Z"
    }
   },
   "outputs": [],
   "source": [
    "dc_df.iloc[:,0].dropna().index.date.tolist()"
   ]
  },
  {
   "cell_type": "code",
   "execution_count": null,
   "metadata": {
    "ExecuteTime": {
     "end_time": "2021-04-30T17:51:40.156467Z",
     "start_time": "2021-04-30T17:51:36.652Z"
    }
   },
   "outputs": [],
   "source": [
    "delta={}\n",
    "delta['minutes'] = 15"
   ]
  },
  {
   "cell_type": "code",
   "execution_count": null,
   "metadata": {
    "ExecuteTime": {
     "end_time": "2021-04-30T17:51:40.158454Z",
     "start_time": "2021-04-30T17:51:36.660Z"
    }
   },
   "outputs": [],
   "source": [
    "end = dc_df.iloc[:, 0].index[-1] + relativedelta(**delta)\n",
    "end"
   ]
  },
  {
   "cell_type": "code",
   "execution_count": null,
   "metadata": {
    "ExecuteTime": {
     "end_time": "2021-04-30T17:51:40.160597Z",
     "start_time": "2021-04-30T17:51:36.668Z"
    }
   },
   "outputs": [],
   "source": [
    "new = dc_df.iloc[:,0].resample('T').mean()"
   ]
  },
  {
   "cell_type": "code",
   "execution_count": null,
   "metadata": {
    "ExecuteTime": {
     "end_time": "2021-04-30T17:51:40.164726Z",
     "start_time": "2021-04-30T17:51:36.679Z"
    }
   },
   "outputs": [],
   "source": [
    "new.dropna().plot()"
   ]
  },
  {
   "cell_type": "markdown",
   "metadata": {},
   "source": [
    "# YFinance"
   ]
  },
  {
   "cell_type": "markdown",
   "metadata": {
    "ExecuteTime": {
     "end_time": "2021-04-30T16:06:23.406725Z",
     "start_time": "2021-04-30T16:06:23.341818Z"
    }
   },
   "source": [
    "## Setup / Gather Data"
   ]
  },
  {
   "cell_type": "code",
   "execution_count": 85,
   "metadata": {
    "ExecuteTime": {
     "end_time": "2021-04-30T18:26:43.604811Z",
     "start_time": "2021-04-30T18:26:43.542415Z"
    }
   },
   "outputs": [],
   "source": [
    "ticker = 'SPY'"
   ]
  },
  {
   "cell_type": "code",
   "execution_count": 92,
   "metadata": {
    "ExecuteTime": {
     "end_time": "2021-04-30T18:28:39.800953Z",
     "start_time": "2021-04-30T18:28:39.617300Z"
    }
   },
   "outputs": [],
   "source": [
    "spy_df = yf.download(ticker, start='2018-05-01', end='2021-05-01', progress=False)\n",
    "spy_df.index = spy_df.index.rename('date')\n",
    "spy_df.columns = ['open', 'high', 'low', 'close', 'adj_close', 'volume']\n",
    "spy_df.to_csv('../data/SPY_3Y_CBD.csv')"
   ]
  },
  {
   "cell_type": "markdown",
   "metadata": {
    "ExecuteTime": {
     "end_time": "2021-04-30T16:37:27.709534Z",
     "start_time": "2021-04-30T16:37:27.637011Z"
    }
   },
   "source": [
    "## Load Data from File"
   ]
  },
  {
   "cell_type": "code",
   "execution_count": 100,
   "metadata": {
    "ExecuteTime": {
     "end_time": "2021-04-30T18:29:16.208031Z",
     "start_time": "2021-04-30T18:29:16.149464Z"
    }
   },
   "outputs": [],
   "source": [
    "spy_df = pd.read_csv('../data/SPY_3Y_CBD.csv', index_col='date')\n",
    "spy_df.index = pd.to_datetime(spy_df.index)"
   ]
  },
  {
   "cell_type": "markdown",
   "metadata": {
    "ExecuteTime": {
     "end_time": "2021-04-30T16:08:56.190587Z",
     "start_time": "2021-04-30T16:08:56.140205Z"
    }
   },
   "source": [
    "## Data Preparation"
   ]
  },
  {
   "cell_type": "markdown",
   "metadata": {
    "ExecuteTime": {
     "end_time": "2021-04-30T16:11:09.085443Z",
     "start_time": "2021-04-30T16:11:09.014468Z"
    }
   },
   "source": [
    "### EDA"
   ]
  },
  {
   "cell_type": "code",
   "execution_count": 101,
   "metadata": {
    "ExecuteTime": {
     "end_time": "2021-04-30T18:29:27.044177Z",
     "start_time": "2021-04-30T18:29:26.960392Z"
    }
   },
   "outputs": [
    {
     "data": {
      "text/html": [
       "<div>\n",
       "<style scoped>\n",
       "    .dataframe tbody tr th:only-of-type {\n",
       "        vertical-align: middle;\n",
       "    }\n",
       "\n",
       "    .dataframe tbody tr th {\n",
       "        vertical-align: top;\n",
       "    }\n",
       "\n",
       "    .dataframe thead th {\n",
       "        text-align: right;\n",
       "    }\n",
       "</style>\n",
       "<table border=\"1\" class=\"dataframe\">\n",
       "  <thead>\n",
       "    <tr style=\"text-align: right;\">\n",
       "      <th></th>\n",
       "      <th>open</th>\n",
       "      <th>high</th>\n",
       "      <th>low</th>\n",
       "      <th>close</th>\n",
       "      <th>adj_close</th>\n",
       "      <th>volume</th>\n",
       "    </tr>\n",
       "    <tr>\n",
       "      <th>date</th>\n",
       "      <th></th>\n",
       "      <th></th>\n",
       "      <th></th>\n",
       "      <th></th>\n",
       "      <th></th>\n",
       "      <th></th>\n",
       "    </tr>\n",
       "  </thead>\n",
       "  <tbody>\n",
       "    <tr>\n",
       "      <th>2018-05-01</th>\n",
       "      <td>263.869995</td>\n",
       "      <td>265.100006</td>\n",
       "      <td>262.109985</td>\n",
       "      <td>264.980011</td>\n",
       "      <td>250.711670</td>\n",
       "      <td>74203400</td>\n",
       "    </tr>\n",
       "    <tr>\n",
       "      <th>2018-05-02</th>\n",
       "      <td>264.760010</td>\n",
       "      <td>265.679993</td>\n",
       "      <td>262.760010</td>\n",
       "      <td>263.200012</td>\n",
       "      <td>249.027512</td>\n",
       "      <td>86368900</td>\n",
       "    </tr>\n",
       "    <tr>\n",
       "      <th>2018-05-03</th>\n",
       "      <td>262.260010</td>\n",
       "      <td>263.359985</td>\n",
       "      <td>259.049988</td>\n",
       "      <td>262.619995</td>\n",
       "      <td>248.478745</td>\n",
       "      <td>136311500</td>\n",
       "    </tr>\n",
       "    <tr>\n",
       "      <th>2018-05-04</th>\n",
       "      <td>261.519989</td>\n",
       "      <td>266.790009</td>\n",
       "      <td>261.149994</td>\n",
       "      <td>266.019989</td>\n",
       "      <td>251.695648</td>\n",
       "      <td>91222100</td>\n",
       "    </tr>\n",
       "    <tr>\n",
       "      <th>2018-05-07</th>\n",
       "      <td>266.890015</td>\n",
       "      <td>268.019989</td>\n",
       "      <td>266.109985</td>\n",
       "      <td>266.920013</td>\n",
       "      <td>252.547226</td>\n",
       "      <td>55304900</td>\n",
       "    </tr>\n",
       "    <tr>\n",
       "      <th>...</th>\n",
       "      <td>...</td>\n",
       "      <td>...</td>\n",
       "      <td>...</td>\n",
       "      <td>...</td>\n",
       "      <td>...</td>\n",
       "      <td>...</td>\n",
       "    </tr>\n",
       "    <tr>\n",
       "      <th>2021-04-26</th>\n",
       "      <td>417.440002</td>\n",
       "      <td>418.220001</td>\n",
       "      <td>416.809998</td>\n",
       "      <td>417.609985</td>\n",
       "      <td>417.609985</td>\n",
       "      <td>52182400</td>\n",
       "    </tr>\n",
       "    <tr>\n",
       "      <th>2021-04-27</th>\n",
       "      <td>417.929993</td>\n",
       "      <td>418.140015</td>\n",
       "      <td>416.299988</td>\n",
       "      <td>417.519989</td>\n",
       "      <td>417.519989</td>\n",
       "      <td>51303100</td>\n",
       "    </tr>\n",
       "    <tr>\n",
       "      <th>2021-04-28</th>\n",
       "      <td>417.809998</td>\n",
       "      <td>419.010010</td>\n",
       "      <td>416.899994</td>\n",
       "      <td>417.399994</td>\n",
       "      <td>417.399994</td>\n",
       "      <td>51238900</td>\n",
       "    </tr>\n",
       "    <tr>\n",
       "      <th>2021-04-29</th>\n",
       "      <td>420.320007</td>\n",
       "      <td>420.720001</td>\n",
       "      <td>416.440002</td>\n",
       "      <td>420.059998</td>\n",
       "      <td>420.059998</td>\n",
       "      <td>78311900</td>\n",
       "    </tr>\n",
       "    <tr>\n",
       "      <th>2021-04-30</th>\n",
       "      <td>417.630005</td>\n",
       "      <td>418.540009</td>\n",
       "      <td>416.380005</td>\n",
       "      <td>417.149994</td>\n",
       "      <td>417.149994</td>\n",
       "      <td>41522791</td>\n",
       "    </tr>\n",
       "  </tbody>\n",
       "</table>\n",
       "<p>756 rows × 6 columns</p>\n",
       "</div>"
      ],
      "text/plain": [
       "                  open        high         low       close   adj_close  \\\n",
       "date                                                                     \n",
       "2018-05-01  263.869995  265.100006  262.109985  264.980011  250.711670   \n",
       "2018-05-02  264.760010  265.679993  262.760010  263.200012  249.027512   \n",
       "2018-05-03  262.260010  263.359985  259.049988  262.619995  248.478745   \n",
       "2018-05-04  261.519989  266.790009  261.149994  266.019989  251.695648   \n",
       "2018-05-07  266.890015  268.019989  266.109985  266.920013  252.547226   \n",
       "...                ...         ...         ...         ...         ...   \n",
       "2021-04-26  417.440002  418.220001  416.809998  417.609985  417.609985   \n",
       "2021-04-27  417.929993  418.140015  416.299988  417.519989  417.519989   \n",
       "2021-04-28  417.809998  419.010010  416.899994  417.399994  417.399994   \n",
       "2021-04-29  420.320007  420.720001  416.440002  420.059998  420.059998   \n",
       "2021-04-30  417.630005  418.540009  416.380005  417.149994  417.149994   \n",
       "\n",
       "               volume  \n",
       "date                   \n",
       "2018-05-01   74203400  \n",
       "2018-05-02   86368900  \n",
       "2018-05-03  136311500  \n",
       "2018-05-04   91222100  \n",
       "2018-05-07   55304900  \n",
       "...               ...  \n",
       "2021-04-26   52182400  \n",
       "2021-04-27   51303100  \n",
       "2021-04-28   51238900  \n",
       "2021-04-29   78311900  \n",
       "2021-04-30   41522791  \n",
       "\n",
       "[756 rows x 6 columns]"
      ]
     },
     "execution_count": 101,
     "metadata": {},
     "output_type": "execute_result"
    }
   ],
   "source": [
    "spy_df"
   ]
  },
  {
   "cell_type": "code",
   "execution_count": 32,
   "metadata": {
    "ExecuteTime": {
     "end_time": "2021-04-30T17:53:11.504905Z",
     "start_time": "2021-04-30T17:53:11.287378Z"
    }
   },
   "outputs": [
    {
     "data": {
      "text/plain": [
       "open         0\n",
       "high         0\n",
       "low          0\n",
       "close        0\n",
       "adj_close    0\n",
       "volume       0\n",
       "dtype: int64"
      ]
     },
     "execution_count": 32,
     "metadata": {},
     "output_type": "execute_result"
    }
   ],
   "source": [
    "spy_df.isna().sum()"
   ]
  },
  {
   "cell_type": "markdown",
   "metadata": {},
   "source": [
    "### Set up Frequency"
   ]
  },
  {
   "cell_type": "code",
   "execution_count": 33,
   "metadata": {
    "ExecuteTime": {
     "end_time": "2021-04-30T17:53:15.254627Z",
     "start_time": "2021-04-30T17:53:15.163860Z"
    }
   },
   "outputs": [],
   "source": [
    "spy_df = spy_df.asfreq(cbd)"
   ]
  },
  {
   "cell_type": "code",
   "execution_count": 34,
   "metadata": {
    "ExecuteTime": {
     "end_time": "2021-04-30T17:53:15.398844Z",
     "start_time": "2021-04-30T17:53:15.326769Z"
    }
   },
   "outputs": [
    {
     "data": {
      "text/plain": [
       "open         28\n",
       "high         28\n",
       "low          28\n",
       "close        28\n",
       "adj_close    28\n",
       "volume       28\n",
       "dtype: int64"
      ]
     },
     "execution_count": 34,
     "metadata": {},
     "output_type": "execute_result"
    }
   ],
   "source": [
    "spy_df.isna().sum()"
   ]
  },
  {
   "cell_type": "markdown",
   "metadata": {},
   "source": [
    "### Create Time Series for `Close`, `Volume`"
   ]
  },
  {
   "cell_type": "code",
   "execution_count": 102,
   "metadata": {
    "ExecuteTime": {
     "end_time": "2021-04-30T18:29:32.934042Z",
     "start_time": "2021-04-30T18:29:32.881162Z"
    }
   },
   "outputs": [],
   "source": [
    "df_full_close = spy_df.close\n",
    "df_full_vol = spy_df.volume"
   ]
  },
  {
   "cell_type": "code",
   "execution_count": 36,
   "metadata": {
    "ExecuteTime": {
     "end_time": "2021-04-30T17:53:17.483521Z",
     "start_time": "2021-04-30T17:53:17.403913Z"
    }
   },
   "outputs": [
    {
     "data": {
      "text/plain": [
       "Date\n",
       "2018-05-01    264.980011\n",
       "2018-05-02    263.200012\n",
       "2018-05-03    262.619995\n",
       "2018-05-04    266.019989\n",
       "2018-05-07    266.920013\n",
       "                 ...    \n",
       "2021-04-26    417.609985\n",
       "2021-04-27    417.519989\n",
       "2021-04-28    417.399994\n",
       "2021-04-29    420.059998\n",
       "2021-04-30    417.500000\n",
       "Freq: C, Name: close, Length: 784, dtype: float64"
      ]
     },
     "execution_count": 36,
     "metadata": {},
     "output_type": "execute_result"
    }
   ],
   "source": [
    "df_full_close"
   ]
  },
  {
   "cell_type": "markdown",
   "metadata": {},
   "source": [
    "## Plot PACF"
   ]
  },
  {
   "cell_type": "code",
   "execution_count": null,
   "metadata": {
    "ExecuteTime": {
     "end_time": "2021-04-30T17:51:40.189184Z",
     "start_time": "2021-04-30T17:51:39.405564Z"
    }
   },
   "outputs": [],
   "source": [
    "plot_pacf_with_diff(df_full_vol, 'SPY \\'Volume\\'', 3, 'years', '1 Day', lags=60)"
   ]
  },
  {
   "cell_type": "code",
   "execution_count": null,
   "metadata": {
    "ExecuteTime": {
     "end_time": "2021-04-30T17:51:40.191807Z",
     "start_time": "2021-04-30T17:51:36.816Z"
    }
   },
   "outputs": [],
   "source": [
    "plot_pacf_with_diff(df_full_close, 'SPY \\'Close\\'', 3, 'years', '1 Day', lags=60)"
   ]
  },
  {
   "cell_type": "markdown",
   "metadata": {
    "ExecuteTime": {
     "end_time": "2021-04-30T15:16:39.141691Z",
     "start_time": "2021-04-30T15:16:38.901975Z"
    }
   },
   "source": [
    "## Plot ACF"
   ]
  },
  {
   "cell_type": "code",
   "execution_count": null,
   "metadata": {
    "ExecuteTime": {
     "end_time": "2021-04-30T17:51:40.193466Z",
     "start_time": "2021-04-30T17:51:36.840Z"
    }
   },
   "outputs": [],
   "source": [
    "plot_acf_with_diff(df_full_vol, 'SPY \\'Volume\\'', 3, 'years', '1 Day', lags=60)"
   ]
  },
  {
   "cell_type": "code",
   "execution_count": null,
   "metadata": {
    "ExecuteTime": {
     "end_time": "2021-04-30T17:51:40.195911Z",
     "start_time": "2021-04-30T17:51:36.892Z"
    }
   },
   "outputs": [],
   "source": [
    "plot_acf_with_diff(df_full_close, 'SPY \\'Close\\'', 3, 'years', '1 Day', lags=60)"
   ]
  },
  {
   "cell_type": "markdown",
   "metadata": {},
   "source": [
    "## Plot Seasonal Decomposition"
   ]
  },
  {
   "cell_type": "code",
   "execution_count": null,
   "metadata": {
    "ExecuteTime": {
     "end_time": "2021-04-30T17:51:40.198238Z",
     "start_time": "2021-04-30T17:51:36.926Z"
    }
   },
   "outputs": [],
   "source": [
    "start = pd.to_datetime('2020-07-01')"
   ]
  },
  {
   "cell_type": "code",
   "execution_count": null,
   "metadata": {
    "ExecuteTime": {
     "end_time": "2021-04-30T17:51:40.199570Z",
     "start_time": "2021-04-30T17:51:36.938Z"
    }
   },
   "outputs": [],
   "source": [
    "freq =  '1 Day'\n",
    "freq.split()[1].lower() + 's'"
   ]
  },
  {
   "cell_type": "markdown",
   "metadata": {
    "ExecuteTime": {
     "end_time": "2021-04-28T18:43:26.524782Z",
     "start_time": "2021-04-28T18:43:26.470114Z"
    }
   },
   "source": [
    "### 2018-2021, Freq = Custom Business Day, Quarterly Seasonality"
   ]
  },
  {
   "cell_type": "code",
   "execution_count": null,
   "metadata": {
    "ExecuteTime": {
     "end_time": "2021-04-30T17:51:40.201459Z",
     "start_time": "2021-04-30T17:51:36.955Z"
    }
   },
   "outputs": [],
   "source": [
    "plot_seasonal_decomposition(df_full_close.dropna(), 'SPY \\'Volume\\'', 3, 'years', '1 Day', 365)"
   ]
  },
  {
   "cell_type": "markdown",
   "metadata": {},
   "source": [
    "### 5 Years, Freq = Custom Business Hour, 1 Year Seasonality"
   ]
  },
  {
   "cell_type": "code",
   "execution_count": null,
   "metadata": {
    "ExecuteTime": {
     "end_time": "2021-04-30T17:51:40.203200Z",
     "start_time": "2021-04-30T17:51:36.997Z"
    },
    "scrolled": true
   },
   "outputs": [],
   "source": [
    "plot_seasonal_decomposition(df_last_month_close.dropna(), 'SPY \\'Volume\\'', 5, 'years', '1 Day', 365)"
   ]
  },
  {
   "cell_type": "markdown",
   "metadata": {
    "ExecuteTime": {
     "end_time": "2021-04-28T18:42:43.955617Z",
     "start_time": "2021-04-28T18:42:43.904177Z"
    }
   },
   "source": [
    "### Last 5 Days, Freq = Minute, 1 Day Seasonality"
   ]
  },
  {
   "cell_type": "code",
   "execution_count": null,
   "metadata": {
    "ExecuteTime": {
     "end_time": "2021-04-30T17:51:40.204755Z",
     "start_time": "2021-04-30T17:51:37.017Z"
    }
   },
   "outputs": [],
   "source": [
    "plot_seasonal_decomposition(df_last_5d_1min_close.dropna(), 'SPY', int(24*60), 'minutes')"
   ]
  },
  {
   "cell_type": "markdown",
   "metadata": {
    "ExecuteTime": {
     "end_time": "2021-04-28T16:19:55.069087Z",
     "start_time": "2021-04-28T16:19:54.927434Z"
    }
   },
   "source": [
    "# Quandl"
   ]
  },
  {
   "cell_type": "code",
   "execution_count": null,
   "metadata": {
    "ExecuteTime": {
     "end_time": "2021-04-28T21:27:27.330500Z",
     "start_time": "2021-04-28T21:27:27.026066Z"
    }
   },
   "outputs": [],
   "source": []
  },
  {
   "cell_type": "code",
   "execution_count": null,
   "metadata": {},
   "outputs": [],
   "source": []
  },
  {
   "cell_type": "code",
   "execution_count": null,
   "metadata": {},
   "outputs": [],
   "source": []
  },
  {
   "cell_type": "markdown",
   "metadata": {
    "ExecuteTime": {
     "end_time": "2021-04-27T18:06:06.964367Z",
     "start_time": "2021-04-27T18:06:06.904098Z"
    }
   },
   "source": [
    "# Modeling"
   ]
  },
  {
   "cell_type": "markdown",
   "metadata": {},
   "source": [
    "## Last 3 Years, 1 Day"
   ]
  },
  {
   "cell_type": "code",
   "execution_count": 103,
   "metadata": {
    "ExecuteTime": {
     "end_time": "2021-04-30T18:29:39.892380Z",
     "start_time": "2021-04-30T18:29:39.831409Z"
    }
   },
   "outputs": [
    {
     "name": "stdout",
     "output_type": "stream",
     "text": [
      "##### Train-Test Split #####\n",
      "Using a 80/20 train-test split...\n",
      "##### Train-Test Split #####\n",
      "Using a 80/20 train-test split...\n"
     ]
    }
   ],
   "source": [
    "df_train, df_test, vol_train, vol_test = run_full_pdarima(df_full_close, df_full_vol, 80, 1)"
   ]
  },
  {
   "cell_type": "code",
   "execution_count": 51,
   "metadata": {
    "ExecuteTime": {
     "end_time": "2021-04-30T18:10:07.648256Z",
     "start_time": "2021-04-30T18:10:05.634144Z"
    }
   },
   "outputs": [
    {
     "data": {
      "image/png": "[encoded data removed]",
      "text/plain": [
       "<Figure size 576x432 with 3 Axes>"
      ]
     },
     "metadata": {
      "needs_background": "light"
     },
     "output_type": "display_data"
    }
   ],
   "source": [
    "pm.tsdisplay(df_train, lag_max=10)"
   ]
  },
  {
   "cell_type": "code",
   "execution_count": 65,
   "metadata": {
    "ExecuteTime": {
     "end_time": "2021-04-30T18:22:23.297915Z",
     "start_time": "2021-04-30T18:22:23.223870Z"
    }
   },
   "outputs": [],
   "source": [
    "y, X = load_date_example()\n",
    "y_train, y_test, X_train, X_test = \\\n",
    "    pm.model_selection.train_test_split(y, X, test_size=20)"
   ]
  },
  {
   "cell_type": "code",
   "execution_count": 104,
   "metadata": {
    "ExecuteTime": {
     "end_time": "2021-04-30T18:29:45.058128Z",
     "start_time": "2021-04-30T18:29:44.991677Z"
    }
   },
   "outputs": [
    {
     "data": {
      "text/html": [
       "<div>\n",
       "<style scoped>\n",
       "    .dataframe tbody tr th:only-of-type {\n",
       "        vertical-align: middle;\n",
       "    }\n",
       "\n",
       "    .dataframe tbody tr th {\n",
       "        vertical-align: top;\n",
       "    }\n",
       "\n",
       "    .dataframe thead th {\n",
       "        text-align: right;\n",
       "    }\n",
       "</style>\n",
       "<table border=\"1\" class=\"dataframe\">\n",
       "  <thead>\n",
       "    <tr style=\"text-align: right;\">\n",
       "      <th></th>\n",
       "      <th>date</th>\n",
       "    </tr>\n",
       "  </thead>\n",
       "  <tbody>\n",
       "    <tr>\n",
       "      <th>0</th>\n",
       "      <td>2018-05-01</td>\n",
       "    </tr>\n",
       "    <tr>\n",
       "      <th>1</th>\n",
       "      <td>2018-05-02</td>\n",
       "    </tr>\n",
       "    <tr>\n",
       "      <th>2</th>\n",
       "      <td>2018-05-03</td>\n",
       "    </tr>\n",
       "    <tr>\n",
       "      <th>3</th>\n",
       "      <td>2018-05-04</td>\n",
       "    </tr>\n",
       "    <tr>\n",
       "      <th>4</th>\n",
       "      <td>2018-05-07</td>\n",
       "    </tr>\n",
       "    <tr>\n",
       "      <th>...</th>\n",
       "      <td>...</td>\n",
       "    </tr>\n",
       "    <tr>\n",
       "      <th>600</th>\n",
       "      <td>2020-09-17</td>\n",
       "    </tr>\n",
       "    <tr>\n",
       "      <th>601</th>\n",
       "      <td>2020-09-18</td>\n",
       "    </tr>\n",
       "    <tr>\n",
       "      <th>602</th>\n",
       "      <td>2020-09-21</td>\n",
       "    </tr>\n",
       "    <tr>\n",
       "      <th>603</th>\n",
       "      <td>2020-09-22</td>\n",
       "    </tr>\n",
       "    <tr>\n",
       "      <th>604</th>\n",
       "      <td>2020-09-23</td>\n",
       "    </tr>\n",
       "  </tbody>\n",
       "</table>\n",
       "<p>605 rows × 1 columns</p>\n",
       "</div>"
      ],
      "text/plain": [
       "          date\n",
       "0   2018-05-01\n",
       "1   2018-05-02\n",
       "2   2018-05-03\n",
       "3   2018-05-04\n",
       "4   2018-05-07\n",
       "..         ...\n",
       "600 2020-09-17\n",
       "601 2020-09-18\n",
       "602 2020-09-21\n",
       "603 2020-09-22\n",
       "604 2020-09-23\n",
       "\n",
       "[605 rows x 1 columns]"
      ]
     },
     "execution_count": 104,
     "metadata": {},
     "output_type": "execute_result"
    }
   ],
   "source": [
    "pd.DataFrame(df_train.index)"
   ]
  },
  {
   "cell_type": "code",
   "execution_count": 105,
   "metadata": {
    "ExecuteTime": {
     "end_time": "2021-04-30T18:29:51.066200Z",
     "start_time": "2021-04-30T18:29:50.978056Z"
    }
   },
   "outputs": [],
   "source": [
    "date_feat = pm.preprocessing.DateFeaturizer(\n",
    "    column_name=\"date\",  # the name of the date feature in the X matrix\n",
    "    with_day_of_week=True,\n",
    "    with_day_of_month=True)\n",
    "_, X_train_feats = date_feat.fit_transform(df_train.values, pd.DataFrame(df_train.index))"
   ]
  },
  {
   "cell_type": "code",
   "execution_count": 106,
   "metadata": {
    "ExecuteTime": {
     "end_time": "2021-04-30T18:29:58.370700Z",
     "start_time": "2021-04-30T18:29:58.309563Z"
    }
   },
   "outputs": [
    {
     "data": {
      "text/html": [
       "<div>\n",
       "<style scoped>\n",
       "    .dataframe tbody tr th:only-of-type {\n",
       "        vertical-align: middle;\n",
       "    }\n",
       "\n",
       "    .dataframe tbody tr th {\n",
       "        vertical-align: top;\n",
       "    }\n",
       "\n",
       "    .dataframe thead th {\n",
       "        text-align: right;\n",
       "    }\n",
       "</style>\n",
       "<table border=\"1\" class=\"dataframe\">\n",
       "  <thead>\n",
       "    <tr style=\"text-align: right;\">\n",
       "      <th></th>\n",
       "      <th>DATE-WEEKDAY-0</th>\n",
       "      <th>DATE-WEEKDAY-1</th>\n",
       "      <th>DATE-WEEKDAY-2</th>\n",
       "      <th>DATE-WEEKDAY-3</th>\n",
       "      <th>DATE-WEEKDAY-4</th>\n",
       "      <th>DATE-WEEKDAY-5</th>\n",
       "      <th>DATE-WEEKDAY-6</th>\n",
       "      <th>DATE-DAY-OF-MONTH</th>\n",
       "    </tr>\n",
       "  </thead>\n",
       "  <tbody>\n",
       "    <tr>\n",
       "      <th>0</th>\n",
       "      <td>0</td>\n",
       "      <td>1</td>\n",
       "      <td>0</td>\n",
       "      <td>0</td>\n",
       "      <td>0</td>\n",
       "      <td>0</td>\n",
       "      <td>0</td>\n",
       "      <td>1</td>\n",
       "    </tr>\n",
       "    <tr>\n",
       "      <th>1</th>\n",
       "      <td>0</td>\n",
       "      <td>0</td>\n",
       "      <td>1</td>\n",
       "      <td>0</td>\n",
       "      <td>0</td>\n",
       "      <td>0</td>\n",
       "      <td>0</td>\n",
       "      <td>2</td>\n",
       "    </tr>\n",
       "    <tr>\n",
       "      <th>2</th>\n",
       "      <td>0</td>\n",
       "      <td>0</td>\n",
       "      <td>0</td>\n",
       "      <td>1</td>\n",
       "      <td>0</td>\n",
       "      <td>0</td>\n",
       "      <td>0</td>\n",
       "      <td>3</td>\n",
       "    </tr>\n",
       "    <tr>\n",
       "      <th>3</th>\n",
       "      <td>0</td>\n",
       "      <td>0</td>\n",
       "      <td>0</td>\n",
       "      <td>0</td>\n",
       "      <td>1</td>\n",
       "      <td>0</td>\n",
       "      <td>0</td>\n",
       "      <td>4</td>\n",
       "    </tr>\n",
       "    <tr>\n",
       "      <th>4</th>\n",
       "      <td>1</td>\n",
       "      <td>0</td>\n",
       "      <td>0</td>\n",
       "      <td>0</td>\n",
       "      <td>0</td>\n",
       "      <td>0</td>\n",
       "      <td>0</td>\n",
       "      <td>7</td>\n",
       "    </tr>\n",
       "    <tr>\n",
       "      <th>...</th>\n",
       "      <td>...</td>\n",
       "      <td>...</td>\n",
       "      <td>...</td>\n",
       "      <td>...</td>\n",
       "      <td>...</td>\n",
       "      <td>...</td>\n",
       "      <td>...</td>\n",
       "      <td>...</td>\n",
       "    </tr>\n",
       "    <tr>\n",
       "      <th>600</th>\n",
       "      <td>0</td>\n",
       "      <td>0</td>\n",
       "      <td>0</td>\n",
       "      <td>1</td>\n",
       "      <td>0</td>\n",
       "      <td>0</td>\n",
       "      <td>0</td>\n",
       "      <td>17</td>\n",
       "    </tr>\n",
       "    <tr>\n",
       "      <th>601</th>\n",
       "      <td>0</td>\n",
       "      <td>0</td>\n",
       "      <td>0</td>\n",
       "      <td>0</td>\n",
       "      <td>1</td>\n",
       "      <td>0</td>\n",
       "      <td>0</td>\n",
       "      <td>18</td>\n",
       "    </tr>\n",
       "    <tr>\n",
       "      <th>602</th>\n",
       "      <td>1</td>\n",
       "      <td>0</td>\n",
       "      <td>0</td>\n",
       "      <td>0</td>\n",
       "      <td>0</td>\n",
       "      <td>0</td>\n",
       "      <td>0</td>\n",
       "      <td>21</td>\n",
       "    </tr>\n",
       "    <tr>\n",
       "      <th>603</th>\n",
       "      <td>0</td>\n",
       "      <td>1</td>\n",
       "      <td>0</td>\n",
       "      <td>0</td>\n",
       "      <td>0</td>\n",
       "      <td>0</td>\n",
       "      <td>0</td>\n",
       "      <td>22</td>\n",
       "    </tr>\n",
       "    <tr>\n",
       "      <th>604</th>\n",
       "      <td>0</td>\n",
       "      <td>0</td>\n",
       "      <td>1</td>\n",
       "      <td>0</td>\n",
       "      <td>0</td>\n",
       "      <td>0</td>\n",
       "      <td>0</td>\n",
       "      <td>23</td>\n",
       "    </tr>\n",
       "  </tbody>\n",
       "</table>\n",
       "<p>605 rows × 8 columns</p>\n",
       "</div>"
      ],
      "text/plain": [
       "     DATE-WEEKDAY-0  DATE-WEEKDAY-1  DATE-WEEKDAY-2  DATE-WEEKDAY-3  \\\n",
       "0                 0               1               0               0   \n",
       "1                 0               0               1               0   \n",
       "2                 0               0               0               1   \n",
       "3                 0               0               0               0   \n",
       "4                 1               0               0               0   \n",
       "..              ...             ...             ...             ...   \n",
       "600               0               0               0               1   \n",
       "601               0               0               0               0   \n",
       "602               1               0               0               0   \n",
       "603               0               1               0               0   \n",
       "604               0               0               1               0   \n",
       "\n",
       "     DATE-WEEKDAY-4  DATE-WEEKDAY-5  DATE-WEEKDAY-6  DATE-DAY-OF-MONTH  \n",
       "0                 0               0               0                  1  \n",
       "1                 0               0               0                  2  \n",
       "2                 0               0               0                  3  \n",
       "3                 1               0               0                  4  \n",
       "4                 0               0               0                  7  \n",
       "..              ...             ...             ...                ...  \n",
       "600               0               0               0                 17  \n",
       "601               1               0               0                 18  \n",
       "602               0               0               0                 21  \n",
       "603               0               0               0                 22  \n",
       "604               0               0               0                 23  \n",
       "\n",
       "[605 rows x 8 columns]"
      ]
     },
     "execution_count": 106,
     "metadata": {},
     "output_type": "execute_result"
    }
   ],
   "source": [
    "X_train_feats"
   ]
  },
  {
   "cell_type": "markdown",
   "metadata": {},
   "source": [
    "## Last 5 Days, 1min"
   ]
  },
  {
   "cell_type": "markdown",
   "metadata": {},
   "source": [
    "### Train-Test Split"
   ]
  },
  {
   "cell_type": "code",
   "execution_count": null,
   "metadata": {
    "ExecuteTime": {
     "end_time": "2021-04-29T21:01:23.851819Z",
     "start_time": "2021-04-29T21:00:58.303Z"
    }
   },
   "outputs": [],
   "source": [
    "# round((80/100)*len(df))"
   ]
  },
  {
   "cell_type": "code",
   "execution_count": 41,
   "metadata": {
    "ExecuteTime": {
     "end_time": "2021-04-30T17:58:48.089751Z",
     "start_time": "2021-04-30T17:58:48.013161Z"
    }
   },
   "outputs": [],
   "source": [
    "# df_train, df_test = train_test_split_data(df, 80)\n",
    "df_train_last_5d_1min, df_test_last_5d_1min = train_test_split_data(df_last_5d_1min_close, 80)\n",
    "vol_train_last_5d_1min, vol_test_last_5d_1min = train_test_split_data(vol_last_5d_1min, 80)"
   ]
  },
  {
   "cell_type": "markdown",
   "metadata": {},
   "source": [
    "#### No Seasonality"
   ]
  },
  {
   "cell_type": "code",
   "execution_count": null,
   "metadata": {
    "ExecuteTime": {
     "end_time": "2021-04-29T21:01:23.860311Z",
     "start_time": "2021-04-29T21:00:58.342Z"
    },
    "scrolled": true
   },
   "outputs": [],
   "source": [
    "# Train Set\n",
    "pm.auto_arima(vol_train_last_5d_1min.dropna()).summary()"
   ]
  },
  {
   "cell_type": "code",
   "execution_count": 45,
   "metadata": {
    "ExecuteTime": {
     "end_time": "2021-04-29T21:04:07.985327Z",
     "start_time": "2021-04-29T21:01:59.624402Z"
    },
    "scrolled": true
   },
   "outputs": [
    {
     "data": {
      "text/html": [
       "<table class=\"simpletable\">\n",
       "<caption>SARIMAX Results</caption>\n",
       "<tr>\n",
       "  <th>Dep. Variable:</th>           <td>y</td>        <th>  No. Observations:  </th>    <td>3927</td>   \n",
       "</tr>\n",
       "<tr>\n",
       "  <th>Model:</th>           <td>SARIMAX(4, 1, 5)</td> <th>  Log Likelihood     </th> <td>-52221.109</td>\n",
       "</tr>\n",
       "<tr>\n",
       "  <th>Date:</th>            <td>Thu, 29 Apr 2021</td> <th>  AIC                </th> <td>104462.219</td>\n",
       "</tr>\n",
       "<tr>\n",
       "  <th>Time:</th>                <td>17:04:07</td>     <th>  BIC                </th> <td>104524.972</td>\n",
       "</tr>\n",
       "<tr>\n",
       "  <th>Sample:</th>                  <td>0</td>        <th>  HQIC               </th> <td>104484.484</td>\n",
       "</tr>\n",
       "<tr>\n",
       "  <th></th>                      <td> - 3927</td>     <th>                     </th>      <td> </td>    \n",
       "</tr>\n",
       "<tr>\n",
       "  <th>Covariance Type:</th>        <td>opg</td>       <th>                     </th>      <td> </td>    \n",
       "</tr>\n",
       "</table>\n",
       "<table class=\"simpletable\">\n",
       "<tr>\n",
       "     <td></td>       <th>coef</th>     <th>std err</th>      <th>z</th>      <th>P>|z|</th>  <th>[0.025</th>    <th>0.975]</th>  \n",
       "</tr>\n",
       "<tr>\n",
       "  <th>ar.L1</th>  <td>   -0.3895</td> <td>    0.078</td> <td>   -5.005</td> <td> 0.000</td> <td>   -0.542</td> <td>   -0.237</td>\n",
       "</tr>\n",
       "<tr>\n",
       "  <th>ar.L2</th>  <td>   -0.0796</td> <td>    0.041</td> <td>   -1.920</td> <td> 0.055</td> <td>   -0.161</td> <td>    0.002</td>\n",
       "</tr>\n",
       "<tr>\n",
       "  <th>ar.L3</th>  <td>    0.4202</td> <td>    0.062</td> <td>    6.764</td> <td> 0.000</td> <td>    0.298</td> <td>    0.542</td>\n",
       "</tr>\n",
       "<tr>\n",
       "  <th>ar.L4</th>  <td>    0.5403</td> <td>    0.063</td> <td>    8.637</td> <td> 0.000</td> <td>    0.418</td> <td>    0.663</td>\n",
       "</tr>\n",
       "<tr>\n",
       "  <th>ma.L1</th>  <td>   -0.2453</td> <td>    0.077</td> <td>   -3.172</td> <td> 0.002</td> <td>   -0.397</td> <td>   -0.094</td>\n",
       "</tr>\n",
       "<tr>\n",
       "  <th>ma.L2</th>  <td>   -0.2847</td> <td>    0.071</td> <td>   -4.009</td> <td> 0.000</td> <td>   -0.424</td> <td>   -0.146</td>\n",
       "</tr>\n",
       "<tr>\n",
       "  <th>ma.L3</th>  <td>   -0.5526</td> <td>    0.067</td> <td>   -8.193</td> <td> 0.000</td> <td>   -0.685</td> <td>   -0.420</td>\n",
       "</tr>\n",
       "<tr>\n",
       "  <th>ma.L4</th>  <td>   -0.3067</td> <td>    0.095</td> <td>   -3.213</td> <td> 0.001</td> <td>   -0.494</td> <td>   -0.120</td>\n",
       "</tr>\n",
       "<tr>\n",
       "  <th>ma.L5</th>  <td>    0.4222</td> <td>    0.035</td> <td>   11.942</td> <td> 0.000</td> <td>    0.353</td> <td>    0.492</td>\n",
       "</tr>\n",
       "<tr>\n",
       "  <th>sigma2</th> <td> 2.146e+10</td> <td> 3.57e-11</td> <td> 6.01e+20</td> <td> 0.000</td> <td> 2.15e+10</td> <td> 2.15e+10</td>\n",
       "</tr>\n",
       "</table>\n",
       "<table class=\"simpletable\">\n",
       "<tr>\n",
       "  <th>Ljung-Box (Q):</th>          <td>67.42</td> <th>  Jarque-Bera (JB):  </th> <td>3955420.19</td>\n",
       "</tr>\n",
       "<tr>\n",
       "  <th>Prob(Q):</th>                <td>0.00</td>  <th>  Prob(JB):          </th>    <td>0.00</td>   \n",
       "</tr>\n",
       "<tr>\n",
       "  <th>Heteroskedasticity (H):</th> <td>1.51</td>  <th>  Skew:              </th>    <td>8.61</td>   \n",
       "</tr>\n",
       "<tr>\n",
       "  <th>Prob(H) (two-sided):</th>    <td>0.00</td>  <th>  Kurtosis:          </th>   <td>157.54</td>  \n",
       "</tr>\n",
       "</table><br/><br/>Warnings:<br/>[1] Covariance matrix calculated using the outer product of gradients (complex-step).<br/>[2] Covariance matrix is singular or near-singular, with condition number 3.02e+35. Standard errors may be unstable."
      ],
      "text/plain": [
       "<class 'statsmodels.iolib.summary.Summary'>\n",
       "\"\"\"\n",
       "                               SARIMAX Results                                \n",
       "==============================================================================\n",
       "Dep. Variable:                      y   No. Observations:                 3927\n",
       "Model:               SARIMAX(4, 1, 5)   Log Likelihood              -52221.109\n",
       "Date:                Thu, 29 Apr 2021   AIC                         104462.219\n",
       "Time:                        17:04:07   BIC                         104524.972\n",
       "Sample:                             0   HQIC                        104484.484\n",
       "                               - 3927                                         \n",
       "Covariance Type:                  opg                                         \n",
       "==============================================================================\n",
       "                 coef    std err          z      P>|z|      [0.025      0.975]\n",
       "------------------------------------------------------------------------------\n",
       "ar.L1         -0.3895      0.078     -5.005      0.000      -0.542      -0.237\n",
       "ar.L2         -0.0796      0.041     -1.920      0.055      -0.161       0.002\n",
       "ar.L3          0.4202      0.062      6.764      0.000       0.298       0.542\n",
       "ar.L4          0.5403      0.063      8.637      0.000       0.418       0.663\n",
       "ma.L1         -0.2453      0.077     -3.172      0.002      -0.397      -0.094\n",
       "ma.L2         -0.2847      0.071     -4.009      0.000      -0.424      -0.146\n",
       "ma.L3         -0.5526      0.067     -8.193      0.000      -0.685      -0.420\n",
       "ma.L4         -0.3067      0.095     -3.213      0.001      -0.494      -0.120\n",
       "ma.L5          0.4222      0.035     11.942      0.000       0.353       0.492\n",
       "sigma2      2.146e+10   3.57e-11   6.01e+20      0.000    2.15e+10    2.15e+10\n",
       "===================================================================================\n",
       "Ljung-Box (Q):                       67.42   Jarque-Bera (JB):           3955420.19\n",
       "Prob(Q):                              0.00   Prob(JB):                         0.00\n",
       "Heteroskedasticity (H):               1.51   Skew:                             8.61\n",
       "Prob(H) (two-sided):                  0.00   Kurtosis:                       157.54\n",
       "===================================================================================\n",
       "\n",
       "Warnings:\n",
       "[1] Covariance matrix calculated using the outer product of gradients (complex-step).\n",
       "[2] Covariance matrix is singular or near-singular, with condition number 3.02e+35. Standard errors may be unstable.\n",
       "\"\"\""
      ]
     },
     "execution_count": 45,
     "metadata": {},
     "output_type": "execute_result"
    }
   ],
   "source": [
    "# Full Set\n",
    "pm.auto_arima(vol_last_5d_1min.dropna()).summary()"
   ]
  },
  {
   "cell_type": "markdown",
   "metadata": {},
   "source": [
    "#### 1 Day Seasonality"
   ]
  },
  {
   "cell_type": "markdown",
   "metadata": {
    "ExecuteTime": {
     "end_time": "2021-04-29T20:29:29.907692Z",
     "start_time": "2021-04-29T20:29:08.426Z"
    }
   },
   "source": [
    "##### Train Set"
   ]
  },
  {
   "cell_type": "code",
   "execution_count": null,
   "metadata": {
    "ExecuteTime": {
     "end_time": "2021-04-29T21:01:23.863339Z",
     "start_time": "2021-04-29T21:00:58.355Z"
    }
   },
   "outputs": [],
   "source": [
    "# pm.auto_arima(vol_train_last_5d_1min.dropna(), seasonal=True, m=24*60).summary()"
   ]
  },
  {
   "cell_type": "markdown",
   "metadata": {},
   "source": [
    "##### Full Set"
   ]
  },
  {
   "cell_type": "code",
   "execution_count": null,
   "metadata": {
    "ExecuteTime": {
     "end_time": "2021-04-29T21:01:23.865050Z",
     "start_time": "2021-04-29T21:00:58.362Z"
    }
   },
   "outputs": [],
   "source": [
    "# pm.auto_arima(vol_last_5d_1min.dropna(), seasonal=True, m=24*60).summary()"
   ]
  },
  {
   "cell_type": "code",
   "execution_count": null,
   "metadata": {
    "ExecuteTime": {
     "end_time": "2021-04-29T21:01:23.854225Z",
     "start_time": "2021-04-29T21:00:58.313Z"
    }
   },
   "outputs": [],
   "source": [
    "# param_list = []\n",
    "# param_seasonal_list = []\n",
    "# aic_list = []"
   ]
  },
  {
   "cell_type": "code",
   "execution_count": null,
   "metadata": {
    "ExecuteTime": {
     "end_time": "2021-04-29T21:01:23.855721Z",
     "start_time": "2021-04-29T21:00:58.317Z"
    }
   },
   "outputs": [],
   "source": [
    "# param = (2,1,0)\n",
    "# param_seasonal = (2,1,0,2190)"
   ]
  },
  {
   "cell_type": "code",
   "execution_count": null,
   "metadata": {
    "ExecuteTime": {
     "end_time": "2021-04-29T21:01:23.856881Z",
     "start_time": "2021-04-29T21:00:58.323Z"
    }
   },
   "outputs": [],
   "source": [
    "# mod = SARIMAX(df_train,\n",
    "#               order=param,\n",
    "#               seasonal_order=param_seasonal,\n",
    "#               enforce_stationarity=False,\n",
    "#               enforce_invertibility=False,\n",
    "#               verbose=True).fit()\n",
    "# param_list.append(param)\n",
    "# param_seasonal_list.append(param_seasonal)\n",
    "# aic = mod.aic"
   ]
  },
  {
   "cell_type": "code",
   "execution_count": null,
   "metadata": {
    "ExecuteTime": {
     "end_time": "2021-04-29T21:01:23.858070Z",
     "start_time": "2021-04-29T21:00:58.328Z"
    }
   },
   "outputs": [],
   "source": [
    "# param_list, param_seasonal_list, aic_list = gridsearch_SARIMAX(df_train)"
   ]
  },
  {
   "cell_type": "markdown",
   "metadata": {},
   "source": [
    "## Auto ARIMA"
   ]
  },
  {
   "cell_type": "code",
   "execution_count": null,
   "metadata": {
    "ExecuteTime": {
     "end_time": "2021-04-29T21:01:23.859228Z",
     "start_time": "2021-04-29T21:00:58.334Z"
    }
   },
   "outputs": [],
   "source": [
    "# pm.auto_arima(df.dropna(), seasonal=True, m=2190).summary()\n",
    "# pm.auto_arima(df.dropna(), seasonal=True, m=round(365/4)).summary()"
   ]
  },
  {
   "cell_type": "markdown",
   "metadata": {
    "ExecuteTime": {
     "end_time": "2021-04-29T16:18:21.912084Z",
     "start_time": "2021-04-29T16:17:34.280308Z"
    }
   },
   "source": [
    "### Last 5 Days, 1min - `Close`"
   ]
  },
  {
   "cell_type": "code",
   "execution_count": null,
   "metadata": {
    "ExecuteTime": {
     "end_time": "2021-04-29T21:01:23.866430Z",
     "start_time": "2021-04-29T21:00:58.368Z"
    }
   },
   "outputs": [],
   "source": [
    "# Train Set\n",
    "# pm.auto_arima(df_train_last_5d_1min.dropna(), exog=vol_train_last_5d_1min).summary()"
   ]
  },
  {
   "cell_type": "code",
   "execution_count": 46,
   "metadata": {
    "ExecuteTime": {
     "end_time": "2021-04-29T21:05:14.450188Z",
     "start_time": "2021-04-29T21:04:07.987939Z"
    }
   },
   "outputs": [
    {
     "data": {
      "text/html": [
       "<table class=\"simpletable\">\n",
       "<caption>SARIMAX Results</caption>\n",
       "<tr>\n",
       "  <th>Dep. Variable:</th>           <td>y</td>        <th>  No. Observations:  </th>   <td>3927</td>   \n",
       "</tr>\n",
       "<tr>\n",
       "  <th>Model:</th>           <td>SARIMAX(1, 1, 3)</td> <th>  Log Likelihood     </th> <td>3921.866</td> \n",
       "</tr>\n",
       "<tr>\n",
       "  <th>Date:</th>            <td>Thu, 29 Apr 2021</td> <th>  AIC                </th> <td>-7833.733</td>\n",
       "</tr>\n",
       "<tr>\n",
       "  <th>Time:</th>                <td>17:05:14</td>     <th>  BIC                </th> <td>-7802.356</td>\n",
       "</tr>\n",
       "<tr>\n",
       "  <th>Sample:</th>                  <td>0</td>        <th>  HQIC               </th> <td>-7822.600</td>\n",
       "</tr>\n",
       "<tr>\n",
       "  <th></th>                      <td> - 3927</td>     <th>                     </th>     <td> </td>    \n",
       "</tr>\n",
       "<tr>\n",
       "  <th>Covariance Type:</th>        <td>opg</td>       <th>                     </th>     <td> </td>    \n",
       "</tr>\n",
       "</table>\n",
       "<table class=\"simpletable\">\n",
       "<tr>\n",
       "     <td></td>       <th>coef</th>     <th>std err</th>      <th>z</th>      <th>P>|z|</th>  <th>[0.025</th>    <th>0.975]</th>  \n",
       "</tr>\n",
       "<tr>\n",
       "  <th>ar.L1</th>  <td>   -0.8036</td> <td>    0.061</td> <td>  -13.280</td> <td> 0.000</td> <td>   -0.922</td> <td>   -0.685</td>\n",
       "</tr>\n",
       "<tr>\n",
       "  <th>ma.L1</th>  <td>    0.8304</td> <td>    0.062</td> <td>   13.422</td> <td> 0.000</td> <td>    0.709</td> <td>    0.952</td>\n",
       "</tr>\n",
       "<tr>\n",
       "  <th>ma.L2</th>  <td>   -0.0064</td> <td>    0.010</td> <td>   -0.628</td> <td> 0.530</td> <td>   -0.026</td> <td>    0.014</td>\n",
       "</tr>\n",
       "<tr>\n",
       "  <th>ma.L3</th>  <td>   -0.0552</td> <td>    0.008</td> <td>   -7.132</td> <td> 0.000</td> <td>   -0.070</td> <td>   -0.040</td>\n",
       "</tr>\n",
       "<tr>\n",
       "  <th>sigma2</th> <td>    0.0079</td> <td> 5.38e-05</td> <td>  147.619</td> <td> 0.000</td> <td>    0.008</td> <td>    0.008</td>\n",
       "</tr>\n",
       "</table>\n",
       "<table class=\"simpletable\">\n",
       "<tr>\n",
       "  <th>Ljung-Box (Q):</th>          <td>72.61</td> <th>  Jarque-Bera (JB):  </th> <td>87775.39</td>\n",
       "</tr>\n",
       "<tr>\n",
       "  <th>Prob(Q):</th>                <td>0.00</td>  <th>  Prob(JB):          </th>   <td>0.00</td>  \n",
       "</tr>\n",
       "<tr>\n",
       "  <th>Heteroskedasticity (H):</th> <td>0.43</td>  <th>  Skew:              </th>   <td>-0.79</td> \n",
       "</tr>\n",
       "<tr>\n",
       "  <th>Prob(H) (two-sided):</th>    <td>0.00</td>  <th>  Kurtosis:          </th>   <td>26.11</td> \n",
       "</tr>\n",
       "</table><br/><br/>Warnings:<br/>[1] Covariance matrix calculated using the outer product of gradients (complex-step)."
      ],
      "text/plain": [
       "<class 'statsmodels.iolib.summary.Summary'>\n",
       "\"\"\"\n",
       "                               SARIMAX Results                                \n",
       "==============================================================================\n",
       "Dep. Variable:                      y   No. Observations:                 3927\n",
       "Model:               SARIMAX(1, 1, 3)   Log Likelihood                3921.866\n",
       "Date:                Thu, 29 Apr 2021   AIC                          -7833.733\n",
       "Time:                        17:05:14   BIC                          -7802.356\n",
       "Sample:                             0   HQIC                         -7822.600\n",
       "                               - 3927                                         \n",
       "Covariance Type:                  opg                                         \n",
       "==============================================================================\n",
       "                 coef    std err          z      P>|z|      [0.025      0.975]\n",
       "------------------------------------------------------------------------------\n",
       "ar.L1         -0.8036      0.061    -13.280      0.000      -0.922      -0.685\n",
       "ma.L1          0.8304      0.062     13.422      0.000       0.709       0.952\n",
       "ma.L2         -0.0064      0.010     -0.628      0.530      -0.026       0.014\n",
       "ma.L3         -0.0552      0.008     -7.132      0.000      -0.070      -0.040\n",
       "sigma2         0.0079   5.38e-05    147.619      0.000       0.008       0.008\n",
       "===================================================================================\n",
       "Ljung-Box (Q):                       72.61   Jarque-Bera (JB):             87775.39\n",
       "Prob(Q):                              0.00   Prob(JB):                         0.00\n",
       "Heteroskedasticity (H):               0.43   Skew:                            -0.79\n",
       "Prob(H) (two-sided):                  0.00   Kurtosis:                        26.11\n",
       "===================================================================================\n",
       "\n",
       "Warnings:\n",
       "[1] Covariance matrix calculated using the outer product of gradients (complex-step).\n",
       "\"\"\""
      ]
     },
     "execution_count": 46,
     "metadata": {},
     "output_type": "execute_result"
    }
   ],
   "source": [
    "# Full Set\n",
    "pm.auto_arima(df_last_5d_1min_close.dropna(), exog=vol_last_5d_1min).summary()"
   ]
  },
  {
   "cell_type": "markdown",
   "metadata": {},
   "source": [
    "#### 1 Day Seasonality"
   ]
  },
  {
   "cell_type": "markdown",
   "metadata": {},
   "source": [
    "##### Train Set"
   ]
  },
  {
   "cell_type": "code",
   "execution_count": null,
   "metadata": {
    "ExecuteTime": {
     "end_time": "2021-04-29T21:01:23.869340Z",
     "start_time": "2021-04-29T21:00:58.380Z"
    }
   },
   "outputs": [],
   "source": [
    "# pm.auto_arima(df_train_last_5d_1min.dropna(), exog=vol_train_last_5d_1min, seasonal=True, m=24*60).summary()"
   ]
  },
  {
   "cell_type": "markdown",
   "metadata": {},
   "source": [
    "##### Full Set"
   ]
  },
  {
   "cell_type": "code",
   "execution_count": null,
   "metadata": {
    "ExecuteTime": {
     "end_time": "2021-04-29T21:01:23.870415Z",
     "start_time": "2021-04-29T21:00:58.386Z"
    }
   },
   "outputs": [],
   "source": [
    "# pm.auto_arima(df_last_5d_1min.dropna(), exog=vol_last_5d_1min, seasonal=True, m=24*60).summary()"
   ]
  },
  {
   "cell_type": "code",
   "execution_count": null,
   "metadata": {
    "ExecuteTime": {
     "end_time": "2021-04-29T21:01:23.871505Z",
     "start_time": "2021-04-29T21:00:58.392Z"
    }
   },
   "outputs": [],
   "source": [
    "# pm.auto_arima(df_last_5d_1min_close.dropna(), exog=vol_last_5d_1min, exog=vol_train, seasonal=True, m=16*5).summary()"
   ]
  },
  {
   "cell_type": "markdown",
   "metadata": {
    "ExecuteTime": {
     "end_time": "2021-04-29T20:17:55.462052Z",
     "start_time": "2021-04-29T20:17:55.460108Z"
    }
   },
   "source": [
    "## SARIMAX Fitting"
   ]
  },
  {
   "cell_type": "code",
   "execution_count": null,
   "metadata": {
    "ExecuteTime": {
     "end_time": "2021-04-29T21:01:23.872745Z",
     "start_time": "2021-04-29T21:00:58.398Z"
    }
   },
   "outputs": [],
   "source": [
    "df_test_last_5d_1min"
   ]
  },
  {
   "cell_type": "code",
   "execution_count": null,
   "metadata": {
    "ExecuteTime": {
     "end_time": "2021-04-29T21:01:23.874023Z",
     "start_time": "2021-04-29T21:00:58.403Z"
    }
   },
   "outputs": [],
   "source": [
    "df_train_last_5d_1min.isna().index"
   ]
  },
  {
   "cell_type": "code",
   "execution_count": null,
   "metadata": {
    "ExecuteTime": {
     "end_time": "2021-04-29T21:01:23.875125Z",
     "start_time": "2021-04-29T21:00:58.409Z"
    }
   },
   "outputs": [],
   "source": [
    "df_test_last_5d_1min"
   ]
  },
  {
   "cell_type": "markdown",
   "metadata": {},
   "source": [
    "### Last 5 Days, Freq = Minute"
   ]
  },
  {
   "cell_type": "markdown",
   "metadata": {
    "ExecuteTime": {
     "start_time": "2021-04-29T20:39:34.444Z"
    }
   },
   "source": [
    "#### No Seasonality"
   ]
  },
  {
   "cell_type": "code",
   "execution_count": null,
   "metadata": {
    "ExecuteTime": {
     "end_time": "2021-04-29T21:01:23.876344Z",
     "start_time": "2021-04-29T21:00:58.416Z"
    }
   },
   "outputs": [],
   "source": [
    "# sari_mod_volume = SARIMAX(vol_train_last_5d_1min, order=(4,1,5)).fit()\n",
    "# sari_mod_volume.summary()\n",
    "# failed to converge"
   ]
  },
  {
   "cell_type": "code",
   "execution_count": 40,
   "metadata": {
    "ExecuteTime": {
     "end_time": "2021-04-30T17:58:40.249410Z",
     "start_time": "2021-04-30T17:58:40.108711Z"
    }
   },
   "outputs": [
    {
     "ename": "NameError",
     "evalue": "name 'vol_train_last_5d_1min' is not defined",
     "output_type": "error",
     "traceback": [
      "\u001b[0;31m---------------------------------------------------------------------------\u001b[0m",
      "\u001b[0;31mNameError\u001b[0m                                 Traceback (most recent call last)",
      "\u001b[0;32m<ipython-input-40-e5c6ee9497ad>\u001b[0m in \u001b[0;36m<module>\u001b[0;34m\u001b[0m\n\u001b[0;32m----> 1\u001b[0;31m \u001b[0msari_mod_volume\u001b[0m \u001b[0;34m=\u001b[0m \u001b[0mSARIMAX\u001b[0m\u001b[0;34m(\u001b[0m\u001b[0mvol_train_last_5d_1min\u001b[0m\u001b[0;34m,\u001b[0m \u001b[0morder\u001b[0m\u001b[0;34m=\u001b[0m\u001b[0;34m(\u001b[0m\u001b[0;36m4\u001b[0m\u001b[0;34m,\u001b[0m\u001b[0;36m1\u001b[0m\u001b[0;34m,\u001b[0m\u001b[0;36m5\u001b[0m\u001b[0;34m)\u001b[0m\u001b[0;34m)\u001b[0m\u001b[0;34m.\u001b[0m\u001b[0mfit\u001b[0m\u001b[0;34m(\u001b[0m\u001b[0;34m)\u001b[0m\u001b[0;34m\u001b[0m\u001b[0;34m\u001b[0m\u001b[0m\n\u001b[0m\u001b[1;32m      2\u001b[0m \u001b[0msari_mod_volume\u001b[0m\u001b[0;34m.\u001b[0m\u001b[0msummary\u001b[0m\u001b[0;34m(\u001b[0m\u001b[0;34m)\u001b[0m\u001b[0;34m\u001b[0m\u001b[0;34m\u001b[0m\u001b[0m\n",
      "\u001b[0;31mNameError\u001b[0m: name 'vol_train_last_5d_1min' is not defined"
     ]
    }
   ],
   "source": [
    "sari_mod_volume = SARIMAX(vol_train_last_5d_1min, order=(4,1,5)).fit()\n",
    "sari_mod_volume.summary()"
   ]
  },
  {
   "cell_type": "code",
   "execution_count": null,
   "metadata": {
    "ExecuteTime": {
     "end_time": "2021-04-29T21:01:23.877356Z",
     "start_time": "2021-04-29T21:00:58.421Z"
    }
   },
   "outputs": [],
   "source": [
    "sari_mod_close = SARIMAX(df_train_last_5d_1min, order=(1,1,3), exog=vol_train_last_5d_1min.dropna()).fit()\n",
    "sari_mod_close.summary()"
   ]
  },
  {
   "cell_type": "markdown",
   "metadata": {},
   "source": [
    "#### 1 Day Seasonality"
   ]
  },
  {
   "cell_type": "code",
   "execution_count": null,
   "metadata": {
    "ExecuteTime": {
     "end_time": "2021-04-29T21:01:23.879065Z",
     "start_time": "2021-04-29T21:00:58.427Z"
    }
   },
   "outputs": [],
   "source": [
    "# sari_mod_volume = SARIMAX(vol_train_last_5d_1min, order=(1,1,0),seasonal_order=(1,1,0,24*60)).fit()\n",
    "# sari_mod_volume.summary()"
   ]
  },
  {
   "cell_type": "code",
   "execution_count": null,
   "metadata": {
    "ExecuteTime": {
     "end_time": "2021-04-29T21:01:23.880750Z",
     "start_time": "2021-04-29T21:00:58.432Z"
    }
   },
   "outputs": [],
   "source": [
    "# sari_mod_close = SARIMAX(df_train_last_5d_1min, order=(1,1,0), exog=vol_train_last_5d_1min.dropna(), seasonal_order=(1,1,0,24*60)).fit()\n",
    "# sari_mod_close.summary()"
   ]
  },
  {
   "cell_type": "code",
   "execution_count": null,
   "metadata": {
    "ExecuteTime": {
     "end_time": "2021-04-29T21:01:23.882017Z",
     "start_time": "2021-04-29T21:00:58.438Z"
    }
   },
   "outputs": [],
   "source": [
    "df_test_last_5d_1min.index[0]"
   ]
  },
  {
   "cell_type": "markdown",
   "metadata": {},
   "source": [
    "## Simple Test vs Predict"
   ]
  },
  {
   "cell_type": "markdown",
   "metadata": {},
   "source": [
    "### Last 5 Days, 1min - `Volume`"
   ]
  },
  {
   "cell_type": "markdown",
   "metadata": {
    "ExecuteTime": {
     "start_time": "2021-04-29T20:52:03.106Z"
    }
   },
   "source": [
    "#### No Seasonality"
   ]
  },
  {
   "cell_type": "code",
   "execution_count": null,
   "metadata": {
    "ExecuteTime": {
     "end_time": "2021-04-29T21:01:23.883304Z",
     "start_time": "2021-04-29T21:00:58.446Z"
    }
   },
   "outputs": [],
   "source": [
    "v_hat_train_last_5d_1min = sari_mod_close.predict(typ='levels', dynamic=False)\n",
    "v_hat_test_last_5d_1min = sari_mod_close.predict(start=vol_test_last_5d_1min.index[0], end=vol_test_last_5d_1min.index[-1], typ='levels')"
   ]
  },
  {
   "cell_type": "markdown",
   "metadata": {},
   "source": [
    "### Last 5 Days, 1min - `Close`"
   ]
  },
  {
   "cell_type": "code",
   "execution_count": null,
   "metadata": {
    "ExecuteTime": {
     "end_time": "2021-04-29T21:01:23.884849Z",
     "start_time": "2021-04-29T21:00:58.452Z"
    }
   },
   "outputs": [],
   "source": [
    "y_hat_train_last_5d_1min = sari_mod_close.predict(typ='levels', dynamic=False)\n",
    "y_hat_test_last_5d_1min = sari_mod_close.predict(start=df_test_last_5d_1min.index[0], end=df_test_last_5d_1min.index[-1], typ='levels')"
   ]
  },
  {
   "cell_type": "markdown",
   "metadata": {},
   "source": [
    "#### 1 Day Seasonality"
   ]
  },
  {
   "cell_type": "markdown",
   "metadata": {},
   "source": [
    "### Visualization"
   ]
  },
  {
   "cell_type": "code",
   "execution_count": null,
   "metadata": {
    "ExecuteTime": {
     "end_time": "2021-04-29T21:01:23.886460Z",
     "start_time": "2021-04-29T21:00:58.460Z"
    }
   },
   "outputs": [],
   "source": [
    "fig, ax = plt.subplots(figsize = (10,8))\n",
    "ax.plot(df_train_last_5d_1min, label='Train')\n",
    "ax.plot(df_test_last_5d_1min, label='Test')\n",
    "ax.plot(y_hat_train_last_5d_1min, label='Train Predictions')\n",
    "ax.plot(y_hat_test_last_5d_1min, label='Test Predictions')\n",
    "ax.set_title('SPY Close Price: Train/Test v Predictions In-Sample')\n",
    "plt.setp(ax.xaxis.get_majorticklabels(), ha=\"right\", rotation=45, rotation_mode=\"anchor\")\n",
    "plt.legend()"
   ]
  },
  {
   "cell_type": "code",
   "execution_count": null,
   "metadata": {
    "ExecuteTime": {
     "end_time": "2021-04-29T21:01:23.887769Z",
     "start_time": "2021-04-29T21:00:58.464Z"
    }
   },
   "outputs": [],
   "source": [
    "# fig, ax = plt.subplots(figsize = (10,8))\n",
    "# ax.plot(df_train_last_5d_1min, label='Train')\n",
    "# ax.plot(df_test_last_5d_1min, label='Test')\n",
    "# ax.plot(y_hat_train_last_5d_1min, label='Train Predictions')\n",
    "# ax.plot(y_hat_test_last_5d_1min, label='Test Predictions')\n",
    "# ax.set_title('SPY Close Price: Train/Test v Predictions In-Sample')\n",
    "# plt.setp(ax.xaxis.get_majorticklabels(), ha=\"right\", rotation=45, rotation_mode=\"anchor\")\n",
    "# plt.legend()"
   ]
  },
  {
   "cell_type": "code",
   "execution_count": null,
   "metadata": {
    "ExecuteTime": {
     "end_time": "2021-04-29T21:01:23.889286Z",
     "start_time": "2021-04-29T21:00:58.470Z"
    }
   },
   "outputs": [],
   "source": [
    "y_hat_train.idxmax()"
   ]
  },
  {
   "cell_type": "code",
   "execution_count": null,
   "metadata": {
    "ExecuteTime": {
     "end_time": "2021-04-29T21:01:23.891527Z",
     "start_time": "2021-04-29T21:00:58.475Z"
    }
   },
   "outputs": [],
   "source": [
    "y_hat_train.max()"
   ]
  },
  {
   "cell_type": "code",
   "execution_count": null,
   "metadata": {
    "ExecuteTime": {
     "end_time": "2021-04-29T21:01:23.892721Z",
     "start_time": "2021-04-29T21:00:58.481Z"
    }
   },
   "outputs": [],
   "source": [
    "y_hat_train.drop(y_hat_train.idxmax(), inplace=True)"
   ]
  },
  {
   "cell_type": "code",
   "execution_count": null,
   "metadata": {
    "ExecuteTime": {
     "end_time": "2021-04-29T21:01:23.894257Z",
     "start_time": "2021-04-29T21:00:58.486Z"
    }
   },
   "outputs": [],
   "source": [
    "y_hat_test"
   ]
  },
  {
   "cell_type": "markdown",
   "metadata": {},
   "source": [
    "## SARIMAX Forecasting"
   ]
  },
  {
   "cell_type": "markdown",
   "metadata": {},
   "source": [
    "### Volume"
   ]
  },
  {
   "cell_type": "code",
   "execution_count": 118,
   "metadata": {
    "ExecuteTime": {
     "end_time": "2021-04-30T15:06:48.852442Z",
     "start_time": "2021-04-30T15:06:48.521207Z"
    }
   },
   "outputs": [
    {
     "data": {
      "text/html": [
       "<table class=\"simpletable\">\n",
       "<caption>SARIMAX Results</caption>\n",
       "<tr>\n",
       "  <th>Dep. Variable:</th>        <td>volume</td>      <th>  No. Observations:  </th>    <td>9600</td>   \n",
       "</tr>\n",
       "<tr>\n",
       "  <th>Model:</th>           <td>SARIMAX(0, 1, 0)</td> <th>  Log Likelihood     </th> <td>-54227.908</td>\n",
       "</tr>\n",
       "<tr>\n",
       "  <th>Date:</th>            <td>Fri, 30 Apr 2021</td> <th>  AIC                </th> <td>108457.817</td>\n",
       "</tr>\n",
       "<tr>\n",
       "  <th>Time:</th>                <td>11:06:48</td>     <th>  BIC                </th> <td>108464.986</td>\n",
       "</tr>\n",
       "<tr>\n",
       "  <th>Sample:</th>             <td>04-22-2021</td>    <th>  HQIC               </th> <td>108460.248</td>\n",
       "</tr>\n",
       "<tr>\n",
       "  <th></th>                   <td>- 04-28-2021</td>   <th>                     </th>      <td> </td>    \n",
       "</tr>\n",
       "<tr>\n",
       "  <th>Covariance Type:</th>        <td>opg</td>       <th>                     </th>      <td> </td>    \n",
       "</tr>\n",
       "</table>\n",
       "<table class=\"simpletable\">\n",
       "<tr>\n",
       "     <td></td>       <th>coef</th>     <th>std err</th>      <th>z</th>      <th>P>|z|</th>  <th>[0.025</th>    <th>0.975]</th>  \n",
       "</tr>\n",
       "<tr>\n",
       "  <th>sigma2</th> <td> 1.224e+10</td> <td> 1.43e+07</td> <td>  857.658</td> <td> 0.000</td> <td> 1.22e+10</td> <td> 1.23e+10</td>\n",
       "</tr>\n",
       "</table>\n",
       "<table class=\"simpletable\">\n",
       "<tr>\n",
       "  <th>Ljung-Box (Q):</th>          <td>1865.38</td> <th>  Jarque-Bera (JB):  </th> <td>37156945.25</td>\n",
       "</tr>\n",
       "<tr>\n",
       "  <th>Prob(Q):</th>                 <td>0.00</td>   <th>  Prob(JB):          </th>    <td>0.00</td>    \n",
       "</tr>\n",
       "<tr>\n",
       "  <th>Heteroskedasticity (H):</th>  <td>1.38</td>   <th>  Skew:              </th>    <td>-0.01</td>   \n",
       "</tr>\n",
       "<tr>\n",
       "  <th>Prob(H) (two-sided):</th>     <td>0.00</td>   <th>  Kurtosis:          </th>   <td>307.80</td>   \n",
       "</tr>\n",
       "</table><br/><br/>Warnings:<br/>[1] Covariance matrix calculated using the outer product of gradients (complex-step)."
      ],
      "text/plain": [
       "<class 'statsmodels.iolib.summary.Summary'>\n",
       "\"\"\"\n",
       "                               SARIMAX Results                                \n",
       "==============================================================================\n",
       "Dep. Variable:                 volume   No. Observations:                 9600\n",
       "Model:               SARIMAX(0, 1, 0)   Log Likelihood              -54227.908\n",
       "Date:                Fri, 30 Apr 2021   AIC                         108457.817\n",
       "Time:                        11:06:48   BIC                         108464.986\n",
       "Sample:                    04-22-2021   HQIC                        108460.248\n",
       "                         - 04-28-2021                                         \n",
       "Covariance Type:                  opg                                         \n",
       "==============================================================================\n",
       "                 coef    std err          z      P>|z|      [0.025      0.975]\n",
       "------------------------------------------------------------------------------\n",
       "sigma2      1.224e+10   1.43e+07    857.658      0.000    1.22e+10    1.23e+10\n",
       "===================================================================================\n",
       "Ljung-Box (Q):                     1865.38   Jarque-Bera (JB):          37156945.25\n",
       "Prob(Q):                              0.00   Prob(JB):                         0.00\n",
       "Heteroskedasticity (H):               1.38   Skew:                            -0.01\n",
       "Prob(H) (two-sided):                  0.00   Kurtosis:                       307.80\n",
       "===================================================================================\n",
       "\n",
       "Warnings:\n",
       "[1] Covariance matrix calculated using the outer product of gradients (complex-step).\n",
       "\"\"\""
      ]
     },
     "execution_count": 118,
     "metadata": {},
     "output_type": "execute_result"
    }
   ],
   "source": [
    "sari_mod_vol_fc = SARIMAX(vol_last_5d_1min,order=(4,1,5)).fit()\n",
    "sari_mod_vol_fc.summary()"
   ]
  },
  {
   "cell_type": "code",
   "execution_count": 119,
   "metadata": {
    "ExecuteTime": {
     "end_time": "2021-04-30T15:06:52.255017Z",
     "start_time": "2021-04-30T15:06:51.916980Z"
    }
   },
   "outputs": [
    {
     "data": {
      "text/plain": [
       "<matplotlib.axes._subplots.AxesSubplot at 0x7f9f2628cd60>"
      ]
     },
     "execution_count": 119,
     "metadata": {},
     "output_type": "execute_result"
    },
    {
     "data": {
      "image/png": "[encoded data removed]",
      "text/plain": [
       "<Figure size 432x288 with 1 Axes>"
      ]
     },
     "metadata": {},
     "output_type": "display_data"
    }
   ],
   "source": [
    "vol_fc = sari_mod_vol_fc.forecast(steps=24*60)\n",
    "vol_fc\n",
    "vol_fc.plot()"
   ]
  },
  {
   "cell_type": "code",
   "execution_count": 49,
   "metadata": {
    "ExecuteTime": {
     "end_time": "2021-04-29T21:08:17.276116Z",
     "start_time": "2021-04-29T21:08:17.216208Z"
    }
   },
   "outputs": [
    {
     "data": {
      "text/plain": [
       "time\n",
       "2021-04-22 04:01:00    9244.0\n",
       "2021-04-22 04:02:00    2860.0\n",
       "2021-04-22 04:03:00    2990.0\n",
       "2021-04-22 04:04:00     510.0\n",
       "2021-04-22 04:05:00    1011.0\n",
       "                        ...  \n",
       "2021-04-28 19:56:00    6269.0\n",
       "2021-04-28 19:57:00    1574.0\n",
       "2021-04-28 19:58:00    2127.0\n",
       "2021-04-28 19:59:00    4522.0\n",
       "2021-04-28 20:00:00    2319.0\n",
       "Freq: T, Name: volume, Length: 9600, dtype: float64"
      ]
     },
     "execution_count": 49,
     "metadata": {},
     "output_type": "execute_result"
    }
   ],
   "source": [
    "vol_last_5d_1min"
   ]
  },
  {
   "cell_type": "code",
   "execution_count": 109,
   "metadata": {
    "ExecuteTime": {
     "end_time": "2021-04-30T15:01:33.651260Z",
     "start_time": "2021-04-30T15:01:33.585745Z"
    }
   },
   "outputs": [
    {
     "data": {
      "text/plain": [
       "2021-04-28 20:01:00    2630.872724\n",
       "2021-04-28 20:02:00    2582.473395\n",
       "2021-04-28 20:03:00    2549.816560\n",
       "2021-04-28 20:04:00    2472.193725\n",
       "2021-04-28 20:05:00    2487.613057\n",
       "                          ...     \n",
       "2021-04-29 19:56:00    2332.136072\n",
       "2021-04-29 19:57:00    2332.136072\n",
       "2021-04-29 19:58:00    2332.136072\n",
       "2021-04-29 19:59:00    2332.136072\n",
       "2021-04-29 20:00:00    2332.136072\n",
       "Freq: T, Length: 1440, dtype: float64"
      ]
     },
     "execution_count": 109,
     "metadata": {},
     "output_type": "execute_result"
    }
   ],
   "source": []
  },
  {
   "cell_type": "code",
   "execution_count": 51,
   "metadata": {
    "ExecuteTime": {
     "end_time": "2021-04-29T21:09:40.039234Z",
     "start_time": "2021-04-29T21:09:39.984134Z"
    }
   },
   "outputs": [
    {
     "data": {
      "text/plain": [
       "2021-04-22 04:01:00    9244.00000\n",
       "2021-04-22 04:02:00    2860.00000\n",
       "2021-04-22 04:03:00    2990.00000\n",
       "2021-04-22 04:04:00     510.00000\n",
       "2021-04-22 04:05:00    1011.00000\n",
       "                          ...    \n",
       "2021-04-29 19:56:00    8115.18893\n",
       "2021-04-29 19:57:00    8115.18893\n",
       "2021-04-29 19:58:00    8115.18893\n",
       "2021-04-29 19:59:00    8115.18893\n",
       "2021-04-29 20:00:00    8115.18893\n",
       "Freq: T, Length: 11040, dtype: float64"
      ]
     },
     "execution_count": 51,
     "metadata": {},
     "output_type": "execute_result"
    }
   ],
   "source": [
    "vol_cat = vol_last_5d_1min.append(vol_fc)\n",
    "vol_cat"
   ]
  },
  {
   "cell_type": "code",
   "execution_count": 63,
   "metadata": {
    "ExecuteTime": {
     "end_time": "2021-04-29T21:18:21.904639Z",
     "start_time": "2021-04-29T21:18:21.840214Z"
    }
   },
   "outputs": [
    {
     "data": {
      "text/plain": [
       "5673"
      ]
     },
     "execution_count": 63,
     "metadata": {},
     "output_type": "execute_result"
    }
   ],
   "source": [
    "df_last_5d_1min_close[df_last_5d_1min_close.isna()].index.size"
   ]
  },
  {
   "cell_type": "code",
   "execution_count": 58,
   "metadata": {
    "ExecuteTime": {
     "end_time": "2021-04-29T21:14:41.393017Z",
     "start_time": "2021-04-29T21:14:41.338408Z"
    },
    "scrolled": true
   },
   "outputs": [
    {
     "data": {
      "text/plain": [
       "5673"
      ]
     },
     "execution_count": 58,
     "metadata": {},
     "output_type": "execute_result"
    }
   ],
   "source": [
    "vol_cat[vol_cat.isna()].index.size"
   ]
  },
  {
   "cell_type": "code",
   "execution_count": 69,
   "metadata": {
    "ExecuteTime": {
     "end_time": "2021-04-29T21:19:10.533557Z",
     "start_time": "2021-04-29T21:19:10.474874Z"
    }
   },
   "outputs": [],
   "source": [
    "df_int = df_last_5d_1min_close.interpolate()\n",
    "df_int"
   ]
  },
  {
   "cell_type": "code",
   "execution_count": 78,
   "metadata": {
    "ExecuteTime": {
     "end_time": "2021-04-29T21:21:28.770062Z",
     "start_time": "2021-04-29T21:21:28.717213Z"
    }
   },
   "outputs": [],
   "source": [
    "vol_int = vol_last_5d_1min.interpolate()\n",
    "vol_int"
   ]
  },
  {
   "cell_type": "markdown",
   "metadata": {},
   "source": [
    "### Close"
   ]
  },
  {
   "cell_type": "code",
   "execution_count": 106,
   "metadata": {
    "ExecuteTime": {
     "end_time": "2021-04-30T15:00:40.992056Z",
     "start_time": "2021-04-30T15:00:40.161407Z"
    }
   },
   "outputs": [
    {
     "data": {
      "text/html": [
       "<table class=\"simpletable\">\n",
       "<caption>SARIMAX Results</caption>\n",
       "<tr>\n",
       "  <th>Dep. Variable:</th>         <td>close</td>      <th>  No. Observations:  </th>    <td>9600</td>   \n",
       "</tr>\n",
       "<tr>\n",
       "  <th>Model:</th>                <td>SARIMAX</td>     <th>  Log Likelihood     </th> <td>-43193.578</td>\n",
       "</tr>\n",
       "<tr>\n",
       "  <th>Date:</th>            <td>Fri, 30 Apr 2021</td> <th>  AIC                </th>  <td>86391.156</td>\n",
       "</tr>\n",
       "<tr>\n",
       "  <th>Time:</th>                <td>11:00:40</td>     <th>  BIC                </th>  <td>86405.495</td>\n",
       "</tr>\n",
       "<tr>\n",
       "  <th>Sample:</th>             <td>04-22-2021</td>    <th>  HQIC               </th>  <td>86396.020</td>\n",
       "</tr>\n",
       "<tr>\n",
       "  <th></th>                   <td>- 04-28-2021</td>   <th>                     </th>      <td> </td>    \n",
       "</tr>\n",
       "<tr>\n",
       "  <th>Covariance Type:</th>        <td>opg</td>       <th>                     </th>      <td> </td>    \n",
       "</tr>\n",
       "</table>\n",
       "<table class=\"simpletable\">\n",
       "<tr>\n",
       "     <td></td>       <th>coef</th>     <th>std err</th>      <th>z</th>      <th>P>|z|</th>  <th>[0.025</th>    <th>0.975]</th>  \n",
       "</tr>\n",
       "<tr>\n",
       "  <th>volume</th> <td>    0.0008</td> <td>    0.037</td> <td>    0.023</td> <td> 0.982</td> <td>   -0.071</td> <td>    0.073</td>\n",
       "</tr>\n",
       "<tr>\n",
       "  <th>sigma2</th> <td> 5.694e+08</td> <td> 2.24e-14</td> <td> 2.54e+22</td> <td> 0.000</td> <td> 5.69e+08</td> <td> 5.69e+08</td>\n",
       "</tr>\n",
       "</table>\n",
       "<table class=\"simpletable\">\n",
       "<tr>\n",
       "  <th>Ljung-Box (Q):</th>          <td>133799.92</td> <th>  Jarque-Bera (JB):  </th> <td>29523.55</td>\n",
       "</tr>\n",
       "<tr>\n",
       "  <th>Prob(Q):</th>                  <td>0.00</td>    <th>  Prob(JB):          </th>   <td>0.00</td>  \n",
       "</tr>\n",
       "<tr>\n",
       "  <th>Heteroskedasticity (H):</th>   <td>1.24</td>    <th>  Skew:              </th>   <td>-0.46</td> \n",
       "</tr>\n",
       "<tr>\n",
       "  <th>Prob(H) (two-sided):</th>      <td>0.00</td>    <th>  Kurtosis:          </th>   <td>11.54</td> \n",
       "</tr>\n",
       "</table><br/><br/>Warnings:<br/>[1] Covariance matrix calculated using the outer product of gradients (complex-step).<br/>[2] Covariance matrix is singular or near-singular, with condition number 1.5e+40. Standard errors may be unstable."
      ],
      "text/plain": [
       "<class 'statsmodels.iolib.summary.Summary'>\n",
       "\"\"\"\n",
       "                               SARIMAX Results                                \n",
       "==============================================================================\n",
       "Dep. Variable:                  close   No. Observations:                 9600\n",
       "Model:                        SARIMAX   Log Likelihood              -43193.578\n",
       "Date:                Fri, 30 Apr 2021   AIC                          86391.156\n",
       "Time:                        11:00:40   BIC                          86405.495\n",
       "Sample:                    04-22-2021   HQIC                         86396.020\n",
       "                         - 04-28-2021                                         \n",
       "Covariance Type:                  opg                                         \n",
       "==============================================================================\n",
       "                 coef    std err          z      P>|z|      [0.025      0.975]\n",
       "------------------------------------------------------------------------------\n",
       "volume         0.0008      0.037      0.023      0.982      -0.071       0.073\n",
       "sigma2      5.694e+08   2.24e-14   2.54e+22      0.000    5.69e+08    5.69e+08\n",
       "===================================================================================\n",
       "Ljung-Box (Q):                   133799.92   Jarque-Bera (JB):             29523.55\n",
       "Prob(Q):                              0.00   Prob(JB):                         0.00\n",
       "Heteroskedasticity (H):               1.24   Skew:                            -0.46\n",
       "Prob(H) (two-sided):                  0.00   Kurtosis:                        11.54\n",
       "===================================================================================\n",
       "\n",
       "Warnings:\n",
       "[1] Covariance matrix calculated using the outer product of gradients (complex-step).\n",
       "[2] Covariance matrix is singular or near-singular, with condition number 1.5e+40. Standard errors may be unstable.\n",
       "\"\"\""
      ]
     },
     "execution_count": 106,
     "metadata": {},
     "output_type": "execute_result"
    }
   ],
   "source": [
    "# exog cannot have NaN\n",
    "# sari_mod_close_fc = SARIMAX(df_last_5d_1min_close, exog=vol_last_5d_1min, order=(1,1,3)).fit()\n",
    "\n",
    "sari_mod_close_fc = SARIMAX(df_last_5d_1min_close, exog=vol_last_5d_1min.interpolate(), order=(0,0,0)).fit()\n",
    "sari_mod_close_fc.summary()"
   ]
  },
  {
   "cell_type": "code",
   "execution_count": 101,
   "metadata": {
    "ExecuteTime": {
     "end_time": "2021-04-30T14:59:56.398775Z",
     "start_time": "2021-04-30T14:59:52.021800Z"
    }
   },
   "outputs": [
    {
     "name": "stderr",
     "output_type": "stream",
     "text": [
      "/Users/wax/opt/anaconda3/lib/python3.8/site-packages/statsmodels/base/model.py:567: ConvergenceWarning:\n",
      "\n",
      "Maximum Likelihood optimization failed to converge. Check mle_retvals\n",
      "\n"
     ]
    }
   ],
   "source": [
    "sari_mod_close_fc = SARIMAX(df_int, exog=vol_int, order=(1,1,3)).fit()\n",
    "# sari_mod_close_fc = SARIMAX(df_last_5d_1min_close, exog=vol_int, order=(1,1,3)).fit()"
   ]
  },
  {
   "cell_type": "code",
   "execution_count": null,
   "metadata": {
    "ExecuteTime": {
     "end_time": "2021-04-29T21:21:37.670004Z",
     "start_time": "2021-04-29T21:21:32.907258Z"
    }
   },
   "outputs": [],
   "source": [
    "# sari_mod_last = SARIMAX(df_last, order=(1,1,0), seasonal_order=(1,1,0,16)).fit()\n",
    "# sari_mod_last = SARIMAX(df_last.dropna(), order=(1,1,0), seasonal_order=(1,1,0,16), exog=vol_last.dropna()).fit()\n",
    "sari_mod_close_fc.summary()"
   ]
  },
  {
   "cell_type": "code",
   "execution_count": 107,
   "metadata": {
    "ExecuteTime": {
     "end_time": "2021-04-30T15:00:56.887132Z",
     "start_time": "2021-04-30T15:00:56.785374Z"
    }
   },
   "outputs": [],
   "source": [
    "close_fc = sari_mod_close_fc.forecast(steps=24*60, exog = vol_fc)"
   ]
  },
  {
   "cell_type": "code",
   "execution_count": 108,
   "metadata": {
    "ExecuteTime": {
     "end_time": "2021-04-30T15:01:16.239731Z",
     "start_time": "2021-04-30T15:01:15.641796Z"
    }
   },
   "outputs": [
    {
     "data": {
      "text/plain": [
       "<matplotlib.legend.Legend at 0x7f9f28965c40>"
      ]
     },
     "execution_count": 108,
     "metadata": {},
     "output_type": "execute_result"
    },
    {
     "data": {
      "image/png": "[encoded data removed]",
      "text/plain": [
       "<Figure size 1080x720 with 1 Axes>"
      ]
     },
     "metadata": {},
     "output_type": "display_data"
    }
   ],
   "source": [
    "fig, ax = plt.subplots(figsize = (15,10))\n",
    "ax.plot(df_last_5d_1min_close, label='Historical')\n",
    "ax.plot(close_fc, label='Forecast')\n",
    "ax.set_title('SPY Prices: 24 Hour Forecast\\nusing SARIMAX(1,1,3)')\n",
    "plt.legend()"
   ]
  },
  {
   "cell_type": "markdown",
   "metadata": {},
   "source": [
    "## Facebook Prophet"
   ]
  },
  {
   "cell_type": "code",
   "execution_count": null,
   "metadata": {
    "ExecuteTime": {
     "end_time": "2021-04-29T21:01:23.904284Z",
     "start_time": "2021-04-29T21:00:58.516Z"
    }
   },
   "outputs": [],
   "source": [
    "df_pro = pd.DataFrame(df.reset_index())\n",
    "df_pro.columns = ['ds','y']"
   ]
  },
  {
   "cell_type": "code",
   "execution_count": null,
   "metadata": {
    "ExecuteTime": {
     "end_time": "2021-04-29T21:01:23.905888Z",
     "start_time": "2021-04-29T21:00:58.521Z"
    }
   },
   "outputs": [],
   "source": [
    "df_pro"
   ]
  },
  {
   "cell_type": "code",
   "execution_count": null,
   "metadata": {
    "ExecuteTime": {
     "end_time": "2021-04-29T21:01:23.907364Z",
     "start_time": "2021-04-29T21:00:58.527Z"
    }
   },
   "outputs": [],
   "source": [
    "promod = prophet.Prophet()\n",
    "promod.fit(df_pro)"
   ]
  },
  {
   "cell_type": "code",
   "execution_count": null,
   "metadata": {
    "ExecuteTime": {
     "end_time": "2021-04-29T21:01:23.908872Z",
     "start_time": "2021-04-29T21:00:58.532Z"
    }
   },
   "outputs": [],
   "source": [
    "future = promod.make_future_dataframe(periods=16, freq=cbh)\n",
    "future.tail(32)"
   ]
  },
  {
   "cell_type": "code",
   "execution_count": null,
   "metadata": {
    "ExecuteTime": {
     "end_time": "2021-04-29T21:01:23.910119Z",
     "start_time": "2021-04-29T21:00:58.538Z"
    }
   },
   "outputs": [],
   "source": [
    "forecast = promod.predict(future)\n",
    "forecast[['ds', 'yhat', 'yhat_lower', 'yhat_upper']].tail()"
   ]
  },
  {
   "cell_type": "code",
   "execution_count": null,
   "metadata": {
    "ExecuteTime": {
     "end_time": "2021-04-29T21:01:23.911829Z",
     "start_time": "2021-04-29T21:00:58.544Z"
    }
   },
   "outputs": [],
   "source": [
    "df_pro[-16:]"
   ]
  },
  {
   "cell_type": "code",
   "execution_count": null,
   "metadata": {
    "ExecuteTime": {
     "end_time": "2021-04-29T21:01:23.913617Z",
     "start_time": "2021-04-29T21:00:58.549Z"
    }
   },
   "outputs": [],
   "source": [
    "forecast[-32:]"
   ]
  },
  {
   "cell_type": "code",
   "execution_count": null,
   "metadata": {
    "ExecuteTime": {
     "end_time": "2021-04-29T21:01:23.915363Z",
     "start_time": "2021-04-29T21:00:58.554Z"
    }
   },
   "outputs": [],
   "source": [
    "fig, ax = plt.subplots(figsize = (20,15))\n",
    "promod.plot(forecast, ax=ax);\n",
    "# start = pd.to_datetime('2021-04-23')\n",
    "# end = pd.to_datetime('2021-04-26')\n",
    "# ax.set_xlim(start,end)"
   ]
  },
  {
   "cell_type": "code",
   "execution_count": null,
   "metadata": {
    "ExecuteTime": {
     "end_time": "2021-04-29T21:01:23.916918Z",
     "start_time": "2021-04-29T21:00:58.560Z"
    }
   },
   "outputs": [],
   "source": [
    "forecast.yhat.plot()"
   ]
  },
  {
   "cell_type": "code",
   "execution_count": null,
   "metadata": {
    "ExecuteTime": {
     "end_time": "2021-04-29T21:01:23.918368Z",
     "start_time": "2021-04-29T21:00:58.564Z"
    }
   },
   "outputs": [],
   "source": [
    "fig2 = promod.plot_components(forecast)\n"
   ]
  },
  {
   "cell_type": "code",
   "execution_count": null,
   "metadata": {},
   "outputs": [],
   "source": []
  }
 ],
 "metadata": {
  "kernelspec": {
   "display_name": "Python 3",
   "language": "python",
   "name": "python3"
  },
  "language_info": {
   "codemirror_mode": {
    "name": "ipython",
    "version": 3
   },
   "file_extension": ".py",
   "mimetype": "text/x-python",
   "name": "python",
   "nbconvert_exporter": "python",
   "pygments_lexer": "ipython3",
   "version": "3.8.3"
  },
  "toc": {
   "base_numbering": 1,
   "nav_menu": {},
   "number_sections": true,
   "sideBar": true,
   "skip_h1_title": false,
   "title_cell": "Table of Contents",
   "title_sidebar": "Contents",
   "toc_cell": false,
   "toc_position": {
    "height": "calc(100% - 180px)",
    "left": "10px",
    "top": "150px",
    "width": "426.667px"
   },
   "toc_section_display": true,
   "toc_window_display": true
  }
 },
 "nbformat": 4,
 "nbformat_minor": 4
}
