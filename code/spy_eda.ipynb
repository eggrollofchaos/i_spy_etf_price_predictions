{
 "cells": [
  {
   "cell_type": "markdown",
   "metadata": {
    "ExecuteTime": {
     "end_time": "2021-04-26T17:29:48.898767Z",
     "start_time": "2021-04-26T17:29:48.895865Z"
    }
   },
   "source": [
    "## Setup"
   ]
  },
  {
   "cell_type": "code",
   "execution_count": 5,
   "metadata": {
    "ExecuteTime": {
     "end_time": "2021-04-27T15:57:12.639499Z",
     "start_time": "2021-04-27T15:57:12.566357Z"
    }
   },
   "outputs": [
    {
     "name": "stdout",
     "output_type": "stream",
     "text": [
      "The autoreload extension is already loaded. To reload it, use:\n",
      "  %reload_ext autoreload\n"
     ]
    }
   ],
   "source": [
    "%load_ext autoreload\n",
    "%autoreload 2\n",
    "\n",
    "from random import random\n",
    "import pandas as pd\n",
    "import matplotlib\n",
    "import numpy as np\n",
    "from sklearn import metrics\n",
    "import csv\n",
    "import time\n",
    "import itertools\n",
    "from dateutil.relativedelta import relativedelta\n",
    "\n",
    "from alpha_vantage.timeseries import TimeSeries\n",
    "import pandas_market_calendars as mcal\n",
    "\n",
    "\n",
    "import pmdarima as pya\n",
    "from statsmodels.tsa.stattools import adfuller\n",
    "from statsmodels.tsa.seasonal import seasonal_decompose\n",
    "from statsmodels.tsa.statespace.sarimax import SARIMAX\n",
    "from statsmodels.graphics.tsaplots import plot_acf, plot_pacf\n",
    "\n",
    "# from pathlib import Path\n",
    "# import os\n",
    "# current_path = os.getcwd()\n",
    "# # top = Path(__file__ + '..').resolve()\n",
    "import sys\n",
    "# sys.path.insert(0, top/ 'code')\n",
    "# sys.path.insert(0, top/ 'auth')\n",
    "sys.path.insert(0, '../code')\n",
    "sys.path.insert(0, '../auth')\n",
    "sys.path.insert(0, '../')\n",
    "\n",
    "# arrow = top / 'assets/arrow.png'\n",
    "# print('source image:', arrow)\n",
    "\n",
    "import matplotlib.pyplot as plt\n",
    "import seaborn as sns\n",
    "from matplotlib import ticker\n",
    "import matplotlib.dates as mdates\n",
    "from matplotlib.dates import DateFormatter\n",
    "plt.style.use('ggplot')\n",
    "sns.set_theme(style=\"darkgrid\")\n",
    "\n",
    "%matplotlib inline\n",
    "font = {'size'   : 12}\n",
    "matplotlib.rc('font', **font)\n",
    "\n",
    "pd.set_option('display.max_columns',None)\n",
    "pd.set_option('display.max_rows',50)\n",
    "\n",
    "from functions import *\n",
    "\n",
    "# only display whole years in figures\n",
    "years = mdates.YearLocator()\n",
    "years_fmt = mdates.DateFormatter('%Y')\n",
    "\n",
    "from keys import client_id, secret_key, av_key, consumer_key"
   ]
  },
  {
   "cell_type": "markdown",
   "metadata": {},
   "source": [
    "# EDA"
   ]
  },
  {
   "cell_type": "code",
   "execution_count": 6,
   "metadata": {
    "ExecuteTime": {
     "end_time": "2021-04-27T15:57:12.685462Z",
     "start_time": "2021-04-27T15:57:12.641611Z"
    }
   },
   "outputs": [],
   "source": [
    "ts = TimeSeries(key=av_key, output_format='csv')\n",
    "# AV_COLUMNS = ['time', '1. open', '2. high', '3. low', '4. close', '5. volume']\n",
    "AV_COLUMNS = ['time', 'open', 'high', 'low', 'close', 'volume']"
   ]
  },
  {
   "cell_type": "markdown",
   "metadata": {
    "ExecuteTime": {
     "end_time": "2021-04-26T23:00:14.927825Z",
     "start_time": "2021-04-26T22:56:36.933733Z"
    }
   },
   "source": [
    "## Load Data"
   ]
  },
  {
   "cell_type": "code",
   "execution_count": 7,
   "metadata": {
    "ExecuteTime": {
     "end_time": "2021-04-27T16:01:14.654983Z",
     "start_time": "2021-04-27T15:57:12.687967Z"
    }
   },
   "outputs": [
    {
     "name": "stdout",
     "output_type": "stream",
     "text": [
      "Requesting all data slices for SPY...\n",
      "\n",
      "0 0\n",
      "Requesting slice: year1month1\n",
      "First record:\n",
      "                       open    high     low   close volume\n",
      "time                                                      \n",
      "2021-04-26 20:00:00  417.66  418.04  417.58  417.95  53372\n",
      "Last record:\n",
      "                       open    high     low   close volume\n",
      "time                                                      \n",
      "2021-03-29 05:00:00  394.03  394.03  393.19  393.68  87585\n",
      "Processed and appended year1month1 to DataFrame.\n",
      "\n",
      "0 1\n",
      "Requesting slice: year1month2\n",
      "First record:\n",
      "                      open    high     low   close volume\n",
      "time                                                     \n",
      "2021-03-26 20:00:00  395.5  395.72  395.41  395.63  64946\n",
      "Last record:\n",
      "                              open           high            low  \\\n",
      "time                                                               \n",
      "2021-02-26 05:00:00  382.843983138  382.843983138  381.687776367   \n",
      "\n",
      "                            close volume  \n",
      "time                                      \n",
      "2021-02-26 05:00:00  381.99676266  58638  \n",
      "Processed and appended year1month2 to DataFrame.\n",
      "\n",
      "0 2\n",
      "Requesting slice: year1month3\n",
      "First record:\n",
      "                              open           high            low  \\\n",
      "time                                                               \n",
      "2021-02-25 20:00:00  380.451831199  381.099705683  378.976670837   \n",
      "\n",
      "                             close  volume  \n",
      "time                                        \n",
      "2021-02-25 20:00:00  380.880425088  417949  \n",
      "Last record:\n",
      "                             open           high           low          close  \\\n",
      "time                                                                            \n",
      "2021-01-27 05:00:00  381.99676266  382.534996846  381.96686076  382.136304856   \n",
      "\n",
      "                    volume  \n",
      "time                        \n",
      "2021-01-27 05:00:00  17316  \n",
      "Processed and appended year1month3 to DataFrame.\n",
      "\n",
      "0 3\n",
      "Requesting slice: year1month4\n",
      "First record:\n",
      "                              open          high           low          close  \\\n",
      "time                                                                            \n",
      "2021-01-26 20:00:00  383.033361833  383.13303483  382.74431014  382.953623435   \n",
      "\n",
      "                    volume  \n",
      "time                        \n",
      "2021-01-26 20:00:00  97698  \n",
      "Last record:\n",
      "                             open           high            low  \\\n",
      "time                                                              \n",
      "2020-12-28 05:00:00  369.94629727  370.105774066  369.786820474   \n",
      "\n",
      "                             close volume  \n",
      "time                                       \n",
      "2020-12-28 05:00:00  370.075872167  17057  \n",
      "Processed and appended year1month4 to DataFrame.\n",
      "\n",
      "0 4\n",
      "Requesting slice: year1month5\n",
      "First record:\n",
      "                              open          high            low  \\\n",
      "time                                                              \n",
      "2020-12-24 17:00:00  367.723589427  368.02260842  367.723589427   \n",
      "\n",
      "                             close  volume  \n",
      "time                                        \n",
      "2020-12-24 17:00:00  367.773425926  355503  \n",
      "Last record:\n",
      "                              open           high            low  \\\n",
      "time                                                               \n",
      "2020-11-30 05:00:00  359.457272991  359.715318413  359.199227569   \n",
      "\n",
      "                             close volume  \n",
      "time                                       \n",
      "2020-11-30 05:00:00  359.526746759  24222  \n",
      "Processed and appended year1month5 to DataFrame.\n",
      "\n",
      "0 5\n",
      "Requesting slice: year1month6\n",
      "Error: Header row length is 1, expected 6.\n",
      "Sleeping for 10.0...\n",
      "Re-requesting slice: year1month6\n",
      "Error: Header row length is 1, expected 6.\n",
      "Sleeping for 11.681841642813994...\n",
      "Re-requesting slice: year1month6\n",
      "First record:\n",
      "                              open           high            low  \\\n",
      "time                                                               \n",
      "2020-11-27 17:00:00  361.015470348  361.084944115  360.707800806   \n",
      "\n",
      "                             close volume  \n",
      "time                                       \n",
      "2020-11-27 17:00:00  360.916222109  43948  \n",
      "Last record:\n",
      "                              open           high           low  \\\n",
      "time                                                              \n",
      "2020-10-29 05:00:00  326.685504384  327.618437833  325.94114259   \n",
      "\n",
      "                             close  volume  \n",
      "time                                        \n",
      "2020-10-29 05:00:00  326.477083082  104152  \n",
      "Processed and appended year1month6 to DataFrame.\n",
      "\n",
      "0 6\n",
      "Requesting slice: year1month7\n",
      "First record:\n",
      "                              open           high            low  \\\n",
      "time                                                               \n",
      "2020-10-28 20:00:00  325.702946815  325.802195055  324.859336782   \n",
      "\n",
      "                             close  volume  \n",
      "time                                        \n",
      "2020-10-28 20:00:00  325.752570935  217905  \n",
      "Last record:\n",
      "                              open           high            low  \\\n",
      "time                                                               \n",
      "2020-09-29 05:00:00  331.429570221  331.717390115  330.635584307   \n",
      "\n",
      "                             close volume  \n",
      "time                                       \n",
      "2020-09-29 05:00:00  331.568517756  50688  \n",
      "Processed and appended year1month7 to DataFrame.\n",
      "\n",
      "0 7\n",
      "Requesting slice: year1month8\n",
      "First record:\n",
      "                              open           high            low  \\\n",
      "time                                                               \n",
      "2020-09-28 20:00:00  332.531225677  332.938143458  332.491526381   \n",
      "\n",
      "                             close volume  \n",
      "time                                       \n",
      "2020-09-28 20:00:00  332.848820043  72741  \n",
      "Last record:\n",
      "                              open           high            low  \\\n",
      "time                                                               \n",
      "2020-08-31 05:00:00  347.657871753  347.786373994  347.390982482   \n",
      "\n",
      "                             close volume  \n",
      "time                                       \n",
      "2020-08-31 05:00:00  347.687526116  11732  \n",
      "Processed and appended year1month8 to DataFrame.\n",
      "\n",
      "0 8\n",
      "Requesting slice: year1month9\n",
      "First record:\n",
      "                              open           high            low  \\\n",
      "time                                                               \n",
      "2020-08-28 20:00:00  346.896743092  346.985706182  346.837434365   \n",
      "\n",
      "                             close volume  \n",
      "time                                       \n",
      "2020-08-28 20:00:00  346.936282243  35404  \n",
      "Last record:\n",
      "                              open           high            low  \\\n",
      "time                                                               \n",
      "2020-07-31 05:00:00  321.937653894  322.659243404  321.700418987   \n",
      "\n",
      "                             close volume  \n",
      "time                                       \n",
      "2020-07-31 05:00:00  322.194658377  35704  \n",
      "Processed and appended year1month9 to DataFrame.\n",
      "\n",
      "0 9\n",
      "Requesting slice: year1month10\n",
      "First record:\n",
      "                              open           high           low  \\\n",
      "time                                                              \n",
      "2020-07-30 20:00:00  322.787745645  323.291869823  322.71855213   \n",
      "\n",
      "                             close  volume  \n",
      "time                                        \n",
      "2020-07-30 20:00:00  323.074404491  104235  \n",
      "Last record:\n",
      "                              open           high            low  \\\n",
      "time                                                               \n",
      "2020-07-01 05:00:00  305.182938571  305.558560508  304.945703664   \n",
      "\n",
      "                             close volume  \n",
      "time                                       \n",
      "2020-07-01 05:00:00  305.192823359  27363  \n",
      "Processed and appended year1month10 to DataFrame.\n",
      "\n",
      "0 10\n",
      "Requesting slice: year1month11\n",
      "Error: Header row length is 1, expected 6.\n",
      "Sleeping for 10.0...\n",
      "Re-requesting slice: year1month11\n",
      "Error: Header row length is 1, expected 6.\n",
      "Sleeping for 11.591478687421642...\n",
      "Re-requesting slice: year1month11\n",
      "Error: Header row length is 1, expected 6.\n",
      "Sleeping for 12.082095019445463...\n",
      "Re-requesting slice: year1month11\n",
      "First record:\n",
      "                             open           high            low  \\\n",
      "time                                                              \n",
      "2020-06-30 20:00:00  304.82708621  305.202708147  304.550312152   \n",
      "\n",
      "                             close  volume  \n",
      "time                                        \n",
      "2020-06-30 20:00:00  304.728238332  380770  \n",
      "Last record:\n",
      "                             open           high            low  \\\n",
      "time                                                              \n",
      "2020-06-01 05:00:00  300.15733574  300.462413688  297.647823589   \n",
      "\n",
      "                             close   volume  \n",
      "time                                         \n",
      "2020-06-01 05:00:00  299.055118638  1266371  \n",
      "Processed and appended year1month11 to DataFrame.\n",
      "\n",
      "0 11\n",
      "Requesting slice: year1month12\n"
     ]
    },
    {
     "name": "stdout",
     "output_type": "stream",
     "text": [
      "First record:\n",
      "                              open           high            low  \\\n",
      "time                                                               \n",
      "2020-05-29 20:00:00  301.062728359  301.239870393  301.023363463   \n",
      "\n",
      "                             close  volume  \n",
      "time                                        \n",
      "2020-05-29 20:00:00  301.239870393  122070  \n",
      "Last record:\n",
      "                              open           high            low  \\\n",
      "time                                                               \n",
      "2020-05-04 05:00:00  276.105383984  276.656492535  275.268879934   \n",
      "\n",
      "                             close  volume  \n",
      "time                                        \n",
      "2020-05-04 05:00:00  275.357450951  114843  \n",
      "Processed and appended year1month12 to DataFrame.\n",
      "\n",
      "1 0\n",
      "Requesting slice: year2month1\n",
      "First record:\n",
      "                              open           high            low  \\\n",
      "time                                                               \n",
      "2020-05-01 20:00:00  278.359024308  278.447595325  278.280294515   \n",
      "\n",
      "                             close volume  \n",
      "time                                       \n",
      "2020-05-01 20:00:00  278.408230429  55274  \n",
      "Last record:\n",
      "                              open           high            low  \\\n",
      "time                                                               \n",
      "2020-04-02 05:00:00  245.568065532  246.650600185  245.568065532   \n",
      "\n",
      "                             close  volume  \n",
      "time                                        \n",
      "2020-04-02 05:00:00  245.705842669  632491  \n",
      "Processed and appended year2month1 to DataFrame.\n",
      "\n",
      "1 1\n",
      "Requesting slice: year2month2\n",
      "First record:\n",
      "                              open           high            low  \\\n",
      "time                                                               \n",
      "2020-04-01 20:00:00  242.576333398  243.658868052  242.163001985   \n",
      "\n",
      "                             close  volume  \n",
      "time                                        \n",
      "2020-04-01 20:00:00  243.570297035  390663  \n",
      "Last record:\n",
      "                              open          high            low  \\\n",
      "time                                                              \n",
      "2020-03-03 05:00:00  301.953476105  303.21524276  301.435075851   \n",
      "\n",
      "                             close  volume  \n",
      "time                                        \n",
      "2020-03-03 05:00:00  302.970714338  121674  \n",
      "Processed and appended year2month2 to DataFrame.\n",
      "\n",
      "1 2\n",
      "Requesting slice: year2month3\n",
      "First record:\n",
      "                              open           high            low  \\\n",
      "time                                                               \n",
      "2020-03-02 20:00:00  301.845883599  302.853340696  301.748072231   \n",
      "\n",
      "                             close  volume  \n",
      "time                                        \n",
      "2020-03-02 20:00:00  302.628374548  486380  \n",
      "Last record:\n",
      "                              open           high            low  \\\n",
      "time                                                               \n",
      "2020-02-03 05:00:00  316.419777525  316.439339799  315.754660219   \n",
      "\n",
      "                             close volume  \n",
      "time                                       \n",
      "2020-02-03 05:00:00  315.911158408  89419  \n",
      "Processed and appended year2month3 to DataFrame.\n",
      "\n",
      "1 3\n",
      "Requesting slice: year2month4\n",
      "Error: Header row length is 1, expected 6.\n",
      "Sleeping for 10.0...\n",
      "Re-requesting slice: year2month4\n",
      "Error: Header row length is 1, expected 6.\n",
      "Sleeping for 11.709468361506534...\n",
      "Re-requesting slice: year2month4\n",
      "First record:\n",
      "                              open           high            low  \\\n",
      "time                                                               \n",
      "2020-01-31 20:00:00  314.884139038  314.923263585  314.805889943   \n",
      "\n",
      "                             close volume  \n",
      "time                                       \n",
      "2020-01-31 20:00:00  314.805889943  50847  \n",
      "Last record:\n",
      "                              open           high            low  \\\n",
      "time                                                               \n",
      "2020-01-03 05:00:00  314.776546532  314.776546532  314.111429226   \n",
      "\n",
      "                             close volume  \n",
      "time                                       \n",
      "2020-01-03 05:00:00  314.355957647  47842  \n",
      "Processed and appended year2month4 to DataFrame.\n",
      "\n",
      "1 4\n",
      "Requesting slice: year2month5\n",
      "First record:\n",
      "                              open           high            low  \\\n",
      "time                                                               \n",
      "2020-01-02 20:00:00  317.935853739  318.072789655  317.906510329   \n",
      "\n",
      "                             close volume  \n",
      "time                                       \n",
      "2020-01-02 20:00:00  318.023883971  66999  \n",
      "Last record:\n",
      "                              open           high            low  \\\n",
      "time                                                               \n",
      "2019-12-04 05:00:00  300.901128961  302.692091235  300.901128961   \n",
      "\n",
      "                             close volume  \n",
      "time                                       \n",
      "2019-12-04 05:00:00  302.565555857  83247  \n",
      "Processed and appended year2month5 to DataFrame.\n",
      "\n",
      "1 5\n",
      "Requesting slice: year2month6\n",
      "First record:\n",
      "                              open           high            low  \\\n",
      "time                                                               \n",
      "2019-12-03 20:00:00  301.387803492  301.543539342  300.832994527   \n",
      "\n",
      "                             close volume  \n",
      "time                                       \n",
      "2019-12-03 20:00:00  301.008197358  83049  \n",
      "Last record:\n",
      "                             open           high           low          close  \\\n",
      "time                                                                            \n",
      "2019-11-04 05:00:00  298.82789546  299.158834141  298.82789546  299.119900178   \n",
      "\n",
      "                    volume  \n",
      "time                        \n",
      "2019-11-04 05:00:00  50825  \n",
      "Processed and appended year2month6 to DataFrame.\n",
      "\n",
      "1 6\n",
      "Requesting slice: year2month7\n",
      "First record:\n",
      "                              open           high            low  \\\n",
      "time                                                               \n",
      "2019-11-01 20:00:00  297.981081776  298.029749229  297.844812907   \n",
      "\n",
      "                             close volume  \n",
      "time                                       \n",
      "2019-11-01 20:00:00  297.912947341  27473  \n",
      "Last record:\n",
      "                              open           high            low  \\\n",
      "time                                                               \n",
      "2019-10-07 05:00:00  285.531947276  285.531947276  285.074473216   \n",
      "\n",
      "                            close volume  \n",
      "time                                      \n",
      "2019-10-07 05:00:00  285.12314067  51000  \n",
      "Processed and appended year2month7 to DataFrame.\n",
      "\n",
      "1 7\n",
      "Requesting slice: year2month8\n",
      "First record:\n",
      "                             open           high          low          close  \\\n",
      "time                                                                           \n",
      "2019-10-04 20:00:00  286.55396379  286.797301056  286.5442303  286.797301056   \n",
      "\n",
      "                    volume  \n",
      "time                        \n",
      "2019-10-04 20:00:00  18904  \n",
      "Last record:\n",
      "                              open           high            low  \\\n",
      "time                                                               \n",
      "2019-09-05 05:00:00  286.587272047  287.120142228  286.519452205   \n",
      "\n",
      "                             close volume  \n",
      "time                                       \n",
      "2019-09-05 05:00:00  287.120142228  39502  \n",
      "Processed and appended year2month8 to DataFrame.\n",
      "\n",
      "1 8\n",
      "Requesting slice: year2month9\n",
      "First record:\n",
      "                              open           high            low  \\\n",
      "time                                                               \n",
      "2019-09-04 20:00:00  284.882087466  284.882087466  284.717382138   \n",
      "\n",
      "                             close volume  \n",
      "time                                       \n",
      "2019-09-04 20:00:00  284.843333271  17230  \n",
      "Last record:\n",
      "                              open           high            low  \\\n",
      "time                                                               \n",
      "2019-08-06 05:00:00  274.844750961  276.307721822  274.350634974   \n",
      "\n",
      "                             close  volume  \n",
      "time                                        \n",
      "2019-08-06 05:00:00  276.191459237  132007  \n",
      "Processed and appended year2month9 to DataFrame.\n",
      "\n",
      "1 9\n",
      "Requesting slice: year2month10\n",
      "Error: Header row length is 1, expected 6.\n",
      "Sleeping for 10.0...\n",
      "Re-requesting slice: year2month10\n",
      "Error: Header row length is 1, expected 6.\n",
      "Sleeping for 11.59861236213413...\n"
     ]
    },
    {
     "name": "stdout",
     "output_type": "stream",
     "text": [
      "Re-requesting slice: year2month10\n",
      "First record:\n",
      "                              open           high            low  \\\n",
      "time                                                               \n",
      "2019-08-05 20:00:00  269.826082708  270.513969669  268.731276699   \n",
      "\n",
      "                             close  volume  \n",
      "time                                        \n",
      "2019-08-05 20:00:00  269.283523978  515412  \n",
      "Last record:\n",
      "                             open          high            low          close  \\\n",
      "time                                                                            \n",
      "2019-07-08 05:00:00  288.34089937  288.49591615  288.244013883  288.244013883   \n",
      "\n",
      "                    volume  \n",
      "time                        \n",
      "2019-07-08 05:00:00   8514  \n",
      "Processed and appended year2month10 to DataFrame.\n",
      "\n",
      "1 10\n",
      "Requesting slice: year2month11\n",
      "First record:\n",
      "                              open           high            low  \\\n",
      "time                                                               \n",
      "2019-07-05 20:00:00  288.815638259  288.864081003  288.767195515   \n",
      "\n",
      "                             close volume  \n",
      "time                                       \n",
      "2019-07-05 20:00:00  288.854392454  17970  \n",
      "Last record:\n",
      "                              open           high            low  \\\n",
      "time                                                               \n",
      "2019-06-07 05:00:00  275.151982554  275.528004956  275.151982554   \n",
      "\n",
      "                             close volume  \n",
      "time                                       \n",
      "2019-06-07 05:00:00  275.412305755  13142  \n",
      "Processed and appended year2month11 to DataFrame.\n",
      "\n",
      "Finished getting all data slices for SPY\n"
     ]
    }
   ],
   "source": [
    "# df_full = get_all_data_slices('SPY', ts, verbose=1)\n",
    "# df_full.to_csv('../data/SPY_2019_2021.csv')"
   ]
  },
  {
   "cell_type": "code",
   "execution_count": 8,
   "metadata": {
    "ExecuteTime": {
     "end_time": "2021-04-27T16:01:15.481670Z",
     "start_time": "2021-04-27T16:01:14.658807Z"
    }
   },
   "outputs": [
    {
     "data": {
      "text/html": [
       "<div>\n",
       "<style scoped>\n",
       "    .dataframe tbody tr th:only-of-type {\n",
       "        vertical-align: middle;\n",
       "    }\n",
       "\n",
       "    .dataframe tbody tr th {\n",
       "        vertical-align: top;\n",
       "    }\n",
       "\n",
       "    .dataframe thead th {\n",
       "        text-align: right;\n",
       "    }\n",
       "</style>\n",
       "<table border=\"1\" class=\"dataframe\">\n",
       "  <thead>\n",
       "    <tr style=\"text-align: right;\">\n",
       "      <th></th>\n",
       "      <th>market_open</th>\n",
       "      <th>market_close</th>\n",
       "    </tr>\n",
       "  </thead>\n",
       "  <tbody>\n",
       "    <tr>\n",
       "      <th>2012-07-02</th>\n",
       "      <td>2012-07-02 13:30:00+00:00</td>\n",
       "      <td>2012-07-02 20:00:00+00:00</td>\n",
       "    </tr>\n",
       "    <tr>\n",
       "      <th>2012-07-03</th>\n",
       "      <td>2012-07-03 13:30:00+00:00</td>\n",
       "      <td>2012-07-03 17:00:00+00:00</td>\n",
       "    </tr>\n",
       "    <tr>\n",
       "      <th>2012-07-05</th>\n",
       "      <td>2012-07-05 13:30:00+00:00</td>\n",
       "      <td>2012-07-05 20:00:00+00:00</td>\n",
       "    </tr>\n",
       "    <tr>\n",
       "      <th>2012-07-06</th>\n",
       "      <td>2012-07-06 13:30:00+00:00</td>\n",
       "      <td>2012-07-06 20:00:00+00:00</td>\n",
       "    </tr>\n",
       "    <tr>\n",
       "      <th>2012-07-09</th>\n",
       "      <td>2012-07-09 13:30:00+00:00</td>\n",
       "      <td>2012-07-09 20:00:00+00:00</td>\n",
       "    </tr>\n",
       "    <tr>\n",
       "      <th>2012-07-10</th>\n",
       "      <td>2012-07-10 13:30:00+00:00</td>\n",
       "      <td>2012-07-10 20:00:00+00:00</td>\n",
       "    </tr>\n",
       "  </tbody>\n",
       "</table>\n",
       "</div>"
      ],
      "text/plain": [
       "                         market_open              market_close\n",
       "2012-07-02 2012-07-02 13:30:00+00:00 2012-07-02 20:00:00+00:00\n",
       "2012-07-03 2012-07-03 13:30:00+00:00 2012-07-03 17:00:00+00:00\n",
       "2012-07-05 2012-07-05 13:30:00+00:00 2012-07-05 20:00:00+00:00\n",
       "2012-07-06 2012-07-06 13:30:00+00:00 2012-07-06 20:00:00+00:00\n",
       "2012-07-09 2012-07-09 13:30:00+00:00 2012-07-09 20:00:00+00:00\n",
       "2012-07-10 2012-07-10 13:30:00+00:00 2012-07-10 20:00:00+00:00"
      ]
     },
     "execution_count": 8,
     "metadata": {},
     "output_type": "execute_result"
    }
   ],
   "source": [
    "# Get NYSE calendar\n",
    "NYSE = mcal.get_calendar('NYSE')\n",
    "early = NYSE.schedule(start_date='2012-07-01', end_date='2012-07-10')\n",
    "early"
   ]
  },
  {
   "cell_type": "code",
   "execution_count": 15,
   "metadata": {
    "ExecuteTime": {
     "end_time": "2021-04-27T16:01:47.006010Z",
     "start_time": "2021-04-27T16:01:41.248052Z"
    }
   },
   "outputs": [],
   "source": [
    "# ticker = 'SPY'\n",
    "# date= 'year2month12'\n",
    "# apiKey = av_key\n",
    "\n",
    "# df_new = pd.read_csv('https://www.alphavantage.co/query?function=TIME_SERIES_INTRADAY_EXTENDED&symbol='+ticker+'&interval=60min&slice='+date+'&apikey='+apiKey+'&datatype=csv&outputsize=full') "
   ]
  },
  {
   "cell_type": "code",
   "execution_count": 10,
   "metadata": {
    "ExecuteTime": {
     "end_time": "2021-04-27T16:01:15.591079Z",
     "start_time": "2021-04-27T16:01:15.541335Z"
    }
   },
   "outputs": [],
   "source": [
    "# df_new.set_index('time', inplace=True)\n",
    "# df_new.index = pd.to_datetime(df_new.index)"
   ]
  },
  {
   "cell_type": "code",
   "execution_count": 16,
   "metadata": {
    "ExecuteTime": {
     "end_time": "2021-04-27T16:03:26.819825Z",
     "start_time": "2021-04-27T16:03:26.756856Z"
    }
   },
   "outputs": [],
   "source": [
    "df_full = pd.read_csv('../data/SPY_2019_2021.csv', index_col='time')\n",
    "df_full.index = pd.to_datetime(df_full.index)"
   ]
  },
  {
   "cell_type": "markdown",
   "metadata": {},
   "source": [
    "## Data Exploration"
   ]
  },
  {
   "cell_type": "code",
   "execution_count": 17,
   "metadata": {
    "ExecuteTime": {
     "end_time": "2021-04-27T16:03:28.941040Z",
     "start_time": "2021-04-27T16:03:28.896560Z"
    }
   },
   "outputs": [
    {
     "data": {
      "text/plain": [
       "open      311\n",
       "high      311\n",
       "low       311\n",
       "close     311\n",
       "volume    311\n",
       "dtype: int64"
      ]
     },
     "execution_count": 17,
     "metadata": {},
     "output_type": "execute_result"
    }
   ],
   "source": [
    "df_full.isna().sum()"
   ]
  },
  {
   "cell_type": "markdown",
   "metadata": {},
   "source": [
    "## Set Proper Business Hour Frequency"
   ]
  },
  {
   "cell_type": "code",
   "execution_count": 18,
   "metadata": {
    "ExecuteTime": {
     "end_time": "2021-04-27T16:03:31.227800Z",
     "start_time": "2021-04-27T16:03:31.178492Z"
    }
   },
   "outputs": [],
   "source": [
    "cbh = pd.offsets.CustomBusinessHour(calendar=NYSE, start='05:00', end='21:00')"
   ]
  },
  {
   "cell_type": "code",
   "execution_count": 19,
   "metadata": {
    "ExecuteTime": {
     "end_time": "2021-04-27T16:03:32.208572Z",
     "start_time": "2021-04-27T16:03:32.163514Z"
    }
   },
   "outputs": [
    {
     "data": {
      "text/plain": [
       "<CustomBusinessHour: CBH=05:00-21:00>"
      ]
     },
     "execution_count": 19,
     "metadata": {},
     "output_type": "execute_result"
    }
   ],
   "source": [
    "cbh"
   ]
  },
  {
   "cell_type": "code",
   "execution_count": 20,
   "metadata": {
    "ExecuteTime": {
     "end_time": "2021-04-27T16:03:35.526896Z",
     "start_time": "2021-04-27T16:03:34.931332Z"
    }
   },
   "outputs": [
    {
     "name": "stdout",
     "output_type": "stream",
     "text": [
      "Nothing to append\n"
     ]
    }
   ],
   "source": [
    "# try:\n",
    "#     assert(type(df_new)=='pandas.core.frame.DataFrame')\n",
    "# except AssertionError:\n",
    "#     print('Nothing to append.')\n",
    "# else:\n",
    "#     df_full = df_full.append(df_new)\n",
    "#     df_full = df_full.sort_index()\n",
    "#     df_full = df_full.asfreq(cbh)\n",
    "#     df_full.to_csv('../data/SPY_2019_2021.csv')\n",
    "# finally:\n",
    "#     df_full = df_full.sort_index()\n",
    "#     df_full = df_full.asfreq(cbh)\n",
    "#     df_full.to_csv('../data/SPY_2019_2021.csv')\n",
    "#     df_full"
   ]
  },
  {
   "cell_type": "code",
   "execution_count": 21,
   "metadata": {
    "ExecuteTime": {
     "end_time": "2021-04-27T16:04:34.452959Z",
     "start_time": "2021-04-27T16:04:34.404144Z"
    }
   },
   "outputs": [
    {
     "data": {
      "text/plain": [
       "time\n",
       "2019-05-07 05:00:00    281.033359\n",
       "2019-05-07 06:00:00    280.956226\n",
       "2019-05-07 07:00:00    280.483787\n",
       "2019-05-07 08:00:00    280.136690\n",
       "2019-05-07 09:00:00    280.368088\n",
       "                          ...    \n",
       "2021-04-23 16:00:00    416.720000\n",
       "2021-04-23 17:00:00    416.250000\n",
       "2021-04-23 18:00:00    416.360000\n",
       "2021-04-23 19:00:00    416.330000\n",
       "2021-04-23 20:00:00    416.250000\n",
       "Freq: CBH, Name: close, Length: 8224, dtype: float64"
      ]
     },
     "execution_count": 21,
     "metadata": {},
     "output_type": "execute_result"
    }
   ],
   "source": [
    "df = df_full.close\n",
    "df"
   ]
  },
  {
   "cell_type": "code",
   "execution_count": null,
   "metadata": {
    "ExecuteTime": {
     "end_time": "2021-04-27T16:01:15.846164Z",
     "start_time": "2021-04-27T15:57:12.598Z"
    }
   },
   "outputs": [],
   "source": [
    "start = pd.to_datetime('2019-06-07')"
   ]
  },
  {
   "cell_type": "code",
   "execution_count": null,
   "metadata": {
    "ExecuteTime": {
     "end_time": "2021-04-27T16:01:15.848624Z",
     "start_time": "2021-04-27T15:57:12.601Z"
    }
   },
   "outputs": [],
   "source": [
    "cbh.next_bday(pd.to_datetime(start))"
   ]
  },
  {
   "cell_type": "code",
   "execution_count": null,
   "metadata": {
    "ExecuteTime": {
     "end_time": "2021-04-27T16:01:15.849893Z",
     "start_time": "2021-04-27T15:57:12.604Z"
    }
   },
   "outputs": [],
   "source": [
    "start + pd.DateOffset(days = 2)"
   ]
  },
  {
   "cell_type": "code",
   "execution_count": null,
   "metadata": {
    "ExecuteTime": {
     "end_time": "2021-04-27T16:01:15.851272Z",
     "start_time": "2021-04-27T15:57:12.608Z"
    }
   },
   "outputs": [],
   "source": [
    "start + pd.offsets.BDay()"
   ]
  },
  {
   "cell_type": "code",
   "execution_count": null,
   "metadata": {
    "ExecuteTime": {
     "end_time": "2021-04-27T16:01:15.852645Z",
     "start_time": "2021-04-27T15:57:12.612Z"
    }
   },
   "outputs": [],
   "source": [
    "df_copy = df_full.copy()\n",
    "df_copy.index = df_copy.index.date\n",
    "df_copy.index.value_counts()"
   ]
  },
  {
   "cell_type": "code",
   "execution_count": null,
   "metadata": {
    "ExecuteTime": {
     "end_time": "2021-04-27T16:01:15.853961Z",
     "start_time": "2021-04-27T15:57:12.615Z"
    }
   },
   "outputs": [],
   "source": [
    "df_copy_2 = df_full2.copy()\n",
    "df_copy_2.index = df_copy_2.index.date\n",
    "df_copy_2.index.value_counts()"
   ]
  },
  {
   "cell_type": "code",
   "execution_count": null,
   "metadata": {
    "ExecuteTime": {
     "end_time": "2021-04-27T16:01:15.855490Z",
     "start_time": "2021-04-27T15:57:12.617Z"
    }
   },
   "outputs": [],
   "source": [
    "df_full2[df_full2.index.date == pd.to_datetime('2020-07-06')]"
   ]
  },
  {
   "cell_type": "code",
   "execution_count": null,
   "metadata": {
    "ExecuteTime": {
     "end_time": "2021-04-27T16:01:15.857049Z",
     "start_time": "2021-04-27T15:57:12.619Z"
    }
   },
   "outputs": [],
   "source": [
    "df_full[df_full.index.date == pd.to_datetime('2021-03-01')]"
   ]
  },
  {
   "cell_type": "code",
   "execution_count": null,
   "metadata": {
    "ExecuteTime": {
     "end_time": "2021-04-27T16:01:15.858534Z",
     "start_time": "2021-04-27T15:57:12.621Z"
    },
    "scrolled": true
   },
   "outputs": [],
   "source": [
    "null_data = df_full[df_full.isnull().any(axis=1)]\n",
    "null_data"
   ]
  },
  {
   "cell_type": "code",
   "execution_count": null,
   "metadata": {
    "ExecuteTime": {
     "end_time": "2021-04-27T16:01:15.860585Z",
     "start_time": "2021-04-27T15:57:12.623Z"
    }
   },
   "outputs": [],
   "source": [
    "null_data2 = df_full2[df_full2.isnull().any(axis=1)]\n",
    "null_data2"
   ]
  },
  {
   "cell_type": "code",
   "execution_count": null,
   "metadata": {
    "ExecuteTime": {
     "end_time": "2021-04-27T16:01:15.862365Z",
     "start_time": "2021-04-27T15:57:12.624Z"
    }
   },
   "outputs": [],
   "source": [
    "df_full.index"
   ]
  },
  {
   "cell_type": "code",
   "execution_count": 22,
   "metadata": {
    "ExecuteTime": {
     "end_time": "2021-04-27T16:04:37.830824Z",
     "start_time": "2021-04-27T16:04:37.783604Z"
    }
   },
   "outputs": [
    {
     "data": {
      "text/plain": [
       "DatetimeIndex(['2019-05-07 05:00:00', '2019-05-07 06:00:00',\n",
       "               '2019-05-07 07:00:00', '2019-05-07 08:00:00',\n",
       "               '2019-05-07 09:00:00', '2019-05-07 10:00:00',\n",
       "               '2019-05-07 11:00:00', '2019-05-07 12:00:00',\n",
       "               '2019-05-07 13:00:00', '2019-05-07 14:00:00',\n",
       "               ...\n",
       "               '2021-04-23 11:00:00', '2021-04-23 12:00:00',\n",
       "               '2021-04-23 13:00:00', '2021-04-23 14:00:00',\n",
       "               '2021-04-23 15:00:00', '2021-04-23 16:00:00',\n",
       "               '2021-04-23 17:00:00', '2021-04-23 18:00:00',\n",
       "               '2021-04-23 19:00:00', '2021-04-23 20:00:00'],\n",
       "              dtype='datetime64[ns]', name='time', length=8224, freq='CBH')"
      ]
     },
     "execution_count": 22,
     "metadata": {},
     "output_type": "execute_result"
    }
   ],
   "source": [
    "df.index"
   ]
  },
  {
   "cell_type": "markdown",
   "metadata": {
    "ExecuteTime": {
     "end_time": "2021-04-26T19:42:10.301805Z",
     "start_time": "2021-04-26T19:42:10.259964Z"
    },
    "heading_collapsed": true
   },
   "source": [
    "## Test out read and write CSV at same time"
   ]
  },
  {
   "cell_type": "code",
   "execution_count": null,
   "metadata": {
    "ExecuteTime": {
     "end_time": "2021-04-27T16:01:15.865466Z",
     "start_time": "2021-04-27T15:57:12.628Z"
    },
    "hidden": true
   },
   "outputs": [],
   "source": [
    "with open('../data/GME_intra_Mar_29_Apr_12.csv', newline='') as csvfile:\n",
    "#     fieldnames = ['first_name', 'last_name']\n",
    "    reader = csv.reader(csvfile)\n",
    "    fieldnames = next(reader)\n",
    "    print(fieldnames)\n",
    "    \n",
    "    with open('../data/output.csv', mode='w', newline='') as csvfile:\n",
    "        writer = csv.writer(csvfile)\n",
    "        writer.writerow(fieldnames)\n",
    "        for row in reader:\n",
    "            writer.writerow(row)\n",
    "            "
   ]
  },
  {
   "cell_type": "markdown",
   "metadata": {
    "heading_collapsed": true
   },
   "source": [
    "## More EDA"
   ]
  },
  {
   "cell_type": "code",
   "execution_count": null,
   "metadata": {
    "ExecuteTime": {
     "end_time": "2021-04-27T16:01:15.866736Z",
     "start_time": "2021-04-27T15:57:12.630Z"
    },
    "hidden": true
   },
   "outputs": [],
   "source": [
    "y=1\n",
    "m=11\n",
    "data_slice = f'year{y+1}month{m+1}'\n",
    "print(data_slice)\n",
    "total_data_reader, total_meta_data = ts.get_intraday_extended(symbol='SPY', interval='60min', slice=data_slice)\n",
    "fieldnames = next(total_data_reader)\n",
    "print(fieldnames)\n",
    "df_test = pd.DataFrame(total_data_reader, columns=fieldnames)\n",
    "df_test.set_index('time', inplace=True)\n",
    "df_test"
   ]
  },
  {
   "cell_type": "code",
   "execution_count": null,
   "metadata": {
    "ExecuteTime": {
     "end_time": "2021-04-27T16:01:15.868181Z",
     "start_time": "2021-04-27T15:57:12.632Z"
    },
    "hidden": true
   },
   "outputs": [],
   "source": [
    "with open('../data/output.csv', mode='w', newline='') as csvfile:\n",
    "#     writer = csv.DictWriter(csvfile, fieldnames=df_test_dict.keys())\n",
    "#     writer = csv.DictWriter(sys.stderr, fieldnames=df_test_dict.keys())\n",
    "#     writer = csv.writer(sys.stderr)\n",
    "    writer = csv.writer(csvfile)\n",
    "    writer.writerow(df_test.reset_index().columns)\n",
    "#     writer.writeheader()\n",
    "    writer.writerows(df_test.reset_index().values)"
   ]
  },
  {
   "cell_type": "code",
   "execution_count": null,
   "metadata": {
    "ExecuteTime": {
     "end_time": "2021-04-27T16:01:15.869445Z",
     "start_time": "2021-04-27T15:57:12.634Z"
    },
    "hidden": true
   },
   "outputs": [],
   "source": [
    "df_test_close = df_test.close"
   ]
  },
  {
   "cell_type": "markdown",
   "metadata": {},
   "source": [
    "# Data Prep"
   ]
  },
  {
   "cell_type": "markdown",
   "metadata": {
    "ExecuteTime": {
     "end_time": "2021-04-27T00:01:47.794038Z",
     "start_time": "2021-04-27T00:01:47.752745Z"
    }
   },
   "source": [
    "## Check Stationarity"
   ]
  },
  {
   "cell_type": "code",
   "execution_count": null,
   "metadata": {
    "ExecuteTime": {
     "end_time": "2021-04-27T16:01:15.870792Z",
     "start_time": "2021-04-27T15:57:12.636Z"
    }
   },
   "outputs": [],
   "source": [
    "test_stationarity(df.dropna())"
   ]
  },
  {
   "cell_type": "code",
   "execution_count": null,
   "metadata": {
    "ExecuteTime": {
     "end_time": "2021-04-27T16:01:15.872535Z",
     "start_time": "2021-04-27T15:57:12.639Z"
    }
   },
   "outputs": [],
   "source": [
    "test_stationarity(df.dropna(),1)"
   ]
  },
  {
   "cell_type": "markdown",
   "metadata": {},
   "source": [
    "## Plot Seasonal Decomposition"
   ]
  },
  {
   "cell_type": "code",
   "execution_count": null,
   "metadata": {
    "ExecuteTime": {
     "end_time": "2021-04-27T16:01:15.874714Z",
     "start_time": "2021-04-27T15:57:12.643Z"
    }
   },
   "outputs": [],
   "source": [
    "print(top)"
   ]
  },
  {
   "cell_type": "code",
   "execution_count": null,
   "metadata": {
    "ExecuteTime": {
     "end_time": "2021-04-27T16:01:15.876669Z",
     "start_time": "2021-04-27T15:57:12.646Z"
    }
   },
   "outputs": [],
   "source": [
    "plot_seasonal_decomposition(df.dropna(), 'SPY')"
   ]
  },
  {
   "cell_type": "markdown",
   "metadata": {},
   "source": [
    "# SARIMA Modeling"
   ]
  },
  {
   "cell_type": "code",
   "execution_count": null,
   "metadata": {
    "ExecuteTime": {
     "end_time": "2021-04-27T16:01:15.878624Z",
     "start_time": "2021-04-27T15:57:12.648Z"
    }
   },
   "outputs": [],
   "source": [
    "round((80/100)*len(df))"
   ]
  },
  {
   "cell_type": "code",
   "execution_count": null,
   "metadata": {
    "ExecuteTime": {
     "end_time": "2021-04-27T16:01:15.880362Z",
     "start_time": "2021-04-27T15:57:12.651Z"
    }
   },
   "outputs": [],
   "source": [
    "df_train, df_test = train_test_split_data(df, 80)"
   ]
  },
  {
   "cell_type": "code",
   "execution_count": null,
   "metadata": {
    "ExecuteTime": {
     "end_time": "2021-04-27T16:01:15.881461Z",
     "start_time": "2021-04-27T15:57:12.653Z"
    }
   },
   "outputs": [],
   "source": [
    "param_list = []\n",
    "param_seasonal_list = []\n",
    "aic_list = []"
   ]
  },
  {
   "cell_type": "code",
   "execution_count": 1,
   "metadata": {
    "ExecuteTime": {
     "end_time": "2021-04-27T14:10:04.837831Z",
     "start_time": "2021-04-27T14:10:04.834614Z"
    }
   },
   "outputs": [],
   "source": [
    "param = (2,1,0)\n",
    "param_seasonal = (2,1,0,2190)"
   ]
  },
  {
   "cell_type": "code",
   "execution_count": null,
   "metadata": {},
   "outputs": [],
   "source": []
  },
  {
   "cell_type": "code",
   "execution_count": 23,
   "metadata": {
    "ExecuteTime": {
     "end_time": "2021-04-27T16:04:50.589201Z",
     "start_time": "2021-04-27T16:04:50.551751Z"
    }
   },
   "outputs": [],
   "source": [
    "# mod = SARIMAX(df_train,\n",
    "#               order=param,\n",
    "#               seasonal_order=param_seasonal,\n",
    "#               enforce_stationarity=False,\n",
    "#               enforce_invertibility=False,\n",
    "#               verbose=True).fit()\n",
    "# param_list.append(param)\n",
    "# param_seasonal_list.append(param_seasonal)\n",
    "# aic = mod.aic"
   ]
  },
  {
   "cell_type": "code",
   "execution_count": 24,
   "metadata": {
    "ExecuteTime": {
     "end_time": "2021-04-27T16:04:50.635591Z",
     "start_time": "2021-04-27T16:04:50.591759Z"
    }
   },
   "outputs": [],
   "source": [
    "# param_list, param_seasonal_list, aic_list = gridsearch_SARIMAX(df_train)"
   ]
  },
  {
   "cell_type": "markdown",
   "metadata": {},
   "source": [
    "# Auto ARIMA"
   ]
  },
  {
   "cell_type": "code",
   "execution_count": null,
   "metadata": {
    "ExecuteTime": {
     "start_time": "2021-04-27T16:06:40.564Z"
    }
   },
   "outputs": [],
   "source": [
    "pya.auto_arima(df.dropna(), seasonal=True, m=2190).summary()"
   ]
  },
  {
   "cell_type": "code",
   "execution_count": null,
   "metadata": {},
   "outputs": [],
   "source": []
  }
 ],
 "metadata": {
  "kernelspec": {
   "display_name": "Python 3",
   "language": "python",
   "name": "python3"
  },
  "language_info": {
   "codemirror_mode": {
    "name": "ipython",
    "version": 3
   },
   "file_extension": ".py",
   "mimetype": "text/x-python",
   "name": "python",
   "nbconvert_exporter": "python",
   "pygments_lexer": "ipython3",
   "version": "3.8.3"
  },
  "toc": {
   "base_numbering": 1,
   "nav_menu": {},
   "number_sections": true,
   "sideBar": true,
   "skip_h1_title": false,
   "title_cell": "Table of Contents",
   "title_sidebar": "Contents",
   "toc_cell": false,
   "toc_position": {
    "height": "calc(100% - 180px)",
    "left": "10px",
    "top": "150px",
    "width": "426.667px"
   },
   "toc_section_display": true,
   "toc_window_display": true
  }
 },
 "nbformat": 4,
 "nbformat_minor": 4
}
