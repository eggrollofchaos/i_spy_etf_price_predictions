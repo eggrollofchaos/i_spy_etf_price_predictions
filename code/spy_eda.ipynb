{
 "cells": [
  {
   "cell_type": "markdown",
   "metadata": {
    "ExecuteTime": {
     "end_time": "2021-04-26T17:29:48.898767Z",
     "start_time": "2021-04-26T17:29:48.895865Z"
    }
   },
   "source": [
    "## Setup"
   ]
  },
  {
   "cell_type": "code",
   "execution_count": 2,
   "metadata": {
    "ExecuteTime": {
     "end_time": "2021-04-27T14:10:21.455913Z",
     "start_time": "2021-04-27T14:10:19.442047Z"
    }
   },
   "outputs": [
    {
     "name": "stdout",
     "output_type": "stream",
     "text": [
      "Functions loaded.\n"
     ]
    }
   ],
   "source": [
    "%load_ext autoreload\n",
    "%autoreload 2\n",
    "\n",
    "from random import random\n",
    "import pandas as pd\n",
    "import matplotlib\n",
    "import numpy as np\n",
    "from sklearn import metrics\n",
    "import csv\n",
    "import time\n",
    "import itertools\n",
    "from dateutil.relativedelta import relativedelta\n",
    "\n",
    "from alpha_vantage.timeseries import TimeSeries\n",
    "import pandas_market_calendars as mcal\n",
    "\n",
    "\n",
    "import pmdarima\n",
    "from statsmodels.tsa.stattools import adfuller\n",
    "from statsmodels.tsa.seasonal import seasonal_decompose\n",
    "from statsmodels.tsa.statespace.sarimax import SARIMAX\n",
    "from statsmodels.graphics.tsaplots import plot_acf, plot_pacf\n",
    "\n",
    "# from pathlib import Path\n",
    "# import os\n",
    "# current_path = os.getcwd()\n",
    "# # top = Path(__file__ + '..').resolve()\n",
    "import sys\n",
    "# sys.path.insert(0, top/ 'code')\n",
    "# sys.path.insert(0, top/ 'auth')\n",
    "sys.path.insert(0, '../code')\n",
    "sys.path.insert(0, '../auth')\n",
    "sys.path.insert(0, '../')\n",
    "\n",
    "# arrow = top / 'assets/arrow.png'\n",
    "# print('source image:', arrow)\n",
    "\n",
    "import matplotlib.pyplot as plt\n",
    "import seaborn as sns\n",
    "from matplotlib import ticker\n",
    "import matplotlib.dates as mdates\n",
    "from matplotlib.dates import DateFormatter\n",
    "plt.style.use('ggplot')\n",
    "sns.set_theme(style=\"darkgrid\")\n",
    "\n",
    "%matplotlib inline\n",
    "font = {'size'   : 12}\n",
    "matplotlib.rc('font', **font)\n",
    "\n",
    "pd.set_option('display.max_columns',None)\n",
    "pd.set_option('display.max_rows',50)\n",
    "\n",
    "from functions import *\n",
    "\n",
    "# only display whole years in figures\n",
    "years = mdates.YearLocator()\n",
    "years_fmt = mdates.DateFormatter('%Y')\n",
    "\n",
    "from keys import client_id, secret_key, av_key, consumer_key"
   ]
  },
  {
   "cell_type": "markdown",
   "metadata": {},
   "source": [
    "# EDA"
   ]
  },
  {
   "cell_type": "code",
   "execution_count": 2,
   "metadata": {
    "ExecuteTime": {
     "end_time": "2021-04-27T03:18:56.882516Z",
     "start_time": "2021-04-27T03:18:56.823898Z"
    }
   },
   "outputs": [],
   "source": [
    "ts = TimeSeries(key=av_key, output_format='csv')\n",
    "# AV_COLUMNS = ['time', '1. open', '2. high', '3. low', '4. close', '5. volume']\n",
    "AV_COLUMNS = ['time', 'open', 'high', 'low', 'close', 'volume']"
   ]
  },
  {
   "cell_type": "markdown",
   "metadata": {
    "ExecuteTime": {
     "end_time": "2021-04-26T23:00:14.927825Z",
     "start_time": "2021-04-26T22:56:36.933733Z"
    }
   },
   "source": [
    "## Load Data"
   ]
  },
  {
   "cell_type": "code",
   "execution_count": 44,
   "metadata": {
    "ExecuteTime": {
     "end_time": "2021-04-27T03:33:07.784780Z",
     "start_time": "2021-04-27T03:29:14.921860Z"
    }
   },
   "outputs": [
    {
     "name": "stdout",
     "output_type": "stream",
     "text": [
      "Functions loaded.\n",
      "Requesting all data slices for SPY...\n",
      "\n",
      "Requesting slice: year1month1\n",
      "First record:\n",
      "                      open   high     low   close volume\n",
      "time                                                    \n",
      "2021-04-23 20:00:00  416.3  416.3  416.14  416.25  50513\n",
      "Last record:\n",
      "                       open    high     low   close volume\n",
      "time                                                      \n",
      "2021-03-29 05:00:00  394.03  394.03  393.19  393.68  87585\n",
      "Processed and appended year1month1 to DataFrame.\n",
      "\n",
      "Requesting slice: year1month2\n",
      "First record:\n",
      "                      open    high     low   close volume\n",
      "time                                                     \n",
      "2021-03-26 20:00:00  395.5  395.72  395.41  395.63  64946\n",
      "Last record:\n",
      "                              open           high            low  \\\n",
      "time                                                               \n",
      "2021-02-25 05:00:00  390.618476937  390.618476937  389.870929457   \n",
      "\n",
      "                             close volume  \n",
      "time                                       \n",
      "2021-02-25 05:00:00  390.319457945  55989  \n",
      "Processed and appended year1month2 to DataFrame.\n",
      "\n",
      "Requesting slice: year1month3\n",
      "First record:\n",
      "                              open          high            low  \\\n",
      "time                                                              \n",
      "2021-02-24 20:00:00  391.655076111  391.67501071  391.086940025   \n",
      "\n",
      "                             close volume  \n",
      "time                                       \n",
      "2021-02-24 20:00:00  391.346089819  72964  \n",
      "Last record:\n",
      "                              open           high            low  \\\n",
      "time                                                               \n",
      "2021-01-26 05:00:00  382.395454649  383.053296432  382.146272156   \n",
      "\n",
      "                             close volume  \n",
      "time                                       \n",
      "2021-01-26 05:00:00  382.305748952  42222  \n",
      "Processed and appended year1month3 to DataFrame.\n",
      "\n",
      "Requesting slice: year1month4\n",
      "First record:\n",
      "                              open           high            low  \\\n",
      "time                                                               \n",
      "2021-01-25 20:00:00  382.843983138  382.923721536  382.405421949   \n",
      "\n",
      "                             close  volume  \n",
      "time                                        \n",
      "2021-01-25 20:00:00  382.495127647  132299  \n",
      "Last record:\n",
      "                             open           high            low  \\\n",
      "time                                                              \n",
      "2020-12-28 05:00:00  369.94629727  370.105774066  369.786820474   \n",
      "\n",
      "                             close volume  \n",
      "time                                       \n",
      "2020-12-28 05:00:00  370.075872167  17057  \n",
      "Processed and appended year1month4 to DataFrame.\n",
      "\n",
      "Requesting slice: year1month5\n",
      "First record:\n",
      "                              open          high            low  \\\n",
      "time                                                              \n",
      "2020-12-24 17:00:00  367.723589427  368.02260842  367.723589427   \n",
      "\n",
      "                             close  volume  \n",
      "time                                        \n",
      "2020-12-24 17:00:00  367.773425926  355503  \n",
      "Last record:\n",
      "                              open           high            low  \\\n",
      "time                                                               \n",
      "2020-11-27 05:00:00  360.866597989  361.005545524  360.429905736   \n",
      "\n",
      "                             close volume  \n",
      "time                                       \n",
      "2020-11-27 05:00:00  360.459680208  24731  \n",
      "Processed and appended year1month5 to DataFrame.\n",
      "\n",
      "Requesting slice: year1month6\n",
      "Error: Header row length is 1, expected 6.\n",
      "Sleeping for 10.0...\n",
      "Re-requesting slice: year1month6\n",
      "Error: Header row length is 1, expected 6.\n",
      "Sleeping for 11.845956770703832...\n",
      "Re-requesting slice: year1month6\n",
      "Error: Header row length is 1, expected 6.\n",
      "Sleeping for 13.050975309074449...\n",
      "Re-requesting slice: year1month6\n",
      "Error: Header row length is 1, expected 6.\n",
      "Sleeping for 13.02617115749699...\n",
      "Re-requesting slice: year1month6\n",
      "First record:\n",
      "                             open           high            low  \\\n",
      "time                                                              \n",
      "2020-11-25 17:00:00  359.93366454  360.221484434  359.675619118   \n",
      "\n",
      "                             close   volume  \n",
      "time                                         \n",
      "2020-11-25 17:00:00  360.052762427  6684448  \n",
      "Last record:\n",
      "                              open           high            low  \\\n",
      "time                                                               \n",
      "2020-10-28 05:00:00  332.749571804  333.047316521  330.665358779   \n",
      "\n",
      "                             close  volume  \n",
      "time                                        \n",
      "2020-10-28 05:00:00  331.687615643  190022  \n",
      "Processed and appended year1month6 to DataFrame.\n",
      "\n",
      "Requesting slice: year1month7\n",
      "First record:\n",
      "                              open           high            low  \\\n",
      "time                                                               \n",
      "2020-10-27 20:00:00  333.454234302  334.109272682  333.454234302   \n",
      "\n",
      "                             close  volume  \n",
      "time                                        \n",
      "2020-10-27 20:00:00  334.019949266  143249  \n",
      "Last record:\n",
      "                              open           high            low  \\\n",
      "time                                                               \n",
      "2020-09-28 05:00:00  328.680393993  329.246108957  328.382649276   \n",
      "\n",
      "                             close volume  \n",
      "time                                       \n",
      "2020-09-28 05:00:00  328.700243641  46279  \n",
      "Processed and appended year1month7 to DataFrame.\n",
      "\n",
      "Requesting slice: year1month8\n",
      "First record:\n",
      "                              open           high           low  \\\n",
      "time                                                              \n",
      "2020-09-25 20:00:00  325.782345407  325.911368118  325.56399928   \n",
      "\n",
      "                             close volume  \n",
      "time                                       \n",
      "2020-09-25 20:00:00  325.593773752  36281  \n",
      "Last record:\n",
      "                              open           high            low  \\\n",
      "time                                                               \n",
      "2020-08-31 05:00:00  347.657871753  347.786373994  347.390982482   \n",
      "\n",
      "                             close volume  \n",
      "time                                       \n",
      "2020-08-31 05:00:00  347.687526116  11732  \n",
      "Processed and appended year1month8 to DataFrame.\n",
      "\n",
      "Requesting slice: year1month9\n",
      "First record:\n",
      "                              open           high            low  \\\n",
      "time                                                               \n",
      "2020-08-28 20:00:00  346.896743092  346.985706182  346.837434365   \n",
      "\n",
      "                             close volume  \n",
      "time                                       \n",
      "2020-08-28 20:00:00  346.936282243  35404  \n",
      "Last record:\n",
      "                              open           high            low  \\\n",
      "time                                                               \n",
      "2020-07-30 05:00:00  319.278645976  319.278645976  318.003508349   \n",
      "\n",
      "                             close volume  \n",
      "time                                       \n",
      "2020-07-30 05:00:00  318.003508349  70839  \n",
      "Processed and appended year1month9 to DataFrame.\n",
      "\n",
      "Requesting slice: year1month10\n",
      "First record:\n",
      "                              open           high            low  \\\n",
      "time                                                               \n",
      "2020-07-29 20:00:00  321.660879836  321.690534199  321.354451414   \n",
      "\n",
      "                             close volume  \n",
      "time                                       \n",
      "2020-07-29 20:00:00  321.393990565  48665  \n",
      "Last record:\n",
      "                              open          high            low  \\\n",
      "time                                                              \n",
      "2020-06-30 05:00:00  300.497549153  300.69524491  299.874807522   \n",
      "\n",
      "                             close volume  \n",
      "time                                       \n",
      "2020-06-30 05:00:00  299.963770612  90148  \n",
      "Processed and appended year1month10 to DataFrame.\n",
      "\n",
      "Requesting slice: year1month11\n",
      "Error: Header row length is 1, expected 6.\n",
      "Sleeping for 10.0...\n",
      "Re-requesting slice: year1month11\n",
      "Error: Header row length is 1, expected 6.\n",
      "Sleeping for 11.990598382570033...\n",
      "Re-requesting slice: year1month11\n",
      "Error: Header row length is 1, expected 6.\n",
      "Sleeping for 12.927146710018569...\n",
      "Re-requesting slice: year1month11\n",
      "Error: Header row length is 1, expected 6.\n",
      "Sleeping for 15.289121024997419...\n"
     ]
    },
    {
     "name": "stdout",
     "output_type": "stream",
     "text": [
      "Re-requesting slice: year1month11\n",
      "First record:\n",
      "                              open           high            low  \\\n",
      "time                                                               \n",
      "2020-06-29 20:00:00  302.148308716  302.464621926  301.831995507   \n",
      "\n",
      "                            close  volume  \n",
      "time                                       \n",
      "2020-06-29 20:00:00  301.95061296  132030  \n",
      "Last record:\n",
      "                             open           high            low  \\\n",
      "time                                                              \n",
      "2020-06-01 05:00:00  300.15733574  300.462413688  297.647823589   \n",
      "\n",
      "                             close   volume  \n",
      "time                                         \n",
      "2020-06-01 05:00:00  299.055118638  1266371  \n",
      "Processed and appended year1month11 to DataFrame.\n",
      "\n",
      "Requesting slice: year1month12\n",
      "First record:\n",
      "                              open           high            low  \\\n",
      "time                                                               \n",
      "2020-05-29 20:00:00  301.062728359  301.239870393  301.023363463   \n",
      "\n",
      "                             close  volume  \n",
      "time                                        \n",
      "2020-05-29 20:00:00  301.239870393  122070  \n",
      "Last record:\n",
      "                              open           high           low  \\\n",
      "time                                                              \n",
      "2020-05-01 05:00:00  279.874572823  280.799647891  279.17584591   \n",
      "\n",
      "                             close  volume  \n",
      "time                                        \n",
      "2020-05-01 05:00:00  280.652029529  150953  \n",
      "Processed and appended year1month12 to DataFrame.\n",
      "\n",
      "Requesting slice: year2month1\n",
      "First record:\n",
      "                              open           high            low  \\\n",
      "time                                                               \n",
      "2020-04-30 20:00:00  282.472655991  283.230430249  282.246307837   \n",
      "\n",
      "                             close  volume  \n",
      "time                                        \n",
      "2020-04-30 20:00:00  283.132018008  278807  \n",
      "Last record:\n",
      "                              open           high            low  \\\n",
      "time                                                               \n",
      "2020-04-01 05:00:00  247.841388304  247.979165442  244.406801085   \n",
      "\n",
      "                             close  volume  \n",
      "time                                        \n",
      "2020-04-01 05:00:00  245.735366342  317707  \n",
      "Processed and appended year2month1 to DataFrame.\n",
      "\n",
      "Requesting slice: year2month2\n",
      "First record:\n",
      "                              open           high            low  \\\n",
      "time                                                               \n",
      "2020-03-31 20:00:00  250.951215127  251.315340419  250.154075973   \n",
      "\n",
      "                             close  volume  \n",
      "time                                        \n",
      "2020-03-31 20:00:00  250.272170662  572530  \n",
      "Last record:\n",
      "                              open           high            low  \\\n",
      "time                                                               \n",
      "2020-03-02 05:00:00  293.629728634  293.991630698  289.736836163   \n",
      "\n",
      "                             close  volume  \n",
      "time                                        \n",
      "2020-03-02 05:00:00  290.734512123  238326  \n",
      "Processed and appended year2month2 to DataFrame.\n",
      "\n",
      "Requesting slice: year2month3\n",
      "First record:\n",
      "                              open           high            low  \\\n",
      "time                                                               \n",
      "2020-02-28 20:00:00  292.407086526  292.553803579  292.201682652   \n",
      "\n",
      "                             close volume  \n",
      "time                                       \n",
      "2020-02-28 20:00:00  292.309275158  82718  \n",
      "Last record:\n",
      "                              open           high            low  \\\n",
      "time                                                               \n",
      "2020-02-03 05:00:00  316.419777525  316.439339799  315.754660219   \n",
      "\n",
      "                             close volume  \n",
      "time                                       \n",
      "2020-02-03 05:00:00  315.911158408  89419  \n",
      "Processed and appended year2month3 to DataFrame.\n",
      "\n",
      "Requesting slice: year2month4\n",
      "Error: Header row length is 1, expected 6.\n",
      "Sleeping for 10.0...\n",
      "Re-requesting slice: year2month4\n",
      "Error: Header row length is 1, expected 6.\n",
      "Sleeping for 11.400725351345583...\n",
      "Re-requesting slice: year2month4\n",
      "Error: Header row length is 1, expected 6.\n",
      "Sleeping for 13.864182859925581...\n",
      "Re-requesting slice: year2month4\n",
      "Error: Header row length is 1, expected 6.\n",
      "Sleeping for 14.212707710433387...\n",
      "Re-requesting slice: year2month4\n",
      "Error: Header row length is 1, expected 6.\n",
      "Sleeping for 14.57594347588475...\n",
      "Re-requesting slice: year2month4\n",
      "First record:\n",
      "                              open           high            low  \\\n",
      "time                                                               \n",
      "2020-01-31 20:00:00  314.884139038  314.923263585  314.805889943   \n",
      "\n",
      "                             close volume  \n",
      "time                                       \n",
      "2020-01-31 20:00:00  314.805889943  50847  \n",
      "Last record:\n",
      "                              open           high            low  \\\n",
      "time                                                               \n",
      "2020-01-02 05:00:00  316.439339799  316.771898452  316.439339799   \n",
      "\n",
      "                             close volume  \n",
      "time                                       \n",
      "2020-01-02 05:00:00  316.742555042  28435  \n",
      "Processed and appended year2month4 to DataFrame.\n",
      "\n",
      "Requesting slice: year2month5\n",
      "First record:\n",
      "                              open           high            low  \\\n",
      "time                                                               \n",
      "2019-12-31 20:00:00  315.304727923  315.373195881  315.275384512   \n",
      "\n",
      "                             close volume  \n",
      "time                                       \n",
      "2019-12-31 20:00:00  315.294946786  21682  \n",
      "Last record:\n",
      "                              open           high            low  \\\n",
      "time                                                               \n",
      "2019-12-03 05:00:00  303.733574731  303.947711525  303.383169069   \n",
      "\n",
      "                             close volume  \n",
      "time                                       \n",
      "2019-12-03 05:00:00  303.587572372  15023  \n",
      "Processed and appended year2month5 to DataFrame.\n",
      "\n",
      "Requesting slice: year2month6\n",
      "First record:\n",
      "                             open           high            low  \\\n",
      "time                                                              \n",
      "2019-12-02 20:00:00  303.09116435  303.548638409  302.867294066   \n",
      "\n",
      "                             close  volume  \n",
      "time                                        \n",
      "2019-12-02 20:00:00  303.451303503  241585  \n",
      "Last record:\n",
      "                             open           high           low          close  \\\n",
      "time                                                                            \n",
      "2019-11-04 05:00:00  298.82789546  299.158834141  298.82789546  299.119900178   \n",
      "\n",
      "                    volume  \n",
      "time                        \n",
      "2019-11-04 05:00:00  50825  \n",
      "Processed and appended year2month6 to DataFrame.\n",
      "\n",
      "Requesting slice: year2month7\n",
      "First record:\n",
      "                              open           high            low  \\\n",
      "time                                                               \n",
      "2019-11-01 20:00:00  297.981081776  298.029749229  297.844812907   \n",
      "\n",
      "                             close volume  \n",
      "time                                       \n",
      "2019-11-01 20:00:00  297.912947341  27473  \n",
      "Last record:\n",
      "                              open           high            low  \\\n",
      "time                                                               \n",
      "2019-10-04 05:00:00  282.514565184  282.592433109  282.027890653   \n",
      "\n",
      "                             close volume  \n",
      "time                                       \n",
      "2019-10-04 05:00:00  282.096025087  32031  \n",
      "Processed and appended year2month7 to DataFrame.\n",
      "\n",
      "Requesting slice: year2month8\n",
      "First record:\n",
      "                              open           high          low          close  \\\n",
      "time                                                                            \n",
      "2019-10-03 20:00:00  282.485364712  282.563232637  282.2906949  282.339362353   \n",
      "\n",
      "                     volume  \n",
      "time                         \n",
      "2019-10-03 20:00:00  114155  \n",
      "Last record:\n",
      "                              open           high            low  \\\n",
      "time                                                               \n",
      "2019-09-04 05:00:00  284.368594383  284.572053906  284.107003566   \n",
      "\n",
      "                             close volume  \n",
      "time                                       \n",
      "2019-09-04 05:00:00  284.320151639  29361  \n",
      "Processed and appended year2month8 to DataFrame.\n",
      "\n",
      "Requesting slice: year2month9\n",
      "Error: Header row length is 1, expected 6.\n",
      "Sleeping for 10.0...\n"
     ]
    },
    {
     "name": "stdout",
     "output_type": "stream",
     "text": [
      "Re-requesting slice: year2month9\n",
      "Error: Header row length is 1, expected 6.\n",
      "Sleeping for 11.57188898158261...\n",
      "Re-requesting slice: year2month9\n",
      "Error: Header row length is 1, expected 6.\n",
      "Sleeping for 13.57066568799517...\n",
      "Re-requesting slice: year2month9\n",
      "Error: Header row length is 1, expected 6.\n",
      "Sleeping for 13.28730165119911...\n",
      "Re-requesting slice: year2month9\n",
      "First record:\n",
      "                              open           high            low  \\\n",
      "time                                                               \n",
      "2019-09-03 20:00:00  281.742997671  281.839883159  281.326390075   \n",
      "\n",
      "                             close volume  \n",
      "time                                       \n",
      "2019-09-03 20:00:00  281.413587014  53453  \n",
      "Last record:\n",
      "                              open           high            low  \\\n",
      "time                                                               \n",
      "2019-08-05 05:00:00  280.677257309  280.677257309  279.611516946   \n",
      "\n",
      "                             close volume  \n",
      "time                                       \n",
      "2019-08-05 05:00:00  279.640582592  50526  \n",
      "Processed and appended year2month9 to DataFrame.\n",
      "\n",
      "Requesting slice: year2month10\n",
      "First record:\n",
      "                              open           high           low  \\\n",
      "time                                                              \n",
      "2019-08-02 20:00:00  283.758215811  283.826035653  283.69039597   \n",
      "\n",
      "                             close volume  \n",
      "time                                       \n",
      "2019-08-02 20:00:00  283.826035653  22297  \n",
      "Last record:\n",
      "                             open          high            low          close  \\\n",
      "time                                                                            \n",
      "2019-07-08 05:00:00  288.34089937  288.49591615  288.244013883  288.244013883   \n",
      "\n",
      "                    volume  \n",
      "time                        \n",
      "2019-07-08 05:00:00   8514  \n",
      "Processed and appended year2month10 to DataFrame.\n",
      "\n",
      "Requesting slice: year2month11\n",
      "First record:\n",
      "                              open           high            low  \\\n",
      "time                                                               \n",
      "2019-07-05 20:00:00  288.815638259  288.864081003  288.767195515   \n",
      "\n",
      "                             close volume  \n",
      "time                                       \n",
      "2019-07-05 20:00:00  288.854392454  17970  \n",
      "Last record:\n",
      "                              open           high            low  \\\n",
      "time                                                               \n",
      "2019-06-06 05:00:00  273.541835343  273.686459344  273.512910543   \n",
      "\n",
      "                             close volume  \n",
      "time                                       \n",
      "2019-06-06 05:00:00  273.638251344  32326  \n",
      "Processed and appended year2month11 to DataFrame.\n",
      "\n",
      "Finished getting all data slices for SPY\n"
     ]
    }
   ],
   "source": [
    "df_full = get_all_data_slices('SPY', ts, verbose=1)\n",
    "df_full.to_csv('../data/SPY_2019_2021.csv')"
   ]
  },
  {
   "cell_type": "code",
   "execution_count": 4,
   "metadata": {
    "ExecuteTime": {
     "end_time": "2021-04-27T03:18:57.262798Z",
     "start_time": "2021-04-27T03:18:56.956612Z"
    }
   },
   "outputs": [
    {
     "data": {
      "text/html": [
       "<div>\n",
       "<style scoped>\n",
       "    .dataframe tbody tr th:only-of-type {\n",
       "        vertical-align: middle;\n",
       "    }\n",
       "\n",
       "    .dataframe tbody tr th {\n",
       "        vertical-align: top;\n",
       "    }\n",
       "\n",
       "    .dataframe thead th {\n",
       "        text-align: right;\n",
       "    }\n",
       "</style>\n",
       "<table border=\"1\" class=\"dataframe\">\n",
       "  <thead>\n",
       "    <tr style=\"text-align: right;\">\n",
       "      <th></th>\n",
       "      <th>market_open</th>\n",
       "      <th>market_close</th>\n",
       "    </tr>\n",
       "  </thead>\n",
       "  <tbody>\n",
       "    <tr>\n",
       "      <th>2012-07-02</th>\n",
       "      <td>2012-07-02 13:30:00+00:00</td>\n",
       "      <td>2012-07-02 20:00:00+00:00</td>\n",
       "    </tr>\n",
       "    <tr>\n",
       "      <th>2012-07-03</th>\n",
       "      <td>2012-07-03 13:30:00+00:00</td>\n",
       "      <td>2012-07-03 17:00:00+00:00</td>\n",
       "    </tr>\n",
       "    <tr>\n",
       "      <th>2012-07-05</th>\n",
       "      <td>2012-07-05 13:30:00+00:00</td>\n",
       "      <td>2012-07-05 20:00:00+00:00</td>\n",
       "    </tr>\n",
       "    <tr>\n",
       "      <th>2012-07-06</th>\n",
       "      <td>2012-07-06 13:30:00+00:00</td>\n",
       "      <td>2012-07-06 20:00:00+00:00</td>\n",
       "    </tr>\n",
       "    <tr>\n",
       "      <th>2012-07-09</th>\n",
       "      <td>2012-07-09 13:30:00+00:00</td>\n",
       "      <td>2012-07-09 20:00:00+00:00</td>\n",
       "    </tr>\n",
       "    <tr>\n",
       "      <th>2012-07-10</th>\n",
       "      <td>2012-07-10 13:30:00+00:00</td>\n",
       "      <td>2012-07-10 20:00:00+00:00</td>\n",
       "    </tr>\n",
       "  </tbody>\n",
       "</table>\n",
       "</div>"
      ],
      "text/plain": [
       "                         market_open              market_close\n",
       "2012-07-02 2012-07-02 13:30:00+00:00 2012-07-02 20:00:00+00:00\n",
       "2012-07-03 2012-07-03 13:30:00+00:00 2012-07-03 17:00:00+00:00\n",
       "2012-07-05 2012-07-05 13:30:00+00:00 2012-07-05 20:00:00+00:00\n",
       "2012-07-06 2012-07-06 13:30:00+00:00 2012-07-06 20:00:00+00:00\n",
       "2012-07-09 2012-07-09 13:30:00+00:00 2012-07-09 20:00:00+00:00\n",
       "2012-07-10 2012-07-10 13:30:00+00:00 2012-07-10 20:00:00+00:00"
      ]
     },
     "execution_count": 4,
     "metadata": {},
     "output_type": "execute_result"
    }
   ],
   "source": [
    "# Get NYSE calendar\n",
    "NYSE = mcal.get_calendar('NYSE')\n",
    "early = NYSE.schedule(start_date='2012-07-01', end_date='2012-07-10')\n",
    "early"
   ]
  },
  {
   "cell_type": "code",
   "execution_count": 32,
   "metadata": {
    "ExecuteTime": {
     "end_time": "2021-04-27T03:23:09.438954Z",
     "start_time": "2021-04-27T03:23:08.755681Z"
    }
   },
   "outputs": [],
   "source": [
    "# ticker = 'SPY'\n",
    "# date= 'year2month12'\n",
    "# apiKey = av_key\n",
    "\n",
    "# df_new = pd.read_csv('https://www.alphavantage.co/query?function=TIME_SERIES_INTRADAY_EXTENDED&symbol='+ticker+'&interval=60min&slice='+date+'&apikey='+apiKey+'&datatype=csv&outputsize=full') "
   ]
  },
  {
   "cell_type": "code",
   "execution_count": null,
   "metadata": {
    "ExecuteTime": {
     "end_time": "2021-04-27T03:24:12.056918Z",
     "start_time": "2021-04-27T03:24:12.007605Z"
    }
   },
   "outputs": [],
   "source": [
    "# df_new.set_index('time', inplace=True)\n",
    "# df_new.index = pd.to_datetime(df_new.index)"
   ]
  },
  {
   "cell_type": "markdown",
   "metadata": {},
   "source": [
    "## Data Exploration"
   ]
  },
  {
   "cell_type": "code",
   "execution_count": 52,
   "metadata": {
    "ExecuteTime": {
     "end_time": "2021-04-27T03:39:20.086724Z",
     "start_time": "2021-04-27T03:39:19.975917Z"
    }
   },
   "outputs": [
    {
     "name": "stdout",
     "output_type": "stream",
     "text": [
      "Functions loaded.\n"
     ]
    },
    {
     "data": {
      "text/plain": [
       "open      311\n",
       "high      311\n",
       "low       311\n",
       "close     311\n",
       "volume    311\n",
       "dtype: int64"
      ]
     },
     "execution_count": 52,
     "metadata": {},
     "output_type": "execute_result"
    }
   ],
   "source": [
    "df_full.isna().sum()"
   ]
  },
  {
   "cell_type": "markdown",
   "metadata": {},
   "source": [
    "## Set Proper Business Hour Frequency"
   ]
  },
  {
   "cell_type": "code",
   "execution_count": 17,
   "metadata": {
    "ExecuteTime": {
     "end_time": "2021-04-27T03:20:09.608002Z",
     "start_time": "2021-04-27T03:20:09.553005Z"
    }
   },
   "outputs": [],
   "source": [
    "cbh = pd.offsets.CustomBusinessHour(calendar=NYSE, start='05:00', end='21:00')"
   ]
  },
  {
   "cell_type": "code",
   "execution_count": 18,
   "metadata": {
    "ExecuteTime": {
     "end_time": "2021-04-27T03:20:10.721184Z",
     "start_time": "2021-04-27T03:20:10.679802Z"
    }
   },
   "outputs": [
    {
     "data": {
      "text/plain": [
       "<CustomBusinessHour: CBH=05:00-21:00>"
      ]
     },
     "execution_count": 18,
     "metadata": {},
     "output_type": "execute_result"
    }
   ],
   "source": [
    "cbh"
   ]
  },
  {
   "cell_type": "code",
   "execution_count": 54,
   "metadata": {
    "ExecuteTime": {
     "end_time": "2021-04-27T03:41:04.591160Z",
     "start_time": "2021-04-27T03:41:04.544485Z"
    }
   },
   "outputs": [
    {
     "data": {
      "text/plain": [
       "pandas.core.frame.DataFrame"
      ]
     },
     "execution_count": 54,
     "metadata": {},
     "output_type": "execute_result"
    }
   ],
   "source": [
    "type(df_new)"
   ]
  },
  {
   "cell_type": "code",
   "execution_count": 56,
   "metadata": {
    "ExecuteTime": {
     "end_time": "2021-04-27T03:42:42.828148Z",
     "start_time": "2021-04-27T03:42:42.302081Z"
    }
   },
   "outputs": [
    {
     "name": "stdout",
     "output_type": "stream",
     "text": [
      "Nothing to append\n"
     ]
    }
   ],
   "source": [
    "df_full = pd.read_csv('../data/SPY_2019_2021.csv', index_col='time')\n",
    "df_full.index = pd.to_datetime(df_full.index)\n",
    "try:\n",
    "    assert(type(df_new)=='pandas.core.frame.DataFrame')\n",
    "except AssertionError:\n",
    "    print('Nothing to append')\n",
    "else:\n",
    "    df_full = df_full.append(df_new)\n",
    "    df_full = df_full.sort_index()\n",
    "    df_full = df_full.asfreq(cbh)\n",
    "    df_full.to_csv('../data/SPY_2019_2021.csv')\n",
    "finally:\n",
    "    df_full = df_full.sort_index()\n",
    "    df_full = df_full.asfreq(cbh)\n",
    "    df_full.to_csv('../data/SPY_2019_2021.csv')\n",
    "    df_full"
   ]
  },
  {
   "cell_type": "code",
   "execution_count": 58,
   "metadata": {
    "ExecuteTime": {
     "end_time": "2021-04-27T03:43:48.158796Z",
     "start_time": "2021-04-27T03:43:48.112078Z"
    }
   },
   "outputs": [
    {
     "data": {
      "text/plain": [
       "time\n",
       "2019-05-07 05:00:00    281.033359\n",
       "2019-05-07 06:00:00    280.956226\n",
       "2019-05-07 07:00:00    280.483787\n",
       "2019-05-07 08:00:00    280.136690\n",
       "2019-05-07 09:00:00    280.368088\n",
       "                          ...    \n",
       "2021-04-23 16:00:00    416.720000\n",
       "2021-04-23 17:00:00    416.250000\n",
       "2021-04-23 18:00:00    416.360000\n",
       "2021-04-23 19:00:00    416.330000\n",
       "2021-04-23 20:00:00    416.250000\n",
       "Freq: CBH, Name: close, Length: 8224, dtype: float64"
      ]
     },
     "execution_count": 58,
     "metadata": {},
     "output_type": "execute_result"
    }
   ],
   "source": [
    "df = df_full.close\n",
    "df"
   ]
  },
  {
   "cell_type": "code",
   "execution_count": null,
   "metadata": {
    "ExecuteTime": {
     "end_time": "2021-04-27T03:18:58.236213Z",
     "start_time": "2021-04-27T03:18:54.232Z"
    }
   },
   "outputs": [],
   "source": [
    "start = pd.to_datetime('2019-06-07')"
   ]
  },
  {
   "cell_type": "code",
   "execution_count": null,
   "metadata": {
    "ExecuteTime": {
     "end_time": "2021-04-27T03:18:58.237548Z",
     "start_time": "2021-04-27T03:18:54.235Z"
    }
   },
   "outputs": [],
   "source": [
    "cbh.next_bday(pd.to_datetime(start))"
   ]
  },
  {
   "cell_type": "code",
   "execution_count": null,
   "metadata": {
    "ExecuteTime": {
     "end_time": "2021-04-27T03:18:58.238945Z",
     "start_time": "2021-04-27T03:18:54.238Z"
    }
   },
   "outputs": [],
   "source": [
    "start + pd.DateOffset(days = 2)"
   ]
  },
  {
   "cell_type": "code",
   "execution_count": null,
   "metadata": {
    "ExecuteTime": {
     "end_time": "2021-04-27T03:18:58.240358Z",
     "start_time": "2021-04-27T03:18:54.240Z"
    }
   },
   "outputs": [],
   "source": [
    "start + pd.offsets.BDay()"
   ]
  },
  {
   "cell_type": "code",
   "execution_count": null,
   "metadata": {
    "ExecuteTime": {
     "end_time": "2021-04-27T03:18:58.241891Z",
     "start_time": "2021-04-27T03:18:54.243Z"
    }
   },
   "outputs": [],
   "source": [
    "df_copy = df_full.copy()\n",
    "df_copy.index = df_copy.index.date\n",
    "df_copy.index.value_counts()"
   ]
  },
  {
   "cell_type": "code",
   "execution_count": null,
   "metadata": {
    "ExecuteTime": {
     "end_time": "2021-04-27T03:18:58.243710Z",
     "start_time": "2021-04-27T03:18:54.245Z"
    }
   },
   "outputs": [],
   "source": [
    "df_copy_2 = df_full2.copy()\n",
    "df_copy_2.index = df_copy_2.index.date\n",
    "df_copy_2.index.value_counts()"
   ]
  },
  {
   "cell_type": "code",
   "execution_count": null,
   "metadata": {
    "ExecuteTime": {
     "end_time": "2021-04-27T03:18:58.244980Z",
     "start_time": "2021-04-27T03:18:54.250Z"
    }
   },
   "outputs": [],
   "source": [
    "df_full2[df_full2.index.date == pd.to_datetime('2020-07-06')]"
   ]
  },
  {
   "cell_type": "code",
   "execution_count": null,
   "metadata": {
    "ExecuteTime": {
     "end_time": "2021-04-27T03:18:58.246200Z",
     "start_time": "2021-04-27T03:18:54.255Z"
    }
   },
   "outputs": [],
   "source": [
    "df_full[df_full.index.date == pd.to_datetime('2021-03-01')]"
   ]
  },
  {
   "cell_type": "code",
   "execution_count": null,
   "metadata": {
    "ExecuteTime": {
     "end_time": "2021-04-27T03:18:58.247857Z",
     "start_time": "2021-04-27T03:18:54.259Z"
    },
    "scrolled": true
   },
   "outputs": [],
   "source": [
    "null_data = df_full[df_full.isnull().any(axis=1)]\n",
    "null_data"
   ]
  },
  {
   "cell_type": "code",
   "execution_count": null,
   "metadata": {
    "ExecuteTime": {
     "end_time": "2021-04-27T03:18:58.250132Z",
     "start_time": "2021-04-27T03:18:54.264Z"
    }
   },
   "outputs": [],
   "source": [
    "null_data2 = df_full2[df_full2.isnull().any(axis=1)]\n",
    "null_data2"
   ]
  },
  {
   "cell_type": "code",
   "execution_count": null,
   "metadata": {
    "ExecuteTime": {
     "end_time": "2021-04-27T03:18:58.251983Z",
     "start_time": "2021-04-27T03:18:54.266Z"
    }
   },
   "outputs": [],
   "source": [
    "df_full.index"
   ]
  },
  {
   "cell_type": "code",
   "execution_count": 59,
   "metadata": {
    "ExecuteTime": {
     "end_time": "2021-04-27T03:43:53.823810Z",
     "start_time": "2021-04-27T03:43:53.778888Z"
    }
   },
   "outputs": [
    {
     "data": {
      "text/plain": [
       "DatetimeIndex(['2019-05-07 05:00:00', '2019-05-07 06:00:00',\n",
       "               '2019-05-07 07:00:00', '2019-05-07 08:00:00',\n",
       "               '2019-05-07 09:00:00', '2019-05-07 10:00:00',\n",
       "               '2019-05-07 11:00:00', '2019-05-07 12:00:00',\n",
       "               '2019-05-07 13:00:00', '2019-05-07 14:00:00',\n",
       "               ...\n",
       "               '2021-04-23 11:00:00', '2021-04-23 12:00:00',\n",
       "               '2021-04-23 13:00:00', '2021-04-23 14:00:00',\n",
       "               '2021-04-23 15:00:00', '2021-04-23 16:00:00',\n",
       "               '2021-04-23 17:00:00', '2021-04-23 18:00:00',\n",
       "               '2021-04-23 19:00:00', '2021-04-23 20:00:00'],\n",
       "              dtype='datetime64[ns]', name='time', length=8224, freq='CBH')"
      ]
     },
     "execution_count": 59,
     "metadata": {},
     "output_type": "execute_result"
    }
   ],
   "source": [
    "df.index"
   ]
  },
  {
   "cell_type": "markdown",
   "metadata": {
    "ExecuteTime": {
     "end_time": "2021-04-26T19:42:10.301805Z",
     "start_time": "2021-04-26T19:42:10.259964Z"
    },
    "heading_collapsed": true
   },
   "source": [
    "## Test out read and write CSV at same time"
   ]
  },
  {
   "cell_type": "code",
   "execution_count": null,
   "metadata": {
    "ExecuteTime": {
     "end_time": "2021-04-27T03:18:58.258725Z",
     "start_time": "2021-04-27T03:18:54.271Z"
    },
    "hidden": true
   },
   "outputs": [],
   "source": [
    "with open('../data/GME_intra_Mar_29_Apr_12.csv', newline='') as csvfile:\n",
    "#     fieldnames = ['first_name', 'last_name']\n",
    "    reader = csv.reader(csvfile)\n",
    "    fieldnames = next(reader)\n",
    "    print(fieldnames)\n",
    "    \n",
    "    with open('../data/output.csv', mode='w', newline='') as csvfile:\n",
    "        writer = csv.writer(csvfile)\n",
    "        writer.writerow(fieldnames)\n",
    "        for row in reader:\n",
    "            writer.writerow(row)\n",
    "            "
   ]
  },
  {
   "cell_type": "markdown",
   "metadata": {
    "heading_collapsed": true
   },
   "source": [
    "## More EDA"
   ]
  },
  {
   "cell_type": "code",
   "execution_count": null,
   "metadata": {
    "ExecuteTime": {
     "end_time": "2021-04-27T03:18:58.260848Z",
     "start_time": "2021-04-27T03:18:54.274Z"
    },
    "hidden": true
   },
   "outputs": [],
   "source": [
    "y=1\n",
    "m=11\n",
    "data_slice = f'year{y+1}month{m+1}'\n",
    "print(data_slice)\n",
    "total_data_reader, total_meta_data = ts.get_intraday_extended(symbol='SPY', interval='60min', slice=data_slice)\n",
    "fieldnames = next(total_data_reader)\n",
    "print(fieldnames)\n",
    "df_test = pd.DataFrame(total_data_reader, columns=fieldnames)\n",
    "df_test.set_index('time', inplace=True)\n",
    "df_test"
   ]
  },
  {
   "cell_type": "code",
   "execution_count": null,
   "metadata": {
    "ExecuteTime": {
     "end_time": "2021-04-27T03:18:58.263047Z",
     "start_time": "2021-04-27T03:18:54.276Z"
    },
    "hidden": true
   },
   "outputs": [],
   "source": [
    "with open('../data/output.csv', mode='w', newline='') as csvfile:\n",
    "#     writer = csv.DictWriter(csvfile, fieldnames=df_test_dict.keys())\n",
    "#     writer = csv.DictWriter(sys.stderr, fieldnames=df_test_dict.keys())\n",
    "#     writer = csv.writer(sys.stderr)\n",
    "    writer = csv.writer(csvfile)\n",
    "    writer.writerow(df_test.reset_index().columns)\n",
    "#     writer.writeheader()\n",
    "    writer.writerows(df_test.reset_index().values)"
   ]
  },
  {
   "cell_type": "code",
   "execution_count": null,
   "metadata": {
    "ExecuteTime": {
     "end_time": "2021-04-27T03:18:58.264903Z",
     "start_time": "2021-04-27T03:18:54.277Z"
    },
    "hidden": true
   },
   "outputs": [],
   "source": [
    "df_test_close = df_test.close"
   ]
  },
  {
   "cell_type": "markdown",
   "metadata": {},
   "source": [
    "# Data Prep"
   ]
  },
  {
   "cell_type": "markdown",
   "metadata": {
    "ExecuteTime": {
     "end_time": "2021-04-27T00:01:47.794038Z",
     "start_time": "2021-04-27T00:01:47.752745Z"
    }
   },
   "source": [
    "## Check Stationarity"
   ]
  },
  {
   "cell_type": "code",
   "execution_count": 60,
   "metadata": {
    "ExecuteTime": {
     "end_time": "2021-04-27T03:43:56.083324Z",
     "start_time": "2021-04-27T03:43:55.780603Z"
    }
   },
   "outputs": [
    {
     "name": "stdout",
     "output_type": "stream",
     "text": [
      "Test Statistic                    0.008815\n",
      "p-value                           0.959255\n",
      "#Lags Used                       36.000000\n",
      "Number of Observations Used    7876.000000\n",
      "Critical Value (1%)              -3.431181\n",
      "Critical Value (5%)              -2.861907\n",
      "Critical Value (10%)             -2.566965\n",
      "dtype: float64\n"
     ]
    }
   ],
   "source": [
    "test_stationarity(df.dropna())"
   ]
  },
  {
   "cell_type": "code",
   "execution_count": 61,
   "metadata": {
    "ExecuteTime": {
     "end_time": "2021-04-27T03:43:57.782760Z",
     "start_time": "2021-04-27T03:43:57.487873Z"
    }
   },
   "outputs": [
    {
     "name": "stdout",
     "output_type": "stream",
     "text": [
      "Test Statistic                -1.433867e+01\n",
      "p-value                        1.069255e-26\n",
      "#Lags Used                     3.600000e+01\n",
      "Number of Observations Used    7.875000e+03\n",
      "Critical Value (1%)           -3.431181e+00\n",
      "Critical Value (5%)           -2.861907e+00\n",
      "Critical Value (10%)          -2.566965e+00\n",
      "dtype: float64\n"
     ]
    }
   ],
   "source": [
    "test_stationarity(df.dropna(),1)"
   ]
  },
  {
   "cell_type": "markdown",
   "metadata": {},
   "source": [
    "## Plot Seasonal Decomposition"
   ]
  },
  {
   "cell_type": "code",
   "execution_count": null,
   "metadata": {
    "ExecuteTime": {
     "end_time": "2021-04-27T03:18:58.271943Z",
     "start_time": "2021-04-27T03:18:54.283Z"
    }
   },
   "outputs": [],
   "source": [
    "print(top)"
   ]
  },
  {
   "cell_type": "code",
   "execution_count": 62,
   "metadata": {
    "ExecuteTime": {
     "end_time": "2021-04-27T03:44:04.327214Z",
     "start_time": "2021-04-27T03:44:01.487280Z"
    }
   },
   "outputs": [
    {
     "data": {
      "image/png": "[encoded data removed]",
      "text/plain": [
       "<Figure size 864x864 with 4 Axes>"
      ]
     },
     "metadata": {},
     "output_type": "display_data"
    }
   ],
   "source": [
    "plot_seasonal_decomposition(df.dropna(), 'SPY')"
   ]
  },
  {
   "cell_type": "markdown",
   "metadata": {},
   "source": [
    "# SARIMA Modeling"
   ]
  },
  {
   "cell_type": "code",
   "execution_count": null,
   "metadata": {
    "ExecuteTime": {
     "end_time": "2021-04-27T03:18:58.275336Z",
     "start_time": "2021-04-27T03:18:54.288Z"
    }
   },
   "outputs": [],
   "source": [
    "round((80/100)*len(df))"
   ]
  },
  {
   "cell_type": "code",
   "execution_count": 64,
   "metadata": {
    "ExecuteTime": {
     "end_time": "2021-04-27T03:44:13.361087Z",
     "start_time": "2021-04-27T03:44:13.317294Z"
    }
   },
   "outputs": [
    {
     "name": "stdout",
     "output_type": "stream",
     "text": [
      "Using a 80/20 train-test split...\n"
     ]
    }
   ],
   "source": [
    "df_train, df_test = train_test_split_data(df, 80)"
   ]
  },
  {
   "cell_type": "code",
   "execution_count": null,
   "metadata": {
    "ExecuteTime": {
     "end_time": "2021-04-27T03:18:58.278927Z",
     "start_time": "2021-04-27T03:18:54.291Z"
    }
   },
   "outputs": [],
   "source": [
    "param_list = []\n",
    "param_seasonal_list = []\n",
    "aic_list = []"
   ]
  },
  {
   "cell_type": "code",
   "execution_count": 1,
   "metadata": {
    "ExecuteTime": {
     "end_time": "2021-04-27T14:10:04.837831Z",
     "start_time": "2021-04-27T14:10:04.834614Z"
    }
   },
   "outputs": [],
   "source": [
    "param = (2,1,0)\n",
    "param_seasonal = (2,1,0,2190)"
   ]
  },
  {
   "cell_type": "code",
   "execution_count": null,
   "metadata": {},
   "outputs": [],
   "source": [
    "au"
   ]
  },
  {
   "cell_type": "code",
   "execution_count": null,
   "metadata": {
    "ExecuteTime": {
     "end_time": "2021-04-27T03:18:58.283347Z",
     "start_time": "2021-04-27T03:18:54.295Z"
    }
   },
   "outputs": [],
   "source": [
    "# mod = SARIMAX(df_train,\n",
    "#               order=param,\n",
    "#               seasonal_order=param_seasonal,\n",
    "#               enforce_stationarity=False,\n",
    "#               enforce_invertibility=False,\n",
    "#               verbose=True).fit()\n",
    "# param_list.append(param)\n",
    "# param_seasonal_list.append(param_seasonal)\n",
    "# aic = mod.aic"
   ]
  },
  {
   "cell_type": "code",
   "execution_count": null,
   "metadata": {
    "ExecuteTime": {
     "start_time": "2021-04-27T03:45:00.738Z"
    }
   },
   "outputs": [
    {
     "name": "stdout",
     "output_type": "stream",
     "text": [
      "Functions loaded.\n",
      "Parameters for SARIMAX grid search...\n",
      "SARIMAX: (2, 1, 0) x (2, 1, 0, 2190)\n"
     ]
    },
    {
     "name": "stderr",
     "output_type": "stream",
     "text": [
      "/Users/wax/opt/anaconda3/lib/python3.8/site-packages/statsmodels/tsa/statespace/sarimax.py:866: UserWarning: Too few observations to estimate starting parameters for seasonal ARMA. All parameters except for variances will be set to zeros.\n",
      "  warn('Too few observations to estimate starting parameters%s.'\n"
     ]
    }
   ],
   "source": [
    "# param_list, param_seasonal_list, aic_list = gridsearch_SARIMAX(df_train)"
   ]
  },
  {
   "cell_type": "markdown",
   "metadata": {},
   "source": [
    "# Auto ARIMA"
   ]
  },
  {
   "cell_type": "code",
   "execution_count": null,
   "metadata": {},
   "outputs": [],
   "source": [
    "auto"
   ]
  }
 ],
 "metadata": {
  "kernelspec": {
   "display_name": "Python 3",
   "language": "python",
   "name": "python3"
  },
  "language_info": {
   "codemirror_mode": {
    "name": "ipython",
    "version": 3
   },
   "file_extension": ".py",
   "mimetype": "text/x-python",
   "name": "python",
   "nbconvert_exporter": "python",
   "pygments_lexer": "ipython3",
   "version": "3.8.3"
  },
  "toc": {
   "base_numbering": 1,
   "nav_menu": {},
   "number_sections": true,
   "sideBar": true,
   "skip_h1_title": false,
   "title_cell": "Table of Contents",
   "title_sidebar": "Contents",
   "toc_cell": false,
   "toc_position": {
    "height": "calc(100% - 180px)",
    "left": "10px",
    "top": "150px",
    "width": "426.667px"
   },
   "toc_section_display": true,
   "toc_window_display": true
  }
 },
 "nbformat": 4,
 "nbformat_minor": 4
}
